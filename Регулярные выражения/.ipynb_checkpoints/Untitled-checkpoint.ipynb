{
 "cells": [
  {
   "cell_type": "code",
   "execution_count": 135,
   "id": "49d31c79",
   "metadata": {
    "ExecuteTime": {
     "end_time": "2024-07-11T10:41:58.265165Z",
     "start_time": "2024-07-11T10:41:48.419613Z"
    },
    "scrolled": true
   },
   "outputs": [
    {
     "name": "stdout",
     "output_type": "stream",
     "text": [
      "familiarize\n",
      "stepik has such a good ui that it takes no time to familiarise its environment. To familiarize oneself with ui of stepik is easy\n"
     ]
    }
   ],
   "source": [
    "import re\n",
    "from re import findall\n",
    "\n",
    "word = input()\n",
    "if 'se' in word:\n",
    "    word_new = word.replace('se','ze')\n",
    "elif 'ze' in word:\n",
    "    word_new = word.replace('ze', 'se')\n",
    "else:\n",
    "    word_new = word\n",
    "text = input()"
   ]
  },
  {
   "cell_type": "code",
   "execution_count": 136,
   "id": "5e118222",
   "metadata": {
    "ExecuteTime": {
     "end_time": "2024-07-11T10:42:00.329409Z",
     "start_time": "2024-07-11T10:42:00.317768Z"
    }
   },
   "outputs": [
    {
     "data": {
      "text/plain": [
       "('familiarise', 'familiarize')"
      ]
     },
     "execution_count": 136,
     "metadata": {},
     "output_type": "execute_result"
    }
   ],
   "source": [
    "word_new, word"
   ]
  },
  {
   "cell_type": "code",
   "execution_count": 138,
   "id": "e7f55e78",
   "metadata": {
    "ExecuteTime": {
     "end_time": "2024-07-11T10:42:07.836495Z",
     "start_time": "2024-07-11T10:42:07.827374Z"
    }
   },
   "outputs": [
    {
     "name": "stdout",
     "output_type": "stream",
     "text": [
      "2\n"
     ]
    }
   ],
   "source": [
    "pattern = r'(\\b\\w*(se|ze)\\w*\\b)'\n",
    "result = 0\n",
    "for el in (findall(pattern,text,flags=re.IGNORECASE)):\n",
    "    if el[0].lower()==word.lower() or el[0].lower()==word_new.lower():\n",
    "        result+=1\n",
    "print(result)"
   ]
  },
  {
   "cell_type": "code",
   "execution_count": null,
   "id": "e0e5f524",
   "metadata": {},
   "outputs": [],
   "source": []
  },
  {
   "cell_type": "markdown",
   "id": "199b9d79",
   "metadata": {},
   "source": [
    "New heading"
   ]
  }
 ],
 "metadata": {
  "kernelspec": {
   "display_name": "Python 3.12",
   "language": "python",
   "name": "python3.12"
  },
  "language_info": {
   "codemirror_mode": {
    "name": "ipython",
    "version": 3
   },
   "file_extension": ".py",
   "mimetype": "text/x-python",
   "name": "python",
   "nbconvert_exporter": "python",
   "pygments_lexer": "ipython3",
   "version": "3.9.18"
  },
  "nbTranslate": {
   "displayLangs": [
    "*"
   ],
   "hotkey": "alt-t",
   "langInMainMenu": true,
   "sourceLang": "en",
   "targetLang": "ru",
   "useGoogleTranslate": true
  },
  "toc": {
   "base_numbering": 1,
   "nav_menu": {},
   "number_sections": true,
   "sideBar": true,
   "skip_h1_title": false,
   "title_cell": "Table of Contents",
   "title_sidebar": "Contents",
   "toc_cell": false,
   "toc_position": {},
   "toc_section_display": true,
   "toc_window_display": false
  },
  "varInspector": {
   "cols": {
    "lenName": 16,
    "lenType": 16,
    "lenVar": 40
   },
   "kernels_config": {
    "python": {
     "delete_cmd_postfix": "",
     "delete_cmd_prefix": "del ",
     "library": "var_list.py",
     "varRefreshCmd": "print(var_dic_list())"
    },
    "r": {
     "delete_cmd_postfix": ") ",
     "delete_cmd_prefix": "rm(",
     "library": "var_list.r",
     "varRefreshCmd": "cat(var_dic_list()) "
    }
   },
   "types_to_exclude": [
    "module",
    "function",
    "builtin_function_or_method",
    "instance",
    "_Feature"
   ],
   "window_display": false
  }
 },
 "nbformat": 4,
 "nbformat_minor": 5
}
