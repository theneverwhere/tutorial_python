{
 "cells": [
  {
   "cell_type": "markdown",
   "id": "d986a871",
   "metadata": {},
   "source": [
    "# Введение в регулярные выражения"
   ]
  },
  {
   "cell_type": "markdown",
   "id": "36c6e291",
   "metadata": {},
   "source": [
    "Хорошая статья по основам регулярных выражений:\n",
    "https://habr.com/ru/articles/349860/"
   ]
  },
  {
   "cell_type": "markdown",
   "id": "6141dae8",
   "metadata": {},
   "source": [
    "## Регулярные выражения в Python"
   ]
  },
  {
   "cell_type": "markdown",
   "id": "d84e4ecb",
   "metadata": {},
   "source": [
    "В Python для работы с регулярными выражениями используется встроенный модуль re"
   ]
  },
  {
   "cell_type": "code",
   "execution_count": 1,
   "id": "0d354d1f",
   "metadata": {
    "ExecuteTime": {
     "end_time": "2024-07-12T16:09:28.510165Z",
     "start_time": "2024-07-12T16:09:28.500978Z"
    }
   },
   "outputs": [],
   "source": [
    "import re"
   ]
  },
  {
   "cell_type": "markdown",
   "id": "716884f9",
   "metadata": {},
   "source": [
    "### Основные функции re"
   ]
  },
  {
   "cell_type": "code",
   "execution_count": 2,
   "id": "933df697",
   "metadata": {
    "ExecuteTime": {
     "end_time": "2024-07-10T10:26:03.943082Z",
     "start_time": "2024-07-10T10:26:03.927443Z"
    }
   },
   "outputs": [],
   "source": [
    "from re import search"
   ]
  },
  {
   "cell_type": "markdown",
   "id": "5f24466d",
   "metadata": {},
   "source": [
    "Функция **search()** сканирует строку в поисках **первого совпадения** с регулярным выражением и возвращает специальный объект соответствия (тип Match) или значение None, если ни одна позиция в строке не соответствует регулярному выражению. "
   ]
  },
  {
   "cell_type": "code",
   "execution_count": 3,
   "id": "4f4f5ed8",
   "metadata": {
    "ExecuteTime": {
     "end_time": "2024-07-10T10:26:04.367555Z",
     "start_time": "2024-07-10T10:26:04.335914Z"
    }
   },
   "outputs": [
    {
     "data": {
      "text/plain": [
       "'Запись из дневника номер 123. Объект 26 находится под наблюдением. За последние три дня были выявлены ранее неизвестные свойства. Результаты анализов показывают, что в течение 365 дней объект может изменить свои химические данные. Исследования необходимо продлить еще на 14 дней.'"
      ]
     },
     "execution_count": 3,
     "metadata": {},
     "output_type": "execute_result"
    }
   ],
   "source": [
    "text = 'Запись из дневника номер 123. Объект 26 находится под наблюдением. За последние три дня были выявлены ранее неизвестные свойства. Результаты анализов показывают, что в течение 365 дней объект может изменить свои химические данные. Исследования необходимо продлить еще на 14 дней.'\n",
    "text"
   ]
  },
  {
   "cell_type": "code",
   "execution_count": 4,
   "id": "cdb0c8bc",
   "metadata": {
    "ExecuteTime": {
     "end_time": "2024-07-10T10:33:41.190904Z",
     "start_time": "2024-07-10T10:33:41.175167Z"
    }
   },
   "outputs": [
    {
     "data": {
      "text/plain": [
       "<re.Match object; span=(50, 53), match='под'>"
      ]
     },
     "execution_count": 4,
     "metadata": {},
     "output_type": "execute_result"
    }
   ],
   "source": [
    "pattern = r'\\b[Пп]\\w*'\n",
    "search(pattern, text) # первое слово, начинающееся на П(п)"
   ]
  },
  {
   "cell_type": "code",
   "execution_count": 5,
   "id": "0d151e96",
   "metadata": {
    "ExecuteTime": {
     "end_time": "2024-07-10T10:41:52.540306Z",
     "start_time": "2024-07-10T10:41:52.514322Z"
    }
   },
   "outputs": [
    {
     "data": {
      "text/plain": [
       "<re.Match object; span=(25, 28), match='123'>"
      ]
     },
     "execution_count": 5,
     "metadata": {},
     "output_type": "execute_result"
    }
   ],
   "source": [
    "pattern = r'\\d\\d\\d'    # первые три числа, идущих подряд\n",
    "search(pattern, text)"
   ]
  },
  {
   "cell_type": "code",
   "execution_count": 6,
   "id": "d9255d37",
   "metadata": {
    "ExecuteTime": {
     "end_time": "2024-07-10T10:43:54.533475Z",
     "start_time": "2024-07-10T10:43:54.518457Z"
    }
   },
   "outputs": [
    {
     "name": "stdout",
     "output_type": "stream",
     "text": [
      "None\n"
     ]
    }
   ],
   "source": [
    "pattern = r'земля'\n",
    "print(search(pattern, text)) # None "
   ]
  },
  {
   "cell_type": "code",
   "execution_count": 7,
   "id": "03fb36be",
   "metadata": {
    "ExecuteTime": {
     "end_time": "2024-07-10T10:42:57.194521Z",
     "start_time": "2024-07-10T10:42:57.182172Z"
    }
   },
   "outputs": [],
   "source": [
    "from re import match"
   ]
  },
  {
   "cell_type": "markdown",
   "id": "3b9ecc8b",
   "metadata": {},
   "source": [
    "Функция **match()** возвращает специальный объект соответствия (тип Match), если **начало строки соответствуют** регулярному выражению, или значение None в противном случае."
   ]
  },
  {
   "cell_type": "code",
   "execution_count": 24,
   "id": "586309f8",
   "metadata": {
    "ExecuteTime": {
     "end_time": "2024-07-10T10:48:42.563303Z",
     "start_time": "2024-07-10T10:48:42.552300Z"
    }
   },
   "outputs": [
    {
     "data": {
      "text/plain": [
       "<re.Match object; span=(0, 18), match='Запись из дневника'>"
      ]
     },
     "execution_count": 24,
     "metadata": {},
     "output_type": "execute_result"
    }
   ],
   "source": [
    "pattern = r'Запись из дневника'\n",
    "match(pattern, text)"
   ]
  },
  {
   "cell_type": "code",
   "execution_count": 25,
   "id": "d4a8f887",
   "metadata": {},
   "outputs": [
    {
     "name": "stdout",
     "output_type": "stream",
     "text": [
      "None\n"
     ]
    }
   ],
   "source": [
    "pattern = r'из дневника'\n",
    "print(match(pattern, text))"
   ]
  },
  {
   "cell_type": "code",
   "execution_count": 12,
   "id": "de4bcc9e",
   "metadata": {
    "ExecuteTime": {
     "end_time": "2024-07-10T10:53:00.580985Z",
     "start_time": "2024-07-10T10:53:00.565358Z"
    }
   },
   "outputs": [
    {
     "data": {
      "text/plain": [
       "<re.Match object; span=(0, 15), match='Hello WoRLd!!!!'>"
      ]
     },
     "execution_count": 12,
     "metadata": {},
     "output_type": "execute_result"
    }
   ],
   "source": [
    "from re import fullmatch  # если ВСЯ строка соотвествует паттерну\n",
    "\n",
    "text_a = 'Hello WoRLd!!!!'\n",
    "pattern = r'.*\\bhello world\\b.*'\n",
    "\n",
    "fullmatch(pattern, text_a, flags=re.IGNORECASE)  # флаги*"
   ]
  },
  {
   "cell_type": "markdown",
   "id": "b8d3158b",
   "metadata": {},
   "source": [
    "### Объекты типа Match"
   ]
  },
  {
   "cell_type": "code",
   "execution_count": 13,
   "id": "3fa1e825",
   "metadata": {
    "ExecuteTime": {
     "end_time": "2024-07-10T10:54:09.713048Z",
     "start_time": "2024-07-10T10:54:09.695231Z"
    }
   },
   "outputs": [
    {
     "data": {
      "text/plain": [
       "'Запись из дневника номер 123. Объект 26 находится под наблюдением. За последние три дня были выявлены ранее неизвестные свойства. Результаты анализов показывают, что в течение 365 дней объект может изменить свои химические данные. Исследования необходимо продлить еще на 14 дней.'"
      ]
     },
     "execution_count": 13,
     "metadata": {},
     "output_type": "execute_result"
    }
   ],
   "source": [
    "text = 'Запись из дневника номер 123. Объект 26 находится под наблюдением. За последние три дня были выявлены ранее неизвестные свойства. Результаты анализов показывают, что в течение 365 дней объект может изменить свои химические данные. Исследования необходимо продлить еще на 14 дней.'\n",
    "text"
   ]
  },
  {
   "cell_type": "code",
   "execution_count": 22,
   "id": "b8dabedd",
   "metadata": {
    "ExecuteTime": {
     "end_time": "2024-07-10T10:56:25.910054Z",
     "start_time": "2024-07-10T10:56:25.878945Z"
    }
   },
   "outputs": [],
   "source": [
    "pattern = r'((\\d\\d)\\d)'    # первые три числа, идущих подряд\n",
    "match1 = search(pattern, text)"
   ]
  },
  {
   "cell_type": "code",
   "execution_count": 23,
   "id": "1c99fe1f",
   "metadata": {
    "ExecuteTime": {
     "end_time": "2024-07-10T10:56:26.666819Z",
     "start_time": "2024-07-10T10:56:26.651438Z"
    }
   },
   "outputs": [
    {
     "data": {
      "text/plain": [
       "<re.Match object; span=(25, 28), match='123'>"
      ]
     },
     "execution_count": 23,
     "metadata": {},
     "output_type": "execute_result"
    }
   ],
   "source": [
    "match1"
   ]
  },
  {
   "cell_type": "code",
   "execution_count": 16,
   "id": "3aab07a4",
   "metadata": {
    "ExecuteTime": {
     "end_time": "2024-07-10T10:58:26.290783Z",
     "start_time": "2024-07-10T10:58:26.275610Z"
    }
   },
   "outputs": [
    {
     "name": "stdout",
     "output_type": "stream",
     "text": [
      "('123', '12')\n",
      "123\n",
      "12\n"
     ]
    }
   ],
   "source": [
    "print(match1.group(1, 2))  # возвращает одну или несколько подгрупп совпадения\n",
    "print(match1.group(1))\n",
    "print(match1.group(2))\n",
    "\n",
    "# Вызов метода group() без аргументов, равнозначен вызову с аргументом 0, то есть group(0)"
   ]
  },
  {
   "cell_type": "code",
   "execution_count": 73,
   "id": "d28c845f",
   "metadata": {},
   "outputs": [],
   "source": [
    "# важно понимать, как работают группировка и обратные ссылки"
   ]
  },
  {
   "cell_type": "code",
   "execution_count": 76,
   "id": "43f02a1c",
   "metadata": {},
   "outputs": [
    {
     "name": "stdout",
     "output_type": "stream",
     "text": [
      "abcdab\n",
      "ab\n",
      "cd\n"
     ]
    }
   ],
   "source": [
    "pattern = r'(ab)(cd)\\1'   # \\1 - ссылка на первую группу\n",
    "text = 'abcdab'\n",
    "match = re.search(pattern, text)\n",
    "if match:\n",
    "    print(match.group(0))  # Вывод: 'abcdab'\n",
    "    print(match.group(1))  # Вывод: 'ab'\n",
    "    print(match.group(2))  # Вывод: 'cd'"
   ]
  },
  {
   "cell_type": "code",
   "execution_count": 72,
   "id": "648b052d",
   "metadata": {},
   "outputs": [
    {
     "name": "stdout",
     "output_type": "stream",
     "text": [
      "ронба\n"
     ]
    }
   ],
   "source": [
    "pattern = r'(ба)(рон)'\n",
    "text = 'барон'\n",
    "new_text = re.sub(pattern, r'\\2\\1',text)  # Меняем группы местами\n",
    "print(new_text) "
   ]
  },
  {
   "cell_type": "code",
   "execution_count": 17,
   "id": "9f77616e",
   "metadata": {
    "ExecuteTime": {
     "end_time": "2024-07-10T10:59:28.954798Z",
     "start_time": "2024-07-10T10:59:28.939006Z"
    }
   },
   "outputs": [
    {
     "data": {
      "text/plain": [
       "('123', '12')"
      ]
     },
     "execution_count": 17,
     "metadata": {},
     "output_type": "execute_result"
    }
   ],
   "source": [
    "match1.groups() # кортеж всех захваченных групп"
   ]
  },
  {
   "cell_type": "code",
   "execution_count": 18,
   "id": "3da90ac0",
   "metadata": {
    "ExecuteTime": {
     "end_time": "2024-07-10T15:50:35.623912Z",
     "start_time": "2024-07-10T15:50:35.604998Z"
    }
   },
   "outputs": [
    {
     "name": "stdout",
     "output_type": "stream",
     "text": [
      "25\n",
      "28\n"
     ]
    }
   ],
   "source": [
    "# Методы start() и end() возвращают индексы начала и конца подстроки, которая совпала с регулярным выражением.\n",
    "print(match1.start())\n",
    "print(match1.end())"
   ]
  },
  {
   "cell_type": "code",
   "execution_count": 19,
   "id": "adbe34f4",
   "metadata": {
    "ExecuteTime": {
     "end_time": "2024-07-10T15:51:11.686238Z",
     "start_time": "2024-07-10T15:51:11.675835Z"
    }
   },
   "outputs": [
    {
     "data": {
      "text/plain": [
       "(25, 28)"
      ]
     },
     "execution_count": 19,
     "metadata": {},
     "output_type": "execute_result"
    }
   ],
   "source": [
    "match1.span()"
   ]
  },
  {
   "cell_type": "markdown",
   "id": "a02b6225",
   "metadata": {},
   "source": [
    "### Флаги"
   ]
  },
  {
   "attachments": {
    "image.png": {
     "image/png": "[encoded data removed]"
    }
   },
   "cell_type": "markdown",
   "id": "a5ce49b7",
   "metadata": {},
   "source": [
    "![image.png](attachment:image.png)"
   ]
  },
  {
   "cell_type": "markdown",
   "id": "8c97e728",
   "metadata": {},
   "source": [
    "### Функции findall(), finditer()"
   ]
  },
  {
   "cell_type": "code",
   "execution_count": 26,
   "id": "327d1472",
   "metadata": {
    "ExecuteTime": {
     "end_time": "2024-07-10T15:56:32.456368Z",
     "start_time": "2024-07-10T15:56:32.445388Z"
    }
   },
   "outputs": [],
   "source": [
    "from re import findall, finditer"
   ]
  },
  {
   "cell_type": "markdown",
   "id": "c28d9c89",
   "metadata": {},
   "source": [
    "Функция **findall()** возвращает все неперекрывающиеся совпадения с регулярным выражением в виде списка строк. "
   ]
  },
  {
   "cell_type": "code",
   "execution_count": 27,
   "id": "bf038893",
   "metadata": {
    "ExecuteTime": {
     "end_time": "2024-07-10T15:56:14.633992Z",
     "start_time": "2024-07-10T15:56:14.613881Z"
    }
   },
   "outputs": [
    {
     "data": {
      "text/plain": [
       "'Запись из дневника номер 123. Объект 26 находится под наблюдением. За последние три дня были выявлены ранее неизвестные свойства. Результаты анализов показывают, что в течение 365 дней объект может изменить свои химические данные. Исследования необходимо продлить еще на 14 дней.'"
      ]
     },
     "execution_count": 27,
     "metadata": {},
     "output_type": "execute_result"
    }
   ],
   "source": [
    "text"
   ]
  },
  {
   "cell_type": "code",
   "execution_count": 28,
   "id": "0bfd5f72",
   "metadata": {
    "ExecuteTime": {
     "end_time": "2024-07-10T15:59:21.742658Z",
     "start_time": "2024-07-10T15:59:21.735449Z"
    }
   },
   "outputs": [],
   "source": [
    "pattern = r'\\b\\w\\w\\w\\b'  # трёхсимвольные слова"
   ]
  },
  {
   "cell_type": "code",
   "execution_count": 29,
   "id": "69fd808e",
   "metadata": {
    "ExecuteTime": {
     "end_time": "2024-07-10T15:59:22.292591Z",
     "start_time": "2024-07-10T15:59:22.274844Z"
    }
   },
   "outputs": [
    {
     "data": {
      "text/plain": [
       "['123', 'под', 'три', 'дня', 'что', '365', 'еще']"
      ]
     },
     "execution_count": 29,
     "metadata": {},
     "output_type": "execute_result"
    }
   ],
   "source": [
    "findall(pattern,text)"
   ]
  },
  {
   "cell_type": "markdown",
   "id": "363edf44",
   "metadata": {},
   "source": [
    "Функция **finditer()** возвращает все неперекрывающиеся совпадения с регулярным выражением в виде итератора, содержащего объекты соответствия (тип Match)"
   ]
  },
  {
   "cell_type": "code",
   "execution_count": 30,
   "id": "7e534ee3",
   "metadata": {
    "ExecuteTime": {
     "end_time": "2024-07-10T16:03:09.880016Z",
     "start_time": "2024-07-10T16:03:09.859155Z"
    }
   },
   "outputs": [
    {
     "name": "stdout",
     "output_type": "stream",
     "text": [
      "<re.Match object; span=(25, 28), match='123'>\n",
      "<re.Match object; span=(50, 53), match='под'>\n",
      "<re.Match object; span=(80, 83), match='три'>\n",
      "<re.Match object; span=(84, 87), match='дня'>\n",
      "<re.Match object; span=(162, 165), match='что'>\n",
      "<re.Match object; span=(176, 179), match='365'>\n",
      "<re.Match object; span=(264, 267), match='еще'>\n"
     ]
    }
   ],
   "source": [
    "for el in finditer(pattern,text):\n",
    "    print(el)"
   ]
  },
  {
   "cell_type": "markdown",
   "id": "c3d60023",
   "metadata": {},
   "source": [
    "### Функции sub(), subn()"
   ]
  },
  {
   "cell_type": "code",
   "execution_count": 31,
   "id": "656551aa",
   "metadata": {
    "ExecuteTime": {
     "end_time": "2024-07-11T14:14:09.639901Z",
     "start_time": "2024-07-11T14:14:09.624005Z"
    }
   },
   "outputs": [],
   "source": [
    "from re import sub, subn"
   ]
  },
  {
   "cell_type": "markdown",
   "id": "9e086030",
   "metadata": {},
   "source": [
    "Функция **sub()** возвращает строку, полученную путем замены всех найденных неперекрывающихся вхождений регулярного выражения pattern в строке string на строку замены repl."
   ]
  },
  {
   "cell_type": "code",
   "execution_count": 33,
   "id": "9db5f305",
   "metadata": {
    "ExecuteTime": {
     "end_time": "2024-07-11T14:17:13.999133Z",
     "start_time": "2024-07-11T14:17:13.983330Z"
    }
   },
   "outputs": [
    {
     "data": {
      "text/plain": [
       "'число 25 - это 5 умножить на 5 или 20 + 5'"
      ]
     },
     "execution_count": 33,
     "metadata": {},
     "output_type": "execute_result"
    }
   ],
   "source": [
    "text = 'число 25 - это 5 умножить на 5 или 20 + 5'\n",
    "text"
   ]
  },
  {
   "cell_type": "code",
   "execution_count": 34,
   "id": "13e7bc78",
   "metadata": {
    "ExecuteTime": {
     "end_time": "2024-07-11T14:20:51.300278Z",
     "start_time": "2024-07-11T14:20:51.284323Z"
    }
   },
   "outputs": [],
   "source": [
    "pattern_word = r'\\b[а-я]+\\b'\n",
    "pattern_digit = r'\\b\\d+\\b'"
   ]
  },
  {
   "cell_type": "code",
   "execution_count": 35,
   "id": "c414308d",
   "metadata": {
    "ExecuteTime": {
     "end_time": "2024-07-11T14:20:51.647682Z",
     "start_time": "2024-07-11T14:20:51.616009Z"
    }
   },
   "outputs": [
    {
     "data": {
      "text/plain": [
       "'* 25 - * 5 * * 5 * 20 + 5'"
      ]
     },
     "execution_count": 35,
     "metadata": {},
     "output_type": "execute_result"
    }
   ],
   "source": [
    "sub(pattern_word,'*',text)"
   ]
  },
  {
   "cell_type": "code",
   "execution_count": 36,
   "id": "2124d049",
   "metadata": {
    "ExecuteTime": {
     "end_time": "2024-07-11T14:21:17.414768Z",
     "start_time": "2024-07-11T14:21:17.398639Z"
    }
   },
   "outputs": [
    {
     "data": {
      "text/plain": [
       "'число * - это * умножить на * или * + *'"
      ]
     },
     "execution_count": 36,
     "metadata": {},
     "output_type": "execute_result"
    }
   ],
   "source": [
    "sub(pattern_digit, '*',text)"
   ]
  },
  {
   "cell_type": "code",
   "execution_count": 37,
   "id": "7bcc027a",
   "metadata": {
    "ExecuteTime": {
     "end_time": "2024-07-11T14:22:45.068921Z",
     "start_time": "2024-07-11T14:22:45.054852Z"
    }
   },
   "outputs": [
    {
     "data": {
      "text/plain": [
       "'число * - это * умножить на * или 20 + 5'"
      ]
     },
     "execution_count": 37,
     "metadata": {},
     "output_type": "execute_result"
    }
   ],
   "source": [
    "# можно заменять определенное кол-во \n",
    "\n",
    "sub(pattern_digit, '*',text,3)"
   ]
  },
  {
   "cell_type": "code",
   "execution_count": 38,
   "id": "63f1a1d6",
   "metadata": {
    "ExecuteTime": {
     "end_time": "2024-07-11T14:26:54.129904Z",
     "start_time": "2024-07-11T14:26:54.114488Z"
    }
   },
   "outputs": [
    {
     "data": {
      "text/plain": [
       "('число * - это * умножить на * или * + *', 5)"
      ]
     },
     "execution_count": 38,
     "metadata": {},
     "output_type": "execute_result"
    }
   ],
   "source": [
    "# кортеж, состоящий из измененной строки и количества сделанных замен\n",
    "subn(pattern_digit, '*',text) "
   ]
  },
  {
   "cell_type": "code",
   "execution_count": 39,
   "id": "abcddcb9",
   "metadata": {
    "ExecuteTime": {
     "end_time": "2024-07-11T14:34:34.499966Z",
     "start_time": "2024-07-11T14:34:34.484335Z"
    }
   },
   "outputs": [
    {
     "data": {
      "text/plain": [
       "'Smit Ivan'"
      ]
     },
     "execution_count": 39,
     "metadata": {},
     "output_type": "execute_result"
    }
   ],
   "source": [
    "# можно маневрировать ссылками\n",
    "result = sub(r'(?P<surname>\\w+) (?P<name>\\w+)', r'\\g<name> \\g<surname>', 'Ivan Smit')\n",
    "result"
   ]
  },
  {
   "cell_type": "code",
   "execution_count": 41,
   "id": "825deb29",
   "metadata": {
    "ExecuteTime": {
     "end_time": "2024-07-11T14:35:11.390090Z",
     "start_time": "2024-07-11T14:35:11.366583Z"
    }
   },
   "outputs": [
    {
     "data": {
      "text/plain": [
       "'style-pank, made-self, six-twenty'"
      ]
     },
     "execution_count": 41,
     "metadata": {},
     "output_type": "execute_result"
    }
   ],
   "source": [
    "result = sub(r'(\\w+)-(\\w+)', r'\\2-\\1', 'pank-style, self-made, twenty-six')\n",
    "result"
   ]
  },
  {
   "cell_type": "code",
   "execution_count": 42,
   "id": "6e2e8098",
   "metadata": {
    "ExecuteTime": {
     "end_time": "2024-07-11T14:36:40.878009Z",
     "start_time": "2024-07-11T14:36:40.862229Z"
    }
   },
   "outputs": [
    {
     "data": {
      "text/plain": [
       "'число 25 - это 5 умножить на 5 или 20 + 5'"
      ]
     },
     "execution_count": 42,
     "metadata": {},
     "output_type": "execute_result"
    }
   ],
   "source": [
    "text"
   ]
  },
  {
   "cell_type": "code",
   "execution_count": 43,
   "id": "880b2600",
   "metadata": {
    "ExecuteTime": {
     "end_time": "2024-07-11T14:42:27.048185Z",
     "start_time": "2024-07-11T14:42:27.035585Z"
    }
   },
   "outputs": [],
   "source": [
    "# параметр замены может быть функцией, которая работает с объектом Match\n",
    "def func(match_obj):\n",
    "    obj = match_obj.group()  # строка совпадения\n",
    "    if obj.isdigit():\n",
    "        return str(int(obj)*10)\n",
    "    else:\n",
    "        return obj.upper()"
   ]
  },
  {
   "cell_type": "code",
   "execution_count": 44,
   "id": "a8122049",
   "metadata": {
    "ExecuteTime": {
     "end_time": "2024-07-11T14:42:36.712129Z",
     "start_time": "2024-07-11T14:42:36.680339Z"
    }
   },
   "outputs": [
    {
     "data": {
      "text/plain": [
       "'ЧИСЛО 25 - ЭТО 5 УМНОЖИТЬ НА 5 ИЛИ 20 + 5'"
      ]
     },
     "execution_count": 44,
     "metadata": {},
     "output_type": "execute_result"
    }
   ],
   "source": [
    "sub(pattern_word,func,text)"
   ]
  },
  {
   "cell_type": "code",
   "execution_count": 45,
   "id": "dc8aa012",
   "metadata": {
    "ExecuteTime": {
     "end_time": "2024-07-11T14:42:51.521593Z",
     "start_time": "2024-07-11T14:42:51.490654Z"
    }
   },
   "outputs": [
    {
     "data": {
      "text/plain": [
       "'число 250 - это 50 умножить на 50 или 200 + 50'"
      ]
     },
     "execution_count": 45,
     "metadata": {},
     "output_type": "execute_result"
    }
   ],
   "source": [
    "sub(pattern_digit, func, text)"
   ]
  },
  {
   "cell_type": "markdown",
   "id": "2b0e0ae6",
   "metadata": {},
   "source": [
    "### Функция split()"
   ]
  },
  {
   "cell_type": "code",
   "execution_count": 46,
   "id": "c6719e94",
   "metadata": {
    "ExecuteTime": {
     "end_time": "2024-07-12T16:09:10.483845Z",
     "start_time": "2024-07-12T16:09:10.429433Z"
    }
   },
   "outputs": [
    {
     "data": {
      "text/plain": [
       "['Письмо', 'из', 'будущего']"
      ]
     },
     "execution_count": 46,
     "metadata": {},
     "output_type": "execute_result"
    }
   ],
   "source": [
    "# обычная функция split\n",
    "text = 'Письмо из будущего'\n",
    "text.split()"
   ]
  },
  {
   "cell_type": "code",
   "execution_count": 47,
   "id": "ba201b01",
   "metadata": {
    "ExecuteTime": {
     "end_time": "2024-07-12T16:10:07.448607Z",
     "start_time": "2024-07-12T16:10:07.438624Z"
    }
   },
   "outputs": [
    {
     "data": {
      "text/plain": [
       "['Письмо', 'из', 'будущего']"
      ]
     },
     "execution_count": 47,
     "metadata": {},
     "output_type": "execute_result"
    }
   ],
   "source": [
    "re.split('\\s',text) # разделитель по шаблону"
   ]
  },
  {
   "cell_type": "code",
   "execution_count": 48,
   "id": "8c3d9e7f",
   "metadata": {
    "ExecuteTime": {
     "end_time": "2024-07-12T16:14:48.833467Z",
     "start_time": "2024-07-12T16:14:48.819382Z"
    }
   },
   "outputs": [
    {
     "data": {
      "text/plain": [
       "['cat', 'dog', 'fox', 'alex', 'horse']"
      ]
     },
     "execution_count": 48,
     "metadata": {},
     "output_type": "execute_result"
    }
   ],
   "source": [
    "text = 'cat32dog3321fox023alex21horse'\n",
    "pattern = r'\\d+'\n",
    "re.split(pattern,text)"
   ]
  },
  {
   "cell_type": "code",
   "execution_count": 49,
   "id": "8ec22980",
   "metadata": {
    "ExecuteTime": {
     "end_time": "2024-07-12T16:15:43.980180Z",
     "start_time": "2024-07-12T16:15:43.964227Z"
    }
   },
   "outputs": [
    {
     "data": {
      "text/plain": [
       "['cat', '32', 'dog', '3321', 'fox', '023', 'alex', '21', 'horse']"
      ]
     },
     "execution_count": 49,
     "metadata": {},
     "output_type": "execute_result"
    }
   ],
   "source": [
    "# если регулярное выражение заключить в скобки\n",
    "text = 'cat32dog3321fox023alex21horse'\n",
    "pattern = r'(\\d+)'\n",
    "re.split(pattern,text) # в списке будут и разделители"
   ]
  },
  {
   "cell_type": "markdown",
   "id": "5febf5c0",
   "metadata": {},
   "source": [
    "### Функция compile()"
   ]
  },
  {
   "cell_type": "markdown",
   "id": "d782ad82",
   "metadata": {},
   "source": [
    "Модуль **re** компилирует и кэширует регулярное выражение, когда оно используется в вызове функции. Если одно и то же регулярное выражение используется впоследствии в том же коде, оно не перекомпилируется. Вместо этого скомпилированное значение извлекается из кэша. В общем, нет никаких веских причин для компиляции регулярного выражения. Это всего лишь еще один инструмент в вашем наборе инструментов, который вы можете использовать, если считаете, что он улучшит читабельность или структуру вашего кода."
   ]
  },
  {
   "cell_type": "code",
   "execution_count": null,
   "id": "13dc23f6",
   "metadata": {
    "ExecuteTime": {
     "end_time": "2024-07-12T16:47:18.326353Z",
     "start_time": "2024-07-12T16:47:18.317461Z"
    }
   },
   "outputs": [],
   "source": [
    "reg_digits = re.compile(r'\\d+')"
   ]
  },
  {
   "cell_type": "code",
   "execution_count": null,
   "id": "27beb9d9",
   "metadata": {
    "ExecuteTime": {
     "end_time": "2024-07-12T16:47:33.144693Z",
     "start_time": "2024-07-12T16:47:33.137512Z"
    }
   },
   "outputs": [],
   "source": [
    "reg_words = re.compile(r'\\b[а-я]+\\b',flags=re.I)"
   ]
  },
  {
   "cell_type": "code",
   "execution_count": null,
   "id": "cfa7ac97",
   "metadata": {
    "ExecuteTime": {
     "end_time": "2024-07-12T16:47:33.326949Z",
     "start_time": "2024-07-12T16:47:33.308513Z"
    }
   },
   "outputs": [],
   "source": [
    "text = 'Заметка 8. Объект 25 вышел из зоны Б3.'"
   ]
  },
  {
   "cell_type": "code",
   "execution_count": null,
   "id": "df7e48aa",
   "metadata": {
    "ExecuteTime": {
     "end_time": "2024-07-12T16:47:33.484115Z",
     "start_time": "2024-07-12T16:47:33.472342Z"
    }
   },
   "outputs": [],
   "source": [
    "re.findall(reg_digits,text)"
   ]
  },
  {
   "cell_type": "code",
   "execution_count": null,
   "id": "373e20a2",
   "metadata": {
    "ExecuteTime": {
     "end_time": "2024-07-12T16:47:33.640866Z",
     "start_time": "2024-07-12T16:47:33.625726Z"
    }
   },
   "outputs": [],
   "source": [
    "re.findall(reg_words,text)"
   ]
  },
  {
   "cell_type": "code",
   "execution_count": null,
   "id": "96aa1bec",
   "metadata": {
    "ExecuteTime": {
     "end_time": "2024-07-12T16:48:24.637541Z",
     "start_time": "2024-07-12T16:48:24.627419Z"
    }
   },
   "outputs": [],
   "source": [
    "# можно использоват методы\n",
    "reg_digits.findall('Это строка с цифрами 44 и 35')"
   ]
  },
  {
   "cell_type": "markdown",
   "id": "08e07eb3",
   "metadata": {},
   "source": [
    "Данные методы ведут себя так же, как соответствующие (одноименные) им функции модуля re, за исключением того, что они также поддерживают необязательные аргументы pos и endpos.\n",
    "\n",
    "Если аргументы pos и endpos переданы, то поиск применяется только к части строки string, от pos (включительно), до endpos (не включительно), подобно индексам в срезах."
   ]
  },
  {
   "cell_type": "code",
   "execution_count": null,
   "id": "88fe46bd",
   "metadata": {
    "ExecuteTime": {
     "end_time": "2024-07-12T18:50:38.180225Z",
     "start_time": "2024-07-12T18:50:38.157276Z"
    }
   },
   "outputs": [],
   "source": [
    "text"
   ]
  },
  {
   "cell_type": "code",
   "execution_count": null,
   "id": "1ed4270d",
   "metadata": {
    "ExecuteTime": {
     "end_time": "2024-07-12T18:50:47.358910Z",
     "start_time": "2024-07-12T18:50:47.339975Z"
    }
   },
   "outputs": [],
   "source": [
    "reg_digits.findall(text,pos=1, endpos=10)"
   ]
  },
  {
   "cell_type": "code",
   "execution_count": null,
   "id": "58f9436c",
   "metadata": {},
   "outputs": [],
   "source": []
  }
 ],
 "metadata": {
  "kernelspec": {
   "display_name": "Python 3.12",
   "language": "python",
   "name": "python3.12"
  },
  "language_info": {
   "codemirror_mode": {
    "name": "ipython",
    "version": 3
   },
   "file_extension": ".py",
   "mimetype": "text/x-python",
   "name": "python",
   "nbconvert_exporter": "python",
   "pygments_lexer": "ipython3",
   "version": "3.9.18"
  },
  "nbTranslate": {
   "displayLangs": [
    "*"
   ],
   "hotkey": "alt-t",
   "langInMainMenu": true,
   "sourceLang": "en",
   "targetLang": "ru",
   "useGoogleTranslate": true
  },
  "toc": {
   "base_numbering": 1,
   "nav_menu": {},
   "number_sections": true,
   "sideBar": true,
   "skip_h1_title": false,
   "title_cell": "Table of Contents",
   "title_sidebar": "Contents",
   "toc_cell": false,
   "toc_position": {
    "height": "calc(100% - 180px)",
    "left": "10px",
    "top": "150px",
    "width": "255.4px"
   },
   "toc_section_display": true,
   "toc_window_display": false
  },
  "varInspector": {
   "cols": {
    "lenName": 16,
    "lenType": 16,
    "lenVar": 40
   },
   "kernels_config": {
    "python": {
     "delete_cmd_postfix": "",
     "delete_cmd_prefix": "del ",
     "library": "var_list.py",
     "varRefreshCmd": "print(var_dic_list())"
    },
    "r": {
     "delete_cmd_postfix": ") ",
     "delete_cmd_prefix": "rm(",
     "library": "var_list.r",
     "varRefreshCmd": "cat(var_dic_list()) "
    }
   },
   "types_to_exclude": [
    "module",
    "function",
    "builtin_function_or_method",
    "instance",
    "_Feature"
   ],
   "window_display": false
  }
 },
 "nbformat": 4,
 "nbformat_minor": 5
}
