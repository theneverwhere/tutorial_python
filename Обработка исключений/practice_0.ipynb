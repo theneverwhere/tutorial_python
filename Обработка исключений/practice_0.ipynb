{
 "cells": [
  {
   "cell_type": "code",
   "execution_count": 4,
   "id": "61211968",
   "metadata": {},
   "outputs": [],
   "source": [
    "class Gun:\n",
    "\n",
    "    def __init__(self):\n",
    "        self.shot = 0\n",
    "\n",
    "    def shoot(self):\n",
    "        self.shot += 1\n",
    "        print('pif') if self.shot%2!=0 else print('paf')\n",
    "    \n",
    "    def shots_count(self):\n",
    "        return self.shot\n",
    "    \n",
    "    def shots_reset(self):\n",
    "        self.shot = 0\n",
    "    "
   ]
  },
  {
   "cell_type": "code",
   "execution_count": 5,
   "id": "5ded76db",
   "metadata": {},
   "outputs": [],
   "source": [
    "class Scales:\n",
    "\n",
    "    def __init__(self):\n",
    "        self.left_mass = 0\n",
    "        self.right_mass = 0\n",
    "\n",
    "    def add_right(self, m):\n",
    "        seld.right_mass += m\n",
    "\n",
    "    def add_left(self, m):\n",
    "        self.left_mass += m\n",
    "\n",
    "    def get_result(self):\n",
    "        if self.left_mass > self.right_mass:\n",
    "            result = 'Левая'\n",
    "        elif self.left_mass < self.right_mass:\n",
    "            result = 'Правая'\n",
    "        else:\n",
    "            return 'Весы в равновесии'\n",
    "        return f'{result} чаша тяжелее'"
   ]
  },
  {
   "cell_type": "code",
   "execution_count": 6,
   "id": "e3bbee42",
   "metadata": {},
   "outputs": [],
   "source": [
    "class Vector:\n",
    "    \n",
    "    def __init__(self,x=0,y=0):\n",
    "        self.x = x\n",
    "        self.y = y\n",
    "    def abs(self):\n",
    "        return (self.x**2+self.y**2)**0.5\n",
    "        "
   ]
  },
  {
   "cell_type": "code",
   "execution_count": 7,
   "id": "2bc6fd54",
   "metadata": {},
   "outputs": [
    {
     "name": "stdout",
     "output_type": "stream",
     "text": [
      "3 4\n",
      "5.0\n"
     ]
    }
   ],
   "source": [
    "vector = Vector(3, 4)\n",
    "\n",
    "print(vector.x, vector.y)\n",
    "print(vector.abs())"
   ]
  },
  {
   "cell_type": "code",
   "execution_count": 12,
   "id": "1e6ecfca",
   "metadata": {},
   "outputs": [],
   "source": [
    "class Numbers:\n",
    "    \n",
    "    def __init__(self):\n",
    "        self.even = []\n",
    "        self.odd = []\n",
    "        \n",
    "    def add_number(self,x):\n",
    "        self.even.append(x) if x%2==0 else self.odd.append(x)\n",
    "        \n",
    "    def get_even(self):\n",
    "        return self.even.copy()\n",
    "    def get_odd(self):\n",
    "        return self.odd.copy()\n",
    "        \n",
    "    "
   ]
  },
  {
   "cell_type": "code",
   "execution_count": 29,
   "id": "3f2e6d1f",
   "metadata": {},
   "outputs": [],
   "source": [
    "class TextHandler:\n",
    "    \n",
    "    def __init__(self):\n",
    "        self.words = list()\n",
    "        self.shortest = None\n",
    "        self.longest = 0\n",
    "    def add_words(self,text):\n",
    "        new_words = text.split()\n",
    "        self.words += new_words\n",
    "        if not self.shortest:\n",
    "            self.shortest = len(new_words[0])\n",
    "        for word in new_words:\n",
    "            if len(word) > self.longest:\n",
    "                self.longest = len(word)\n",
    "            if len(word) < self.shortest:\n",
    "                self.shortest = len(word)\n",
    "    def get_shortest_words(self):\n",
    "        result = []\n",
    "        for word in self.words:\n",
    "            if len(word) == self.shortest:\n",
    "                result.append(word)\n",
    "        return result[:]\n",
    "    def get_longest_words(self):\n",
    "        result = []\n",
    "        for word in self.words:\n",
    "            if len(word) == self.longest:\n",
    "                result.append(word)\n",
    "        return result[:]        "
   ]
  },
  {
   "cell_type": "code",
   "execution_count": 30,
   "id": "b53708e0",
   "metadata": {},
   "outputs": [
    {
     "name": "stdout",
     "output_type": "stream",
     "text": [
      "['do', 'be', 'be']\n",
      "['better']\n"
     ]
    }
   ],
   "source": [
    "texthandler = TextHandler()\n",
    "\n",
    "texthandler.add_words('do not be sorry')\n",
    "texthandler.add_words('be')\n",
    "texthandler.add_words('better')\n",
    "\n",
    "print(texthandler.get_shortest_words())\n",
    "print(texthandler.get_longest_words())"
   ]
  },
  {
   "cell_type": "code",
   "execution_count": null,
   "id": "0450c302",
   "metadata": {},
   "outputs": [],
   "source": []
  }
 ],
 "metadata": {
  "kernelspec": {
   "display_name": "Python 3 (ipykernel)",
   "language": "python",
   "name": "python3"
  },
  "language_info": {
   "codemirror_mode": {
    "name": "ipython",
    "version": 3
   },
   "file_extension": ".py",
   "mimetype": "text/x-python",
   "name": "python",
   "nbconvert_exporter": "python",
   "pygments_lexer": "ipython3",
   "version": "3.9.18"
  },
  "nbTranslate": {
   "displayLangs": [
    "*"
   ],
   "hotkey": "alt-t",
   "langInMainMenu": true,
   "sourceLang": "en",
   "targetLang": "ru",
   "useGoogleTranslate": true
  },
  "toc": {
   "base_numbering": 1,
   "nav_menu": {},
   "number_sections": true,
   "sideBar": true,
   "skip_h1_title": false,
   "title_cell": "Table of Contents",
   "title_sidebar": "Contents",
   "toc_cell": false,
   "toc_position": {},
   "toc_section_display": true,
   "toc_window_display": false
  },
  "varInspector": {
   "cols": {
    "lenName": 16,
    "lenType": 16,
    "lenVar": 40
   },
   "kernels_config": {
    "python": {
     "delete_cmd_postfix": "",
     "delete_cmd_prefix": "del ",
     "library": "var_list.py",
     "varRefreshCmd": "print(var_dic_list())"
    },
    "r": {
     "delete_cmd_postfix": ") ",
     "delete_cmd_prefix": "rm(",
     "library": "var_list.r",
     "varRefreshCmd": "cat(var_dic_list()) "
    }
   },
   "types_to_exclude": [
    "module",
    "function",
    "builtin_function_or_method",
    "instance",
    "_Feature"
   ],
   "window_display": false
  }
 },
 "nbformat": 4,
 "nbformat_minor": 5
}
