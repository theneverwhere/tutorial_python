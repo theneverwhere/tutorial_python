{
 "cells": [
  {
   "cell_type": "markdown",
   "id": "572aa710",
   "metadata": {},
   "source": [
    "## Тип данных defaultdict"
   ]
  },
  {
   "cell_type": "code",
   "execution_count": 1,
   "id": "f826dcf7",
   "metadata": {},
   "outputs": [],
   "source": [
    "from collections import defaultdict"
   ]
  },
  {
   "cell_type": "markdown",
   "id": "14ccb922",
   "metadata": {},
   "source": [
    "**defaultdict** - это класс из модуля *collections* в Python, который представляет собой подкласс словаря, обеспечивающий значение по умолчанию для каждого нового ключа. Он работает так же, как обычный словарь, но с одним отличием: при попытке доступа к ключу, которого нет в словаре, defaultdict автоматически создает новый элемент и инициализирует его значением по умолчанию, которое вы задали при создании объекта defaultdict."
   ]
  },
  {
   "cell_type": "code",
   "execution_count": 5,
   "id": "258e7903",
   "metadata": {},
   "outputs": [
    {
     "data": {
      "text/plain": [
       "{'ivan': 10, 'slavik': 7, 'alex': 6}"
      ]
     },
     "execution_count": 5,
     "metadata": {},
     "output_type": "execute_result"
    }
   ],
   "source": [
    "my_dict = {'ivan':10, 'slavik':7, 'alex':6}  # обычный словарь\\\n",
    "my_dict"
   ]
  },
  {
   "cell_type": "code",
   "execution_count": 6,
   "id": "9b512882",
   "metadata": {
    "scrolled": true
   },
   "outputs": [
    {
     "ename": "KeyError",
     "evalue": "'tom'",
     "output_type": "error",
     "traceback": [
      "\u001b[1;31m---------------------------------------------------------------------------\u001b[0m",
      "\u001b[1;31mKeyError\u001b[0m                                  Traceback (most recent call last)",
      "Cell \u001b[1;32mIn[6], line 1\u001b[0m\n\u001b[1;32m----> 1\u001b[0m \u001b[43mmy_dict\u001b[49m\u001b[43m[\u001b[49m\u001b[38;5;124;43m'\u001b[39;49m\u001b[38;5;124;43mtom\u001b[39;49m\u001b[38;5;124;43m'\u001b[39;49m\u001b[43m]\u001b[49m\n",
      "\u001b[1;31mKeyError\u001b[0m: 'tom'"
     ]
    }
   ],
   "source": [
    "my_dict['tom']  # ошибка - ключ не найден"
   ]
  },
  {
   "cell_type": "code",
   "execution_count": 19,
   "id": "06ddf2f3",
   "metadata": {},
   "outputs": [],
   "source": [
    "def func():\n",
    "    return 5"
   ]
  },
  {
   "cell_type": "code",
   "execution_count": 23,
   "id": "b9e518b5",
   "metadata": {},
   "outputs": [],
   "source": [
    "my_dict_default = defaultdict(func)  # пустой словарь со значением по умолчанию 0 (int)\n",
    "# должна подаваться именно функция"
   ]
  },
  {
   "cell_type": "code",
   "execution_count": 24,
   "id": "845ddff2",
   "metadata": {},
   "outputs": [
    {
     "data": {
      "text/plain": [
       "defaultdict(<function __main__.func()>, {'martin': 6, 'bob': 8})"
      ]
     },
     "execution_count": 24,
     "metadata": {},
     "output_type": "execute_result"
    }
   ],
   "source": [
    "# функционирует кк обычный словарь\n",
    "my_dict_default['martin'] = 6 \n",
    "my_dict_default['bob'] = 8\n",
    "my_dict_default"
   ]
  },
  {
   "cell_type": "code",
   "execution_count": 25,
   "id": "8b72ac66",
   "metadata": {},
   "outputs": [
    {
     "name": "stdout",
     "output_type": "stream",
     "text": [
      "6\n"
     ]
    },
    {
     "data": {
      "text/plain": [
       "5"
      ]
     },
     "execution_count": 25,
     "metadata": {},
     "output_type": "execute_result"
    }
   ],
   "source": [
    "print(my_dict_default['martin'])  # значение нашлось\n",
    "my_dict_default['greg']  # значение не нашлось - значение по умолчанию"
   ]
  },
  {
   "cell_type": "code",
   "execution_count": 26,
   "id": "2ee9c85c",
   "metadata": {},
   "outputs": [
    {
     "data": {
      "text/plain": [
       "defaultdict(<function __main__.func()>, {'martin': 6, 'bob': 8, 'greg': 5})"
      ]
     },
     "execution_count": 26,
     "metadata": {},
     "output_type": "execute_result"
    }
   ],
   "source": [
    "# но заменяет отсутствующие значения значением по умолчанию\n",
    "my_dict_default"
   ]
  },
  {
   "cell_type": "markdown",
   "id": "e2c26a35",
   "metadata": {},
   "source": [
    "Функция defaultdict() принимает в качестве аргумента тип элемента по умолчанию. Таким образом, для ключей, к которым происходит обращение, словарь defaultdict поставит в соответствие дефолтный элемент данного типа:"
   ]
  },
  {
   "cell_type": "code",
   "execution_count": 27,
   "id": "c2111671",
   "metadata": {},
   "outputs": [
    {
     "data": {
      "text/plain": [
       "''"
      ]
     },
     "execution_count": 27,
     "metadata": {},
     "output_type": "execute_result"
    }
   ],
   "source": [
    "info = defaultdict(str,my_dict)\n",
    "info['genry']"
   ]
  },
  {
   "cell_type": "code",
   "execution_count": 29,
   "id": "0ad5b477",
   "metadata": {},
   "outputs": [
    {
     "data": {
      "text/plain": [
       "defaultdict(list,\n",
       "            {'cats': ['alice', 'max', 'andy'],\n",
       "             'dogs': ['rex', 'ben'],\n",
       "             'birds': ['filya']})"
      ]
     },
     "execution_count": 29,
     "metadata": {},
     "output_type": "execute_result"
    }
   ],
   "source": [
    "info = defaultdict(list, [('cats',['alice','max','andy']),('dogs',['rex','ben'])]) \n",
    "info['birds'].append('filya')  # []\n",
    "info"
   ]
  },
  {
   "cell_type": "code",
   "execution_count": 30,
   "id": "0f05e20e",
   "metadata": {},
   "outputs": [],
   "source": [
    "# можно использовать функцию, ничего не принимающую, но возвращающую значение по умолчанию\n",
    "def beginner_pack():\n",
    "    return ['Меч','Щит']"
   ]
  },
  {
   "cell_type": "code",
   "execution_count": 33,
   "id": "41522a18",
   "metadata": {},
   "outputs": [],
   "source": [
    "inventory = defaultdict(beginner_pack)\n",
    "\n",
    "inventory['Merlin'] = ['Посох мага']\n",
    "inventory['Robin'] = ['Лук и стрелы']\n",
    "inventory['Assasin'] = ['Клинок','Мечь']"
   ]
  },
  {
   "cell_type": "code",
   "execution_count": 34,
   "id": "aa0cbdc1",
   "metadata": {},
   "outputs": [
    {
     "data": {
      "text/plain": [
       "defaultdict(<function __main__.beginner_pack()>,\n",
       "            {'Merlin': ['Посох мага'],\n",
       "             'Robin': ['Лук и стрелы'],\n",
       "             'Assasin': ['Клинок', 'Мечь'],\n",
       "             'Player': ['Меч', 'Щит']})"
      ]
     },
     "execution_count": 34,
     "metadata": {},
     "output_type": "execute_result"
    }
   ],
   "source": [
    "inventory['Player']\n",
    "inventory"
   ]
  },
  {
   "cell_type": "markdown",
   "id": "360490a9",
   "metadata": {},
   "source": [
    "Функцию, которая возвращает значение по умолчанию для отсутствующих ключей, можно явно менять через атрибут default_factory"
   ]
  },
  {
   "cell_type": "code",
   "execution_count": 35,
   "id": "3d8845e4",
   "metadata": {},
   "outputs": [
    {
     "data": {
      "text/plain": [
       "0"
      ]
     },
     "execution_count": 35,
     "metadata": {},
     "output_type": "execute_result"
    }
   ],
   "source": [
    "inventory.default_factory = int\n",
    "inventory['Goga']"
   ]
  },
  {
   "cell_type": "markdown",
   "id": "b7cd7395",
   "metadata": {},
   "source": [
    " **Тип defaultdict работает быстрее чем использование методов setdefault() и get() обычного словаря (тип dict).**\n",
    " \n",
    " -----"
   ]
  },
  {
   "cell_type": "markdown",
   "id": "a5cea8d2",
   "metadata": {},
   "source": [
    "## Ordered dict\n",
    "(сейчас уже неактуально, ведь у dict появилась возможность сохранять порядок)\n",
    "ordered dict проигрывает по производительности и памяти"
   ]
  },
  {
   "cell_type": "code",
   "execution_count": null,
   "id": "6e1f511d",
   "metadata": {},
   "outputs": [],
   "source": [
    "from collections import OrderedDict"
   ]
  },
  {
   "cell_type": "code",
   "execution_count": null,
   "id": "2583dfa8",
   "metadata": {},
   "outputs": [],
   "source": [
    "my_dict = {'ivan':21,'slavik':19,'alex':15}"
   ]
  },
  {
   "cell_type": "code",
   "execution_count": null,
   "id": "84463fc0",
   "metadata": {},
   "outputs": [],
   "source": [
    "ordered_dict = OrderedDict(my_dict) # создавать можно как и обычные словари\n",
    "ordered_dict"
   ]
  },
  {
   "cell_type": "code",
   "execution_count": null,
   "id": "a57cfd8d",
   "metadata": {},
   "outputs": [],
   "source": [
    "ordered_dict.move_to_end('ivan')  # добавление в конец/начало словаря\n",
    "ordered_dict"
   ]
  },
  {
   "cell_type": "code",
   "execution_count": null,
   "id": "14c6a2b2",
   "metadata": {},
   "outputs": [],
   "source": [
    "ordered_dict.pop('slavik')  # взятие элемента с удалением из словаря"
   ]
  },
  {
   "cell_type": "markdown",
   "id": "7bde843f",
   "metadata": {},
   "source": [
    "*При сравнение на равенство OrderedDict словарей порядок расположения их элементов важен*"
   ]
  },
  {
   "cell_type": "code",
   "execution_count": null,
   "id": "e1932d16",
   "metadata": {},
   "outputs": [],
   "source": [
    "ordered_dict.popitem() # берем последнюю пару ключ значение"
   ]
  },
  {
   "cell_type": "code",
   "execution_count": null,
   "id": "3cbde033",
   "metadata": {},
   "outputs": [],
   "source": []
  }
 ],
 "metadata": {
  "kernelspec": {
   "display_name": "Python 3 (ipykernel)",
   "language": "python",
   "name": "python3"
  },
  "language_info": {
   "codemirror_mode": {
    "name": "ipython",
    "version": 3
   },
   "file_extension": ".py",
   "mimetype": "text/x-python",
   "name": "python",
   "nbconvert_exporter": "python",
   "pygments_lexer": "ipython3",
   "version": "3.9.18"
  },
  "nbTranslate": {
   "displayLangs": [
    "*"
   ],
   "hotkey": "alt-t",
   "langInMainMenu": true,
   "sourceLang": "en",
   "targetLang": "ru",
   "useGoogleTranslate": true
  },
  "toc": {
   "base_numbering": 1,
   "nav_menu": {},
   "number_sections": true,
   "sideBar": true,
   "skip_h1_title": false,
   "title_cell": "Table of Contents",
   "title_sidebar": "Contents",
   "toc_cell": false,
   "toc_position": {},
   "toc_section_display": true,
   "toc_window_display": false
  },
  "varInspector": {
   "cols": {
    "lenName": 16,
    "lenType": 16,
    "lenVar": 40
   },
   "kernels_config": {
    "python": {
     "delete_cmd_postfix": "",
     "delete_cmd_prefix": "del ",
     "library": "var_list.py",
     "varRefreshCmd": "print(var_dic_list())"
    },
    "r": {
     "delete_cmd_postfix": ") ",
     "delete_cmd_prefix": "rm(",
     "library": "var_list.r",
     "varRefreshCmd": "cat(var_dic_list()) "
    }
   },
   "types_to_exclude": [
    "module",
    "function",
    "builtin_function_or_method",
    "instance",
    "_Feature"
   ],
   "window_display": false
  }
 },
 "nbformat": 4,
 "nbformat_minor": 5
}
