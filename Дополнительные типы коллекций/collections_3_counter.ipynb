{
 "cells": [
  {
   "cell_type": "markdown",
   "id": "7b21833d",
   "metadata": {},
   "source": [
    "# Counter"
   ]
  },
  {
   "cell_type": "code",
   "execution_count": 1,
   "id": "ddccd4a1",
   "metadata": {},
   "outputs": [],
   "source": [
    "from collections import Counter"
   ]
  },
  {
   "cell_type": "markdown",
   "id": "ce382d5a",
   "metadata": {},
   "source": [
    "### Создание объекта Counter"
   ]
  },
  {
   "cell_type": "code",
   "execution_count": 9,
   "id": "9ba355b1",
   "metadata": {},
   "outputs": [],
   "source": [
    "s = 'alibaba  '\n",
    "my_list = [10,20,20,50,30,50,40,40,30,10,20,30,50,'20','20','21']\n",
    "my_tuple = (1,2,3,5,9,2,3,1,1,6,8,9,2,4,4,9,9,1)"
   ]
  },
  {
   "cell_type": "code",
   "execution_count": 10,
   "id": "715c8aba",
   "metadata": {},
   "outputs": [
    {
     "data": {
      "text/plain": [
       "Counter({'a': 3, 'b': 2, ' ': 2, 'l': 1, 'i': 1})"
      ]
     },
     "execution_count": 10,
     "metadata": {},
     "output_type": "execute_result"
    }
   ],
   "source": [
    "counter = Counter(s)\n",
    "counter"
   ]
  },
  {
   "cell_type": "code",
   "execution_count": 11,
   "id": "057f6c8f",
   "metadata": {},
   "outputs": [
    {
     "data": {
      "text/plain": [
       "Counter({20: 3, 50: 3, 30: 3, 10: 2, 40: 2, '20': 2, '21': 1})"
      ]
     },
     "execution_count": 11,
     "metadata": {},
     "output_type": "execute_result"
    }
   ],
   "source": [
    "Counter(my_list)"
   ]
  },
  {
   "cell_type": "code",
   "execution_count": 14,
   "id": "6a5594ed",
   "metadata": {},
   "outputs": [
    {
     "data": {
      "text/plain": [
       "Counter({1: 4, 9: 4, 2: 3, 3: 2, 4: 2, 5: 1, 6: 1, 8: 1})"
      ]
     },
     "execution_count": 14,
     "metadata": {},
     "output_type": "execute_result"
    }
   ],
   "source": [
    "Counter(my_tuple)"
   ]
  },
  {
   "cell_type": "code",
   "execution_count": 15,
   "id": "6722c1b4",
   "metadata": {},
   "outputs": [
    {
     "data": {
      "text/plain": [
       "Counter({'a': 3, 'b': 2})"
      ]
     },
     "execution_count": 15,
     "metadata": {},
     "output_type": "execute_result"
    }
   ],
   "source": [
    "Counter(a=3,b=2) # можно инициализировать со значениями"
   ]
  },
  {
   "cell_type": "code",
   "execution_count": 17,
   "id": "30b3b8a2",
   "metadata": {},
   "outputs": [
    {
     "data": {
      "text/plain": [
       "{1: 4, 2: 3, 3: 2, 5: 1, 9: 4, 6: 1, 8: 1, 4: 2}"
      ]
     },
     "execution_count": 17,
     "metadata": {},
     "output_type": "execute_result"
    }
   ],
   "source": [
    "dict(Counter(my_tuple)) # обернуть в обычный dict"
   ]
  },
  {
   "cell_type": "markdown",
   "id": "abfaddeb",
   "metadata": {},
   "source": [
    "### Обновление данных"
   ]
  },
  {
   "cell_type": "code",
   "execution_count": 18,
   "id": "e38f6f5e",
   "metadata": {},
   "outputs": [],
   "source": [
    "pets = ['cat', 'dog', 'cat','dog','cat','cat','dog', 'cat']\n",
    "wild = ['wolf', 'fox', 'fox', 'wolf', 'fox', 'wolf', 'wolf']"
   ]
  },
  {
   "cell_type": "code",
   "execution_count": 19,
   "id": "ffdb22c0",
   "metadata": {},
   "outputs": [
    {
     "data": {
      "text/plain": [
       "Counter({'cat': 5, 'dog': 3})"
      ]
     },
     "execution_count": 19,
     "metadata": {},
     "output_type": "execute_result"
    }
   ],
   "source": [
    "pets_counter = Counter(pets)\n",
    "pets_counter"
   ]
  },
  {
   "cell_type": "code",
   "execution_count": 20,
   "id": "5183bf31",
   "metadata": {},
   "outputs": [
    {
     "data": {
      "text/plain": [
       "Counter({'wolf': 4, 'fox': 3})"
      ]
     },
     "execution_count": 20,
     "metadata": {},
     "output_type": "execute_result"
    }
   ],
   "source": [
    "wild_counter = Counter(wild)\n",
    "wild_counter"
   ]
  },
  {
   "cell_type": "code",
   "execution_count": 21,
   "id": "05259cb0",
   "metadata": {},
   "outputs": [
    {
     "data": {
      "text/plain": [
       "Counter({'cat': 5, 'wolf': 4, 'dog': 3, 'fox': 3})"
      ]
     },
     "execution_count": 21,
     "metadata": {},
     "output_type": "execute_result"
    }
   ],
   "source": [
    "pets_counter.update(wild)  # добавление другого Counter\n",
    "pets_counter"
   ]
  },
  {
   "cell_type": "markdown",
   "id": "cbb713b2",
   "metadata": {},
   "source": [
    "Метод update() принимает любой итерируемый объект: список, строку, кортеж и т.д.\n",
    "Мы также можем передавать методу update() другой объект типа Counter, либо обычный словарь (тип dict)."
   ]
  },
  {
   "cell_type": "code",
   "execution_count": 22,
   "id": "ca4e1461",
   "metadata": {},
   "outputs": [],
   "source": [
    "pets_counter.update(snake=2)  # можно и так"
   ]
  },
  {
   "cell_type": "code",
   "execution_count": 23,
   "id": "d4abc4bf",
   "metadata": {},
   "outputs": [
    {
     "data": {
      "text/plain": [
       "Counter({'cat': 5, 'wolf': 4, 'dog': 3, 'fox': 3, 'snake': 2})"
      ]
     },
     "execution_count": 23,
     "metadata": {},
     "output_type": "execute_result"
    }
   ],
   "source": [
    "pets_counter"
   ]
  },
  {
   "cell_type": "markdown",
   "id": "582f6e50",
   "metadata": {},
   "source": [
    "### Доступ к элементам и итерирование"
   ]
  },
  {
   "cell_type": "code",
   "execution_count": 24,
   "id": "a744bc81",
   "metadata": {},
   "outputs": [
    {
     "data": {
      "text/plain": [
       "Counter({'cat': 5, 'wolf': 4, 'dog': 3, 'fox': 3, 'snake': 2})"
      ]
     },
     "execution_count": 24,
     "metadata": {},
     "output_type": "execute_result"
    }
   ],
   "source": [
    "pets_counter"
   ]
  },
  {
   "cell_type": "code",
   "execution_count": 25,
   "id": "5085c96f",
   "metadata": {},
   "outputs": [
    {
     "data": {
      "text/plain": [
       "4"
      ]
     },
     "execution_count": 25,
     "metadata": {},
     "output_type": "execute_result"
    }
   ],
   "source": [
    "pets_counter['wolf'] # через ключ"
   ]
  },
  {
   "cell_type": "code",
   "execution_count": 27,
   "id": "8cc9a379",
   "metadata": {},
   "outputs": [
    {
     "data": {
      "text/plain": [
       "0"
      ]
     },
     "execution_count": 27,
     "metadata": {},
     "output_type": "execute_result"
    }
   ],
   "source": [
    "pets_counter['tiger'] # отсуствующие значения выведут 0"
   ]
  },
  {
   "cell_type": "code",
   "execution_count": 28,
   "id": "fd6e5347",
   "metadata": {},
   "outputs": [
    {
     "data": {
      "text/plain": [
       "Counter({'cat': 5, 'wolf': 4, 'dog': 3, 'fox': 3, 'snake': 2, 'turtle': 1})"
      ]
     },
     "execution_count": 28,
     "metadata": {},
     "output_type": "execute_result"
    }
   ],
   "source": [
    "pets_counter['turtle'] = 1  # добавление по ключу (как и обычный dict)\n",
    "pets_counter"
   ]
  },
  {
   "cell_type": "markdown",
   "id": "79d64a25",
   "metadata": {},
   "source": [
    "*Доступ к элементам и итерирование по Counter словарям работает так же, как и у обычных словарей. Мы можем перебирать ключи напрямую или можем использовать словарные методы items(), keys() и values().*"
   ]
  },
  {
   "cell_type": "code",
   "execution_count": 30,
   "id": "1893e5ec",
   "metadata": {},
   "outputs": [
    {
     "name": "stdout",
     "output_type": "stream",
     "text": [
      "Cat ровно 5 шт.\n",
      "cat\n",
      "\n",
      "Dog ровно 3 шт.\n",
      "dog\n",
      "\n",
      "Wolf ровно 4 шт.\n",
      "wolf\n",
      "\n",
      "Fox ровно 3 шт.\n",
      "fox\n",
      "\n",
      "Snake ровно 2 шт.\n",
      "snake\n",
      "\n",
      "Turtle ровно 1 шт.\n",
      "turtle\n",
      "\n"
     ]
    }
   ],
   "source": [
    "for key in pets_counter:\n",
    "    print(key.title(), 'ровно', pets_counter[key],'шт.')\n",
    "    print(key)\n",
    "    print()"
   ]
  },
  {
   "cell_type": "markdown",
   "id": "90a7be51",
   "metadata": {},
   "source": [
    " Объекты типа Counter можно сравнивать между собой."
   ]
  },
  {
   "cell_type": "code",
   "execution_count": 31,
   "id": "1ea25af8",
   "metadata": {},
   "outputs": [
    {
     "data": {
      "text/plain": [
       "True"
      ]
     },
     "execution_count": 31,
     "metadata": {},
     "output_type": "execute_result"
    }
   ],
   "source": [
    "Counter(slavik=19,ivan=21,alex=15) == Counter(alex=15,slavik=19,ivan=21)"
   ]
  },
  {
   "cell_type": "code",
   "execution_count": 32,
   "id": "04904801",
   "metadata": {},
   "outputs": [
    {
     "data": {
      "text/plain": [
       "False"
      ]
     },
     "execution_count": 32,
     "metadata": {},
     "output_type": "execute_result"
    }
   ],
   "source": [
    "Counter(slavik=19,ivan=21,alex=15,dima=0) == Counter(alex=15,slavik=19,ivan=21)"
   ]
  },
  {
   "cell_type": "markdown",
   "id": "73d7faa5",
   "metadata": {},
   "source": [
    "*До версии **Python 3.10** словари Counter(i=4) и Counter(i=4, s=0) считались разными. Начиная с Python 3.10 сравнение рассматривает отсутствующие элементы как имеющие нулевое значение*"
   ]
  },
  {
   "cell_type": "code",
   "execution_count": 33,
   "id": "ddeaf4df",
   "metadata": {},
   "outputs": [
    {
     "name": "stdout",
     "output_type": "stream",
     "text": [
      "Counter({'i': 9, 's': '54', 'a': [30, 10, 20]})\n"
     ]
    }
   ],
   "source": [
    "counter1 = Counter(i=4, s='4', a=[10,20])  # складывает то, что можно сложить\n",
    "counter2 = Counter(i=5, s='5',a=[30])   # причем объекты складываются таким образом counter2 + counter1\n",
    "\n",
    "counter1.update(counter2)\n",
    "\n",
    "print(counter1)"
   ]
  },
  {
   "cell_type": "code",
   "execution_count": 34,
   "id": "512d7ba3",
   "metadata": {},
   "outputs": [
    {
     "data": {
      "text/plain": [
       "Counter({('shirt', 3): 2, ('dress', 1): 1})"
      ]
     },
     "execution_count": 34,
     "metadata": {},
     "output_type": "execute_result"
    }
   ],
   "source": [
    "clothes = Counter([('shirt', 3), ('dress', 1), ('shirt', 3)])\n",
    "clothes"
   ]
  },
  {
   "cell_type": "markdown",
   "id": "bb0b187b",
   "metadata": {},
   "source": [
    "### Методы Counter"
   ]
  },
  {
   "cell_type": "code",
   "execution_count": 35,
   "id": "7057827a",
   "metadata": {},
   "outputs": [],
   "source": [
    "names = ['Ivan', 'Alex', 'Bob', 'Ivan', 'Alex', 'Alex', 'Martin','Rex','Bob','Ivan','Alex','Martin','Alex']"
   ]
  },
  {
   "cell_type": "code",
   "execution_count": 36,
   "id": "172b2d14",
   "metadata": {},
   "outputs": [
    {
     "data": {
      "text/plain": [
       "Counter({'Alex': 5, 'Ivan': 3, 'Bob': 2, 'Martin': 2, 'Rex': 1})"
      ]
     },
     "execution_count": 36,
     "metadata": {},
     "output_type": "execute_result"
    }
   ],
   "source": [
    "names_counter = Counter(names)\n",
    "names_counter"
   ]
  },
  {
   "cell_type": "code",
   "execution_count": 39,
   "id": "7b899f22",
   "metadata": {},
   "outputs": [
    {
     "data": {
      "text/plain": [
       "[('Alex', 5), ('Ivan', 3), ('Bob', 2), ('Martin', 2), ('Rex', 1)]"
      ]
     },
     "execution_count": 39,
     "metadata": {},
     "output_type": "execute_result"
    }
   ],
   "source": [
    "names_counter.most_common() # возвращает список наиболее повторяемых элементов и количество каждого из них"
   ]
  },
  {
   "cell_type": "code",
   "execution_count": 40,
   "id": "1b8e29e3",
   "metadata": {},
   "outputs": [
    {
     "data": {
      "text/plain": [
       "[('Alex', 5), ('Ivan', 3)]"
      ]
     },
     "execution_count": 40,
     "metadata": {},
     "output_type": "execute_result"
    }
   ],
   "source": [
    "names_counter.most_common(2) # топ 2"
   ]
  },
  {
   "cell_type": "code",
   "execution_count": 41,
   "id": "f5c5d8b6",
   "metadata": {},
   "outputs": [
    {
     "data": {
      "text/plain": [
       "[('Alex', 5), ('Ivan', 3), ('Bob', 2)]"
      ]
     },
     "execution_count": 41,
     "metadata": {},
     "output_type": "execute_result"
    }
   ],
   "source": [
    "names_counter.most_common(3)  # топ 3 "
   ]
  },
  {
   "cell_type": "code",
   "execution_count": 42,
   "id": "95333d65",
   "metadata": {},
   "outputs": [
    {
     "data": {
      "text/plain": [
       "('Rex', 1)"
      ]
     },
     "execution_count": 42,
     "metadata": {},
     "output_type": "execute_result"
    }
   ],
   "source": [
    "names_counter.most_common()[-1]  # с конца"
   ]
  },
  {
   "cell_type": "markdown",
   "id": "558ac83a",
   "metadata": {},
   "source": [
    "*Для корректной работы метода most_common() нужно, чтобы значения в Counter словаре поддерживали сортировку*"
   ]
  },
  {
   "cell_type": "code",
   "execution_count": 43,
   "id": "6904a63a",
   "metadata": {},
   "outputs": [
    {
     "name": "stdout",
     "output_type": "stream",
     "text": [
      "Ivan\n",
      "Ivan\n",
      "Ivan\n",
      "Alex\n",
      "Alex\n",
      "Alex\n",
      "Alex\n",
      "Alex\n",
      "Bob\n",
      "Bob\n",
      "Martin\n",
      "Martin\n",
      "Rex\n"
     ]
    }
   ],
   "source": [
    "for x in names_counter.elements():  # итератор по элементам, повторяющимся столько раз, сколько их есть\n",
    "    print(x)"
   ]
  },
  {
   "cell_type": "code",
   "execution_count": 44,
   "id": "8d63a570",
   "metadata": {
    "scrolled": true
   },
   "outputs": [
    {
     "data": {
      "text/plain": [
       "Counter({'Martin': 3, 'Ivan': 1, 'Rex': 1, 'Bob': 1, 'Greg': 1})"
      ]
     },
     "execution_count": 44,
     "metadata": {},
     "output_type": "execute_result"
    }
   ],
   "source": [
    "names_new = ['Ivan', 'Rex', 'Martin', 'Martin', 'Bob', 'Martin', 'Greg']\n",
    "names_counter_new = Counter(names_new)\n",
    "names_counter_new"
   ]
  },
  {
   "cell_type": "code",
   "execution_count": 45,
   "id": "b9ead772",
   "metadata": {},
   "outputs": [
    {
     "data": {
      "text/plain": [
       "Counter({'Alex': 5, 'Ivan': 3, 'Bob': 2, 'Martin': 2, 'Rex': 1})"
      ]
     },
     "execution_count": 45,
     "metadata": {},
     "output_type": "execute_result"
    }
   ],
   "source": [
    "names_counter = Counter(names)\n",
    "names_counter"
   ]
  },
  {
   "cell_type": "code",
   "execution_count": 46,
   "id": "98e9087f",
   "metadata": {},
   "outputs": [
    {
     "data": {
      "text/plain": [
       "Counter({'Alex': 5, 'Ivan': 2, 'Bob': 1, 'Rex': 0, 'Martin': -1, 'Greg': -1})"
      ]
     },
     "execution_count": 46,
     "metadata": {},
     "output_type": "execute_result"
    }
   ],
   "source": [
    "names_counter.subtract(names_counter_new)  # вычитает из значений элементов одного словаря Counter\n",
    "                                           # значения элементов другого словаря\n",
    "names_counter"
   ]
  },
  {
   "cell_type": "markdown",
   "id": "6af897c1",
   "metadata": {},
   "source": [
    "*Помимо словарей, метод **subtract()** может принимать любой итерируемый объект: список, строку, кортеж и т.д*"
   ]
  },
  {
   "cell_type": "code",
   "execution_count": 47,
   "id": "e967e9aa",
   "metadata": {},
   "outputs": [],
   "source": [
    "names_counter_new.subtract('SOS')"
   ]
  },
  {
   "cell_type": "code",
   "execution_count": 48,
   "id": "7eb59761",
   "metadata": {},
   "outputs": [
    {
     "data": {
      "text/plain": [
       "Counter({'Martin': 3,\n",
       "         'Ivan': 1,\n",
       "         'Rex': 1,\n",
       "         'Bob': 1,\n",
       "         'Greg': 1,\n",
       "         'O': -1,\n",
       "         'S': -2})"
      ]
     },
     "execution_count": 48,
     "metadata": {},
     "output_type": "execute_result"
    }
   ],
   "source": [
    "names_counter_new"
   ]
  },
  {
   "cell_type": "markdown",
   "id": "419f7054",
   "metadata": {},
   "source": [
    "Как мы уже знаем, методы update() и subtract() объединяют Counter словари путем сложения и вычитания количества соответствующих элементов. Python предоставляет удобные операторы сложения (+) и вычитания (-), которые могут заменить вызовы данных методов."
   ]
  },
  {
   "cell_type": "code",
   "execution_count": null,
   "id": "daf32678",
   "metadata": {},
   "outputs": [],
   "source": [
    "names_counter = Counter(names)\n",
    "names_counter"
   ]
  },
  {
   "cell_type": "code",
   "execution_count": null,
   "id": "b1eac639",
   "metadata": {},
   "outputs": [],
   "source": [
    "names_counter + Counter(Tommi=2)"
   ]
  },
  {
   "cell_type": "code",
   "execution_count": null,
   "id": "2865cc87",
   "metadata": {},
   "outputs": [],
   "source": [
    "names_counter - Counter(Ivan=3,Alex=4,Bob=2,Martin=2) # работает только с объектами Counter"
   ]
  },
  {
   "cell_type": "markdown",
   "id": "a488aafa",
   "metadata": {},
   "source": [
    "*Обратите внимание на то, что при использовании операторов + и - из результирующего словаря исключаются элементы с нулевыми и отрицательными значениями*"
   ]
  },
  {
   "cell_type": "code",
   "execution_count": null,
   "id": "585f99ce",
   "metadata": {},
   "outputs": [],
   "source": [
    "names_counter | Counter(Vika=1,Rex=7)  # берет максимум от каждого значения "
   ]
  },
  {
   "cell_type": "code",
   "execution_count": null,
   "id": "c9a14094",
   "metadata": {},
   "outputs": [],
   "source": [
    "names_counter & Counter (Alex=3,Ivan=1,Somebody=10) # берет минимум, что есть и там и там"
   ]
  },
  {
   "cell_type": "code",
   "execution_count": null,
   "id": "dc2fef5a",
   "metadata": {},
   "outputs": [],
   "source": [
    "names_counter & Counter (Somebody=10)"
   ]
  },
  {
   "cell_type": "code",
   "execution_count": null,
   "id": "bce272f0",
   "metadata": {},
   "outputs": [],
   "source": [
    "+Counter(a=2,b=-2,c=7,d=-10)"
   ]
  },
  {
   "cell_type": "code",
   "execution_count": null,
   "id": "f21c8200",
   "metadata": {},
   "outputs": [],
   "source": [
    "-Counter(a=2,b=-2,c=7,d=-10)"
   ]
  },
  {
   "cell_type": "markdown",
   "id": "8eb30ecb",
   "metadata": {},
   "source": [
    "## Вместо вывода"
   ]
  },
  {
   "cell_type": "markdown",
   "id": "6f37987d",
   "metadata": {},
   "source": [
    "Counter предоставляет простой способ подсчитать элементы в списке, кортеже, строке или любой другой коллекции объектов, поддерживающих хэширование. Он также имеет несколько полезных методов для работы с счетчиками."
   ]
  },
  {
   "cell_type": "markdown",
   "id": "39e81d14",
   "metadata": {},
   "source": [
    " Для подсчета объектов тип Counter использует высокооптимизированную функцию, написанную на языке C. Поэтому беспокоиться об эффективности использования данного типа не стоит."
   ]
  },
  {
   "cell_type": "code",
   "execution_count": null,
   "id": "0e13eb8e",
   "metadata": {},
   "outputs": [],
   "source": []
  }
 ],
 "metadata": {
  "kernelspec": {
   "display_name": "Python 3 (ipykernel)",
   "language": "python",
   "name": "python3"
  },
  "language_info": {
   "codemirror_mode": {
    "name": "ipython",
    "version": 3
   },
   "file_extension": ".py",
   "mimetype": "text/x-python",
   "name": "python",
   "nbconvert_exporter": "python",
   "pygments_lexer": "ipython3",
   "version": "3.9.18"
  },
  "nbTranslate": {
   "displayLangs": [
    "*"
   ],
   "hotkey": "alt-t",
   "langInMainMenu": true,
   "sourceLang": "en",
   "targetLang": "ru",
   "useGoogleTranslate": true
  },
  "toc": {
   "base_numbering": 1,
   "nav_menu": {},
   "number_sections": true,
   "sideBar": true,
   "skip_h1_title": false,
   "title_cell": "Table of Contents",
   "title_sidebar": "Contents",
   "toc_cell": false,
   "toc_position": {},
   "toc_section_display": true,
   "toc_window_display": false
  },
  "varInspector": {
   "cols": {
    "lenName": 16,
    "lenType": 16,
    "lenVar": 40
   },
   "kernels_config": {
    "python": {
     "delete_cmd_postfix": "",
     "delete_cmd_prefix": "del ",
     "library": "var_list.py",
     "varRefreshCmd": "print(var_dic_list())"
    },
    "r": {
     "delete_cmd_postfix": ") ",
     "delete_cmd_prefix": "rm(",
     "library": "var_list.r",
     "varRefreshCmd": "cat(var_dic_list()) "
    }
   },
   "types_to_exclude": [
    "module",
    "function",
    "builtin_function_or_method",
    "instance",
    "_Feature"
   ],
   "window_display": false
  }
 },
 "nbformat": 4,
 "nbformat_minor": 5
}
