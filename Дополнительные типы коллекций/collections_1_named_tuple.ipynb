{
 "cells": [
  {
   "cell_type": "markdown",
   "id": "f7ea3a18",
   "metadata": {},
   "source": [
    "# Модуль collections"
   ]
  },
  {
   "cell_type": "markdown",
   "id": "2a221d07",
   "metadata": {},
   "source": [
    "Python содержит модуль collections, который содержит специализированные типы коллекций, альтернативных традиционным list, tuple, dict"
   ]
  },
  {
   "cell_type": "markdown",
   "id": "748f5f5b",
   "metadata": {},
   "source": [
    "## Именнованные кортежи"
   ]
  },
  {
   "cell_type": "code",
   "execution_count": 1,
   "id": "586abbd6",
   "metadata": {},
   "outputs": [],
   "source": [
    "from collections import namedtuple"
   ]
  },
  {
   "cell_type": "code",
   "execution_count": 12,
   "id": "7d173540",
   "metadata": {},
   "outputs": [],
   "source": [
    "person = (184,65) # обычный кортеж"
   ]
  },
  {
   "cell_type": "code",
   "execution_count": 15,
   "id": "871b6327",
   "metadata": {},
   "outputs": [
    {
     "data": {
      "text/plain": [
       "tuple"
      ]
     },
     "execution_count": 15,
     "metadata": {},
     "output_type": "execute_result"
    }
   ],
   "source": [
    "type(person)"
   ]
  },
  {
   "cell_type": "code",
   "execution_count": 20,
   "id": "24db8932",
   "metadata": {},
   "outputs": [
    {
     "data": {
      "text/plain": [
       "__main__.People"
      ]
     },
     "execution_count": 20,
     "metadata": {},
     "output_type": "execute_result"
    }
   ],
   "source": [
    "People = namedtuple('People',['high', 'weigh'])\n",
    "People"
   ]
  },
  {
   "cell_type": "markdown",
   "id": "50c0bacb",
   "metadata": {},
   "source": [
    "*Он предоставляет простой способ создания классов, которые нужны только для хранения данных и не имеют дополнительной логики*"
   ]
  },
  {
   "cell_type": "code",
   "execution_count": 22,
   "id": "f814b6ec",
   "metadata": {},
   "outputs": [
    {
     "data": {
      "text/plain": [
       "People(high=184, weigh=65)"
      ]
     },
     "execution_count": 22,
     "metadata": {},
     "output_type": "execute_result"
    }
   ],
   "source": [
    "ivan = People(184,65)\n",
    "ivan"
   ]
  },
  {
   "cell_type": "code",
   "execution_count": 25,
   "id": "28d397c5",
   "metadata": {},
   "outputs": [
    {
     "data": {
      "text/plain": [
       "People(high=183, weigh=75)"
      ]
     },
     "execution_count": 25,
     "metadata": {},
     "output_type": "execute_result"
    }
   ],
   "source": [
    "slavik = People(weigh=75,high=183)\n",
    "slavik"
   ]
  },
  {
   "cell_type": "markdown",
   "id": "57f55110",
   "metadata": {},
   "source": [
    "Обращаться можно не только индексами, но и в качестве **атрибутов**"
   ]
  },
  {
   "cell_type": "code",
   "execution_count": 27,
   "id": "0dd63624",
   "metadata": {},
   "outputs": [
    {
     "data": {
      "text/plain": [
       "183"
      ]
     },
     "execution_count": 27,
     "metadata": {},
     "output_type": "execute_result"
    }
   ],
   "source": [
    "slavik[0] # рост ?"
   ]
  },
  {
   "cell_type": "code",
   "execution_count": 28,
   "id": "414494e7",
   "metadata": {},
   "outputs": [
    {
     "data": {
      "text/plain": [
       "183"
      ]
     },
     "execution_count": 28,
     "metadata": {},
     "output_type": "execute_result"
    }
   ],
   "source": [
    "slavik.high  # более читаемый код"
   ]
  },
  {
   "cell_type": "code",
   "execution_count": 29,
   "id": "0ba61210",
   "metadata": {},
   "outputs": [],
   "source": [
    "Player = namedtuple('Player', ['lvl','health','damage','inventory'], defaults=[1,10,3,['Меч','Щит']])"
   ]
  },
  {
   "cell_type": "markdown",
   "id": "de5d5004",
   "metadata": {},
   "source": [
    "Можно указать значение по умолчанию только для некоторых полей, при этом defaults присваивает значения по умолчанию с конца."
   ]
  },
  {
   "cell_type": "code",
   "execution_count": 30,
   "id": "24da5e13",
   "metadata": {},
   "outputs": [],
   "source": [
    "robin = Player()"
   ]
  },
  {
   "cell_type": "code",
   "execution_count": 31,
   "id": "5748ffef",
   "metadata": {},
   "outputs": [
    {
     "data": {
      "text/plain": [
       "Player(lvl=1, health=10, damage=3, inventory=['Меч', 'Щит', 'Лук и стрелы'])"
      ]
     },
     "execution_count": 31,
     "metadata": {},
     "output_type": "execute_result"
    }
   ],
   "source": [
    "robin.inventory.append('Лук и стрелы') # нельзя изменить сам кортеж, но можно изменять изменяемые объекты\n",
    "robin"
   ]
  },
  {
   "cell_type": "markdown",
   "id": "608e538e",
   "metadata": {},
   "source": [
    "Нельзя использовать ключевые слова в названии полей"
   ]
  },
  {
   "cell_type": "code",
   "execution_count": 32,
   "id": "05e08bb2",
   "metadata": {},
   "outputs": [],
   "source": [
    "New_Type = namedtuple('New_Type', ['class', 'age', '_number', 'if', 'row', '_2'], rename=True, defaults=[1,1,1,1,1,1])"
   ]
  },
  {
   "cell_type": "code",
   "execution_count": 33,
   "id": "867dbac8",
   "metadata": {},
   "outputs": [
    {
     "data": {
      "text/plain": [
       "New_Type(_0=1, age=1, _2=1, _3=1, row=1, _5=1)"
      ]
     },
     "execution_count": 33,
     "metadata": {},
     "output_type": "execute_result"
    }
   ],
   "source": [
    "New_Type()  # с помощью rename=True названия полей заменены на _ + порядковый номер"
   ]
  },
  {
   "cell_type": "markdown",
   "id": "f2eae1ad",
   "metadata": {},
   "source": [
    "Параметр module был добавлен в Python 3.6 для того, чтобы появилась возможность сериализовать/десериализовать именованные кортежи с помощью модуля pickle в разных реализациях Python (IronPython, Jython и т.д.)"
   ]
  },
  {
   "cell_type": "code",
   "execution_count": 34,
   "id": "96e20ff4",
   "metadata": {},
   "outputs": [
    {
     "name": "stdout",
     "output_type": "stream",
     "text": [
      "183 75\n"
     ]
    }
   ],
   "source": [
    "h, w = slavik  # распаковка, как и все методы кортежей наследуются от tuple\n",
    "print(h,w)"
   ]
  },
  {
   "cell_type": "markdown",
   "id": "9507b925",
   "metadata": {},
   "source": [
    "Именованные кортежи имеют два дополнительных атрибута: **_fields** и **_field_defaults**. Первый атрибут содержит кортеж строк, в котором перечислены имена полей. Второй атрибут содержит словарь, который сопоставляет имена полей с соответствующими значениями по умолчанию, если таковые имеются."
   ]
  },
  {
   "cell_type": "code",
   "execution_count": 36,
   "id": "83f784bb",
   "metadata": {},
   "outputs": [
    {
     "data": {
      "text/plain": [
       "('lvl', 'health', 'damage', 'inventory')"
      ]
     },
     "execution_count": 36,
     "metadata": {},
     "output_type": "execute_result"
    }
   ],
   "source": [
    "robin._fields # имена полей"
   ]
  },
  {
   "cell_type": "code",
   "execution_count": 37,
   "id": "905388b7",
   "metadata": {},
   "outputs": [
    {
     "data": {
      "text/plain": [
       "{'lvl': 1,\n",
       " 'health': 10,\n",
       " 'damage': 3,\n",
       " 'inventory': ['Меч', 'Щит', 'Лук и стрелы']}"
      ]
     },
     "execution_count": 37,
     "metadata": {},
     "output_type": "execute_result"
    }
   ],
   "source": [
    "robin._field_defaults # словарь полей и значений по умолчанию"
   ]
  },
  {
   "cell_type": "code",
   "execution_count": 41,
   "id": "77cdc920",
   "metadata": {},
   "outputs": [
    {
     "data": {
      "text/plain": [
       "{'lvl': 1,\n",
       " 'health': 10,\n",
       " 'damage': 3,\n",
       " 'inventory': ['Меч', 'Щит', 'Лук и стрелы']}"
      ]
     },
     "execution_count": 41,
     "metadata": {},
     "output_type": "execute_result"
    }
   ],
   "source": [
    "Player._field_defaults"
   ]
  },
  {
   "cell_type": "code",
   "execution_count": 42,
   "id": "02024bbb",
   "metadata": {},
   "outputs": [],
   "source": [
    "bob = Player()"
   ]
  },
  {
   "cell_type": "code",
   "execution_count": 44,
   "id": "d73289f9",
   "metadata": {},
   "outputs": [
    {
     "data": {
      "text/plain": [
       "Player(lvl=1, health=10, damage=3, inventory=['Меч', 'Щит', 'Лук и стрелы'])"
      ]
     },
     "execution_count": 44,
     "metadata": {},
     "output_type": "execute_result"
    }
   ],
   "source": [
    "bob # лук и стрелы перенеслись?"
   ]
  },
  {
   "cell_type": "markdown",
   "id": "1b50291b",
   "metadata": {},
   "source": [
    "С помощью атрибута _fields мы можем создавать новые именованные кортежи на основании уже существующих."
   ]
  },
  {
   "cell_type": "code",
   "execution_count": 46,
   "id": "7bf67b50",
   "metadata": {},
   "outputs": [],
   "source": [
    "Player_Pro = namedtuple('Player_Pro', [*Player._fields, 'super_skill'], defaults=tuple(Player._field_defaults.values()) + ('Meteor',))"
   ]
  },
  {
   "cell_type": "code",
   "execution_count": 47,
   "id": "bc32b2c4",
   "metadata": {},
   "outputs": [
    {
     "data": {
      "text/plain": [
       "Player_Pro(lvl=1, health=10, damage=3, inventory=['Меч', 'Щит', 'Лук и стрелы'], super_skill='Meteor')"
      ]
     },
     "execution_count": 47,
     "metadata": {},
     "output_type": "execute_result"
    }
   ],
   "source": [
    "merlin = Player_Pro()\n",
    "merlin"
   ]
  },
  {
   "cell_type": "markdown",
   "id": "31fd11ec",
   "metadata": {},
   "source": [
    "Метод **_make()** используется для создания именованных кортежей из итерируемых объектов (список, кортеж, строка, словарь и т.д.)."
   ]
  },
  {
   "cell_type": "code",
   "execution_count": 48,
   "id": "d270eac7",
   "metadata": {},
   "outputs": [
    {
     "ename": "TypeError",
     "evalue": "<lambda>() missing 1 required positional argument: 'weigh'",
     "output_type": "error",
     "traceback": [
      "\u001b[1;31m---------------------------------------------------------------------------\u001b[0m",
      "\u001b[1;31mTypeError\u001b[0m                                 Traceback (most recent call last)",
      "Cell \u001b[1;32mIn[48], line 1\u001b[0m\n\u001b[1;32m----> 1\u001b[0m miron \u001b[38;5;241m=\u001b[39m \u001b[43mPeople\u001b[49m\u001b[43m(\u001b[49m\u001b[43m[\u001b[49m\u001b[38;5;241;43m175\u001b[39;49m\u001b[43m,\u001b[49m\u001b[38;5;241;43m80\u001b[39;49m\u001b[43m]\u001b[49m\u001b[43m)\u001b[49m\n",
      "\u001b[1;31mTypeError\u001b[0m: <lambda>() missing 1 required positional argument: 'weigh'"
     ]
    }
   ],
   "source": [
    "miron = People([175,80]) # ошибка"
   ]
  },
  {
   "cell_type": "code",
   "execution_count": 49,
   "id": "9a758825",
   "metadata": {},
   "outputs": [
    {
     "data": {
      "text/plain": [
       "People(high=175, weigh=80)"
      ]
     },
     "execution_count": 49,
     "metadata": {},
     "output_type": "execute_result"
    }
   ],
   "source": [
    "miron = People._make([175,80])  # нет ошибки\n",
    "miron"
   ]
  },
  {
   "cell_type": "markdown",
   "id": "63e2ea39",
   "metadata": {},
   "source": [
    "Мы можем преобразовывать именованные кортежи в словари с помощью метода **_asdict()**"
   ]
  },
  {
   "cell_type": "code",
   "execution_count": 50,
   "id": "f0613b17",
   "metadata": {},
   "outputs": [
    {
     "data": {
      "text/plain": [
       "{'lvl': 1,\n",
       " 'health': 10,\n",
       " 'damage': 3,\n",
       " 'inventory': ['Меч', 'Щит', 'Лук и стрелы'],\n",
       " 'super_skill': 'Meteor'}"
      ]
     },
     "execution_count": 50,
     "metadata": {},
     "output_type": "execute_result"
    }
   ],
   "source": [
    "merlin._asdict()  # словарь из кортежа"
   ]
  },
  {
   "cell_type": "markdown",
   "id": "1c4a0bf1",
   "metadata": {},
   "source": [
    "Метод  **_replace()** позволяет создавать новые именованные кортежи на основании уже существующих с заменой некоторых значений"
   ]
  },
  {
   "cell_type": "code",
   "execution_count": 51,
   "id": "e560343e",
   "metadata": {},
   "outputs": [
    {
     "data": {
      "text/plain": [
       "Player_Pro(lvl=1, health=7, damage=5, inventory=['Посох мага', 'Книга заклинаний'], super_skill='Meteor')"
      ]
     },
     "execution_count": 51,
     "metadata": {},
     "output_type": "execute_result"
    }
   ],
   "source": [
    "merlin = merlin._replace(health=7, damage=5, inventory=['Посох мага', 'Книга заклинаний'])\n",
    "merlin"
   ]
  },
  {
   "cell_type": "markdown",
   "id": "772791ed",
   "metadata": {},
   "source": [
    "**Использование именованных кортежей делает код более понятным, компактным и уменьшает вероятность ошибок при доступе к данным**\n",
    "\n",
    "**По памяти и производительности работают чуть лучше словарей**"
   ]
  },
  {
   "cell_type": "code",
   "execution_count": null,
   "id": "65f4dab7",
   "metadata": {},
   "outputs": [],
   "source": []
  }
 ],
 "metadata": {
  "kernelspec": {
   "display_name": "Python 3 (ipykernel)",
   "language": "python",
   "name": "python3"
  },
  "language_info": {
   "codemirror_mode": {
    "name": "ipython",
    "version": 3
   },
   "file_extension": ".py",
   "mimetype": "text/x-python",
   "name": "python",
   "nbconvert_exporter": "python",
   "pygments_lexer": "ipython3",
   "version": "3.9.18"
  },
  "nbTranslate": {
   "displayLangs": [
    "*"
   ],
   "hotkey": "alt-t",
   "langInMainMenu": true,
   "sourceLang": "en",
   "targetLang": "ru",
   "useGoogleTranslate": true
  },
  "toc": {
   "base_numbering": 1,
   "nav_menu": {},
   "number_sections": true,
   "sideBar": true,
   "skip_h1_title": false,
   "title_cell": "Table of Contents",
   "title_sidebar": "Contents",
   "toc_cell": false,
   "toc_position": {},
   "toc_section_display": true,
   "toc_window_display": false
  },
  "varInspector": {
   "cols": {
    "lenName": 16,
    "lenType": 16,
    "lenVar": 40
   },
   "kernels_config": {
    "python": {
     "delete_cmd_postfix": "",
     "delete_cmd_prefix": "del ",
     "library": "var_list.py",
     "varRefreshCmd": "print(var_dic_list())"
    },
    "r": {
     "delete_cmd_postfix": ") ",
     "delete_cmd_prefix": "rm(",
     "library": "var_list.r",
     "varRefreshCmd": "cat(var_dic_list()) "
    }
   },
   "types_to_exclude": [
    "module",
    "function",
    "builtin_function_or_method",
    "instance",
    "_Feature"
   ],
   "window_display": false
  }
 },
 "nbformat": 4,
 "nbformat_minor": 5
}
