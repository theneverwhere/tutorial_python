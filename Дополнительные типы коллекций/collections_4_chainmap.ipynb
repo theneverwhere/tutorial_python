{
 "cells": [
  {
   "cell_type": "markdown",
   "id": "13c44f6c",
   "metadata": {},
   "source": [
    "# ChainMap"
   ]
  },
  {
   "cell_type": "code",
   "execution_count": 1,
   "id": "0bff7659",
   "metadata": {},
   "outputs": [],
   "source": [
    "from collections import ChainMap"
   ]
  },
  {
   "cell_type": "markdown",
   "id": "20079e35",
   "metadata": {},
   "source": [
    "**ChainMap** - это класс в Python, который предоставляет способ объединения нескольких словарей в один для облегчения работы с ними. Это часть стандартной библиотеки *collections*. Он позволяет создавать стек из словарей, где каждый следующий словарь используется в качестве резервного, если ключ не найден в предыдущих словарях."
   ]
  },
  {
   "cell_type": "code",
   "execution_count": 2,
   "id": "9f389589",
   "metadata": {},
   "outputs": [],
   "source": [
    "dict1 = {'a':1, 'b':2, 'c':3}\n",
    "dict2 = {'a':10, 'b':20, 'c':30}\n",
    "dict3 = {'d':'hello'}"
   ]
  },
  {
   "cell_type": "code",
   "execution_count": 3,
   "id": "7a49ac21",
   "metadata": {},
   "outputs": [
    {
     "data": {
      "text/plain": [
       "ChainMap({'a': 1, 'b': 2, 'c': 3}, {'a': 10, 'b': 20, 'c': 30}, {'d': 'hello'})"
      ]
     },
     "execution_count": 3,
     "metadata": {},
     "output_type": "execute_result"
    }
   ],
   "source": [
    "chain = ChainMap(dict1,dict2,dict3)\n",
    "chain"
   ]
  },
  {
   "cell_type": "code",
   "execution_count": 4,
   "id": "8cfc8084",
   "metadata": {},
   "outputs": [
    {
     "data": {
      "text/plain": [
       "1"
      ]
     },
     "execution_count": 4,
     "metadata": {},
     "output_type": "execute_result"
    }
   ],
   "source": [
    "chain['a'] # поиск выбирает первый попавшийся ключ"
   ]
  },
  {
   "cell_type": "code",
   "execution_count": 5,
   "id": "7c5f7f79",
   "metadata": {},
   "outputs": [
    {
     "data": {
      "text/plain": [
       "'hello'"
      ]
     },
     "execution_count": 5,
     "metadata": {},
     "output_type": "execute_result"
    }
   ],
   "source": [
    "chain['d'] # далее идёт поиск в \"резервных\" словарях"
   ]
  },
  {
   "cell_type": "markdown",
   "id": "3177a86e",
   "metadata": {},
   "source": [
    "*Итерирование по ChainMap объекту происходит в обратном порядке от последнего указанного словаря к первому*"
   ]
  },
  {
   "cell_type": "code",
   "execution_count": 6,
   "id": "581ef619",
   "metadata": {},
   "outputs": [
    {
     "name": "stdout",
     "output_type": "stream",
     "text": [
      "d\n",
      "a\n",
      "b\n",
      "c\n"
     ]
    }
   ],
   "source": [
    "for el in chain:\n",
    "    print(el)"
   ]
  },
  {
   "cell_type": "markdown",
   "id": "3ec6d33e",
   "metadata": {},
   "source": [
    "*При этом если в ChainMap объекте есть повторяющиеся ключи в объединяемых словарях, то мы будем получать первое из значений*"
   ]
  },
  {
   "cell_type": "code",
   "execution_count": 7,
   "id": "12486a25",
   "metadata": {},
   "outputs": [
    {
     "name": "stdout",
     "output_type": "stream",
     "text": [
      "d --> hello\n",
      "a --> 1\n",
      "b --> 2\n",
      "c --> 3\n"
     ]
    }
   ],
   "source": [
    "for el in chain:\n",
    "    print(el,'-->',chain[el])"
   ]
  },
  {
   "cell_type": "code",
   "execution_count": 8,
   "id": "53e0916b",
   "metadata": {},
   "outputs": [
    {
     "data": {
      "text/plain": [
       "ChainMap({'a': 1, 'b': 2, 'c': 3}, {'a': 10, 'b': 20, 'c': 30}, {'d': 'hello'})"
      ]
     },
     "execution_count": 8,
     "metadata": {},
     "output_type": "execute_result"
    }
   ],
   "source": [
    "chain"
   ]
  },
  {
   "cell_type": "code",
   "execution_count": 9,
   "id": "100c59ee",
   "metadata": {},
   "outputs": [
    {
     "name": "stdout",
     "output_type": "stream",
     "text": [
      "hello\n",
      "1\n",
      "2\n",
      "3\n"
     ]
    }
   ],
   "source": [
    "for i in chain.values():\n",
    "    print(i)"
   ]
  },
  {
   "cell_type": "markdown",
   "id": "0bf1c371",
   "metadata": {},
   "source": [
    "**Мы можем обновлять, добавлять, удалять и извлекать элементы из ChainMap объекта. При этом нужно знать, что все эти операции действуют только на первый из объединяемых словарей**"
   ]
  },
  {
   "cell_type": "code",
   "execution_count": 10,
   "id": "ac09336c",
   "metadata": {},
   "outputs": [
    {
     "data": {
      "text/plain": [
       "ChainMap({'a': 0, 'b': 2, 'c': 3}, {'a': 10, 'b': 20, 'c': 30}, {'d': 'hello'})"
      ]
     },
     "execution_count": 10,
     "metadata": {},
     "output_type": "execute_result"
    }
   ],
   "source": [
    "chain['a'] = 0\n",
    "chain"
   ]
  },
  {
   "cell_type": "code",
   "execution_count": 12,
   "id": "cb615ee6",
   "metadata": {},
   "outputs": [
    {
     "data": {
      "text/plain": [
       "ChainMap({'a': 0, 'b': 2, 'c': 3, 'd': 0}, {'a': 10, 'b': 20, 'c': 30}, {'d': 'hello'})"
      ]
     },
     "execution_count": 12,
     "metadata": {},
     "output_type": "execute_result"
    }
   ],
   "source": [
    "chain['d'] = 0\n",
    "chain"
   ]
  },
  {
   "cell_type": "code",
   "execution_count": 13,
   "id": "dbe300ec",
   "metadata": {},
   "outputs": [
    {
     "data": {
      "text/plain": [
       "ChainMap({'a': 0, 'b': 2, 'c': 3}, {'a': 10, 'b': 20, 'c': 30}, {'d': 'hello'})"
      ]
     },
     "execution_count": 13,
     "metadata": {},
     "output_type": "execute_result"
    }
   ],
   "source": [
    "del chain['d']\n",
    "chain"
   ]
  },
  {
   "cell_type": "code",
   "execution_count": 14,
   "id": "2766218d",
   "metadata": {},
   "outputs": [],
   "source": [
    "# del chain['d'] ошибка! "
   ]
  },
  {
   "cell_type": "code",
   "execution_count": 15,
   "id": "6705810b",
   "metadata": {},
   "outputs": [
    {
     "name": "stdout",
     "output_type": "stream",
     "text": [
      "{'a': 10, 'b': 20, 'c': 30, 'd': 40}\n",
      "ChainMap({'a': 0, 'b': 2, 'c': 3}, {'a': 10, 'b': 20, 'c': 30, 'd': 40}, {'d': 'hello'})\n"
     ]
    }
   ],
   "source": [
    "dict2['d'] = 40\n",
    "print(dict2)  # изменение словаря, на основе которого строился ChainMap\n",
    "print(chain)  # изменяет и сам объект ChainMap"
   ]
  },
  {
   "cell_type": "code",
   "execution_count": 16,
   "id": "9ce4ac30",
   "metadata": {},
   "outputs": [
    {
     "data": {
      "text/plain": [
       "4"
      ]
     },
     "execution_count": 16,
     "metadata": {},
     "output_type": "execute_result"
    }
   ],
   "source": [
    "len(chain)  # возвращает количество уникальных ключей "
   ]
  },
  {
   "cell_type": "markdown",
   "id": "ca1eb49b",
   "metadata": {},
   "source": [
    "Объект ChainMap хранит все объединяемые словари во внутреннем списке. Этот список доступен через атрибут **maps** и может быть изменен. "
   ]
  },
  {
   "cell_type": "code",
   "execution_count": 17,
   "id": "5a50b6ba",
   "metadata": {},
   "outputs": [
    {
     "data": {
      "text/plain": [
       "[{'a': 0, 'b': 2, 'c': 3},\n",
       " {'a': 10, 'b': 20, 'c': 30, 'd': 40},\n",
       " {'d': 'hello'}]"
      ]
     },
     "execution_count": 17,
     "metadata": {},
     "output_type": "execute_result"
    }
   ],
   "source": [
    "chain.maps  # список"
   ]
  },
  {
   "cell_type": "code",
   "execution_count": 18,
   "id": "b9fac8c3",
   "metadata": {},
   "outputs": [],
   "source": [
    "chain.maps.reverse()"
   ]
  },
  {
   "cell_type": "code",
   "execution_count": 19,
   "id": "57e569eb",
   "metadata": {},
   "outputs": [
    {
     "data": {
      "text/plain": [
       "ChainMap({'d': 'hello'}, {'a': 10, 'b': 20, 'c': 30, 'd': 40}, {'a': 0, 'b': 2, 'c': 3})"
      ]
     },
     "execution_count": 19,
     "metadata": {},
     "output_type": "execute_result"
    }
   ],
   "source": [
    "chain  # изменяя порядок словарей в списке maps, мы меняем сами словари"
   ]
  },
  {
   "cell_type": "markdown",
   "id": "bdfa38df",
   "metadata": {},
   "source": [
    "Атрибут maps можно использовать для обработки абсолютно всех значений во всех словарях. С помощью этого атрибута мы можем обойти поведение по умолчанию, заключающееся в получении (изменении) первого значения из первого словаря."
   ]
  },
  {
   "cell_type": "code",
   "execution_count": 20,
   "id": "de4b4b8a",
   "metadata": {},
   "outputs": [
    {
     "name": "stdout",
     "output_type": "stream",
     "text": [
      "d --> hello\n",
      "a --> 10\n",
      "b --> 20\n",
      "c --> 30\n",
      "d --> 40\n",
      "a --> 0\n",
      "b --> 2\n",
      "c --> 3\n"
     ]
    }
   ],
   "source": [
    "for d in chain.maps:\n",
    "    for key, value in d.items():\n",
    "        print(key,'-->', value)"
   ]
  },
  {
   "cell_type": "markdown",
   "id": "fbe2a104",
   "metadata": {},
   "source": [
    "Метод **new_child(d=None)** возвращает новый объект ChainMap(), содержащий новый словарь d, за которым следуют все словари текущего объекта"
   ]
  },
  {
   "cell_type": "code",
   "execution_count": 23,
   "id": "cea449a0",
   "metadata": {},
   "outputs": [],
   "source": [
    "new_dict = {'a':100, 'b':200, 'f':777}"
   ]
  },
  {
   "cell_type": "code",
   "execution_count": 24,
   "id": "12c671b2",
   "metadata": {},
   "outputs": [
    {
     "data": {
      "text/plain": [
       "ChainMap({}, {'d': 'hello'}, {'a': 10, 'b': 20, 'c': 30, 'd': 40}, {'a': 0, 'b': 2, 'c': 3})"
      ]
     },
     "execution_count": 24,
     "metadata": {},
     "output_type": "execute_result"
    }
   ],
   "source": [
    "chain.new_child()"
   ]
  },
  {
   "cell_type": "code",
   "execution_count": 25,
   "id": "36a2fd61",
   "metadata": {},
   "outputs": [
    {
     "data": {
      "text/plain": [
       "ChainMap({'a': 100, 'b': 200, 'f': 777}, {'d': 'hello'}, {'a': 10, 'b': 20, 'c': 30, 'd': 40}, {'a': 0, 'b': 2, 'c': 3})"
      ]
     },
     "execution_count": 25,
     "metadata": {},
     "output_type": "execute_result"
    }
   ],
   "source": [
    "new_chain = chain.new_child(new_dict)\n",
    "new_chain"
   ]
  },
  {
   "cell_type": "code",
   "execution_count": 26,
   "id": "1e8a392f",
   "metadata": {},
   "outputs": [
    {
     "data": {
      "text/plain": [
       "ChainMap({'d': 'hello'}, {'a': 10, 'b': 20, 'c': 30, 'd': 40}, {'a': 0, 'b': 2, 'c': 3})"
      ]
     },
     "execution_count": 26,
     "metadata": {},
     "output_type": "execute_result"
    }
   ],
   "source": [
    "chain"
   ]
  },
  {
   "cell_type": "markdown",
   "id": "322e2a5d",
   "metadata": {},
   "source": [
    "Атрибут **parents** возвращает новый объект ChainMap, содержащий все словари, кроме первого. Это полезно для пропуска первого словаря при поиске ключей."
   ]
  },
  {
   "cell_type": "code",
   "execution_count": 27,
   "id": "a4ad0961",
   "metadata": {},
   "outputs": [
    {
     "data": {
      "text/plain": [
       "ChainMap({'a': 100, 'b': 200, 'f': 777}, {'d': 'hello'}, {'a': 10, 'b': 20, 'c': 30, 'd': 40}, {'a': 0, 'b': 2, 'c': 3})"
      ]
     },
     "execution_count": 27,
     "metadata": {},
     "output_type": "execute_result"
    }
   ],
   "source": [
    "new_chain"
   ]
  },
  {
   "cell_type": "code",
   "execution_count": 28,
   "id": "e7bcfbf8",
   "metadata": {},
   "outputs": [
    {
     "data": {
      "text/plain": [
       "ChainMap({'d': 'hello'}, {'a': 10, 'b': 20, 'c': 30, 'd': 40}, {'a': 0, 'b': 2, 'c': 3})"
      ]
     },
     "execution_count": 28,
     "metadata": {},
     "output_type": "execute_result"
    }
   ],
   "source": [
    "new_chain.parents # теперь для изменения доступен следующий словарь"
   ]
  },
  {
   "cell_type": "markdown",
   "id": "26e9cfde",
   "metadata": {},
   "source": [
    "*В некотором смысле атрибут parents выполняет обратную функцию методу new_child(). Первый удаляет словарь, а второй добавляет новый словарь в начало списка. В обоих случаях вы получаете новый объект ChainMap*"
   ]
  },
  {
   "cell_type": "markdown",
   "id": "6157ab11",
   "metadata": {},
   "source": [
    "## Вместо вывода"
   ]
  },
  {
   "cell_type": "markdown",
   "id": "daa63d90",
   "metadata": {},
   "source": [
    "Объединение словарей с помощью метода update() имеет существенный недостаток по сравнению с объединением их с помощью ChainMap. Недостаток заключается в том, что мы теряем возможность управлять доступом к повторяющимся ключам. При использовании метода update() новые значения перезаписывают старые."
   ]
  },
  {
   "cell_type": "markdown",
   "id": "fc08e677",
   "metadata": {},
   "source": [
    "Например, **настройки и конфигурации**: Использование ChainMap позволяет объединить несколько словарей с настройками или конфигурациями, где каждый словарь представляет разные уровни настроек (например, значения по умолчанию, пользовательские настройки, настройки, специфичные для среды выполнения), что делает управление настройками более гибким и удобным."
   ]
  },
  {
   "cell_type": "markdown",
   "id": "5b7b1ecb",
   "metadata": {},
   "source": [
    "Кроме того может использоваться для: \n",
    "\n",
    "- Комбинирования данных из различных источников\n",
    "- Создания множественных пространств имен.\n",
    "- Создания цепочек обработчиков ошибок.\n",
    "- Кэширования и хранения промежуточных результатов."
   ]
  },
  {
   "cell_type": "code",
   "execution_count": null,
   "id": "bfd8e3b6",
   "metadata": {},
   "outputs": [],
   "source": []
  }
 ],
 "metadata": {
  "kernelspec": {
   "display_name": "Python 3 (ipykernel)",
   "language": "python",
   "name": "python3"
  },
  "language_info": {
   "codemirror_mode": {
    "name": "ipython",
    "version": 3
   },
   "file_extension": ".py",
   "mimetype": "text/x-python",
   "name": "python",
   "nbconvert_exporter": "python",
   "pygments_lexer": "ipython3",
   "version": "3.9.18"
  },
  "nbTranslate": {
   "displayLangs": [
    "*"
   ],
   "hotkey": "alt-t",
   "langInMainMenu": true,
   "sourceLang": "en",
   "targetLang": "ru",
   "useGoogleTranslate": true
  },
  "toc": {
   "base_numbering": 1,
   "nav_menu": {},
   "number_sections": true,
   "sideBar": true,
   "skip_h1_title": false,
   "title_cell": "Table of Contents",
   "title_sidebar": "Contents",
   "toc_cell": false,
   "toc_position": {},
   "toc_section_display": true,
   "toc_window_display": false
  },
  "varInspector": {
   "cols": {
    "lenName": 16,
    "lenType": 16,
    "lenVar": 40
   },
   "kernels_config": {
    "python": {
     "delete_cmd_postfix": "",
     "delete_cmd_prefix": "del ",
     "library": "var_list.py",
     "varRefreshCmd": "print(var_dic_list())"
    },
    "r": {
     "delete_cmd_postfix": ") ",
     "delete_cmd_prefix": "rm(",
     "library": "var_list.r",
     "varRefreshCmd": "cat(var_dic_list()) "
    }
   },
   "types_to_exclude": [
    "module",
    "function",
    "builtin_function_or_method",
    "instance",
    "_Feature"
   ],
   "window_display": false
  }
 },
 "nbformat": 4,
 "nbformat_minor": 5
}
