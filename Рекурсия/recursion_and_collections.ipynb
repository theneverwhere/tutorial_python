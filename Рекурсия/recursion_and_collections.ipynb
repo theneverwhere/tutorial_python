{
 "cells": [
  {
   "cell_type": "markdown",
   "id": "77051c07",
   "metadata": {},
   "source": [
    "# Обход коллекций с помощью рекурсии"
   ]
  },
  {
   "cell_type": "code",
   "execution_count": 1,
   "id": "6cb9c363",
   "metadata": {},
   "outputs": [],
   "source": [
    "# пусть дан список с данными\n",
    "\n",
    "a = [1, 2, [3,4,5], [6,7], [8, 9, [10,11], [12,13], [[[14]]]], 15]"
   ]
  },
  {
   "cell_type": "code",
   "execution_count": 4,
   "id": "40a33823",
   "metadata": {},
   "outputs": [],
   "source": [
    "def get_all_num(data):\n",
    "    if type(data) == int:\n",
    "        print(data, end=' ')            # базовый случай\n",
    "    if type(data) == list:\n",
    "        for i in data:\n",
    "            get_all_str(i)              # рекурсивный случай"
   ]
  },
  {
   "cell_type": "code",
   "execution_count": 5,
   "id": "d2c9ccc7",
   "metadata": {},
   "outputs": [
    {
     "name": "stdout",
     "output_type": "stream",
     "text": [
      "1 2 3 4 5 6 7 8 9 10 11 12 13 14 15 "
     ]
    }
   ],
   "source": [
    "get_all_num(a)"
   ]
  },
  {
   "cell_type": "code",
   "execution_count": 6,
   "id": "244b507e",
   "metadata": {},
   "outputs": [],
   "source": [
    "# поиск по ключу во вложенном словаре\n",
    "\n",
    "def find_key(data, key):\n",
    "    if key in data:\n",
    "        return data[key]                # базовый случай\n",
    "    \n",
    "    for v in data.values():\n",
    "        if type(v) == dict:\n",
    "            value = find_key(v, key)    # рекурсивный случай\n",
    "            if value is not None:\n",
    "                return value "
   ]
  },
  {
   "cell_type": "markdown",
   "id": "235a9fa6",
   "metadata": {},
   "source": [
    "### Настройка глубины рекурсии в Python"
   ]
  },
  {
   "cell_type": "code",
   "execution_count": 17,
   "id": "f7f0cb8b",
   "metadata": {},
   "outputs": [],
   "source": [
    "from sys import getrecursionlimit"
   ]
  },
  {
   "cell_type": "code",
   "execution_count": 18,
   "id": "652cebc6",
   "metadata": {},
   "outputs": [
    {
     "name": "stdout",
     "output_type": "stream",
     "text": [
      "5000\n"
     ]
    }
   ],
   "source": [
    "limit = getrecursionlimit()\n",
    "\n",
    "print(limit)"
   ]
  },
  {
   "cell_type": "code",
   "execution_count": 19,
   "id": "1b7ba783",
   "metadata": {},
   "outputs": [
    {
     "name": "stdout",
     "output_type": "stream",
     "text": [
      "5000\n",
      "5000\n"
     ]
    }
   ],
   "source": [
    "import sys\n",
    "\n",
    "limit = sys.getrecursionlimit()\n",
    "print(limit)\n",
    "\n",
    "# изменение встроенной глубины рекурсии \n",
    "\n",
    "sys.setrecursionlimit(5000)\n",
    "new_limit = sys.getrecursionlimit()\n",
    "print(new_limit)"
   ]
  },
  {
   "cell_type": "markdown",
   "id": "d212ad43",
   "metadata": {},
   "source": [
    "### Задачи на обход коллекций"
   ]
  },
  {
   "cell_type": "code",
   "execution_count": 12,
   "id": "50d5a315",
   "metadata": {},
   "outputs": [],
   "source": [
    "# сумма чисел во вложенных списках\n",
    "\n",
    "def recursive_sum(a:list):\n",
    "    total = 0\n",
    "    if type(a) == int:\n",
    "        return a\n",
    "    if type(a) == list:\n",
    "        for i in a:\n",
    "            total+=recursive_sum(i)\n",
    "    return total"
   ]
  },
  {
   "cell_type": "code",
   "execution_count": 16,
   "id": "b64b0d96",
   "metadata": {},
   "outputs": [
    {
     "data": {
      "text/plain": [
       "6"
      ]
     },
     "execution_count": 16,
     "metadata": {},
     "output_type": "execute_result"
    }
   ],
   "source": [
    "recursive_sum([[1],2,3])"
   ]
  },
  {
   "cell_type": "code",
   "execution_count": 62,
   "id": "4ae4d7da",
   "metadata": {},
   "outputs": [],
   "source": [
    "# линерализация\n",
    "\n",
    "def linear(a):\n",
    "    total = []\n",
    "    if isinstance(a, int):\n",
    "        return [a]\n",
    "    if isinstance(a, list):\n",
    "        for i in a:\n",
    "            total.extend(linear(i))\n",
    "    return total\n"
   ]
  },
  {
   "cell_type": "code",
   "execution_count": 63,
   "id": "ec16df72",
   "metadata": {},
   "outputs": [
    {
     "name": "stdout",
     "output_type": "stream",
     "text": [
      "[1, 2, 3, 2, 3]\n"
     ]
    }
   ],
   "source": [
    "print(linear([[1,[2],3],[2],[3]]))"
   ]
  },
  {
   "cell_type": "code",
   "execution_count": 119,
   "id": "395308bb",
   "metadata": {},
   "outputs": [],
   "source": [
    "# множество всех значений с указанным ключом во вложенных словарях\n",
    "\n",
    "def get_all_values(data, key):\n",
    "    values = set()\n",
    "    if key in data:\n",
    "        values.add(data[key])\n",
    "    for item in data.values():\n",
    "        if isinstance(item, dict):\n",
    "            values |= get_all_values(item, key)\n",
    "    return values\n"
   ]
  },
  {
   "cell_type": "code",
   "execution_count": 150,
   "id": "3400deb0",
   "metadata": {},
   "outputs": [
    {
     "data": {
      "text/plain": [
       "{4, 5}"
      ]
     },
     "execution_count": 150,
     "metadata": {},
     "output_type": "execute_result"
    }
   ],
   "source": [
    "my_dict = {'users': {'Arthur': {'grades': [4, 4, 3], 'top_grade': 4}, 'Timur': {'grades': [5, 5, 5], 'top_grade': 5}}}\n",
    "get_all_values(my_dict, 'top_grade')"
   ]
  },
  {
   "cell_type": "code",
   "execution_count": null,
   "id": "4458c65d",
   "metadata": {},
   "outputs": [],
   "source": []
  }
 ],
 "metadata": {
  "kernelspec": {
   "display_name": "Python 3 (ipykernel)",
   "language": "python",
   "name": "python3"
  },
  "language_info": {
   "codemirror_mode": {
    "name": "ipython",
    "version": 3
   },
   "file_extension": ".py",
   "mimetype": "text/x-python",
   "name": "python",
   "nbconvert_exporter": "python",
   "pygments_lexer": "ipython3",
   "version": "3.9.18"
  }
 },
 "nbformat": 4,
 "nbformat_minor": 5
}
