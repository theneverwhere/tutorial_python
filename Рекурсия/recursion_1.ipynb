{
 "cells": [
  {
   "cell_type": "markdown",
   "id": "a2f0551b",
   "metadata": {},
   "source": [
    "# Рекурсия"
   ]
  },
  {
   "cell_type": "markdown",
   "id": "5d122552",
   "metadata": {},
   "source": [
    "Рекурсия в программировании, в том числе и в Python, - это концепция, при которой функция вызывает саму себя. Это может показаться странным или даже бесконечным процессом, но при правильном использовании рекурсия может быть мощным инструментом для решения задач."
   ]
  },
  {
   "cell_type": "code",
   "execution_count": 2,
   "id": "9253d6fd",
   "metadata": {},
   "outputs": [],
   "source": [
    "def rec(x):\n",
    "    if x > 0:     # условие выхода из рекурсии (иначе бесконечный вызов, приводящий к исключению)\n",
    "        print(x)\n",
    "        rec(x-1)"
   ]
  },
  {
   "cell_type": "code",
   "execution_count": 3,
   "id": "c430d3ca",
   "metadata": {},
   "outputs": [
    {
     "name": "stdout",
     "output_type": "stream",
     "text": [
      "5\n",
      "4\n",
      "3\n",
      "2\n",
      "1\n"
     ]
    }
   ],
   "source": [
    "rec(5)"
   ]
  },
  {
   "cell_type": "code",
   "execution_count": 4,
   "id": "f0838542",
   "metadata": {},
   "outputs": [],
   "source": [
    "# более осмысленная рекурсивная функция\n",
    "\n",
    "def factorial(n):\n",
    "    if n == 0:       # базовый случай\n",
    "        return 1\n",
    "    else:\n",
    "        return n * factorial(n - 1)  # рекурсивный случай\n"
   ]
  },
  {
   "cell_type": "code",
   "execution_count": 5,
   "id": "a60950f5",
   "metadata": {},
   "outputs": [
    {
     "data": {
      "text/plain": [
       "120"
      ]
     },
     "execution_count": 5,
     "metadata": {},
     "output_type": "execute_result"
    }
   ],
   "source": [
    "factorial(5)"
   ]
  },
  {
   "cell_type": "markdown",
   "id": "05c929b4",
   "metadata": {},
   "source": [
    "При написании кода с рекурсией следует:\n",
    "\n",
    "- Определить **базовый случай**, определяющий условие завершения.\n",
    "- Определить **рекурсивный случай**, описывающий вызов функции самой себя.\n",
    "\n",
    "*важно понимать, как работает стек вызовов*"
   ]
  },
  {
   "cell_type": "code",
   "execution_count": 6,
   "id": "ad6d20aa",
   "metadata": {},
   "outputs": [],
   "source": [
    "# функция без рекурсии\n",
    "# задание: переписать в виде рекурсии\n",
    "\n",
    "def traffic(n):\n",
    "    while n > 0:\n",
    "        print('Не парковаться')\n",
    "        n -= 1"
   ]
  },
  {
   "cell_type": "code",
   "execution_count": 7,
   "id": "bd837203",
   "metadata": {},
   "outputs": [
    {
     "name": "stdout",
     "output_type": "stream",
     "text": [
      "Не парковаться\n",
      "Не парковаться\n",
      "Не парковаться\n",
      "Не парковаться\n"
     ]
    }
   ],
   "source": [
    "traffic(4)"
   ]
  },
  {
   "cell_type": "code",
   "execution_count": 8,
   "id": "a2227d83",
   "metadata": {},
   "outputs": [],
   "source": [
    "def traffic_rec(n):\n",
    "    if n > 0:\n",
    "        print('Не парковаться')\n",
    "        traffic_rec(n-1)"
   ]
  },
  {
   "cell_type": "code",
   "execution_count": 9,
   "id": "99fb67df",
   "metadata": {},
   "outputs": [
    {
     "name": "stdout",
     "output_type": "stream",
     "text": [
      "Не парковаться\n",
      "Не парковаться\n",
      "Не парковаться\n",
      "Не парковаться\n"
     ]
    }
   ],
   "source": [
    "traffic_rec(4)"
   ]
  },
  {
   "cell_type": "code",
   "execution_count": 11,
   "id": "5db954b2",
   "metadata": {},
   "outputs": [],
   "source": [
    "# последовательность натуральных чисел от 1 до 100 \n",
    "\n",
    "def numbers_to_100():\n",
    "    def rec(num):       # вложенная функция\n",
    "        if num==100:\n",
    "            print(100)\n",
    "            return\n",
    "        print(num, end=' ')\n",
    "        rec(num+1)\n",
    "    rec(1)              # замыкание*"
   ]
  },
  {
   "cell_type": "code",
   "execution_count": 12,
   "id": "a88bf253",
   "metadata": {},
   "outputs": [
    {
     "name": "stdout",
     "output_type": "stream",
     "text": [
      "1 2 3 4 5 6 7 8 9 10 11 12 13 14 15 16 17 18 19 20 21 22 23 24 25 26 27 28 29 30 31 32 33 34 35 36 37 38 39 40 41 42 43 44 45 46 47 48 49 50 51 52 53 54 55 56 57 58 59 60 61 62 63 64 65 66 67 68 69 70 71 72 73 74 75 76 77 78 79 80 81 82 83 84 85 86 87 88 89 90 91 92 93 94 95 96 97 98 99 100\n"
     ]
    }
   ],
   "source": [
    "numbers_to_100()"
   ]
  },
  {
   "cell_type": "code",
   "execution_count": 14,
   "id": "5256b419",
   "metadata": {},
   "outputs": [],
   "source": [
    "# дан список, нужно пронумеровать и вывести его элементы\n",
    "numbers = [243, -279, 395, 130, 89, 269, 861, 669, 939, 367, -46, 710, 841, -280, -244, 274, -132, 273, 418, 432, -341, 437, 360, 960, 195, 792, 106, 461, -35, 980, -80, 540, -358, 69, -26, -416, 597, 96, 533, 232, 755, 894, 331, 323, -383, -386, 231, 436, 553, 967, 166, -151, 772, 434, 325, 301, 275, 431, 556, 728, 558, 702, 463, 127, 984, 212, 876, -287, -16, -177, 577, 604, 116, 500, 653, 669, 916, 802, 817, 762, -210, -353, 144, -351, 777, 805, 692, 22, -303, 249, 190, 411, 236, -274, 174, 380, 71, 124, -85, 430]"
   ]
  },
  {
   "cell_type": "code",
   "execution_count": 15,
   "id": "d8d4966d",
   "metadata": {},
   "outputs": [],
   "source": [
    "def print_format(i, el):\n",
    "    print(f'Элемент {i}: {el}')"
   ]
  },
  {
   "cell_type": "code",
   "execution_count": 26,
   "id": "2e5a7dac",
   "metadata": {},
   "outputs": [],
   "source": [
    "def elements(numbers,i=0):\n",
    "    if len(numbers)==1:\n",
    "        print_format(i,numbers[0])\n",
    "    else:\n",
    "        print_format(i,numbers[0])\n",
    "        elements(numbers[1:],i+1)"
   ]
  },
  {
   "cell_type": "code",
   "execution_count": 27,
   "id": "4074eeb4",
   "metadata": {},
   "outputs": [
    {
     "name": "stdout",
     "output_type": "stream",
     "text": [
      "Элемент 0: 243\n",
      "Элемент 1: -279\n",
      "Элемент 2: 395\n",
      "Элемент 3: 130\n",
      "Элемент 4: 89\n",
      "Элемент 5: 269\n",
      "Элемент 6: 861\n",
      "Элемент 7: 669\n",
      "Элемент 8: 939\n",
      "Элемент 9: 367\n",
      "Элемент 10: -46\n",
      "Элемент 11: 710\n",
      "Элемент 12: 841\n",
      "Элемент 13: -280\n",
      "Элемент 14: -244\n",
      "Элемент 15: 274\n",
      "Элемент 16: -132\n",
      "Элемент 17: 273\n",
      "Элемент 18: 418\n",
      "Элемент 19: 432\n",
      "Элемент 20: -341\n",
      "Элемент 21: 437\n",
      "Элемент 22: 360\n",
      "Элемент 23: 960\n",
      "Элемент 24: 195\n",
      "Элемент 25: 792\n",
      "Элемент 26: 106\n",
      "Элемент 27: 461\n",
      "Элемент 28: -35\n",
      "Элемент 29: 980\n",
      "Элемент 30: -80\n",
      "Элемент 31: 540\n",
      "Элемент 32: -358\n",
      "Элемент 33: 69\n",
      "Элемент 34: -26\n",
      "Элемент 35: -416\n",
      "Элемент 36: 597\n",
      "Элемент 37: 96\n",
      "Элемент 38: 533\n",
      "Элемент 39: 232\n",
      "Элемент 40: 755\n",
      "Элемент 41: 894\n",
      "Элемент 42: 331\n",
      "Элемент 43: 323\n",
      "Элемент 44: -383\n",
      "Элемент 45: -386\n",
      "Элемент 46: 231\n",
      "Элемент 47: 436\n",
      "Элемент 48: 553\n",
      "Элемент 49: 967\n",
      "Элемент 50: 166\n",
      "Элемент 51: -151\n",
      "Элемент 52: 772\n",
      "Элемент 53: 434\n",
      "Элемент 54: 325\n",
      "Элемент 55: 301\n",
      "Элемент 56: 275\n",
      "Элемент 57: 431\n",
      "Элемент 58: 556\n",
      "Элемент 59: 728\n",
      "Элемент 60: 558\n",
      "Элемент 61: 702\n",
      "Элемент 62: 463\n",
      "Элемент 63: 127\n",
      "Элемент 64: 984\n",
      "Элемент 65: 212\n",
      "Элемент 66: 876\n",
      "Элемент 67: -287\n",
      "Элемент 68: -16\n",
      "Элемент 69: -177\n",
      "Элемент 70: 577\n",
      "Элемент 71: 604\n",
      "Элемент 72: 116\n",
      "Элемент 73: 500\n",
      "Элемент 74: 653\n",
      "Элемент 75: 669\n",
      "Элемент 76: 916\n",
      "Элемент 77: 802\n",
      "Элемент 78: 817\n",
      "Элемент 79: 762\n",
      "Элемент 80: -210\n",
      "Элемент 81: -353\n",
      "Элемент 82: 144\n",
      "Элемент 83: -351\n",
      "Элемент 84: 777\n",
      "Элемент 85: 805\n",
      "Элемент 86: 692\n",
      "Элемент 87: 22\n",
      "Элемент 88: -303\n",
      "Элемент 89: 249\n",
      "Элемент 90: 190\n",
      "Элемент 91: 411\n",
      "Элемент 92: 236\n",
      "Элемент 93: -274\n",
      "Элемент 94: 174\n",
      "Элемент 95: 380\n",
      "Элемент 96: 71\n",
      "Элемент 97: 124\n",
      "Элемент 98: -85\n",
      "Элемент 99: 430\n"
     ]
    }
   ],
   "source": [
    "elements(numbers)"
   ]
  },
  {
   "cell_type": "code",
   "execution_count": 35,
   "id": "8f56c740",
   "metadata": {},
   "outputs": [],
   "source": [
    "# принимает числа, пока не буден введён 0\n",
    "# начиная с 0 вывести числа в обратном порядке\n",
    "\n",
    "def reverse_number():\n",
    "    num = input()\n",
    "    if num == '0':\n",
    "        print(0)\n",
    "        return\n",
    "    reverse_number()\n",
    "    print(num)"
   ]
  },
  {
   "cell_type": "code",
   "execution_count": 36,
   "id": "ca1ff7c9",
   "metadata": {},
   "outputs": [
    {
     "name": "stdout",
     "output_type": "stream",
     "text": [
      "1\n",
      "2\n",
      "3\n",
      "0\n",
      "0\n",
      "3\n",
      "2\n",
      "1\n"
     ]
    }
   ],
   "source": [
    "reverse_number()"
   ]
  },
  {
   "cell_type": "code",
   "execution_count": 56,
   "id": "4eeb13fb",
   "metadata": {},
   "outputs": [],
   "source": [
    "# функция, выводящая звездный треугольник\n",
    "\n",
    "def triangle1(h):\n",
    "    if h==1:\n",
    "        print('*')\n",
    "    else:\n",
    "        triangle1(h-1)\n",
    "        print('*'*h)\n",
    "        \n",
    "def triangle2(h):\n",
    "    if h==1:\n",
    "        print('*')\n",
    "    else:\n",
    "        print('*'*h)\n",
    "        triangle2(h-1)\n",
    "        \n",
    "def triangle3(h):\n",
    "    if h==1:\n",
    "        print('*')\n",
    "    else:\n",
    "        triangle3(h-1)\n",
    "        print('*'*h)\n",
    "        triangle3(h-1)"
   ]
  },
  {
   "cell_type": "code",
   "execution_count": 57,
   "id": "5264be1f",
   "metadata": {},
   "outputs": [
    {
     "name": "stdout",
     "output_type": "stream",
     "text": [
      "*\n",
      "**\n",
      "***\n",
      "****\n"
     ]
    }
   ],
   "source": [
    "triangle1(4)"
   ]
  },
  {
   "cell_type": "code",
   "execution_count": 58,
   "id": "5fdc7090",
   "metadata": {},
   "outputs": [
    {
     "name": "stdout",
     "output_type": "stream",
     "text": [
      "****\n",
      "***\n",
      "**\n",
      "*\n"
     ]
    }
   ],
   "source": [
    "triangle2(4)"
   ]
  },
  {
   "cell_type": "code",
   "execution_count": 59,
   "id": "859bfba4",
   "metadata": {},
   "outputs": [
    {
     "name": "stdout",
     "output_type": "stream",
     "text": [
      "*\n",
      "**\n",
      "*\n",
      "***\n",
      "*\n",
      "**\n",
      "*\n",
      "****\n",
      "*\n",
      "**\n",
      "*\n",
      "***\n",
      "*\n",
      "**\n",
      "*\n"
     ]
    }
   ],
   "source": [
    "triangle3(4)"
   ]
  },
  {
   "cell_type": "code",
   "execution_count": 50,
   "id": "73af1236",
   "metadata": {},
   "outputs": [],
   "source": [
    "# песочные часы\n",
    "\n",
    "def pesok():\n",
    "    def rec(size,h):\n",
    "        if h==4:\n",
    "            print((size*str(h)).center(16))\n",
    "        else:\n",
    "            print(str(size*str(h)).center(16))\n",
    "            rec(size-4,h+1)\n",
    "            print(str(size*str(h)).center(16))\n",
    "    \n",
    "    rec(16,1)"
   ]
  },
  {
   "cell_type": "code",
   "execution_count": 51,
   "id": "ba31eff3",
   "metadata": {},
   "outputs": [
    {
     "name": "stdout",
     "output_type": "stream",
     "text": [
      "1111111111111111\n",
      "  222222222222  \n",
      "    33333333    \n",
      "      4444      \n",
      "    33333333    \n",
      "  222222222222  \n",
      "1111111111111111\n"
     ]
    }
   ],
   "source": [
    "pesok()"
   ]
  },
  {
   "cell_type": "code",
   "execution_count": null,
   "id": "e6d2f839",
   "metadata": {},
   "outputs": [],
   "source": []
  }
 ],
 "metadata": {
  "kernelspec": {
   "display_name": "Python 3 (ipykernel)",
   "language": "python",
   "name": "python3"
  },
  "language_info": {
   "codemirror_mode": {
    "name": "ipython",
    "version": 3
   },
   "file_extension": ".py",
   "mimetype": "text/x-python",
   "name": "python",
   "nbconvert_exporter": "python",
   "pygments_lexer": "ipython3",
   "version": "3.9.18"
  }
 },
 "nbformat": 4,
 "nbformat_minor": 5
}
