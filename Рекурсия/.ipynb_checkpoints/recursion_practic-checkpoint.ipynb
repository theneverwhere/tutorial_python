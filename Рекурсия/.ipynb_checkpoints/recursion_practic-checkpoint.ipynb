{
 "cells": [
  {
   "cell_type": "markdown",
   "id": "57abfc83",
   "metadata": {},
   "source": [
    "# Практические применения рекурсии"
   ]
  },
  {
   "cell_type": "code",
   "execution_count": null,
   "id": "49d4732a",
   "metadata": {},
   "outputs": [],
   "source": [
    "def print_digits(x):\n",
    "    '''Вывод цифры числа, начиная с младшего разряда'''\n",
    "    if len(str(x))==1:\n",
    "        print(str(x)[-1])\n",
    "        return\n",
    "    print_digits(str(x)[1:])\n",
    "    print(str(x)[0])"
   ]
  },
  {
   "cell_type": "code",
   "execution_count": null,
   "id": "5c3f61fd",
   "metadata": {},
   "outputs": [],
   "source": [
    "def print_digits(x):\n",
    "    '''Вывод цифры числа, начиная со старшего разряда'''\n",
    "    if len(str(x))==1:\n",
    "        print(str(x)[-1])\n",
    "        return\n",
    "    print(str(x)[0])\n",
    "    print_digits(str(x)[1:])"
   ]
  },
  {
   "cell_type": "code",
   "execution_count": null,
   "id": "4ef92bf7",
   "metadata": {},
   "outputs": [],
   "source": [
    "print_digits(9876519)"
   ]
  },
  {
   "cell_type": "code",
   "execution_count": null,
   "id": "18a3007d",
   "metadata": {},
   "outputs": [],
   "source": []
  },
  {
   "cell_type": "code",
   "execution_count": null,
   "id": "0091abc8",
   "metadata": {},
   "outputs": [],
   "source": [
    "# сумма элементов списка\n",
    "\n",
    "def recursive_sum(nums):\n",
    "    if not nums:\n",
    "        return 0                                       # базовый случай\n",
    "    return nums[0] + recursive_sum(nums[1:])           # рекурсивный случай"
   ]
  },
  {
   "cell_type": "code",
   "execution_count": null,
   "id": "1ddb060a",
   "metadata": {},
   "outputs": [],
   "source": [
    "recursive_sum([10,20,30,40])"
   ]
  },
  {
   "cell_type": "code",
   "execution_count": null,
   "id": "79800e7c",
   "metadata": {},
   "outputs": [],
   "source": []
  },
  {
   "cell_type": "code",
   "execution_count": null,
   "id": "4ef8a17f",
   "metadata": {},
   "outputs": [],
   "source": [
    "# затратный поиск чисел Фибоначчи\n",
    "\n",
    "def fib(n):\n",
    "    if n <= 2:\n",
    "        return 1                             # базовый случай\n",
    "    else:\n",
    "        return fib(n - 1) + fib(n - 2)       # рекурсивный случай"
   ]
  },
  {
   "cell_type": "code",
   "execution_count": null,
   "id": "7122ff74",
   "metadata": {},
   "outputs": [],
   "source": [
    "fib(10)"
   ]
  },
  {
   "cell_type": "markdown",
   "id": "8d7b6bde",
   "metadata": {},
   "source": [
    "*Для решения проблемы повторного вычисления чисел Фибоначчи можно использовать механизм мемоизации*.\n",
    "\n",
    "**Мемоизация** – это способ оптимизации, при котором сохраняется результат выполнения функции, и этот результат используется при следующем вызове."
   ]
  },
  {
   "cell_type": "code",
   "execution_count": null,
   "id": "bd405086",
   "metadata": {},
   "outputs": [],
   "source": [
    "cache = {1: 1, 2: 1}                # ключ - номер числа, значение - число Фибоначчи \n",
    "\n",
    "def fib(n):\n",
    "    result = cache.get(n)\n",
    "    if result is None:\n",
    "        result = fib(n - 2) + fib(n - 1)\n",
    "        cache[n] = result\n",
    "    return result"
   ]
  },
  {
   "cell_type": "code",
   "execution_count": null,
   "id": "ca2802fa",
   "metadata": {},
   "outputs": [],
   "source": [
    "fib(50)"
   ]
  },
  {
   "cell_type": "markdown",
   "id": "b644e71b",
   "metadata": {},
   "source": [
    "*Приведенная выше реализация функции fib() хороша с точки зрения производительности, поскольку теперь мы не вычисляем много раз одно и то же число Фибоначчи. Но её недостатком является то, что она использует глобальную переменную cache.*"
   ]
  },
  {
   "cell_type": "code",
   "execution_count": null,
   "id": "c918e512",
   "metadata": {},
   "outputs": [],
   "source": [
    "def fib(n):\n",
    "    cache = {1: 1, 2: 1}\n",
    "    def fib_rec(n):\n",
    "        result = cache.get(n)\n",
    "        if result is None:\n",
    "            result = fib_rec(n - 2) + fib_rec(n - 1)\n",
    "            cache[n] = result\n",
    "        return result\n",
    "    return fib_rec(n)"
   ]
  },
  {
   "cell_type": "code",
   "execution_count": null,
   "id": "f0eb28ee",
   "metadata": {},
   "outputs": [],
   "source": []
  },
  {
   "cell_type": "code",
   "execution_count": null,
   "id": "3a0543ab",
   "metadata": {},
   "outputs": [],
   "source": [
    "# количество цифр в числе\n",
    "\n",
    "def count_digits(number):\n",
    "    if number < 10:\n",
    "        return 1\n",
    "    else:\n",
    "        return 1 + count_digits(number // 10)"
   ]
  },
  {
   "cell_type": "code",
   "execution_count": null,
   "id": "63f0118d",
   "metadata": {},
   "outputs": [],
   "source": [
    "count_digits(2002)"
   ]
  },
  {
   "cell_type": "code",
   "execution_count": null,
   "id": "314c5979",
   "metadata": {},
   "outputs": [],
   "source": []
  },
  {
   "cell_type": "code",
   "execution_count": null,
   "id": "1fcc28bb",
   "metadata": {},
   "outputs": [],
   "source": [
    "# сумма цифр числа\n",
    "\n",
    "def sum_digits(x):\n",
    "    if x//10 == 0:\n",
    "        return x%10\n",
    "    return sum_digits(x%10) + sum_digits(x//10)\n",
    "        "
   ]
  },
  {
   "cell_type": "code",
   "execution_count": null,
   "id": "a3f252b6",
   "metadata": {},
   "outputs": [],
   "source": [
    "sum_digits(2341)"
   ]
  },
  {
   "cell_type": "code",
   "execution_count": null,
   "id": "a4a24b41",
   "metadata": {},
   "outputs": [],
   "source": []
  },
  {
   "cell_type": "code",
   "execution_count": null,
   "id": "175173ce",
   "metadata": {},
   "outputs": [],
   "source": [
    "# количество лягушек в 1 году - 77\n",
    "# далее уплвыает каждый год 30 лягушек, а остальные размножаются в 3 раза\n",
    "\n",
    "def number_of_frogs(year):\n",
    "    if year == 1:\n",
    "        return 77\n",
    "    return (number_of_frogs(year-1)-30)*3"
   ]
  },
  {
   "cell_type": "code",
   "execution_count": null,
   "id": "86b2cf9c",
   "metadata": {},
   "outputs": [],
   "source": [
    "number_of_frogs(2)"
   ]
  },
  {
   "cell_type": "code",
   "execution_count": null,
   "id": "165395d0",
   "metadata": {},
   "outputs": [],
   "source": []
  },
  {
   "cell_type": "code",
   "execution_count": null,
   "id": "a589d722",
   "metadata": {},
   "outputs": [],
   "source": [
    "def range_sum(nums, start, end):\n",
    "    \n",
    "    '''Принимает список чисел, начальный и конечный индексы\n",
    "     выводит сумму чисел списка из этого диапазона'''\n",
    "    \n",
    "    if start==end:\n",
    "        return nums[start]\n",
    "    return nums[start] + range_sum(nums,start+1,end)"
   ]
  },
  {
   "cell_type": "code",
   "execution_count": null,
   "id": "e38a1f68",
   "metadata": {},
   "outputs": [],
   "source": [
    "range_sum([10,20,30],1,2)"
   ]
  },
  {
   "cell_type": "code",
   "execution_count": null,
   "id": "d8b71242",
   "metadata": {},
   "outputs": [],
   "source": []
  },
  {
   "cell_type": "code",
   "execution_count": null,
   "id": "96dbe126",
   "metadata": {},
   "outputs": [],
   "source": [
    "# возведение в степень\n",
    "\n",
    "def get_pow(a,n):\n",
    "    if n==1:\n",
    "        return a\n",
    "    if n==0:\n",
    "        return 1\n",
    "    return a*get_pow(a,n-1)"
   ]
  },
  {
   "cell_type": "code",
   "execution_count": null,
   "id": "a439909b",
   "metadata": {},
   "outputs": [],
   "source": [
    "get_pow(2,0)"
   ]
  },
  {
   "cell_type": "code",
   "execution_count": null,
   "id": "33d9252b",
   "metadata": {},
   "outputs": [],
   "source": []
  },
  {
   "cell_type": "code",
   "execution_count": null,
   "id": "5c4518d5",
   "metadata": {},
   "outputs": [],
   "source": [
    "# быстрое возведение в степень\n",
    "\n",
    "def get_fast_pow(a,n):\n",
    "    if n==0:\n",
    "        return 1\n",
    "    if n%2==0:\n",
    "        return get_fast_pow(a*a,n//2)\n",
    "    else:\n",
    "        return a*get_fast_pow(a,n-1)"
   ]
  },
  {
   "cell_type": "code",
   "execution_count": null,
   "id": "5d97957b",
   "metadata": {},
   "outputs": [],
   "source": [
    "get_fast_pow(2,7)"
   ]
  },
  {
   "cell_type": "code",
   "execution_count": null,
   "id": "3cc94ac6",
   "metadata": {},
   "outputs": [],
   "source": []
  },
  {
   "cell_type": "code",
   "execution_count": null,
   "id": "ecc4b57a",
   "metadata": {},
   "outputs": [],
   "source": [
    "# рекурсивная сумма двух чисел, используя только +1 и -1\n",
    "\n",
    "def recursive_sum(a, b):\n",
    "    if b == 0:\n",
    "        return a\n",
    "    return recursive_sum(a + 1, b - 1)"
   ]
  },
  {
   "cell_type": "code",
   "execution_count": null,
   "id": "3d66af02",
   "metadata": {},
   "outputs": [],
   "source": [
    "recursive_sum(100,20)"
   ]
  },
  {
   "cell_type": "code",
   "execution_count": null,
   "id": "9c6323ca",
   "metadata": {},
   "outputs": [],
   "source": []
  },
  {
   "cell_type": "code",
   "execution_count": 4,
   "id": "47b764e5",
   "metadata": {},
   "outputs": [],
   "source": [
    "# функция, проверяющая, является ли число степенью двойки\n",
    "\n",
    "def is_power(x):\n",
    "    if x==1:\n",
    "        return True\n",
    "    if x==2:\n",
    "        return True\n",
    "    if x<1:\n",
    "        return False\n",
    "    return is_power(x/2)"
   ]
  },
  {
   "cell_type": "code",
   "execution_count": 9,
   "id": "642c3804",
   "metadata": {},
   "outputs": [
    {
     "data": {
      "text/plain": [
       "False"
      ]
     },
     "execution_count": 9,
     "metadata": {},
     "output_type": "execute_result"
    }
   ],
   "source": [
    "is_power(33)"
   ]
  },
  {
   "cell_type": "code",
   "execution_count": null,
   "id": "77265c71",
   "metadata": {},
   "outputs": [],
   "source": []
  },
  {
   "cell_type": "code",
   "execution_count": 1,
   "id": "87d40409",
   "metadata": {},
   "outputs": [],
   "source": [
    "# последовательность натуральных чисел, где каждое последующее число является суммой трех предыдущих\n",
    "\n",
    "def tribonacci(n):\n",
    "    if n in (1,2,3):\n",
    "        return 1\n",
    "    return tribonacci(n-1)+tribonacci(n-2)+tribonacci(n-3)"
   ]
  },
  {
   "cell_type": "code",
   "execution_count": 5,
   "id": "09ede79f",
   "metadata": {},
   "outputs": [
    {
     "data": {
      "text/plain": [
       "46499"
      ]
     },
     "execution_count": 5,
     "metadata": {},
     "output_type": "execute_result"
    }
   ],
   "source": [
    "tribonacci(20)"
   ]
  },
  {
   "cell_type": "code",
   "execution_count": 7,
   "id": "fe5f3969",
   "metadata": {},
   "outputs": [],
   "source": [
    "# оптимизированный вариант трибоначчи\n",
    "\n",
    "def tribonacci_pro(n):\n",
    "    cache = {1:1, 2:1, 3:1}\n",
    "    def rec(n):\n",
    "        result = cache.get(n)\n",
    "        if result is None:\n",
    "            result = rec(n-1)+rec(n-2)+rec(n-3)\n",
    "            cache[n] = result\n",
    "        return result\n",
    "    return rec(n)"
   ]
  },
  {
   "cell_type": "code",
   "execution_count": 8,
   "id": "16a4c0cb",
   "metadata": {},
   "outputs": [
    {
     "data": {
      "text/plain": [
       "46499"
      ]
     },
     "execution_count": 8,
     "metadata": {},
     "output_type": "execute_result"
    }
   ],
   "source": [
    "tribonacci_pro(20)"
   ]
  },
  {
   "cell_type": "code",
   "execution_count": 6,
   "id": "a3608e22",
   "metadata": {},
   "outputs": [],
   "source": [
    "# является ли строка палиндромом\n",
    "\n",
    "def is_palindrome(string):\n",
    "    if len(string) <= 1:\n",
    "        return True\n",
    "    elif string[0] != string[-1]:\n",
    "        return False\n",
    "    return is_palindrome(string[1:-1])"
   ]
  },
  {
   "cell_type": "code",
   "execution_count": 7,
   "id": "c8621733",
   "metadata": {
    "scrolled": true
   },
   "outputs": [
    {
     "data": {
      "text/plain": [
       "True"
      ]
     },
     "execution_count": 7,
     "metadata": {},
     "output_type": "execute_result"
    }
   ],
   "source": [
    "is_palindrome('topot')"
   ]
  },
  {
   "cell_type": "code",
   "execution_count": null,
   "id": "50562b6f",
   "metadata": {},
   "outputs": [],
   "source": []
  },
  {
   "cell_type": "code",
   "execution_count": 22,
   "id": "6430d4ab",
   "metadata": {},
   "outputs": [],
   "source": [
    "# перевод числа в двоичную систему счисления\n",
    "\n",
    "def to_binary(x):\n",
    "    if x==0:\n",
    "        return x%2\n",
    "    return int(str(to_binary(x//2)) + str(x%2)) "
   ]
  },
  {
   "cell_type": "code",
   "execution_count": 23,
   "id": "05a12816",
   "metadata": {
    "scrolled": true
   },
   "outputs": [
    {
     "data": {
      "text/plain": [
       "100"
      ]
     },
     "execution_count": 23,
     "metadata": {},
     "output_type": "execute_result"
    }
   ],
   "source": [
    "to_binary(4)"
   ]
  },
  {
   "cell_type": "code",
   "execution_count": null,
   "id": "84e01ffd",
   "metadata": {},
   "outputs": [],
   "source": []
  },
  {
   "cell_type": "code",
   "execution_count": null,
   "id": "ca654d16",
   "metadata": {},
   "outputs": [],
   "source": [
    "# туда-сюда\n",
    "\n",
    "def rec(x):\n",
    "    if x>0:\n",
    "        print(x)\n",
    "        rec(x-5)\n",
    "    print(x)"
   ]
  },
  {
   "cell_type": "code",
   "execution_count": 5,
   "id": "0fdf3900",
   "metadata": {},
   "outputs": [
    {
     "name": "stdout",
     "output_type": "stream",
     "text": [
      "21\n",
      "16\n",
      "11\n",
      "6\n",
      "1\n",
      "-4\n",
      "1\n",
      "6\n",
      "11\n",
      "16\n",
      "21\n"
     ]
    }
   ],
   "source": [
    "rec(21)"
   ]
  },
  {
   "cell_type": "code",
   "execution_count": null,
   "id": "0ffb5b8f",
   "metadata": {},
   "outputs": [],
   "source": []
  },
  {
   "cell_type": "code",
   "execution_count": null,
   "id": "f3cd1f2a",
   "metadata": {},
   "outputs": [],
   "source": [
    "from math import pow as math_pow\n",
    "from operator import pow as operator_pow\n",
    "from time import perf_counter\n",
    "\n",
    "\n",
    "def time_convert(t):\n",
    "    '''Return time value with proper prefix'''\n",
    "    prefixes = {0: \"s\", 1: \"ms\", 2: \"μs\", 3: \"ns\", 4: \"ps\"}\n",
    "    counter = 0\n",
    "    while t < 1:\n",
    "        t *= 1000\n",
    "        counter += 1\n",
    "    return f\"{t:.5f} {prefixes[counter]}\"\n",
    "\n",
    "\n",
    "def perfomance_test(func, times=1000, *args):\n",
    "    '''Print results of the perfomance test'''\n",
    "    width = 40\n",
    "    print(f\"{f'Testing {func.__name__}...':^{width}}\")\n",
    "    total = 0.0\n",
    "    for _ in range(times):\n",
    "        start = perf_counter()\n",
    "        func(*args)\n",
    "        total += perf_counter() - start\n",
    "    average_time = total / times\n",
    "    print(f\"Executed {times} time(s) in {time_convert(total)}\")\n",
    "    # print(f\"Execution time: \")\n",
    "    print(f\"Average iteration time: {time_convert(average_time)}\")\n",
    "    print(\"-\" * width)\n",
    "\n",
    "\n",
    "def m_pow(a, n):\n",
    "    return math_pow(a, n)\n",
    "\n",
    "\n",
    "def op_pow(a, n):\n",
    "    return operator_pow(a, n)\n",
    "\n",
    "\n",
    "def get_fast_pow(a, n):\n",
    "    if n == 0:\n",
    "        return 1\n",
    "    return a * get_fast_pow(a, n - 1) if n % 2 else get_fast_pow(a * a, n // 2)\n",
    "\n",
    "\n",
    "def get_pow(a, n):\n",
    "    if n == 0:\n",
    "        return 1\n",
    "    return a * get_pow(a, n - 1)\n",
    "\n",
    "\n",
    "def just_pow(a, n):\n",
    "    return a**n\n",
    "\n",
    "\n",
    "a = 13\n",
    "n = 50\n",
    "times = 100_000\n",
    "for f in get_pow, get_fast_pow, just_pow, op_pow, m_pow:\n",
    "    perfomance_test(f, times, a, n)"
   ]
  },
  {
   "cell_type": "code",
   "execution_count": null,
   "id": "be22b986",
   "metadata": {},
   "outputs": [],
   "source": []
  },
  {
   "cell_type": "code",
   "execution_count": null,
   "id": "84987dd6",
   "metadata": {},
   "outputs": [],
   "source": []
  },
  {
   "cell_type": "code",
   "execution_count": null,
   "id": "0cb36e95",
   "metadata": {},
   "outputs": [],
   "source": []
  },
  {
   "cell_type": "code",
   "execution_count": null,
   "id": "47003b96",
   "metadata": {},
   "outputs": [],
   "source": []
  },
  {
   "cell_type": "code",
   "execution_count": null,
   "id": "99877c81",
   "metadata": {},
   "outputs": [],
   "source": []
  },
  {
   "cell_type": "code",
   "execution_count": 3,
   "id": "71ff791c",
   "metadata": {},
   "outputs": [],
   "source": []
  },
  {
   "cell_type": "code",
   "execution_count": null,
   "id": "4324cea1",
   "metadata": {},
   "outputs": [],
   "source": []
  }
 ],
 "metadata": {
  "kernelspec": {
   "display_name": "Python 3 (ipykernel)",
   "language": "python",
   "name": "python3"
  },
  "language_info": {
   "codemirror_mode": {
    "name": "ipython",
    "version": 3
   },
   "file_extension": ".py",
   "mimetype": "text/x-python",
   "name": "python",
   "nbconvert_exporter": "python",
   "pygments_lexer": "ipython3",
   "version": "3.9.18"
  }
 },
 "nbformat": 4,
 "nbformat_minor": 5
}
