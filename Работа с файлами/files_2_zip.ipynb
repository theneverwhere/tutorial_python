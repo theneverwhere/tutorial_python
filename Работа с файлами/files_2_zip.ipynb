{
 "cells": [
  {
   "cell_type": "markdown",
   "id": "634f79ca",
   "metadata": {},
   "source": [
    "# Архивирование данных и формат zip"
   ]
  },
  {
   "cell_type": "markdown",
   "id": "d9baf5df",
   "metadata": {},
   "source": [
    "*Сжатие информации* – это процесс преобразования информации, хранящейся в файле, при котором уменьшается избыточность в ее представлении и, соответственно, требуется меньший объем памяти для хранения."
   ]
  },
  {
   "cell_type": "markdown",
   "id": "3f3c8fdf",
   "metadata": {},
   "source": [
    "*Архивация файлов* — упаковка нескольких файлов в один файл или поток — архив. Не следует путать архивацию со сжатием, которое далеко не всегда применяется при создании архива."
   ]
  },
  {
   "cell_type": "markdown",
   "id": "565ffb79",
   "metadata": {},
   "source": [
    "## формат zip"
   ]
  },
  {
   "cell_type": "code",
   "execution_count": 1,
   "id": "262f1fce",
   "metadata": {},
   "outputs": [],
   "source": [
    "from zipfile import ZipFile"
   ]
  },
  {
   "cell_type": "markdown",
   "id": "25b666b7",
   "metadata": {},
   "source": [
    "zip — это формат сжатия без потерь: после распаковки данные будут такими же, как перед сжатием. Алгоритм ищет избыточности в исходных данных и эффективнее представляет информацию."
   ]
  },
  {
   "cell_type": "code",
   "execution_count": 2,
   "id": "d3e43c16",
   "metadata": {},
   "outputs": [
    {
     "name": "stdout",
     "output_type": "stream",
     "text": [
      "Работа с архивом началась\n",
      "...\n",
      "Работа с архивом закончилась\n"
     ]
    }
   ],
   "source": [
    "with ZipFile('test.zip') as zip_file: # объекты ZipFile похожи на файловые объекты, возвращаемые функцией open()\n",
    "    \n",
    "    print('Работа с архивом началась')\n",
    "    print('...')\n",
    "    \n",
    "print('Работа с архивом закончилась')"
   ]
  },
  {
   "cell_type": "markdown",
   "id": "774d00f6",
   "metadata": {},
   "source": [
    "Метод **printdir()** - выводит таблицу о содержимом архива"
   ]
  },
  {
   "cell_type": "code",
   "execution_count": 3,
   "id": "10f0da95",
   "metadata": {},
   "outputs": [
    {
     "name": "stdout",
     "output_type": "stream",
     "text": [
      "File Name                                             Modified             Size\n",
      "test/                                          2021-11-27 12:47:10            0\n",
      "test/Картинки/                                 2021-11-27 12:49:02            0\n",
      "test/Картинки/1.jpg                            2021-09-02 12:30:20        90156\n",
      "test/Картинки/avatar.png                       2021-08-20 09:38:44        19053\n",
      "test/Картинки/certificate.png                  2021-10-23 09:46:36        43699\n",
      "test/Картинки/py.png                           2021-07-28 17:55:56        33522\n",
      "test/Картинки/World_Time_Zones_Map.png         2021-11-08 07:30:06      2324421\n",
      "test/Картинки/Снимок экрана.png                2021-10-01 20:47:02        10878\n",
      "test/Неравенства.djvu                          2021-08-19 08:39:06      5283010\n",
      "test/Программы/                                2021-11-27 12:48:20            0\n",
      "test/Программы/image_util.py                   2021-11-18 12:42:22         4955\n",
      "test/Программы/sort.py                         2021-11-14 19:31:02           61\n",
      "test/Разные файлы/                             2021-11-27 12:48:10            0\n",
      "test/Разные файлы/astros.json                  2021-11-08 09:29:58          505\n",
      "football.json                                  2024-01-30 19:20:58          160\n",
      "football.json                                  2024-01-30 19:20:58          160\n",
      "football.json                                  2024-01-30 19:20:58          160\n",
      "football.json                                  2024-01-30 19:20:58          160\n"
     ]
    }
   ],
   "source": [
    "with ZipFile('test.zip') as zip_file:\n",
    "    zip_file.printdir()  # информация об архиве"
   ]
  },
  {
   "cell_type": "markdown",
   "id": "ec939459",
   "metadata": {},
   "source": [
    "Метод **infolist()** - список с информацией о каждом файле"
   ]
  },
  {
   "cell_type": "code",
   "execution_count": 4,
   "id": "19d752f4",
   "metadata": {
    "scrolled": true
   },
   "outputs": [
    {
     "name": "stdout",
     "output_type": "stream",
     "text": [
      "<ZipInfo filename='test/' external_attr=0x10>\n",
      "<ZipInfo filename='test/Картинки/' external_attr=0x10>\n",
      "<ZipInfo filename='test/Картинки/1.jpg' compress_type=deflate external_attr=0x20 file_size=90156 compress_size=84676>\n",
      "<ZipInfo filename='test/Картинки/avatar.png' external_attr=0x20 file_size=19053>\n",
      "<ZipInfo filename='test/Картинки/certificate.png' compress_type=deflate external_attr=0x20 file_size=43699 compress_size=43532>\n",
      "<ZipInfo filename='test/Картинки/py.png' compress_type=deflate external_attr=0x20 file_size=33522 compress_size=33443>\n",
      "<ZipInfo filename='test/Картинки/World_Time_Zones_Map.png' compress_type=deflate external_attr=0x20 file_size=2324421 compress_size=2322032>\n",
      "<ZipInfo filename='test/Картинки/Снимок экрана.png' compress_type=deflate external_attr=0x20 file_size=10878 compress_size=10614>\n",
      "<ZipInfo filename='test/Неравенства.djvu' external_attr=0x20 file_size=5283010>\n",
      "<ZipInfo filename='test/Программы/' external_attr=0x10>\n",
      "<ZipInfo filename='test/Программы/image_util.py' compress_type=deflate external_attr=0x20 file_size=4955 compress_size=1641>\n",
      "<ZipInfo filename='test/Программы/sort.py' compress_type=deflate external_attr=0x20 file_size=61 compress_size=58>\n",
      "<ZipInfo filename='test/Разные файлы/' external_attr=0x10>\n",
      "<ZipInfo filename='test/Разные файлы/astros.json' compress_type=deflate external_attr=0x20 file_size=505 compress_size=208>\n",
      "<ZipInfo filename='football.json' filemode='-rw-rw-rw-' file_size=160>\n",
      "<ZipInfo filename='football.json' filemode='-rw-rw-rw-' file_size=160>\n",
      "<ZipInfo filename='football.json' filemode='-rw-rw-rw-' file_size=160>\n",
      "<ZipInfo filename='football.json' filemode='-rw-rw-rw-' file_size=160>\n",
      "\n",
      "[<ZipInfo filename='test/' external_attr=0x10>, <ZipInfo filename='test/Картинки/' external_attr=0x10>, <ZipInfo filename='test/Картинки/1.jpg' compress_type=deflate external_attr=0x20 file_size=90156 compress_size=84676>, <ZipInfo filename='test/Картинки/avatar.png' external_attr=0x20 file_size=19053>, <ZipInfo filename='test/Картинки/certificate.png' compress_type=deflate external_attr=0x20 file_size=43699 compress_size=43532>, <ZipInfo filename='test/Картинки/py.png' compress_type=deflate external_attr=0x20 file_size=33522 compress_size=33443>, <ZipInfo filename='test/Картинки/World_Time_Zones_Map.png' compress_type=deflate external_attr=0x20 file_size=2324421 compress_size=2322032>, <ZipInfo filename='test/Картинки/Снимок экрана.png' compress_type=deflate external_attr=0x20 file_size=10878 compress_size=10614>, <ZipInfo filename='test/Неравенства.djvu' external_attr=0x20 file_size=5283010>, <ZipInfo filename='test/Программы/' external_attr=0x10>, <ZipInfo filename='test/Программы/image_util.py' compress_type=deflate external_attr=0x20 file_size=4955 compress_size=1641>, <ZipInfo filename='test/Программы/sort.py' compress_type=deflate external_attr=0x20 file_size=61 compress_size=58>, <ZipInfo filename='test/Разные файлы/' external_attr=0x10>, <ZipInfo filename='test/Разные файлы/astros.json' compress_type=deflate external_attr=0x20 file_size=505 compress_size=208>, <ZipInfo filename='football.json' filemode='-rw-rw-rw-' file_size=160>, <ZipInfo filename='football.json' filemode='-rw-rw-rw-' file_size=160>, <ZipInfo filename='football.json' filemode='-rw-rw-rw-' file_size=160>, <ZipInfo filename='football.json' filemode='-rw-rw-rw-' file_size=160>]\n"
     ]
    }
   ],
   "source": [
    "with ZipFile('test.zip') as zip_file:\n",
    "    \n",
    "    info_list = zip_file.infolist()\n",
    "    \n",
    "    for info in info_list:\n",
    "        print(info)\n",
    "    print()\n",
    "    print(info_list)"
   ]
  },
  {
   "cell_type": "code",
   "execution_count": 5,
   "id": "3805bed3",
   "metadata": {
    "scrolled": true
   },
   "outputs": [
    {
     "name": "stdout",
     "output_type": "stream",
     "text": [
      "90156\n",
      "84676\n",
      "test/Картинки/1.jpg\n",
      "(2021, 9, 2, 12, 30, 20)\n"
     ]
    }
   ],
   "source": [
    "# кроме того можно обращаться к атрибутам\n",
    " \n",
    "print(info_list[2].file_size)  # размер файла в байтах\n",
    "print(info_list[2].compress_size) # размер сжатого файла\n",
    "print(info_list[2].filename)  # имя файла\n",
    "print(info_list[2].date_time)  # кортеж, показывающий дату изменения файла"
   ]
  },
  {
   "cell_type": "code",
   "execution_count": 6,
   "id": "ed1b6edf",
   "metadata": {},
   "outputs": [
    {
     "data": {
      "text/plain": [
       "<ZipInfo filename='test/Картинки/1.jpg' compress_type=deflate external_attr=0x20 file_size=90156 compress_size=84676>"
      ]
     },
     "execution_count": 6,
     "metadata": {},
     "output_type": "execute_result"
    }
   ],
   "source": [
    "info_list[2]"
   ]
  },
  {
   "cell_type": "code",
   "execution_count": 7,
   "id": "e82e7753",
   "metadata": {},
   "outputs": [
    {
     "data": {
      "text/plain": [
       "False"
      ]
     },
     "execution_count": 7,
     "metadata": {},
     "output_type": "execute_result"
    }
   ],
   "source": [
    "info_list[2].is_dir()  # проверка, является ли объект папкой"
   ]
  },
  {
   "cell_type": "markdown",
   "id": "d5c0221a",
   "metadata": {},
   "source": [
    "Метод **namelist**() - список названий файлов и директорий"
   ]
  },
  {
   "cell_type": "code",
   "execution_count": 8,
   "id": "07160746",
   "metadata": {},
   "outputs": [
    {
     "name": "stdout",
     "output_type": "stream",
     "text": [
      "test/\n",
      "test/Картинки/\n",
      "test/Картинки/1.jpg\n",
      "test/Картинки/avatar.png\n",
      "test/Картинки/certificate.png\n",
      "test/Картинки/py.png\n",
      "test/Картинки/World_Time_Zones_Map.png\n",
      "test/Картинки/Снимок экрана.png\n",
      "test/Неравенства.djvu\n",
      "test/Программы/\n",
      "test/Программы/image_util.py\n",
      "test/Программы/sort.py\n",
      "test/Разные файлы/\n",
      "test/Разные файлы/astros.json\n",
      "football.json\n",
      "football.json\n",
      "football.json\n",
      "football.json\n"
     ]
    }
   ],
   "source": [
    "with ZipFile('test.zip') as zip_file:\n",
    "    \n",
    "    name_list = zip_file.namelist() # список\n",
    "    print(*name_list, sep='\\n')"
   ]
  },
  {
   "cell_type": "markdown",
   "id": "7398de69",
   "metadata": {},
   "source": [
    "Метод **getinfo()** - получить информацию о конкретном файле по его имени "
   ]
  },
  {
   "cell_type": "code",
   "execution_count": 9,
   "id": "8e0e6df4",
   "metadata": {},
   "outputs": [
    {
     "name": "stdout",
     "output_type": "stream",
     "text": [
      "<ZipInfo filename='test/' external_attr=0x10>\n",
      "<ZipInfo filename='test/Картинки/Снимок экрана.png' compress_type=deflate external_attr=0x20 file_size=10878 compress_size=10614>\n",
      "\n",
      "33522\n"
     ]
    }
   ],
   "source": [
    "with ZipFile('test.zip') as zip_file:\n",
    "    \n",
    "    print(zip_file.getinfo('test/')) \n",
    "    \n",
    "    print(zip_file.getinfo('test/Картинки/Снимок экрана.png'))\n",
    "    print()\n",
    "    \n",
    "    info_about_one_file = zip_file.getinfo('test/Картинки/py.png')  # получаем информацию об отдельном файле\n",
    "    print(info_about_one_file.file_size)"
   ]
  },
  {
   "cell_type": "markdown",
   "id": "8b14ff40",
   "metadata": {},
   "source": [
    "### Работа с конкретными файлами из архива"
   ]
  },
  {
   "cell_type": "code",
   "execution_count": 10,
   "id": "4916e58b",
   "metadata": {},
   "outputs": [
    {
     "name": "stdout",
     "output_type": "stream",
     "text": [
      "b'{\"number\": 10, \"people\": [{\"craft\": \"ISS\", \"name\": \"Mark Vande Hei\"}, {\"craft\": \"ISS\", \"name\": \"Pyotr Dubrov\"}, {\"craft\": \"ISS\", \"name\": \"Thomas Pesquet\"}, {\"craft\": \"ISS\", \"name\": \"Megan McArthur\"}, {\"craft\": \"ISS\", \"name\": \"Shane Kimbrough\"}, {\"craft\": \"ISS\", \"name\": \"Akihiko Hoshide\"}, {\"craft\": \"ISS\", \"name\": \"Anton Shkaplerov\"}, {\"craft\": \"Shenzhou 13\", \"name\": \"Zhai Zhigang\"}, {\"craft\": \"Shenzhou 13\", \"name\": \"Wang Yaping\"}, {\"craft\": \"Shenzhou 13\", \"name\": \"Ye Guangfu\"}], \"message\": \"success\"}'\n"
     ]
    }
   ],
   "source": [
    "from zipfile import ZipFile\n",
    "\n",
    "with ZipFile('test.zip') as zip_file:\n",
    "    with zip_file.open('test/Разные файлы/astros.json') as file:\n",
    "        print(file.read()) "
   ]
  },
  {
   "cell_type": "markdown",
   "id": "f9f0e459",
   "metadata": {},
   "source": [
    "Обратите внимание на символ b перед выводом. Это бинарная строка. Метод file.read() возвращает сырые байты (тип bytes). Для того чтобы преобразовать их в строку (тип str), нужно использовать метод decode(), указав нужную кодировку (файл astros.json имеет кодировку UTF-8)."
   ]
  },
  {
   "cell_type": "code",
   "execution_count": 11,
   "id": "5cb11d34",
   "metadata": {},
   "outputs": [
    {
     "name": "stdout",
     "output_type": "stream",
     "text": [
      "{\"number\": 10, \"people\": [{\"craft\": \"ISS\", \"name\": \"Mark Vande Hei\"}, {\"craft\": \"ISS\", \"name\": \"Pyotr Dubrov\"}, {\"craft\": \"ISS\", \"name\": \"Thomas Pesquet\"}, {\"craft\": \"ISS\", \"name\": \"Megan McArthur\"}, {\"craft\": \"ISS\", \"name\": \"Shane Kimbrough\"}, {\"craft\": \"ISS\", \"name\": \"Akihiko Hoshide\"}, {\"craft\": \"ISS\", \"name\": \"Anton Shkaplerov\"}, {\"craft\": \"Shenzhou 13\", \"name\": \"Zhai Zhigang\"}, {\"craft\": \"Shenzhou 13\", \"name\": \"Wang Yaping\"}, {\"craft\": \"Shenzhou 13\", \"name\": \"Ye Guangfu\"}], \"message\": \"success\"}\n"
     ]
    }
   ],
   "source": [
    "from zipfile import ZipFile\n",
    "\n",
    "with ZipFile('test.zip') as zip_file:\n",
    "    with zip_file.open('test/Разные файлы/astros.json') as file:\n",
    "        \n",
    "        s = file.read().decode('utf-8') # преобразование в строку\n",
    "        print(s) "
   ]
  },
  {
   "cell_type": "markdown",
   "id": "1613ae54",
   "metadata": {},
   "source": [
    "### Запись в zip архив"
   ]
  },
  {
   "cell_type": "markdown",
   "id": "7d1344ca",
   "metadata": {},
   "source": [
    "По аналогии с чтением файлов из архива их можно туда и записывать, для этого необходимо создать объект ZipFile в режимах mode='w' или mode='a'."
   ]
  },
  {
   "cell_type": "code",
   "execution_count": 12,
   "id": "7f25d98c",
   "metadata": {},
   "outputs": [
    {
     "name": "stdout",
     "output_type": "stream",
     "text": [
      "['new_name_football_csv', 'students.csv']\n"
     ]
    }
   ],
   "source": [
    "from zipfile import ZipFile\n",
    "\n",
    "with ZipFile('new_archive.zip', mode='w') as zip_file:\n",
    "    zip_file.write('football.csv','new_name_football_csv') # для записи нового имени в архив указываем вторым аргуентом новое имя\n",
    "    zip_file.write('students.csv')\n",
    "    print(zip_file.namelist())"
   ]
  },
  {
   "cell_type": "code",
   "execution_count": 13,
   "id": "54a8d619",
   "metadata": {},
   "outputs": [
    {
     "name": "stdout",
     "output_type": "stream",
     "text": [
      "test/\n",
      "test/Картинки/\n",
      "test/Картинки/1.jpg\n",
      "test/Картинки/avatar.png\n",
      "test/Картинки/certificate.png\n",
      "test/Картинки/py.png\n",
      "test/Картинки/World_Time_Zones_Map.png\n",
      "test/Картинки/Снимок экрана.png\n",
      "test/Неравенства.djvu\n",
      "test/Программы/\n",
      "test/Программы/image_util.py\n",
      "test/Программы/sort.py\n",
      "test/Разные файлы/\n",
      "test/Разные файлы/astros.json\n",
      "football.json\n",
      "football.json\n",
      "football.json\n",
      "football.json\n",
      "football.json\n"
     ]
    },
    {
     "name": "stderr",
     "output_type": "stream",
     "text": [
      "C:\\Users\\dermi\\anaconda3\\lib\\zipfile.py:1514: UserWarning: Duplicate name: 'football.json'\n",
      "  return self._open_to_write(zinfo, force_zip64=force_zip64)\n"
     ]
    }
   ],
   "source": [
    "from zipfile import ZipFile\n",
    "\n",
    "with ZipFile('test.zip', mode='a') as zip_file:\n",
    "    zip_file.write('football.json')\n",
    "    print(*zip_file.namelist(), sep='\\n')"
   ]
  },
  {
   "cell_type": "markdown",
   "id": "8bfdf43a",
   "metadata": {},
   "source": [
    "### Извлечение содержимого zip-файла в каталог"
   ]
  },
  {
   "cell_type": "markdown",
   "id": "54bfffe4",
   "metadata": {},
   "source": [
    "Для извлечения данных из архива в каталог используются методы extract() и extractall().\n",
    "Если требуется извлечь отдельные файлы, то используется метод extract(), он принимает два аргумента: название файла и путь, по которому требуется извлечь файл. Если путь не указывать, то файл будет извлечен в папку, где находится файл с программой."
   ]
  },
  {
   "cell_type": "code",
   "execution_count": 15,
   "id": "73674ac9",
   "metadata": {},
   "outputs": [],
   "source": [
    "with ZipFile('test.zip') as zip_file:\n",
    "    zip_file.extract('test/Картинки/avatar.png')\n",
    "    zip_file.extract('test/Программы/image_util.py','new_name')"
   ]
  },
  {
   "cell_type": "markdown",
   "id": "a5cc63ef",
   "metadata": {},
   "source": [
    "Если требуется извлечь все содержимое архива, то используется метод **extractall**(), он принимает в качестве аргумента путь, по которому требуется извлечь все файлы. Если путь не указывать, то файл будет извлечен в папку, где находится файл с программой."
   ]
  },
  {
   "cell_type": "code",
   "execution_count": null,
   "id": "855badae",
   "metadata": {},
   "outputs": [],
   "source": []
  }
 ],
 "metadata": {
  "kernelspec": {
   "display_name": "Python 3 (ipykernel)",
   "language": "python",
   "name": "python3"
  },
  "language_info": {
   "codemirror_mode": {
    "name": "ipython",
    "version": 3
   },
   "file_extension": ".py",
   "mimetype": "text/x-python",
   "name": "python",
   "nbconvert_exporter": "python",
   "pygments_lexer": "ipython3",
   "version": "3.9.18"
  },
  "nbTranslate": {
   "displayLangs": [
    "*"
   ],
   "hotkey": "alt-t",
   "langInMainMenu": true,
   "sourceLang": "en",
   "targetLang": "ru",
   "useGoogleTranslate": true
  },
  "toc": {
   "base_numbering": 1,
   "nav_menu": {},
   "number_sections": true,
   "sideBar": true,
   "skip_h1_title": false,
   "title_cell": "Table of Contents",
   "title_sidebar": "Contents",
   "toc_cell": false,
   "toc_position": {},
   "toc_section_display": true,
   "toc_window_display": false
  },
  "varInspector": {
   "cols": {
    "lenName": 16,
    "lenType": 16,
    "lenVar": 40
   },
   "kernels_config": {
    "python": {
     "delete_cmd_postfix": "",
     "delete_cmd_prefix": "del ",
     "library": "var_list.py",
     "varRefreshCmd": "print(var_dic_list())"
    },
    "r": {
     "delete_cmd_postfix": ") ",
     "delete_cmd_prefix": "rm(",
     "library": "var_list.r",
     "varRefreshCmd": "cat(var_dic_list()) "
    }
   },
   "types_to_exclude": [
    "module",
    "function",
    "builtin_function_or_method",
    "instance",
    "_Feature"
   ],
   "window_display": false
  }
 },
 "nbformat": 4,
 "nbformat_minor": 5
}
