{
 "cells": [
  {
   "cell_type": "markdown",
   "id": "634f79ca",
   "metadata": {},
   "source": [
    "# Архивирование данных и формат zip"
   ]
  },
  {
   "cell_type": "markdown",
   "id": "d9baf5df",
   "metadata": {},
   "source": [
    "*Сжатие информации* – это процесс преобразования информации, хранящейся в файле, при котором уменьшается избыточность в ее представлении и, соответственно, требуется меньший объем памяти для хранения."
   ]
  },
  {
   "cell_type": "markdown",
   "id": "3f3c8fdf",
   "metadata": {},
   "source": [
    "*Архивация файлов* — упаковка нескольких файлов в один файл или поток — архив. Не следует путать архивацию со сжатием, которое далеко не всегда применяется при создании архива."
   ]
  },
  {
   "cell_type": "markdown",
   "id": "565ffb79",
   "metadata": {},
   "source": [
    "## формат zip"
   ]
  },
  {
   "cell_type": "code",
   "execution_count": 1,
   "id": "262f1fce",
   "metadata": {},
   "outputs": [],
   "source": [
    "from zipfile import ZipFile"
   ]
  },
  {
   "cell_type": "markdown",
   "id": "25b666b7",
   "metadata": {},
   "source": [
    "zip — это формат сжатия без потерь: после распаковки данные будут такими же, как перед сжатием. Алгоритм ищет избыточности в исходных данных и эффективнее представляет информацию."
   ]
  },
  {
   "cell_type": "code",
   "execution_count": null,
   "id": "d3e43c16",
   "metadata": {},
   "outputs": [],
   "source": [
    "with ZipFile('test.zip') as zip_file: # объекты ZipFile похожи на файловые объекты, возвращаемые функцией open()\n",
    "    \n",
    "    print('Работа с архивом началась')\n",
    "    print('...')\n",
    "    \n",
    "print('Работа с архивом закончилась')"
   ]
  },
  {
   "cell_type": "markdown",
   "id": "774d00f6",
   "metadata": {},
   "source": [
    "Метод **printdir()** - выводит таблицу о содержимом архива"
   ]
  },
  {
   "cell_type": "code",
   "execution_count": null,
   "id": "10f0da95",
   "metadata": {},
   "outputs": [],
   "source": [
    "with ZipFile('test.zip') as zip_file:\n",
    "    zip_file.printdir()  # информация об архиве"
   ]
  },
  {
   "cell_type": "markdown",
   "id": "ec939459",
   "metadata": {},
   "source": [
    "Метод **infolist()** - список с информацией о каждом файле"
   ]
  },
  {
   "cell_type": "code",
   "execution_count": null,
   "id": "19d752f4",
   "metadata": {
    "scrolled": true
   },
   "outputs": [],
   "source": [
    "with ZipFile('test.zip') as zip_file:\n",
    "    info_list = zip_file.infolist()\n",
    "    for info in info_list:\n",
    "        print(info)\n",
    "    print()\n",
    "    print(info_list)"
   ]
  },
  {
   "cell_type": "code",
   "execution_count": null,
   "id": "3805bed3",
   "metadata": {
    "scrolled": true
   },
   "outputs": [],
   "source": [
    "# кроме того можно обращаться к атрибутам\n",
    " \n",
    "print(info_list[2].file_size)  # размер файла в байтах\n",
    "print(info_list[2].compress_size) # размер сжатого файла\n",
    "print(info_list[2].filename)  # имя файла\n",
    "print(info_list[2].date_time)  # кортеж, показывающий дату изменения файла"
   ]
  },
  {
   "cell_type": "code",
   "execution_count": null,
   "id": "ed1b6edf",
   "metadata": {},
   "outputs": [],
   "source": [
    "info_list[2]"
   ]
  },
  {
   "cell_type": "code",
   "execution_count": null,
   "id": "e82e7753",
   "metadata": {},
   "outputs": [],
   "source": [
    "info_list[2].is_dir()  # проверка, является ли объект папкой"
   ]
  },
  {
   "cell_type": "markdown",
   "id": "d5c0221a",
   "metadata": {},
   "source": [
    "Метод **namelist**() - список названий файлов и директорий"
   ]
  },
  {
   "cell_type": "code",
   "execution_count": null,
   "id": "07160746",
   "metadata": {},
   "outputs": [],
   "source": [
    "with ZipFile('test.zip') as zip_file:\n",
    "    name_list = zip_file.namelist() # список\n",
    "    print(*name_list, sep='\\n')"
   ]
  },
  {
   "cell_type": "markdown",
   "id": "7398de69",
   "metadata": {},
   "source": [
    "Метод **getinfo()** - получить информацию о конкретном файле по его имени "
   ]
  },
  {
   "cell_type": "code",
   "execution_count": null,
   "id": "8e0e6df4",
   "metadata": {},
   "outputs": [],
   "source": [
    "with ZipFile('test.zip') as zip_file:\n",
    "    print(zip_file.getinfo('test/')) \n",
    "    print(zip_file.getinfo('test/Картинки/Снимок экрана.png'))\n",
    "    print()\n",
    "    info_about_one_file = zip_file.getinfo('test/Картинки/py.png')  # получаем информацию об отдельном файле\n",
    "    print(info_about_one_file.file_size)"
   ]
  },
  {
   "cell_type": "markdown",
   "id": "8b14ff40",
   "metadata": {},
   "source": [
    "### Работа с конкретными файлами из архива"
   ]
  },
  {
   "cell_type": "code",
   "execution_count": null,
   "id": "4916e58b",
   "metadata": {},
   "outputs": [],
   "source": [
    "from zipfile import ZipFile\n",
    "\n",
    "with ZipFile('test.zip') as zip_file:\n",
    "    with zip_file.open('test/Разные файлы/astros.json') as file:\n",
    "        print(file.read())"
   ]
  },
  {
   "cell_type": "markdown",
   "id": "f9f0e459",
   "metadata": {},
   "source": [
    "Обратите внимание на символ b перед выводом. Это бинарная строка. Метод file.read() возвращает сырые байты (тип bytes). Для того чтобы преобразовать их в строку (тип str), нужно использовать метод decode(), указав нужную кодировку (файл astros.json имеет кодировку UTF-8)."
   ]
  },
  {
   "cell_type": "code",
   "execution_count": null,
   "id": "5cb11d34",
   "metadata": {},
   "outputs": [],
   "source": [
    "from zipfile import ZipFile\n",
    "\n",
    "with ZipFile('test.zip') as zip_file:\n",
    "    with zip_file.open('test/Разные файлы/astros.json') as file:\n",
    "        print(file.read().decode('utf-8'))"
   ]
  },
  {
   "cell_type": "markdown",
   "id": "1613ae54",
   "metadata": {},
   "source": [
    "### Запись в zip архив"
   ]
  },
  {
   "cell_type": "markdown",
   "id": "7d1344ca",
   "metadata": {},
   "source": [
    "По аналогии с чтением файлов из архива их можно туда и записывать, для этого необходимо создать объект ZipFile в режимах mode='w' или mode='a'."
   ]
  },
  {
   "cell_type": "code",
   "execution_count": null,
   "id": "7f25d98c",
   "metadata": {},
   "outputs": [],
   "source": [
    "from zipfile import ZipFile\n",
    "\n",
    "with ZipFile('new_archive.zip', mode='w') as zip_file:\n",
    "    zip_file.write('football.csv','new_name_football_csv') # для записи нового имени в архив\n",
    "    zip_file.write('students.csv')\n",
    "    print(zip_file.namelist())"
   ]
  },
  {
   "cell_type": "code",
   "execution_count": null,
   "id": "54a8d619",
   "metadata": {},
   "outputs": [],
   "source": [
    "from zipfile import ZipFile\n",
    "\n",
    "with ZipFile('test.zip', mode='a') as zip_file:\n",
    "    zip_file.write('football.json')\n",
    "    print(*zip_file.namelist(), sep='\\n')"
   ]
  },
  {
   "cell_type": "markdown",
   "id": "8bfdf43a",
   "metadata": {},
   "source": [
    "### Извлечение содержимого zip-файла в каталог"
   ]
  },
  {
   "cell_type": "markdown",
   "id": "54bfffe4",
   "metadata": {},
   "source": [
    "Для извлечения данных из архива в каталог используются методы extract() и extractall().\n",
    "Если требуется извлечь отдельные файлы, то используется метод extract(), он принимает два аргумента: название файла и путь, по которому требуется извлечь файл. Если путь не указывать, то файл будет извлечен в папку, где находится файл с программой."
   ]
  },
  {
   "cell_type": "code",
   "execution_count": null,
   "id": "73674ac9",
   "metadata": {},
   "outputs": [],
   "source": [
    "with ZipFile('test.zip') as zip_file:\n",
    "    zip_file.extract('test/Картинки/avatar.png')\n",
    "    zip_file.extract('test/Программы/image_util.py','new_name')"
   ]
  },
  {
   "cell_type": "markdown",
   "id": "a5cc63ef",
   "metadata": {},
   "source": [
    "Если требуется извлечь все содержимое архива, то используется метод **extractall**(), он принимает в качестве аргумента путь, по которому требуется извлечь все файлы. Если путь не указывать, то файл будет извлечен в папку, где находится файл с программой."
   ]
  },
  {
   "cell_type": "code",
   "execution_count": null,
   "id": "855badae",
   "metadata": {},
   "outputs": [],
   "source": []
  }
 ],
 "metadata": {
  "kernelspec": {
   "display_name": "Python 3 (ipykernel)",
   "language": "python",
   "name": "python3"
  },
  "language_info": {
   "codemirror_mode": {
    "name": "ipython",
    "version": 3
   },
   "file_extension": ".py",
   "mimetype": "text/x-python",
   "name": "python",
   "nbconvert_exporter": "python",
   "pygments_lexer": "ipython3",
   "version": "3.9.13"
  }
 },
 "nbformat": 4,
 "nbformat_minor": 5
}
