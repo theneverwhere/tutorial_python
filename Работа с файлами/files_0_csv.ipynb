{
 "cells": [
  {
   "cell_type": "markdown",
   "id": "068884ba",
   "metadata": {},
   "source": [
    "# Работа с csv файлами"
   ]
  },
  {
   "cell_type": "markdown",
   "id": "40f3b03e",
   "metadata": {},
   "source": [
    "CSV - формат текстовых данных для представления таблиц. Строка таблицы - это строка текста, разделенная запятой."
   ]
  },
  {
   "cell_type": "markdown",
   "id": "d3fd603b",
   "metadata": {},
   "source": [
    "### Ручная работа с файлами"
   ]
  },
  {
   "cell_type": "code",
   "execution_count": 12,
   "id": "5af46f6c",
   "metadata": {},
   "outputs": [
    {
     "name": "stdout",
     "output_type": "stream",
     "text": [
      "Number,Name,Club,Country\n",
      "\n",
      "False потому что еще идёт работа с файлом\n"
     ]
    },
    {
     "data": {
      "text/plain": [
       "True"
      ]
     },
     "execution_count": 12,
     "metadata": {},
     "output_type": "execute_result"
    }
   ],
   "source": [
    "file = open('football.csv')\n",
    "print(file.readline()) # что-то сделали с файлом\n",
    "print(file.closed, 'потому что еще идёт работа с файлом')\n",
    "file.close()\n",
    "file.closed"
   ]
  },
  {
   "cell_type": "code",
   "execution_count": 13,
   "id": "582aaf5d",
   "metadata": {},
   "outputs": [],
   "source": [
    "with open('football.csv') as file:\n",
    "    data = file.read() # считываем всё"
   ]
  },
  {
   "cell_type": "code",
   "execution_count": 14,
   "id": "b4344dfb",
   "metadata": {},
   "outputs": [
    {
     "name": "stdout",
     "output_type": "stream",
     "text": [
      "Number,Name,Club,Country\n",
      "10,Leo Messi,\"Barselona,PSG\",Argentina\n",
      "7,Cr Ronaldo,Real Madrid,Portugal\n",
      "1,Manuel Neuer,Bayern,Germany\n",
      "4,S Ramos,Real Mardid,Spain\n",
      "\n"
     ]
    }
   ],
   "source": [
    "print(data)# текстовые данные"
   ]
  },
  {
   "cell_type": "code",
   "execution_count": 17,
   "id": "31daee7a",
   "metadata": {},
   "outputs": [
    {
     "name": "stdout",
     "output_type": "stream",
     "text": [
      "['Number', 'Name', 'Club', 'Country']\n",
      "['10', 'Leo Messi', '\"Barselona', 'PSG\"', 'Argentina']\n",
      "['7', 'Cr Ronaldo', 'Real Madrid', 'Portugal']\n",
      "['1', 'Manuel Neuer', 'Bayern', 'Germany']\n",
      "['4', 'S Ramos', 'Real Mardid', 'Spain']\n"
     ]
    }
   ],
   "source": [
    "for line in data.splitlines():\n",
    "    print(line.split(','))  # в виде списка"
   ]
  },
  {
   "cell_type": "code",
   "execution_count": 18,
   "id": "14517f28",
   "metadata": {},
   "outputs": [],
   "source": [
    "# для более удобного доступа можно сделать список списков\n",
    "\n",
    "with open('football.csv') as file:\n",
    "    data = file.read()\n",
    "    table = [s.split(',') for s in data.splitlines()]"
   ]
  },
  {
   "cell_type": "code",
   "execution_count": 19,
   "id": "c16023c6",
   "metadata": {},
   "outputs": [
    {
     "data": {
      "text/plain": [
       "[['Number', 'Name', 'Club', 'Country'],\n",
       " ['10', 'Leo Messi', '\"Barselona', 'PSG\"', 'Argentina'],\n",
       " ['7', 'Cr Ronaldo', 'Real Madrid', 'Portugal'],\n",
       " ['1', 'Manuel Neuer', 'Bayern', 'Germany'],\n",
       " ['4', 'S Ramos', 'Real Mardid', 'Spain']]"
      ]
     },
     "execution_count": 19,
     "metadata": {},
     "output_type": "execute_result"
    }
   ],
   "source": [
    "table"
   ]
  },
  {
   "cell_type": "code",
   "execution_count": 23,
   "id": "a9fad191",
   "metadata": {
    "scrolled": true
   },
   "outputs": [
    {
     "data": {
      "text/plain": [
       "'S Ramos'"
      ]
     },
     "execution_count": 23,
     "metadata": {},
     "output_type": "execute_result"
    }
   ],
   "source": [
    "table[4][1]"
   ]
  },
  {
   "cell_type": "code",
   "execution_count": 24,
   "id": "80338633",
   "metadata": {},
   "outputs": [
    {
     "name": "stdout",
     "output_type": "stream",
     "text": [
      "['10', 'Leo Messi', '\"Barselona', 'PSG\"', 'Argentina']\n",
      "['7', 'Cr Ronaldo', 'Real Madrid', 'Portugal']\n",
      "['1', 'Manuel Neuer', 'Bayern', 'Germany']\n",
      "['4', 'S Ramos', 'Real Mardid', 'Spain']\n",
      "\n",
      "['1', 'Manuel Neuer', 'Bayern', 'Germany']\n",
      "['4', 'S Ramos', 'Real Mardid', 'Spain']\n",
      "['7', 'Cr Ronaldo', 'Real Madrid', 'Portugal']\n",
      "['10', 'Leo Messi', '\"Barselona', 'PSG\"', 'Argentina']\n"
     ]
    }
   ],
   "source": [
    "# сортировка по номеру\n",
    "\n",
    "with open('football.csv') as file:\n",
    "    data = file.read()\n",
    "    table = [s.split(',') for s in data.splitlines()]\n",
    "    del table[0] # удаление заголовка\n",
    "    print(*table, sep='\\n')\n",
    "    print()\n",
    "    table.sort(key=lambda x: int(x[0]))\n",
    "    print(*table, sep='\\n')"
   ]
  },
  {
   "cell_type": "markdown",
   "id": "e62c31c9",
   "metadata": {},
   "source": [
    "**Вручную лучше не обрабатывать, так как могут встретиться данные с ','**\n",
    "\n",
    "В этом случае если запись содержит запятые, то нужно заключить их в кавычки или вместо запятых для разделения использовать знаки табуляции (tsv)"
   ]
  },
  {
   "cell_type": "code",
   "execution_count": 25,
   "id": "5e5e0558",
   "metadata": {},
   "outputs": [],
   "source": [
    "import csv"
   ]
  },
  {
   "cell_type": "markdown",
   "id": "0f1c208f",
   "metadata": {},
   "source": [
    "В данном модуле используются два основых объекта **reader** и **writer** "
   ]
  },
  {
   "cell_type": "markdown",
   "id": "d48359af",
   "metadata": {},
   "source": [
    "## Чтение данных csv"
   ]
  },
  {
   "cell_type": "code",
   "execution_count": 26,
   "id": "e1a3ff90",
   "metadata": {
    "scrolled": true
   },
   "outputs": [
    {
     "name": "stdout",
     "output_type": "stream",
     "text": [
      "['Number', 'Name', 'Club', 'Country']\n",
      "['10', 'Leo Messi', 'Barselona,PSG', 'Argentina']\n",
      "['7', 'Cr Ronaldo', 'Real Madrid', 'Portugal']\n",
      "['1', 'Manuel Neuer', 'Bayern', 'Germany']\n",
      "['4', 'S Ramos', 'Real Mardid', 'Spain']\n"
     ]
    }
   ],
   "source": [
    "with open('football.csv') as file:\n",
    "    \n",
    "    rows = csv.reader(file, delimiter=',', quotechar='\"') # rows - это построчный итератор\n",
    "    # всё еще присутсвуют заголовки \n",
    "    \n",
    "    for row in rows:\n",
    "        print(row)  # списки "
   ]
  },
  {
   "cell_type": "code",
   "execution_count": 27,
   "id": "c757afe9",
   "metadata": {},
   "outputs": [
    {
     "data": {
      "text/plain": [
       "<_csv.reader at 0x1cedf80ce80>"
      ]
     },
     "execution_count": 27,
     "metadata": {},
     "output_type": "execute_result"
    }
   ],
   "source": [
    "rows"
   ]
  },
  {
   "cell_type": "markdown",
   "id": "9b7488fe",
   "metadata": {},
   "source": [
    "Параметры **delimiter**=',' и **quotechar**=' \" ' отвечают за символы для разделения и кавычек для специальных символах"
   ]
  },
  {
   "cell_type": "markdown",
   "id": "132e1465",
   "metadata": {},
   "source": [
    "### Чтение данных с помощью DictReader"
   ]
  },
  {
   "cell_type": "markdown",
   "id": "bd47d257",
   "metadata": {},
   "source": [
    "csv.reader() возвращает из файла списки, где первая строка - заголовок, который обычно удаляется. С помощью **DictReader** можно создать словарь на основе названий столбцов."
   ]
  },
  {
   "cell_type": "code",
   "execution_count": 28,
   "id": "74dc3768",
   "metadata": {},
   "outputs": [
    {
     "name": "stdout",
     "output_type": "stream",
     "text": [
      "{'Number': '10', 'Name': 'Leo Messi', 'Club': 'Barselona,PSG', 'Country': 'Argentina'}\n",
      "{'Number': '7', 'Name': 'Cr Ronaldo', 'Club': 'Real Madrid', 'Country': 'Portugal'}\n",
      "{'Number': '1', 'Name': 'Manuel Neuer', 'Club': 'Bayern', 'Country': 'Germany'}\n",
      "{'Number': '4', 'Name': 'S Ramos', 'Club': 'Real Mardid', 'Country': 'Spain'}\n"
     ]
    }
   ],
   "source": [
    "with open('football.csv') as file:\n",
    "    rows = csv.DictReader(file)\n",
    "    for row in rows:\n",
    "        print(row) # словари"
   ]
  },
  {
   "cell_type": "code",
   "execution_count": 29,
   "id": "c468612b",
   "metadata": {},
   "outputs": [
    {
     "data": {
      "text/plain": [
       "<csv.DictReader at 0x1cedf471820>"
      ]
     },
     "execution_count": 29,
     "metadata": {},
     "output_type": "execute_result"
    }
   ],
   "source": [
    "rows"
   ]
  },
  {
   "cell_type": "code",
   "execution_count": 30,
   "id": "67092a91",
   "metadata": {},
   "outputs": [
    {
     "data": {
      "text/plain": [
       "['Number', 'Name', 'Club', 'Country']"
      ]
     },
     "execution_count": 30,
     "metadata": {},
     "output_type": "execute_result"
    }
   ],
   "source": [
    "rows.fieldnames  # ключи словаря"
   ]
  },
  {
   "cell_type": "code",
   "execution_count": 31,
   "id": "a2d3abb0",
   "metadata": {},
   "outputs": [
    {
     "data": {
      "text/plain": [
       "[{'Number': '10',\n",
       "  'Name': 'Leo Messi',\n",
       "  'Club': 'Barselona,PSG',\n",
       "  'Country': 'Argentina'},\n",
       " {'Number': '7',\n",
       "  'Name': 'Cr Ronaldo',\n",
       "  'Club': 'Real Madrid',\n",
       "  'Country': 'Portugal'},\n",
       " {'Number': '1',\n",
       "  'Name': 'Manuel Neuer',\n",
       "  'Club': 'Bayern',\n",
       "  'Country': 'Germany'},\n",
       " {'Number': '4', 'Name': 'S Ramos', 'Club': 'Real Mardid', 'Country': 'Spain'}]"
      ]
     },
     "execution_count": 31,
     "metadata": {},
     "output_type": "execute_result"
    }
   ],
   "source": [
    "with open('football.csv') as file:\n",
    "    rows = csv.DictReader(file) # в любой reader помещаем файл, а не текст!\n",
    "    array = list(rows)\n",
    "array"
   ]
  },
  {
   "cell_type": "markdown",
   "id": "4af9c98c",
   "metadata": {},
   "source": [
    "## Запись данных "
   ]
  },
  {
   "cell_type": "markdown",
   "id": "e2de8a87",
   "metadata": {},
   "source": [
    "Для записи используем объект csv.writer"
   ]
  },
  {
   "cell_type": "code",
   "execution_count": 38,
   "id": "7fcf4e75",
   "metadata": {},
   "outputs": [],
   "source": [
    "colums = ['Name','Age','High']\n",
    "data = [('Vanya', 20, 183), ('Sasha',14,170), ('Slavik',19,182)]\n",
    "\n",
    "with open('new_file_friends.csv', mode='w', encoding='utf-8', newline='') as new_file:\n",
    "    \n",
    "    writer = csv.writer(new_file, delimiter=';',quoting=csv.QUOTE_NONNUMERIC)\n",
    "    \n",
    "    writer.writerow(colums) # запись заголовка\n",
    "    \n",
    "    for friend in data:\n",
    "        writer.writerow(friend)   # запись каждой строки"
   ]
  },
  {
   "cell_type": "code",
   "execution_count": 39,
   "id": "be21d47b",
   "metadata": {},
   "outputs": [
    {
     "name": "stdout",
     "output_type": "stream",
     "text": [
      "\"Name\";\"Age\";\"High\"\n",
      "\"Vanya\";20;183\n",
      "\"Sasha\";14;170\n",
      "\"Slavik\";19;182\n",
      "\n"
     ]
    }
   ],
   "source": [
    "with open('new_file_friends.csv') as file:\n",
    "    print(file.read())"
   ]
  },
  {
   "cell_type": "markdown",
   "id": "254ad1e2",
   "metadata": {},
   "source": [
    "Значение аргумента **quoting**=csv.QUOTE_NONNUMERIC означает, что в кавычки будут браться все нечисловые значения. По умолчанию символом кавычки является \", если нужно поменять символ, то используйте уже знакомый нам именованный аргумент quotechar."
   ]
  },
  {
   "cell_type": "markdown",
   "id": "8dbf6e9e",
   "metadata": {},
   "source": [
    "Помимо метода **writerow()** можно использовать и метод **writerows()**, чтобы записать сразу несколько строк. Единственным аргументом этого метода может быть коллекция коллекций. То есть, каждый элемент списка rows в нашем случае должен быть коллекцией."
   ]
  },
  {
   "cell_type": "code",
   "execution_count": 40,
   "id": "165e71c9",
   "metadata": {},
   "outputs": [],
   "source": [
    "with open('new_file_friends.csv','w') as new_file:\n",
    "    writer = csv.writer(new_file, delimiter=';')\n",
    "    writer.writerow(colums)\n",
    "    writer.writerows(data)"
   ]
  },
  {
   "cell_type": "markdown",
   "id": "a3b21dcb",
   "metadata": {},
   "source": [
    "### Запись данных с помощью DictWriter"
   ]
  },
  {
   "cell_type": "code",
   "execution_count": null,
   "id": "e424e27e",
   "metadata": {},
   "outputs": [],
   "source": [
    "# коллекция из словарей\n",
    "data = [{'first_name': 'Тимур', 'second_name': 'Гуев', 'class_number': 11, 'class_letter': 'А'},\n",
    "        {'first_name': 'Руслан', 'second_name': 'Чаниев', 'class_number': 9, 'class_letter': 'Б'},\n",
    "        {'first_name': 'Роман', 'second_name': 'Белых', 'class_number': 10, 'class_letter': 'В'}]\n",
    "\n",
    "columns = ['first_name', 'second_name', 'class_number', 'class_letter']"
   ]
  },
  {
   "cell_type": "code",
   "execution_count": null,
   "id": "da236b4e",
   "metadata": {},
   "outputs": [],
   "source": [
    "with open('students.csv', 'w', encoding='utf-8', newline='') as file:\n",
    "    writer = csv.DictWriter(file, fieldnames=columns, delimiter=';', quoting=csv.QUOTE_NONNUMERIC)\n",
    "    writer.writeheader()                 # запись заголовков\n",
    "    for row in data:                     # запись строк\n",
    "        writer.writerow(row)"
   ]
  },
  {
   "cell_type": "code",
   "execution_count": null,
   "id": "0998713b",
   "metadata": {},
   "outputs": [],
   "source": []
  }
 ],
 "metadata": {
  "kernelspec": {
   "display_name": "Python 3 (ipykernel)",
   "language": "python",
   "name": "python3"
  },
  "language_info": {
   "codemirror_mode": {
    "name": "ipython",
    "version": 3
   },
   "file_extension": ".py",
   "mimetype": "text/x-python",
   "name": "python",
   "nbconvert_exporter": "python",
   "pygments_lexer": "ipython3",
   "version": "3.9.18"
  },
  "nbTranslate": {
   "displayLangs": [
    "*"
   ],
   "hotkey": "alt-t",
   "langInMainMenu": true,
   "sourceLang": "en",
   "targetLang": "ru",
   "useGoogleTranslate": true
  },
  "toc": {
   "base_numbering": 1,
   "nav_menu": {},
   "number_sections": true,
   "sideBar": true,
   "skip_h1_title": false,
   "title_cell": "Table of Contents",
   "title_sidebar": "Contents",
   "toc_cell": false,
   "toc_position": {},
   "toc_section_display": true,
   "toc_window_display": false
  },
  "varInspector": {
   "cols": {
    "lenName": 16,
    "lenType": 16,
    "lenVar": 40
   },
   "kernels_config": {
    "python": {
     "delete_cmd_postfix": "",
     "delete_cmd_prefix": "del ",
     "library": "var_list.py",
     "varRefreshCmd": "print(var_dic_list())"
    },
    "r": {
     "delete_cmd_postfix": ") ",
     "delete_cmd_prefix": "rm(",
     "library": "var_list.r",
     "varRefreshCmd": "cat(var_dic_list()) "
    }
   },
   "types_to_exclude": [
    "module",
    "function",
    "builtin_function_or_method",
    "instance",
    "_Feature"
   ],
   "window_display": false
  }
 },
 "nbformat": 4,
 "nbformat_minor": 5
}
