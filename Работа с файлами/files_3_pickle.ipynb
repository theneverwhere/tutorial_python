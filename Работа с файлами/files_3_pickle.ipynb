{
 "cells": [
  {
   "cell_type": "markdown",
   "id": "5bed43dc",
   "metadata": {},
   "source": [
    "# работа с модулем pickle"
   ]
  },
  {
   "cell_type": "code",
   "execution_count": 1,
   "id": "55dd7b96",
   "metadata": {},
   "outputs": [],
   "source": [
    "import pickle"
   ]
  },
  {
   "cell_type": "markdown",
   "id": "b42db563",
   "metadata": {},
   "source": [
    "Преобразование переменных программы (Python-объектов) в формат для хранения называется **«сериализацией»**, а обратное преобразование — **«десериализацией»**.\n",
    "\n",
    "Сериализация объектов часто используется для:\n",
    "- сохранения состояния программы (то есть некоторых её объектов) между запусками\n",
    "- передачи данных между различными программами (например, по сети)\n",
    "\n",
    "*Главная идея состоит в том, что сериализованный формат — набор байт или строка, которую можно легко сохранить на диск или передать другой программе, в отличие от самого объекта.*"
   ]
  },
  {
   "cell_type": "markdown",
   "id": "f0a5cc38",
   "metadata": {},
   "source": [
    "### Сериализация в формат pickle"
   ]
  },
  {
   "cell_type": "code",
   "execution_count": 2,
   "id": "5249a83c",
   "metadata": {},
   "outputs": [],
   "source": [
    "my_data = {'Alex':15,'Ivan':21,'Slavik':19}"
   ]
  },
  {
   "cell_type": "code",
   "execution_count": 3,
   "id": "d327045a",
   "metadata": {},
   "outputs": [],
   "source": [
    "with open('new_file.pkl', 'wb') as new_file:  # wb - для записи бинарного файла\n",
    "    pickle.dump(my_data, new_file)"
   ]
  },
  {
   "cell_type": "code",
   "execution_count": 4,
   "id": "88cf5164",
   "metadata": {},
   "outputs": [
    {
     "name": "stdout",
     "output_type": "stream",
     "text": [
      "b'\\x80\\x04\\x95\"\\x00\\x00\\x00\\x00\\x00\\x00\\x00}\\x94(\\x8c\\x04Alex\\x94K\\x0f\\x8c\\x04Ivan\\x94K\\x15\\x8c\\x06Slavik\\x94K\\x13u.'\n",
      "<class 'bytes'>\n"
     ]
    }
   ],
   "source": [
    "# или в бинарную последовательность\n",
    "binary_data = pickle.dumps(my_data)\n",
    "print(binary_data)\n",
    "print(type(binary_data))"
   ]
  },
  {
   "cell_type": "markdown",
   "id": "793469b6",
   "metadata": {},
   "source": [
    "Модуль **pickle** может сериализовывать:\n",
    "- все встроенные типы данных (bool, int, float, complex, str, None)\n",
    "- cписки, кортежи, словари и множества, содержащие любую комбинацию встроенных типов данных\n",
    "- cписки, кортежи, словари и множества, содержащие любую комбинацию списков, кортежей, словарей и множеств\n",
    "- функции, классы и экземпляры классов"
   ]
  },
  {
   "cell_type": "markdown",
   "id": "c0fbfed6",
   "metadata": {},
   "source": [
    "### Десериализация из формата pickle в Python"
   ]
  },
  {
   "cell_type": "code",
   "execution_count": null,
   "id": "3838273f",
   "metadata": {},
   "outputs": [],
   "source": [
    "with open('new_file.pkl', 'rb') as file:\n",
    "    data = pickle.load(file)\n",
    "    print(data)  # полученный из файла объект"
   ]
  },
  {
   "cell_type": "code",
   "execution_count": null,
   "id": "b9426ca0",
   "metadata": {},
   "outputs": [],
   "source": [
    "# или десериализация из объекта типа bytes\n",
    "data = pickle.loads(binary_data)\n",
    "print(data)"
   ]
  },
  {
   "cell_type": "markdown",
   "id": "f54ef1aa",
   "metadata": {},
   "source": [
    "# Вместо вывода"
   ]
  },
  {
   "cell_type": "markdown",
   "id": "2b1278fb",
   "metadata": {},
   "source": [
    "Протокол pickle – это бинарный формат данных. Убедитесь, что открываете файлы pickle в бинарном режиме, иначе данные при записи будут повреждены. Формат данных JSON – текстовый, а не двоичный.\n",
    "\n",
    "-----\n",
    "Модули pickle и json делают практически одно и то же, по сути это одна и та же технология, только по-разному реализованная.\n",
    "\n",
    "Протокол pickle зависит от Python и не совместим с другими языками программирования. Если необходима совместимость с другими языками программирования, то следует использовать JSON сериализацию.\n",
    "\n",
    "--------\n",
    "Модуль pickle сериализует и десериализует данные быстрее чем модуль json"
   ]
  },
  {
   "cell_type": "code",
   "execution_count": null,
   "id": "430dde38",
   "metadata": {},
   "outputs": [],
   "source": []
  }
 ],
 "metadata": {
  "kernelspec": {
   "display_name": "Python 3 (ipykernel)",
   "language": "python",
   "name": "python3"
  },
  "language_info": {
   "codemirror_mode": {
    "name": "ipython",
    "version": 3
   },
   "file_extension": ".py",
   "mimetype": "text/x-python",
   "name": "python",
   "nbconvert_exporter": "python",
   "pygments_lexer": "ipython3",
   "version": "3.9.18"
  },
  "nbTranslate": {
   "displayLangs": [
    "*"
   ],
   "hotkey": "alt-t",
   "langInMainMenu": true,
   "sourceLang": "en",
   "targetLang": "ru",
   "useGoogleTranslate": true
  },
  "toc": {
   "base_numbering": 1,
   "nav_menu": {},
   "number_sections": true,
   "sideBar": true,
   "skip_h1_title": false,
   "title_cell": "Table of Contents",
   "title_sidebar": "Contents",
   "toc_cell": false,
   "toc_position": {},
   "toc_section_display": true,
   "toc_window_display": false
  },
  "varInspector": {
   "cols": {
    "lenName": 16,
    "lenType": 16,
    "lenVar": 40
   },
   "kernels_config": {
    "python": {
     "delete_cmd_postfix": "",
     "delete_cmd_prefix": "del ",
     "library": "var_list.py",
     "varRefreshCmd": "print(var_dic_list())"
    },
    "r": {
     "delete_cmd_postfix": ") ",
     "delete_cmd_prefix": "rm(",
     "library": "var_list.r",
     "varRefreshCmd": "cat(var_dic_list()) "
    }
   },
   "types_to_exclude": [
    "module",
    "function",
    "builtin_function_or_method",
    "instance",
    "_Feature"
   ],
   "window_display": false
  }
 },
 "nbformat": 4,
 "nbformat_minor": 5
}
