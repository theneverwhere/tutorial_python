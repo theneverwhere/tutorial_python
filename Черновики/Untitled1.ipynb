{
 "cells": [
  {
   "cell_type": "code",
   "execution_count": 1,
   "id": "ba9ff9d5",
   "metadata": {},
   "outputs": [],
   "source": [
    "from itertools import cycle"
   ]
  },
  {
   "cell_type": "code",
   "execution_count": 165,
   "id": "dae285f6",
   "metadata": {},
   "outputs": [],
   "source": [
    "def roundrobin(*args):  # [1,2,3] ['+'] ['a','b']   --- > 1 + a 2 b 3\n",
    "    all_data = []\n",
    "\n",
    "    for data in args:\n",
    "        all_data.append(iter(data))\n",
    "\n",
    "    stop = 0\n",
    "    for i in cycle(range(len(all_data))):\n",
    "\n",
    "        try:\n",
    "            yield next(all_data[i])\n",
    "            stop = 0\n",
    "        except:\n",
    "            stop +=1\n",
    "            if stop >= len(all_data):\n",
    "                break\n",
    "            else:\n",
    "                continue\n",
    "        \n",
    "\n",
    "        "
   ]
  },
  {
   "cell_type": "code",
   "execution_count": 160,
   "id": "99d4653b",
   "metadata": {},
   "outputs": [],
   "source": [
    "cycle_numbers = cycle([1,2,3])"
   ]
  },
  {
   "cell_type": "code",
   "execution_count": 161,
   "id": "d51f1400",
   "metadata": {},
   "outputs": [
    {
     "data": {
      "text/plain": [
       "1"
      ]
     },
     "execution_count": 161,
     "metadata": {},
     "output_type": "execute_result"
    }
   ],
   "source": [
    "cycle_numbers.__next__() #  next(cycle_numbers)"
   ]
  },
  {
   "cell_type": "code",
   "execution_count": 162,
   "id": "277ab2b9",
   "metadata": {},
   "outputs": [
    {
     "name": "stdout",
     "output_type": "stream",
     "text": [
      "(1, '+', 'a')\n"
     ]
    }
   ],
   "source": [
    "print(*zip([1,2,3],['+'],['a','b']))"
   ]
  },
  {
   "cell_type": "code",
   "execution_count": 166,
   "id": "018d9fcc",
   "metadata": {},
   "outputs": [],
   "source": [
    "a = roundrobin([1,2,3],['+'],['a','b'])"
   ]
  },
  {
   "cell_type": "code",
   "execution_count": 167,
   "id": "309db1b6",
   "metadata": {},
   "outputs": [
    {
     "name": "stdout",
     "output_type": "stream",
     "text": [
      "1 + a 2 b 3\n"
     ]
    }
   ],
   "source": [
    "print(*a)"
   ]
  },
  {
   "cell_type": "code",
   "execution_count": null,
   "id": "faf0d8fd",
   "metadata": {},
   "outputs": [],
   "source": []
  }
 ],
 "metadata": {
  "kernelspec": {
   "display_name": "Python 3 (ipykernel)",
   "language": "python",
   "name": "python3"
  },
  "language_info": {
   "codemirror_mode": {
    "name": "ipython",
    "version": 3
   },
   "file_extension": ".py",
   "mimetype": "text/x-python",
   "name": "python",
   "nbconvert_exporter": "python",
   "pygments_lexer": "ipython3",
   "version": "3.9.18"
  }
 },
 "nbformat": 4,
 "nbformat_minor": 5
}
