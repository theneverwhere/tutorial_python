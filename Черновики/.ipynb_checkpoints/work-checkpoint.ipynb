{
 "cells": [
  {
   "cell_type": "code",
   "execution_count": 54,
   "id": "21ef73a4",
   "metadata": {},
   "outputs": [],
   "source": [
    "import re"
   ]
  },
  {
   "cell_type": "code",
   "execution_count": 55,
   "id": "2759db93",
   "metadata": {},
   "outputs": [],
   "source": [
    "text = ''' \n",
    " Привет со дна, ты где-то там, где свет и электрофанк,\n",
    " Смех, левый электорат, обед во фраках, светский раут,\n",
    " Там нет меня, здесь приём стеклотары, пакет отрав,\n",
    " Едких, как винегрет с утра, нет контакта и недотрах.\n",
    " Сто лет назад летом нам так хотелось весь свет дотла\n",
    " Нахуй сжечь всю планету, став прахом, пеплом и ветром,\n",
    " Как мне к тебе взять билет обратно без предоплат?\n",
    " Стеклопакет не греет, отъехал трап и поблек экран,\n",
    " Детектор прав - я себе нередко врал, я, наверное, вертопрах,\n",
    " В деле потерпят крах те, кто без цели и вектора стелят куплеты поверх октав,\n",
    " Наверняка рады те, кто нам это предрекал,\n",
    " Но я непререкаемо верил, что нет преград и в их реплики не вникал.\n",
    " Теперь плутать неприкаянно в дебрях материка\n",
    " Выпал жребий нам, где петляет во тьме река.\n",
    " Рэп - это кал, всюду гипербола да синекдоха,\n",
    " Ежели без них, что тебя не хватает - конкретный факт..\n",
    " Мне зеркало говорит:\n",
    " \"Пей до дна, пей до дна,\n",
    " Твоя жизнь ещё дней полна, кругом летний гам, а не Герника,\n",
    " Тебе с ней никак, скорей технократом стал ретроград,\n",
    " Чем ты таким, как ей надо, детский сад и взрослеть пора.\n",
    " Грех пытаться тень догнать, бред, как буклеты Гербалайф,\n",
    " Нет на свете примерных пар, время делать карьерный план..\"\n",
    " А я в ответ киваю: Респект за совет, братан,\n",
    " Если так, убей меня, как Дерек негра поребриком...'\n",
    " ''' \n"
   ]
  },
  {
   "cell_type": "code",
   "execution_count": 127,
   "id": "baf8eaf2",
   "metadata": {},
   "outputs": [
    {
     "data": {
      "text/plain": [
       "' \\n Привет со дна, ты где-то там, где свет и электрофанк,\\n Смех, левый электорат, обед во фраках, светский раут,\\n Там нет меня, здесь приём стеклотары, пакет отрав,\\n Едких, как винегрет с утра, нет контакта и недотрах.\\n Сто лет назад летом нам так хотелось весь свет дотла\\n Нахуй сжечь всю планету, став прахом, пеплом и ветром,\\n Как мне к тебе взять билет обратно без предоплат?\\n Стеклопакет не греет, отъехал трап и поблек экран,\\n Детектор прав - я себе нередко врал, я, наверное, вертопрах,\\n В деле потерпят крах те, кто без цели и вектора стелят куплеты поверх октав,\\n Наверняка рады те, кто нам это предрекал,\\n Но я непререкаемо верил, что нет преград и в их реплики не вникал.\\n Теперь плутать неприкаянно в дебрях материка\\n Выпал жребий нам, где петляет во тьме река.\\n Рэп - это кал, всюду гипербола да синекдоха,\\n Ежели без них, что тебя не хватает - конкретный факт..\\n Мне зеркало говорит:\\n \"Пей до дна, пей до дна,\\n Твоя жизнь ещё дней полна, кругом летний гам, а не Герника,\\n Тебе с ней никак, скорей технократом стал ретроград,\\n Чем ты таким, как ей надо, детский сад и взрослеть пора.\\n Грех пытаться тень догнать, бред, как буклеты Гербалайф,\\n Нет на свете примерных пар, время делать карьерный план..\"\\n А я в ответ киваю: Респект за совет, братан,\\n Если так, убей меня, как Дерек негра поребриком...\\'\\n '"
      ]
     },
     "execution_count": 127,
     "metadata": {},
     "output_type": "execute_result"
    }
   ],
   "source": [
    "text"
   ]
  },
  {
   "cell_type": "code",
   "execution_count": 132,
   "id": "378c6da6",
   "metadata": {},
   "outputs": [],
   "source": [
    "pattern = r'гербалайф'"
   ]
  },
  {
   "cell_type": "code",
   "execution_count": 137,
   "id": "da0323bb",
   "metadata": {},
   "outputs": [
    {
     "data": {
      "text/plain": [
       "<re.Match object; span=(1143, 1152), match='Гербалайф'>"
      ]
     },
     "execution_count": 137,
     "metadata": {},
     "output_type": "execute_result"
    }
   ],
   "source": [
    "re.search(pattern,text,flags=re.IGNORECASE)"
   ]
  },
  {
   "cell_type": "code",
   "execution_count": null,
   "id": "acec6404",
   "metadata": {},
   "outputs": [],
   "source": []
  }
 ],
 "metadata": {
  "kernelspec": {
   "display_name": "Python 3 (ipykernel)",
   "language": "python",
   "name": "python3"
  },
  "language_info": {
   "codemirror_mode": {
    "name": "ipython",
    "version": 3
   },
   "file_extension": ".py",
   "mimetype": "text/x-python",
   "name": "python",
   "nbconvert_exporter": "python",
   "pygments_lexer": "ipython3",
   "version": "3.9.18"
  },
  "nbTranslate": {
   "displayLangs": [
    "*"
   ],
   "hotkey": "alt-t",
   "langInMainMenu": true,
   "sourceLang": "en",
   "targetLang": "ru",
   "useGoogleTranslate": true
  },
  "toc": {
   "base_numbering": 1,
   "nav_menu": {},
   "number_sections": true,
   "sideBar": true,
   "skip_h1_title": false,
   "title_cell": "Table of Contents",
   "title_sidebar": "Contents",
   "toc_cell": false,
   "toc_position": {},
   "toc_section_display": true,
   "toc_window_display": false
  },
  "varInspector": {
   "cols": {
    "lenName": 16,
    "lenType": 16,
    "lenVar": 40
   },
   "kernels_config": {
    "python": {
     "delete_cmd_postfix": "",
     "delete_cmd_prefix": "del ",
     "library": "var_list.py",
     "varRefreshCmd": "print(var_dic_list())"
    },
    "r": {
     "delete_cmd_postfix": ") ",
     "delete_cmd_prefix": "rm(",
     "library": "var_list.r",
     "varRefreshCmd": "cat(var_dic_list()) "
    }
   },
   "types_to_exclude": [
    "module",
    "function",
    "builtin_function_or_method",
    "instance",
    "_Feature"
   ],
   "window_display": false
  }
 },
 "nbformat": 4,
 "nbformat_minor": 5
}
