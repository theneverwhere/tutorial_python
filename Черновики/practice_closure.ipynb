{
 "cells": [
  {
   "cell_type": "code",
   "execution_count": 1,
   "id": "7184c60c",
   "metadata": {},
   "outputs": [],
   "source": [
    "# тема: замыкания и вложенные функции"
   ]
  },
  {
   "cell_type": "code",
   "execution_count": 3,
   "id": "fa78b6a7",
   "metadata": {},
   "outputs": [],
   "source": [
    "# задача 1 \n",
    "# степень числа"
   ]
  },
  {
   "cell_type": "code",
   "execution_count": 7,
   "id": "75727c0c",
   "metadata": {},
   "outputs": [],
   "source": [
    "def power(degree):\n",
    "    \n",
    "    def func_power(num):\n",
    "        return num**degree\n",
    "    \n",
    "    return func_power"
   ]
  },
  {
   "cell_type": "code",
   "execution_count": 12,
   "id": "6e07d1f6",
   "metadata": {},
   "outputs": [
    {
     "data": {
      "text/plain": [
       "125"
      ]
     },
     "execution_count": 12,
     "metadata": {},
     "output_type": "execute_result"
    }
   ],
   "source": [
    "degree3 = power(3)\n",
    "degree3(5)"
   ]
  },
  {
   "cell_type": "code",
   "execution_count": 8,
   "id": "dbe93d29",
   "metadata": {},
   "outputs": [],
   "source": [
    "# задача 2 \n",
    "# квадратный трёхчлен"
   ]
  },
  {
   "cell_type": "code",
   "execution_count": 9,
   "id": "608c0117",
   "metadata": {},
   "outputs": [],
   "source": [
    "def generator_square_polynom(a,b,c):\n",
    "    \n",
    "    def result(x):\n",
    "        return a*x**2 + b*x + c\n",
    "    \n",
    "    return result   # возвращаем \"пользовательскую функцию\""
   ]
  },
  {
   "cell_type": "code",
   "execution_count": 13,
   "id": "04af7238",
   "metadata": {},
   "outputs": [
    {
     "data": {
      "text/plain": [
       "35"
      ]
     },
     "execution_count": 13,
     "metadata": {},
     "output_type": "execute_result"
    }
   ],
   "source": [
    "poly = generator_square_polynom(1,1,5)  # x**2 + x + 5\n",
    "poly(5)"
   ]
  },
  {
   "cell_type": "code",
   "execution_count": 14,
   "id": "afc5007f",
   "metadata": {},
   "outputs": [],
   "source": [
    "# задача 3\n",
    "# URL адрес "
   ]
  },
  {
   "cell_type": "code",
   "execution_count": 36,
   "id": "c47820a0",
   "metadata": {},
   "outputs": [],
   "source": [
    "def  sourcetemplate(url):\n",
    "    \n",
    "    def url_address(**kwargs):\n",
    "        if not kwargs:\n",
    "            return url\n",
    "        url_result = url+'?'\n",
    "        keys = sorted(kwargs)\n",
    "        for i in range(len(keys)):\n",
    "            keys[i] = (f'{keys[i]}={kwargs[keys[i]]}')\n",
    "        url_result+= ('&'.join(keys))\n",
    "        return url_result\n",
    "    \n",
    "    return url_address"
   ]
  },
  {
   "cell_type": "code",
   "execution_count": 38,
   "id": "7b73e325",
   "metadata": {},
   "outputs": [
    {
     "data": {
      "text/plain": [
       "'https://mai.ru?city=moscow&group=23&name=institute&profile=informatics'"
      ]
     },
     "execution_count": 38,
     "metadata": {},
     "output_type": "execute_result"
    }
   ],
   "source": [
    "url = 'https://mai.ru'\n",
    "load = sourcetemplate(url)\n",
    "load(name='institute',city='moscow',profile='informatics',group='23')"
   ]
  },
  {
   "cell_type": "code",
   "execution_count": 39,
   "id": "8258f503",
   "metadata": {},
   "outputs": [],
   "source": [
    "# задача 4\n",
    "# форматы дат"
   ]
  },
  {
   "cell_type": "code",
   "execution_count": 59,
   "id": "fc67cb7f",
   "metadata": {},
   "outputs": [],
   "source": [
    "from datetime import datetime, date\n",
    "\n",
    "def date_formatter(country_code):\n",
    "    \n",
    "    formates = {'ru': '%d.%m.%Y','us': '%m-%d-%Y','ca': '%Y-%m-%d','br': '%d/%m/%Y','fr': '%d.%m.%Y','pt': '%d-%m-%Y'}\n",
    "    \n",
    "    def data_format(my_date:date):\n",
    "        result_data = datetime.strftime(my_date,formates[country_code])\n",
    "        return result_data\n",
    "    \n",
    "    return data_format"
   ]
  },
  {
   "cell_type": "code",
   "execution_count": 60,
   "id": "e00c4a18",
   "metadata": {},
   "outputs": [
    {
     "name": "stdout",
     "output_type": "stream",
     "text": [
      "25.01.2022\n"
     ]
    }
   ],
   "source": [
    "date_ru = date_formatter('ru')\n",
    "today = date(2022, 1, 25)\n",
    "print(date_ru(today))"
   ]
  },
  {
   "cell_type": "code",
   "execution_count": 81,
   "id": "de60dd49",
   "metadata": {},
   "outputs": [],
   "source": [
    "# задача 5\n",
    "# сортировка с приоритетом \n",
    "\n",
    "def sort_priority(values, group):\n",
    "    sorted_priority = []\n",
    "    non_priority = []\n",
    "    for value in values:\n",
    "        if value not in group:\n",
    "            non_priority.append(value)\n",
    "        else:\n",
    "            sorted_priority.append(value)\n",
    "    sorted_priority = sorted(sorted_priority)\n",
    "    values[:] = sorted_priority + sorted(non_priority)"
   ]
  },
  {
   "cell_type": "code",
   "execution_count": 83,
   "id": "a5454388",
   "metadata": {},
   "outputs": [],
   "source": [
    "def sort_priority(values, group):\n",
    "    def comparator(num):\n",
    "        if num in group:\n",
    "            return 0, num\n",
    "        else:\n",
    "            return 1, num\n",
    "    return values.sort(key=comparator)"
   ]
  },
  {
   "cell_type": "code",
   "execution_count": 84,
   "id": "97f1ad9b",
   "metadata": {},
   "outputs": [
    {
     "name": "stdout",
     "output_type": "stream",
     "text": [
      "[2, 3, 5, 7, 1, 4, 6, 8]\n"
     ]
    }
   ],
   "source": [
    "numbers = [8, 3, 1, 2, 5, 4, 7, 6]\n",
    "group = {5, 7, 2, 3}\n",
    "sort_priority(numbers, group)\n",
    "\n",
    "print(numbers)"
   ]
  },
  {
   "cell_type": "code",
   "execution_count": null,
   "id": "4955f72c",
   "metadata": {},
   "outputs": [],
   "source": []
  }
 ],
 "metadata": {
  "kernelspec": {
   "display_name": "Python 3 (ipykernel)",
   "language": "python",
   "name": "python3"
  },
  "language_info": {
   "codemirror_mode": {
    "name": "ipython",
    "version": 3
   },
   "file_extension": ".py",
   "mimetype": "text/x-python",
   "name": "python",
   "nbconvert_exporter": "python",
   "pygments_lexer": "ipython3",
   "version": "3.9.18"
  }
 },
 "nbformat": 4,
 "nbformat_minor": 5
}
