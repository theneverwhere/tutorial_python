{
 "cells": [
  {
   "cell_type": "markdown",
   "id": "304a2ca1",
   "metadata": {},
   "source": [
    "## Практика на тему \"итераторы\""
   ]
  },
  {
   "cell_type": "code",
   "execution_count": 1,
   "id": "aa99ec50",
   "metadata": {},
   "outputs": [],
   "source": [
    "# итераротор, генерирующий входное значение бесконечно раз"
   ]
  },
  {
   "cell_type": "code",
   "execution_count": 2,
   "id": "bbbc9487",
   "metadata": {},
   "outputs": [],
   "source": [
    "class Repeater:\n",
    "    \n",
    "    def __init__(self, obj):\n",
    "        self.value = obj\n",
    "    \n",
    "    def __iter__(self):\n",
    "        return self\n",
    "    \n",
    "    def __next__(self):\n",
    "        return self.value"
   ]
  },
  {
   "cell_type": "code",
   "execution_count": 6,
   "id": "5d7146a1",
   "metadata": {},
   "outputs": [
    {
     "name": "stdout",
     "output_type": "stream",
     "text": [
      "hello world!\n",
      "hello world!\n",
      "hello world!\n"
     ]
    }
   ],
   "source": [
    "hello = Repeater('hello world!')\n",
    "\n",
    "print(next(hello))\n",
    "print(next(hello))\n",
    "print(next(hello))"
   ]
  },
  {
   "cell_type": "code",
   "execution_count": 10,
   "id": "b9afba27",
   "metadata": {},
   "outputs": [],
   "source": [
    "# итератор, генерирующмй значение указанное количество раз"
   ]
  },
  {
   "cell_type": "code",
   "execution_count": 7,
   "id": "c852d548",
   "metadata": {},
   "outputs": [],
   "source": [
    "class BoundedRepeater:\n",
    "    \n",
    "    def __init__(self, obj, time):\n",
    "        self.obj = obj\n",
    "        self.time = time\n",
    "        self.index = 0\n",
    "        \n",
    "    def __iter__(self):\n",
    "        return self\n",
    "    \n",
    "    def __next__(self):\n",
    "        if self.index >= self.time:\n",
    "            raise StopIteration\n",
    "        else:\n",
    "            self.index += 1\n",
    "            return self.obj"
   ]
  },
  {
   "cell_type": "code",
   "execution_count": 8,
   "id": "99ea17c5",
   "metadata": {},
   "outputs": [],
   "source": [
    "my_iterator = BoundedRepeater('hi!',2)"
   ]
  },
  {
   "cell_type": "code",
   "execution_count": 9,
   "id": "44e4b64a",
   "metadata": {},
   "outputs": [
    {
     "data": {
      "text/plain": [
       "'hi!'"
      ]
     },
     "execution_count": 9,
     "metadata": {},
     "output_type": "execute_result"
    }
   ],
   "source": [
    "next(my_iterator)"
   ]
  },
  {
   "cell_type": "code",
   "execution_count": 32,
   "id": "af96487c",
   "metadata": {},
   "outputs": [],
   "source": [
    "# итератор, возводящий в квадрат числа от 1 до n "
   ]
  },
  {
   "cell_type": "code",
   "execution_count": 10,
   "id": "9707d7a4",
   "metadata": {},
   "outputs": [],
   "source": [
    "class Square:\n",
    "    def __init__(self,n):\n",
    "        self.n = n\n",
    "        self.index = 0\n",
    "    def __iter__(self):\n",
    "        return self\n",
    "    def __next__(self):\n",
    "        if self.index >= self.n:\n",
    "            raise StopIteration\n",
    "        else:\n",
    "            self.index += 1\n",
    "            return self.index**2"
   ]
  },
  {
   "cell_type": "code",
   "execution_count": 12,
   "id": "1fdaef1d",
   "metadata": {},
   "outputs": [],
   "source": [
    "my_iterator = Square(20)"
   ]
  },
  {
   "cell_type": "code",
   "execution_count": 13,
   "id": "60bbbe03",
   "metadata": {},
   "outputs": [
    {
     "name": "stdout",
     "output_type": "stream",
     "text": [
      "1\n",
      "4\n",
      "9\n",
      "16\n",
      "25\n",
      "36\n",
      "49\n",
      "64\n",
      "81\n",
      "100\n",
      "121\n",
      "144\n",
      "169\n",
      "196\n",
      "225\n",
      "256\n",
      "289\n",
      "324\n",
      "361\n",
      "400\n"
     ]
    }
   ],
   "source": [
    "for i in my_iterator:\n",
    "    print(i)"
   ]
  },
  {
   "cell_type": "code",
   "execution_count": 14,
   "id": "3700d54a",
   "metadata": {},
   "outputs": [],
   "source": [
    "# итератор, генерирующий бесконечную последовательность чисел Фибоначчи "
   ]
  },
  {
   "cell_type": "code",
   "execution_count": 15,
   "id": "30f441db",
   "metadata": {},
   "outputs": [],
   "source": [
    "class Fibonacci:    \n",
    "    def __init__(self):\n",
    "        self.fib1 = 1\n",
    "        self.fib2 = 1\n",
    "        self.first = True\n",
    "        self.second = True\n",
    "    def __iter__(self):\n",
    "        return self\n",
    "    def __next__(self):\n",
    "        if self.first:\n",
    "            self.first = False\n",
    "            return 1\n",
    "        if self.second:\n",
    "            self.second = False\n",
    "            return 1\n",
    "        total = self.fib1 + self.fib2\n",
    "        self.fib1 = self.fib2\n",
    "        self.fib2 = total\n",
    "        return total"
   ]
  },
  {
   "cell_type": "code",
   "execution_count": 16,
   "id": "72a7ca11",
   "metadata": {},
   "outputs": [],
   "source": [
    "fib = Fibonacci()"
   ]
  },
  {
   "cell_type": "code",
   "execution_count": 30,
   "id": "95fa5406",
   "metadata": {},
   "outputs": [
    {
     "data": {
      "text/plain": [
       "377"
      ]
     },
     "execution_count": 30,
     "metadata": {},
     "output_type": "execute_result"
    }
   ],
   "source": [
    "next(fib)"
   ]
  },
  {
   "cell_type": "code",
   "execution_count": 158,
   "id": "9d3f5b8d",
   "metadata": {},
   "outputs": [],
   "source": [
    "# итератор, генерирующий степени указанного числа начиная с 0 степени"
   ]
  },
  {
   "cell_type": "code",
   "execution_count": 31,
   "id": "23a096e3",
   "metadata": {},
   "outputs": [],
   "source": [
    "class PowerOf:\n",
    "    def __init__(self, n):\n",
    "        self.n = n\n",
    "        self.k = 0\n",
    "    def __iter__(self):\n",
    "        return self\n",
    "    def __next__(self):\n",
    "        self.k += 1\n",
    "        return self.n**(self.k-1)"
   ]
  },
  {
   "cell_type": "code",
   "execution_count": 32,
   "id": "4ab0c197",
   "metadata": {},
   "outputs": [],
   "source": [
    "power_of_two = PowerOf(2)"
   ]
  },
  {
   "cell_type": "code",
   "execution_count": 45,
   "id": "3d50b9bb",
   "metadata": {},
   "outputs": [
    {
     "data": {
      "text/plain": [
       "2048"
      ]
     },
     "execution_count": 45,
     "metadata": {},
     "output_type": "execute_result"
    }
   ],
   "source": [
    "next(power_of_two)"
   ]
  },
  {
   "cell_type": "code",
   "execution_count": 34,
   "id": "a477e730",
   "metadata": {},
   "outputs": [],
   "source": [
    "# итератор, принимающий словарь, генерирующий кортеж ключ-значение"
   ]
  },
  {
   "cell_type": "code",
   "execution_count": 46,
   "id": "07db9511",
   "metadata": {},
   "outputs": [],
   "source": [
    "class DictItemsIterator:\n",
    "    def __init__(self, data:dict):\n",
    "        self.data = data\n",
    "        self.keys = list()\n",
    "        for key in data:\n",
    "            self.keys.append(key)\n",
    "        self.index = 0\n",
    "        self.size = len(data)\n",
    "            \n",
    "    def __iter__(self):\n",
    "        return self\n",
    "    \n",
    "    def __next__(self):\n",
    "        if self.index >= self.size:\n",
    "            raise StopIteration\n",
    "        else:\n",
    "            self.index += 1\n",
    "            return self.keys[self.index - 1], self.data[self.keys[self.index - 1]]    "
   ]
  },
  {
   "cell_type": "code",
   "execution_count": 47,
   "id": "557bb342",
   "metadata": {},
   "outputs": [
    {
     "name": "stdout",
     "output_type": "stream",
     "text": [
      "(1, 'A') (2, 'B') (3, 'C')\n"
     ]
    }
   ],
   "source": [
    "pairs = DictItemsIterator({1: 'A', 2: 'B', 3: 'C'})\n",
    "\n",
    "print(*pairs)"
   ]
  },
  {
   "cell_type": "code",
   "execution_count": 48,
   "id": "35db07e7",
   "metadata": {},
   "outputs": [],
   "source": [
    "# итератор, генерирующий колоду карт"
   ]
  },
  {
   "cell_type": "code",
   "execution_count": 49,
   "id": "f39f7bd0",
   "metadata": {},
   "outputs": [],
   "source": [
    "class CardDeck:\n",
    "    def __init__(self):\n",
    "        self.cards = [f'{j} {i}' for i in (\"пик\", \"треф\", \"бубен\", \"червей\") for j in (\"2\", \"3\", \"4\", \"5\", \"6\", \"7\", \"8\", \"9\", \"10\", \"валет\", \"дама\", \"король\", \"туз\")]\n",
    "        self.index = 0\n",
    "        self.size = len(self.cards)\n",
    "    def __iter__(self):\n",
    "        return self\n",
    "    def __next__(self):\n",
    "        if self.index >= self.size:\n",
    "            raise StopIteration\n",
    "        else:\n",
    "            self.index += 1\n",
    "            return self.cards[self.index-1]"
   ]
  },
  {
   "cell_type": "code",
   "execution_count": 50,
   "id": "9a025376",
   "metadata": {},
   "outputs": [],
   "source": [
    "cards = CardDeck()"
   ]
  },
  {
   "cell_type": "code",
   "execution_count": 51,
   "id": "980a3919",
   "metadata": {},
   "outputs": [
    {
     "data": {
      "text/plain": [
       "'2 пик'"
      ]
     },
     "execution_count": 51,
     "metadata": {},
     "output_type": "execute_result"
    }
   ],
   "source": [
    "next(cards)"
   ]
  },
  {
   "cell_type": "code",
   "execution_count": 52,
   "id": "868e97f5",
   "metadata": {},
   "outputs": [],
   "source": [
    "# итератор, циклично перебирающий элементы последовательности"
   ]
  },
  {
   "cell_type": "code",
   "execution_count": 105,
   "id": "ace693cc",
   "metadata": {},
   "outputs": [],
   "source": [
    "class Cycle:\n",
    "    def __init__(self, iterable):\n",
    "        self.iteradle = iterable\n",
    "        self.size = len(iterable)\n",
    "        self.index = 0\n",
    "    def __iter__(self):\n",
    "        return self\n",
    "    def __next__(self):\n",
    "        if self.index >= self.size:\n",
    "            self.index = 0\n",
    "        self.index += 1\n",
    "        return self.iteradle[self.index - 1]"
   ]
  },
  {
   "cell_type": "code",
   "execution_count": 107,
   "id": "bb7297dc",
   "metadata": {},
   "outputs": [],
   "source": [
    "cycle = Cycle('hello')"
   ]
  },
  {
   "cell_type": "code",
   "execution_count": 125,
   "id": "31c99538",
   "metadata": {},
   "outputs": [
    {
     "name": "stdout",
     "output_type": "stream",
     "text": [
      "l\n"
     ]
    }
   ],
   "source": [
    "print(next(cycle))"
   ]
  },
  {
   "cell_type": "code",
   "execution_count": 126,
   "id": "41450811",
   "metadata": {},
   "outputs": [],
   "source": [
    "# итератор, генерирующий n случайных чисел"
   ]
  },
  {
   "cell_type": "code",
   "execution_count": 138,
   "id": "4bc35600",
   "metadata": {},
   "outputs": [],
   "source": [
    "import numpy as np\n",
    "class RandomNumbers:\n",
    "    def __init__(self,left,right,n):\n",
    "        self.left = left\n",
    "        self.right = right\n",
    "        self.n = n\n",
    "        self.index = 0\n",
    "    def __iter__(self):\n",
    "        return self\n",
    "    def __next__(self):\n",
    "        if self.index >= self.n:\n",
    "            raise StopIteration\n",
    "        else:\n",
    "            self.index+=1\n",
    "            return np.random.randint(self.left,self.right+1)"
   ]
  },
  {
   "cell_type": "code",
   "execution_count": 154,
   "id": "0ecbd64f",
   "metadata": {},
   "outputs": [],
   "source": [
    "iterator = RandomNumbers(1, 9, 5)"
   ]
  },
  {
   "cell_type": "code",
   "execution_count": 160,
   "id": "93b52c23",
   "metadata": {},
   "outputs": [
    {
     "ename": "StopIteration",
     "evalue": "",
     "output_type": "error",
     "traceback": [
      "\u001b[1;31m---------------------------------------------------------------------------\u001b[0m",
      "\u001b[1;31mStopIteration\u001b[0m                             Traceback (most recent call last)",
      "Cell \u001b[1;32mIn[160], line 1\u001b[0m\n\u001b[1;32m----> 1\u001b[0m \u001b[38;5;28mprint\u001b[39m(\u001b[38;5;28;43mnext\u001b[39;49m\u001b[43m(\u001b[49m\u001b[43miterator\u001b[49m\u001b[43m)\u001b[49m)\n",
      "Cell \u001b[1;32mIn[138], line 12\u001b[0m, in \u001b[0;36mRandomNumbers.__next__\u001b[1;34m(self)\u001b[0m\n\u001b[0;32m     10\u001b[0m \u001b[38;5;28;01mdef\u001b[39;00m \u001b[38;5;21m__next__\u001b[39m(\u001b[38;5;28mself\u001b[39m):\n\u001b[0;32m     11\u001b[0m     \u001b[38;5;28;01mif\u001b[39;00m \u001b[38;5;28mself\u001b[39m\u001b[38;5;241m.\u001b[39mindex \u001b[38;5;241m>\u001b[39m\u001b[38;5;241m=\u001b[39m \u001b[38;5;28mself\u001b[39m\u001b[38;5;241m.\u001b[39mn:\n\u001b[1;32m---> 12\u001b[0m         \u001b[38;5;28;01mraise\u001b[39;00m \u001b[38;5;167;01mStopIteration\u001b[39;00m\n\u001b[0;32m     13\u001b[0m     \u001b[38;5;28;01melse\u001b[39;00m:\n\u001b[0;32m     14\u001b[0m         \u001b[38;5;28mself\u001b[39m\u001b[38;5;241m.\u001b[39mindex\u001b[38;5;241m+\u001b[39m\u001b[38;5;241m=\u001b[39m\u001b[38;5;241m1\u001b[39m\n",
      "\u001b[1;31mStopIteration\u001b[0m: "
     ]
    }
   ],
   "source": [
    "print(next(iterator))"
   ]
  },
  {
   "cell_type": "code",
   "execution_count": 161,
   "id": "bfb12d43",
   "metadata": {},
   "outputs": [],
   "source": [
    "# итератор, генерирующий буквы алфавита"
   ]
  },
  {
   "cell_type": "code",
   "execution_count": 233,
   "id": "9d65102c",
   "metadata": {},
   "outputs": [],
   "source": [
    "class Alphabet:\n",
    "    def __init__(self,language):\n",
    "        languages = {'en': 'abcdefghijklmnopqrstuvwxyz', 'ru': 'абвгдежзийклмнопрстуфхцчшщъыьэюя'}\n",
    "        if language == 'en':\n",
    "            self.language = languages['en']\n",
    "        else:\n",
    "            self.language = languages['ru']\n",
    "        self.index = 0\n",
    "        self.size = len(self.language)\n",
    "    def __iter__(self):\n",
    "        return self\n",
    "    def __next__(self):\n",
    "        if self.index >= self.size:\n",
    "            self.index = 0\n",
    "        self.index += 1\n",
    "        return self.language[self.index - 1]\n",
    "        "
   ]
  },
  {
   "cell_type": "code",
   "execution_count": 234,
   "id": "57ba63e5",
   "metadata": {},
   "outputs": [],
   "source": [
    "ru_alpha = Alphabet('en')"
   ]
  },
  {
   "cell_type": "code",
   "execution_count": 265,
   "id": "ec9f59fd",
   "metadata": {
    "scrolled": true
   },
   "outputs": [
    {
     "name": "stdout",
     "output_type": "stream",
     "text": [
      "e\n"
     ]
    }
   ],
   "source": [
    "print(next(ru_alpha))"
   ]
  },
  {
   "cell_type": "code",
   "execution_count": 232,
   "id": "ff0bb4ba",
   "metadata": {},
   "outputs": [
    {
     "data": {
      "text/plain": [
       "['a',\n",
       " 'b',\n",
       " 'c',\n",
       " 'd',\n",
       " 'e',\n",
       " 'f',\n",
       " 'g',\n",
       " 'h',\n",
       " 'i',\n",
       " 'j',\n",
       " 'k',\n",
       " 'l',\n",
       " 'm',\n",
       " 'n',\n",
       " 'o',\n",
       " 'p',\n",
       " 'q',\n",
       " 'r',\n",
       " 's',\n",
       " 't',\n",
       " 'u',\n",
       " 'v',\n",
       " 'w',\n",
       " 'x',\n",
       " 'y',\n",
       " 'z']"
      ]
     },
     "execution_count": 232,
     "metadata": {},
     "output_type": "execute_result"
    }
   ],
   "source": [
    "en_alpha = Alphabet('en')\n",
    "\n",
    "letters = [next(en_alpha) for _ in range(26)]\n",
    "letters"
   ]
  },
  {
   "cell_type": "code",
   "execution_count": 266,
   "id": "34e1656b",
   "metadata": {},
   "outputs": [],
   "source": [
    "# итератор, генерирующий арифметическую прогрессию в заданном диапазоне"
   ]
  },
  {
   "cell_type": "code",
   "execution_count": 286,
   "id": "054a4911",
   "metadata": {},
   "outputs": [],
   "source": [
    "class Xrange:\n",
    "    def __init__(self,start,end,step):\n",
    "        self.end = end\n",
    "        self.start = start\n",
    "        self.step = step\n",
    "        self.first_iteration = True \n",
    "        if start > end:\n",
    "            self.plus = False\n",
    "        else:\n",
    "            self.plus = True\n",
    "    def __iter__(self):\n",
    "        return self\n",
    "    def __next__(self):\n",
    "        if self.plus:\n",
    "            if self.start >= self.end:\n",
    "                raise StopIteration\n",
    "            else:\n",
    "                if self.first_iteration:\n",
    "                    self.start += self.step\n",
    "                    self.first_iteration = False\n",
    "                    return self.start - self.step\n",
    "                self.start += self.step\n",
    "                return self.start - self.step\n",
    "        else:\n",
    "            if self.start <= self.end:\n",
    "                raise StopIteration\n",
    "            else:\n",
    "                if self.first_iteration:\n",
    "                    self.start += self.step\n",
    "                    self.first_iteration = False\n",
    "                    return self.start - self.step\n",
    "                self.start += self.step\n",
    "                return self.start - self.step\n",
    "            "
   ]
  },
  {
   "cell_type": "code",
   "execution_count": 287,
   "id": "39845af0",
   "metadata": {},
   "outputs": [
    {
     "name": "stdout",
     "output_type": "stream",
     "text": [
      "0 2 4 6 8\n"
     ]
    }
   ],
   "source": [
    "evens = Xrange(0, 10, 2)\n",
    "\n",
    "print(*evens)"
   ]
  },
  {
   "cell_type": "code",
   "execution_count": 288,
   "id": "1997491a",
   "metadata": {},
   "outputs": [
    {
     "name": "stdout",
     "output_type": "stream",
     "text": [
      "10 9 8 7 6 5 4 3 2\n"
     ]
    }
   ],
   "source": [
    "xrange = Xrange(10, 1, -1)\n",
    "\n",
    "print(*xrange)"
   ]
  },
  {
   "cell_type": "code",
   "execution_count": null,
   "id": "be44e879",
   "metadata": {},
   "outputs": [],
   "source": []
  }
 ],
 "metadata": {
  "kernelspec": {
   "display_name": "Python 3 (ipykernel)",
   "language": "python",
   "name": "python3"
  },
  "language_info": {
   "codemirror_mode": {
    "name": "ipython",
    "version": 3
   },
   "file_extension": ".py",
   "mimetype": "text/x-python",
   "name": "python",
   "nbconvert_exporter": "python",
   "pygments_lexer": "ipython3",
   "version": "3.9.18"
  },
  "nbTranslate": {
   "displayLangs": [
    "*"
   ],
   "hotkey": "alt-t",
   "langInMainMenu": true,
   "sourceLang": "en",
   "targetLang": "ru",
   "useGoogleTranslate": true
  },
  "toc": {
   "base_numbering": 1,
   "nav_menu": {},
   "number_sections": true,
   "sideBar": true,
   "skip_h1_title": false,
   "title_cell": "Table of Contents",
   "title_sidebar": "Contents",
   "toc_cell": false,
   "toc_position": {},
   "toc_section_display": true,
   "toc_window_display": false
  },
  "varInspector": {
   "cols": {
    "lenName": 16,
    "lenType": 16,
    "lenVar": 40
   },
   "kernels_config": {
    "python": {
     "delete_cmd_postfix": "",
     "delete_cmd_prefix": "del ",
     "library": "var_list.py",
     "varRefreshCmd": "print(var_dic_list())"
    },
    "r": {
     "delete_cmd_postfix": ") ",
     "delete_cmd_prefix": "rm(",
     "library": "var_list.r",
     "varRefreshCmd": "cat(var_dic_list()) "
    }
   },
   "types_to_exclude": [
    "module",
    "function",
    "builtin_function_or_method",
    "instance",
    "_Feature"
   ],
   "window_display": false
  }
 },
 "nbformat": 4,
 "nbformat_minor": 5
}
