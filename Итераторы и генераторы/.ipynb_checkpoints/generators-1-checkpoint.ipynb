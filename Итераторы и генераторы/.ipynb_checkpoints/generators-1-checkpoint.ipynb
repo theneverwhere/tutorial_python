{
 "cells": [
  {
   "cell_type": "markdown",
   "id": "558bd439",
   "metadata": {},
   "source": [
    "# Генераторы "
   ]
  },
  {
   "cell_type": "markdown",
   "id": "e4286ac8",
   "metadata": {},
   "source": [
    "В Python создавать собственные итераторы можно намного проще с помощью генераторов, которые делятся на два типа:\n",
    "\n",
    "- функции генераторы\n",
    "- выражения генератор"
   ]
  },
  {
   "cell_type": "markdown",
   "id": "8a14eaba",
   "metadata": {},
   "source": [
    "### Функции генераторы"
   ]
  },
  {
   "cell_type": "markdown",
   "id": "ed8c3b1f",
   "metadata": {},
   "source": [
    "Функция генератор – это функция, которая возвращает итератор.\n",
    "\n",
    "Она выглядит как обычная функция, за исключением того, что использует выражение **yield**, а не return."
   ]
  },
  {
   "cell_type": "code",
   "execution_count": 1,
   "id": "006cadea",
   "metadata": {
    "ExecuteTime": {
     "end_time": "2024-07-03T18:02:24.644720Z",
     "start_time": "2024-07-03T18:02:24.628599Z"
    }
   },
   "outputs": [],
   "source": [
    "# генератор, возвращающий итератор от числа а до числа b"
   ]
  },
  {
   "cell_type": "code",
   "execution_count": 2,
   "id": "85cf6e22",
   "metadata": {
    "ExecuteTime": {
     "end_time": "2024-07-03T18:02:27.912044Z",
     "start_time": "2024-07-03T18:02:27.894306Z"
    }
   },
   "outputs": [],
   "source": [
    "# более удобная запись\n",
    "def gen_numbers(a,b):\n",
    "    for i in range(a,b+1):\n",
    "        yield i"
   ]
  },
  {
   "cell_type": "code",
   "execution_count": 3,
   "id": "121b64c3",
   "metadata": {
    "ExecuteTime": {
     "end_time": "2024-07-03T18:02:28.591514Z",
     "start_time": "2024-07-03T18:02:28.575888Z"
    }
   },
   "outputs": [
    {
     "name": "stdout",
     "output_type": "stream",
     "text": [
      "5 6 7 8 9 10\n"
     ]
    }
   ],
   "source": [
    "print(*gen_numbers(5,10))  # ведёт себя как обычный итератор"
   ]
  },
  {
   "cell_type": "code",
   "execution_count": 4,
   "id": "64e21841",
   "metadata": {
    "ExecuteTime": {
     "end_time": "2024-07-03T18:02:30.503146Z",
     "start_time": "2024-07-03T18:02:30.487094Z"
    }
   },
   "outputs": [],
   "source": [
    "# то же, но вручную\n",
    "\n",
    "class IteratorNumbers:\n",
    "    \n",
    "    def __init__(self, a, b):\n",
    "        self.a = a\n",
    "        self.b = b\n",
    "    def __iter__(self):\n",
    "        return self\n",
    "    def __next__(self):\n",
    "        if self.a>self.b:\n",
    "            raise StopIteration\n",
    "        else:\n",
    "            self.a += 1\n",
    "            return self.a - 1"
   ]
  },
  {
   "cell_type": "code",
   "execution_count": 5,
   "id": "f3f15346",
   "metadata": {
    "ExecuteTime": {
     "end_time": "2024-07-03T18:02:30.883280Z",
     "start_time": "2024-07-03T18:02:30.851550Z"
    }
   },
   "outputs": [],
   "source": [
    "iterator_3 = IteratorNumbers(1,3)"
   ]
  },
  {
   "cell_type": "code",
   "execution_count": 6,
   "id": "5c8b586b",
   "metadata": {
    "ExecuteTime": {
     "end_time": "2024-07-03T18:02:31.089011Z",
     "start_time": "2024-07-03T18:02:31.057151Z"
    }
   },
   "outputs": [
    {
     "name": "stdout",
     "output_type": "stream",
     "text": [
      "1 2 3\n"
     ]
    }
   ],
   "source": [
    "print(*iterator_3)"
   ]
  },
  {
   "cell_type": "markdown",
   "id": "b4e68cc2",
   "metadata": {},
   "source": [
    "*Функция генератор сохраняет локальные переменные от вызова к вызову. Это своего рода возобновляемая функция.*"
   ]
  },
  {
   "cell_type": "code",
   "execution_count": 7,
   "id": "11d91be5",
   "metadata": {
    "ExecuteTime": {
     "end_time": "2024-07-03T18:02:32.910281Z",
     "start_time": "2024-07-03T18:02:32.878965Z"
    }
   },
   "outputs": [],
   "source": [
    "generator_3 = gen_numbers(1,3)"
   ]
  },
  {
   "cell_type": "code",
   "execution_count": 12,
   "id": "5eff04cc",
   "metadata": {
    "ExecuteTime": {
     "end_time": "2024-07-03T18:02:33.181003Z",
     "start_time": "2024-07-03T18:02:33.164828Z"
    }
   },
   "outputs": [
    {
     "ename": "StopIteration",
     "evalue": "",
     "output_type": "error",
     "traceback": [
      "\u001b[1;31m---------------------------------------------------------------------------\u001b[0m",
      "\u001b[1;31mStopIteration\u001b[0m                             Traceback (most recent call last)",
      "Cell \u001b[1;32mIn[12], line 1\u001b[0m\n\u001b[1;32m----> 1\u001b[0m \u001b[38;5;28;43mnext\u001b[39;49m\u001b[43m(\u001b[49m\u001b[43mgenerator_3\u001b[49m\u001b[43m)\u001b[49m\n",
      "\u001b[1;31mStopIteration\u001b[0m: "
     ]
    }
   ],
   "source": [
    "next(generator_3)"
   ]
  },
  {
   "cell_type": "markdown",
   "id": "ba93aa03",
   "metadata": {},
   "source": [
    "### Функции генераторы с побочными действиями"
   ]
  },
  {
   "cell_type": "code",
   "execution_count": 13,
   "id": "fb70d4a8",
   "metadata": {
    "ExecuteTime": {
     "end_time": "2024-07-03T18:02:39.101064Z",
     "start_time": "2024-07-03T18:02:39.069985Z"
    }
   },
   "outputs": [],
   "source": [
    "def gen_event(n):\n",
    "    n = n+n%2\n",
    "    print('start')\n",
    "    yield n\n",
    "    while True:\n",
    "        print('следующее чётное: ', end='')\n",
    "        n += 2\n",
    "        print(n)\n",
    "        yield n"
   ]
  },
  {
   "cell_type": "code",
   "execution_count": 14,
   "id": "697317f7",
   "metadata": {
    "ExecuteTime": {
     "end_time": "2024-07-03T18:02:40.062940Z",
     "start_time": "2024-07-03T18:02:40.046952Z"
    }
   },
   "outputs": [],
   "source": [
    "gen_event_1 = gen_event(1)"
   ]
  },
  {
   "cell_type": "code",
   "execution_count": 31,
   "id": "76c82637",
   "metadata": {
    "ExecuteTime": {
     "end_time": "2024-07-03T18:02:41.229933Z",
     "start_time": "2024-07-03T18:02:41.198999Z"
    }
   },
   "outputs": [
    {
     "name": "stdout",
     "output_type": "stream",
     "text": [
      "следующее чётное: 34\n"
     ]
    },
    {
     "data": {
      "text/plain": [
       "34"
      ]
     },
     "execution_count": 31,
     "metadata": {},
     "output_type": "execute_result"
    }
   ],
   "source": [
    "next(gen_event_1)"
   ]
  },
  {
   "cell_type": "markdown",
   "id": "23116732",
   "metadata": {},
   "source": [
    "### Особенности генераторов"
   ]
  },
  {
   "cell_type": "markdown",
   "id": "69961c4f",
   "metadata": {},
   "source": [
    "- return останавливает функцию, возбуждая StopIteration\n",
    "- любая функция с yield - функция-генератор\n",
    "- генератор - это итератор, поэтому ведёт себя подобающе"
   ]
  },
  {
   "cell_type": "markdown",
   "id": "801dc0ac",
   "metadata": {
    "heading_collapsed": true
   },
   "source": [
    "### Конструкция yield from"
   ]
  },
  {
   "cell_type": "code",
   "execution_count": null,
   "id": "9560880b",
   "metadata": {
    "ExecuteTime": {
     "end_time": "2024-07-03T18:02:53.300654Z",
     "start_time": "2024-07-03T18:02:53.285049Z"
    },
    "hidden": true
   },
   "outputs": [],
   "source": [
    "def get_data():\n",
    "    for num in range(5):\n",
    "        yield num\n",
    "    for char in 'ABC':\n",
    "        yield char"
   ]
  },
  {
   "cell_type": "code",
   "execution_count": null,
   "id": "1035da5d",
   "metadata": {
    "ExecuteTime": {
     "end_time": "2024-07-03T18:02:53.649259Z",
     "start_time": "2024-07-03T18:02:53.633241Z"
    },
    "hidden": true
   },
   "outputs": [],
   "source": [
    "print(*get_data())"
   ]
  },
  {
   "cell_type": "code",
   "execution_count": null,
   "id": "9bf91a9b",
   "metadata": {
    "ExecuteTime": {
     "end_time": "2024-07-03T18:02:53.997699Z",
     "start_time": "2024-07-03T18:02:53.981649Z"
    },
    "hidden": true
   },
   "outputs": [],
   "source": [
    "# можно переписать в виде"
   ]
  },
  {
   "cell_type": "code",
   "execution_count": null,
   "id": "707249ba",
   "metadata": {
    "ExecuteTime": {
     "end_time": "2024-07-03T18:02:54.220390Z",
     "start_time": "2024-07-03T18:02:54.189145Z"
    },
    "hidden": true
   },
   "outputs": [],
   "source": [
    "def get_data():\n",
    "    yield from range(5)\n",
    "    yield from ('ABC')"
   ]
  },
  {
   "cell_type": "code",
   "execution_count": null,
   "id": "3bbcfc8f",
   "metadata": {
    "ExecuteTime": {
     "end_time": "2024-07-03T18:02:55.185304Z",
     "start_time": "2024-07-03T18:02:55.153508Z"
    },
    "hidden": true
   },
   "outputs": [],
   "source": [
    "print(*get_data())"
   ]
  },
  {
   "cell_type": "code",
   "execution_count": null,
   "id": "1705715e",
   "metadata": {
    "ExecuteTime": {
     "end_time": "2024-07-03T18:02:55.422189Z",
     "start_time": "2024-07-03T18:02:55.406265Z"
    },
    "hidden": true
   },
   "outputs": [],
   "source": [
    "# кроме того можно создавать вложенные генераторы"
   ]
  },
  {
   "cell_type": "code",
   "execution_count": null,
   "id": "b94d7313",
   "metadata": {
    "ExecuteTime": {
     "end_time": "2024-07-03T18:02:55.754766Z",
     "start_time": "2024-07-03T18:02:55.739900Z"
    },
    "hidden": true
   },
   "outputs": [],
   "source": [
    "def generator1():\n",
    "    yield from ('ABC')\n",
    "def generator2():\n",
    "    yield from ('abc')\n",
    "    \n",
    "def generator12():\n",
    "    yield from generator1()\n",
    "    yield 100\n",
    "    yield from generator2()"
   ]
  },
  {
   "cell_type": "code",
   "execution_count": null,
   "id": "4fb6f37b",
   "metadata": {
    "ExecuteTime": {
     "end_time": "2024-07-03T18:02:56.263501Z",
     "start_time": "2024-07-03T18:02:56.247712Z"
    },
    "hidden": true
   },
   "outputs": [],
   "source": [
    "print(*generator12())"
   ]
  },
  {
   "cell_type": "markdown",
   "id": "b927f611",
   "metadata": {
    "heading_collapsed": true
   },
   "source": [
    "### Выражения генераторы"
   ]
  },
  {
   "cell_type": "code",
   "execution_count": null,
   "id": "bd92aa4e",
   "metadata": {
    "ExecuteTime": {
     "end_time": "2024-07-03T18:03:05.494159Z",
     "start_time": "2024-07-03T18:03:05.474422Z"
    },
    "hidden": true
   },
   "outputs": [],
   "source": [
    "# более компактная запись простых генераторов\n",
    "generator_numbers = (i for i in range(10,101,10))"
   ]
  },
  {
   "cell_type": "code",
   "execution_count": null,
   "id": "e4b251a0",
   "metadata": {
    "ExecuteTime": {
     "end_time": "2024-07-03T18:03:06.804457Z",
     "start_time": "2024-07-03T18:03:06.788659Z"
    },
    "hidden": true
   },
   "outputs": [],
   "source": [
    "print(*generator_numbers)"
   ]
  },
  {
   "cell_type": "code",
   "execution_count": null,
   "id": "cc1bc7b8",
   "metadata": {
    "ExecuteTime": {
     "end_time": "2024-07-03T18:03:11.662236Z",
     "start_time": "2024-07-03T18:03:11.646772Z"
    },
    "hidden": true
   },
   "outputs": [],
   "source": [
    "# скобки можно опускать в функциях\n",
    "\n",
    "print(sum(i*i for i in range(10)))          # передача без скобок\n",
    "print(sum((i*i for i in range(10))))        # передача со скобками"
   ]
  },
  {
   "cell_type": "code",
   "execution_count": null,
   "id": "6eb03bc0",
   "metadata": {
    "ExecuteTime": {
     "end_time": "2024-07-03T18:03:21.451406Z",
     "start_time": "2024-07-03T18:03:21.419895Z"
    },
    "hidden": true
   },
   "outputs": [],
   "source": [
    "generator_letters = (s for s  in 'HELLO')"
   ]
  },
  {
   "cell_type": "code",
   "execution_count": null,
   "id": "5da3b0ec",
   "metadata": {
    "ExecuteTime": {
     "end_time": "2024-07-03T18:03:21.800560Z",
     "start_time": "2024-07-03T18:03:21.784744Z"
    },
    "hidden": true
   },
   "outputs": [],
   "source": [
    "next(generator_letters)"
   ]
  },
  {
   "cell_type": "markdown",
   "id": "5f37fd35",
   "metadata": {
    "hidden": true
   },
   "source": [
    "*Генераторные выражения могут использоваться в качестве альтернативы использования функций map(), filter()*"
   ]
  },
  {
   "cell_type": "markdown",
   "id": "52b0cc23",
   "metadata": {
    "heading_collapsed": true
   },
   "source": [
    "### Конввейеры генераторов"
   ]
  },
  {
   "cell_type": "markdown",
   "id": "25a8952d",
   "metadata": {
    "hidden": true
   },
   "source": [
    "Конвейеры генераторов (generator pipelines) в Python позволяют обрабатывать данные поэтапно с помощью цепочки генераторов. Это удобно, когда необходимо выполнить несколько последовательных операций над данными, и при этом обработка должна происходить \"на лету\", без загрузки всех данных в память. Основное преимущество конвейеров генераторов - это экономия памяти и повышение производительности при работе с большими наборами данных."
   ]
  },
  {
   "cell_type": "code",
   "execution_count": null,
   "id": "318610b2",
   "metadata": {
    "ExecuteTime": {
     "end_time": "2024-07-03T18:03:43.129513Z",
     "start_time": "2024-07-03T18:03:43.113360Z"
    },
    "hidden": true
   },
   "outputs": [],
   "source": [
    "def double(iterable):\n",
    "    yield from iterable"
   ]
  },
  {
   "cell_type": "code",
   "execution_count": null,
   "id": "0ba85f38",
   "metadata": {
    "ExecuteTime": {
     "end_time": "2024-07-03T18:03:49.191596Z",
     "start_time": "2024-07-03T18:03:49.176283Z"
    },
    "hidden": true
   },
   "outputs": [],
   "source": [
    "def negative(iterable):\n",
    "    for el in iterable:\n",
    "        yield -el"
   ]
  },
  {
   "cell_type": "code",
   "execution_count": null,
   "id": "f241a711",
   "metadata": {
    "ExecuteTime": {
     "end_time": "2024-07-03T18:03:49.949331Z",
     "start_time": "2024-07-03T18:03:49.933418Z"
    },
    "hidden": true
   },
   "outputs": [],
   "source": [
    "def plus_one(iterable):\n",
    "    for el in iterable:\n",
    "        yield el+1"
   ]
  },
  {
   "cell_type": "code",
   "execution_count": null,
   "id": "ae9b41bc",
   "metadata": {
    "ExecuteTime": {
     "end_time": "2024-07-03T18:03:56.782710Z",
     "start_time": "2024-07-03T18:03:56.769351Z"
    },
    "hidden": true
   },
   "outputs": [],
   "source": [
    "data = [1,10,20,300,500,1000]"
   ]
  },
  {
   "cell_type": "code",
   "execution_count": null,
   "id": "5b86df28",
   "metadata": {
    "ExecuteTime": {
     "end_time": "2024-07-03T18:03:58.428461Z",
     "start_time": "2024-07-03T18:03:58.428461Z"
    },
    "hidden": true
   },
   "outputs": [],
   "source": [
    "print(*plus_one(negative(double(data)))) # важна последовательность обработки"
   ]
  },
  {
   "cell_type": "code",
   "execution_count": null,
   "id": "1639eec5",
   "metadata": {
    "hidden": true
   },
   "outputs": [],
   "source": [
    "print(*negative(plus_one(double(data))))  "
   ]
  },
  {
   "cell_type": "markdown",
   "id": "a6c95fb6",
   "metadata": {
    "heading_collapsed": true
   },
   "source": [
    "### Обработка больших файлов"
   ]
  },
  {
   "cell_type": "code",
   "execution_count": null,
   "id": "85aa70b4",
   "metadata": {
    "hidden": true
   },
   "outputs": [],
   "source": [
    "# создадим большой файл\n",
    "\n",
    "import random\n",
    "\n",
    "def create_large_file(file_path, num_lines):\n",
    "    words = [\"привет\",\"пока\",\"мячик\",\"школа\",\"институт\",\"важно\",\"апельсин\",\"журнал\",\"кот\"]\n",
    "    with open(file_path, 'w', encoding='utf-8') as f:\n",
    "        for _ in range(num_lines):\n",
    "            line = \" \".join(random.choices(words, k=2)) + \"\\n\"\n",
    "            f.write(line)\n",
    "\n",
    "# Создаем файл с 10 000 строк\n",
    "create_large_file('bigfile.txt', 10000)"
   ]
  },
  {
   "cell_type": "code",
   "execution_count": null,
   "id": "2676c700",
   "metadata": {
    "hidden": true
   },
   "outputs": [],
   "source": [
    "# Генератор для построчного чтения файла\n",
    "def read_file(file_path):\n",
    "    with open(file_path, 'r', encoding='utf-8') as file:\n",
    "        for line in file:\n",
    "            yield line\n",
    "\n",
    "# Генератор для фильтрации строк\n",
    "def filter_lines(lines, keyword):\n",
    "    for line in lines:\n",
    "        if keyword in line:\n",
    "            yield line\n",
    "\n",
    "# Генератор для преобразования строк\n",
    "def transform_lines(lines):\n",
    "    for line in lines:\n",
    "        yield line.upper()"
   ]
  },
  {
   "cell_type": "code",
   "execution_count": null,
   "id": "5e721e2a",
   "metadata": {
    "hidden": true
   },
   "outputs": [],
   "source": [
    "# Объединяем все генераторы в конвейер\n",
    "def process_file(file_path, keyword):\n",
    "    lines = read_file(file_path)\n",
    "    filtered_lines = filter_lines(lines, keyword)\n",
    "    transformed_lines = transform_lines(filtered_lines)\n",
    "    return transformed_lines"
   ]
  },
  {
   "cell_type": "code",
   "execution_count": null,
   "id": "348dcd3b",
   "metadata": {
    "hidden": true
   },
   "outputs": [],
   "source": [
    "# Использование конвейера для обработки файла\n",
    "file_path = 'bigfile.txt'\n",
    "keyword = 'важно'\n",
    "\n",
    "pipeline = process_file(file_path, keyword)"
   ]
  },
  {
   "cell_type": "code",
   "execution_count": null,
   "id": "b600d307",
   "metadata": {
    "hidden": true
   },
   "outputs": [],
   "source": [
    "for i,line in enumerate(pipeline):\n",
    "    print(line)\n",
    "    if i>5:\n",
    "        break"
   ]
  },
  {
   "cell_type": "code",
   "execution_count": null,
   "id": "93301104",
   "metadata": {
    "hidden": true
   },
   "outputs": [],
   "source": []
  }
 ],
 "metadata": {
  "kernelspec": {
   "display_name": "Python 3 (ipykernel)",
   "language": "python",
   "name": "python3"
  },
  "language_info": {
   "codemirror_mode": {
    "name": "ipython",
    "version": 3
   },
   "file_extension": ".py",
   "mimetype": "text/x-python",
   "name": "python",
   "nbconvert_exporter": "python",
   "pygments_lexer": "ipython3",
   "version": "3.9.18"
  },
  "nbTranslate": {
   "displayLangs": [
    "*"
   ],
   "hotkey": "alt-t",
   "langInMainMenu": true,
   "sourceLang": "en",
   "targetLang": "ru",
   "useGoogleTranslate": true
  },
  "toc": {
   "base_numbering": 1,
   "nav_menu": {},
   "number_sections": true,
   "sideBar": true,
   "skip_h1_title": false,
   "title_cell": "Table of Contents",
   "title_sidebar": "Contents",
   "toc_cell": false,
   "toc_position": {},
   "toc_section_display": true,
   "toc_window_display": false
  },
  "varInspector": {
   "cols": {
    "lenName": 16,
    "lenType": 16,
    "lenVar": 40
   },
   "kernels_config": {
    "python": {
     "delete_cmd_postfix": "",
     "delete_cmd_prefix": "del ",
     "library": "var_list.py",
     "varRefreshCmd": "print(var_dic_list())"
    },
    "r": {
     "delete_cmd_postfix": ") ",
     "delete_cmd_prefix": "rm(",
     "library": "var_list.r",
     "varRefreshCmd": "cat(var_dic_list()) "
    }
   },
   "types_to_exclude": [
    "module",
    "function",
    "builtin_function_or_method",
    "instance",
    "_Feature"
   ],
   "window_display": false
  }
 },
 "nbformat": 4,
 "nbformat_minor": 5
}
