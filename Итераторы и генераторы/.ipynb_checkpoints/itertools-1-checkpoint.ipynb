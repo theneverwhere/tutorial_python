{
 "cells": [
  {
   "cell_type": "markdown",
   "id": "4746471b",
   "metadata": {},
   "source": [
    "# Модуль itertools"
   ]
  },
  {
   "cell_type": "markdown",
   "id": "408e163f",
   "metadata": {},
   "source": [
    "Встроенный модуль itertools включает в себя множество функций, предназначенных для создания итераторов."
   ]
  },
  {
   "cell_type": "markdown",
   "id": "32a67155",
   "metadata": {},
   "source": [
    "## Функции, порождающие данные \n",
    "Все функции данной категории по умолчанию порождают бесконечные итераторы."
   ]
  },
  {
   "cell_type": "markdown",
   "id": "83e96a3a",
   "metadata": {},
   "source": [
    "### count(begin, step)"
   ]
  },
  {
   "cell_type": "code",
   "execution_count": 1,
   "id": "f78bb163",
   "metadata": {
    "ExecuteTime": {
     "end_time": "2024-07-03T18:07:27.683887Z",
     "start_time": "2024-07-03T18:07:27.668287Z"
    }
   },
   "outputs": [],
   "source": [
    "from itertools import count \n",
    "# count(begin, step)"
   ]
  },
  {
   "cell_type": "code",
   "execution_count": 2,
   "id": "4415973a",
   "metadata": {
    "ExecuteTime": {
     "end_time": "2024-07-03T18:07:28.330808Z",
     "start_time": "2024-07-03T18:07:28.314602Z"
    }
   },
   "outputs": [],
   "source": [
    "count1 = count(10,10) # бесконечные числа от begin с шагом step"
   ]
  },
  {
   "cell_type": "code",
   "execution_count": 14,
   "id": "0a009bcd",
   "metadata": {
    "ExecuteTime": {
     "end_time": "2024-07-03T18:07:35.460244Z",
     "start_time": "2024-07-03T18:07:35.444877Z"
    }
   },
   "outputs": [
    {
     "data": {
      "text/plain": [
       "120"
      ]
     },
     "execution_count": 14,
     "metadata": {},
     "output_type": "execute_result"
    }
   ],
   "source": [
    "next(count1)"
   ]
  },
  {
   "cell_type": "code",
   "execution_count": 15,
   "id": "d9547878",
   "metadata": {
    "ExecuteTime": {
     "end_time": "2024-07-03T18:07:01.469630Z",
     "start_time": "2024-07-03T18:07:01.439085Z"
    }
   },
   "outputs": [],
   "source": [
    "# аналогично\n",
    "def my_count(start=0, step=1):\n",
    "    n = start\n",
    "    while True:\n",
    "        yield n\n",
    "        n += step   # тут после yield выполняются команды!"
   ]
  },
  {
   "cell_type": "markdown",
   "id": "4d03d2b7",
   "metadata": {},
   "source": [
    "### cycle(iterable)"
   ]
  },
  {
   "cell_type": "code",
   "execution_count": 16,
   "id": "787c6f1e",
   "metadata": {
    "ExecuteTime": {
     "end_time": "2024-07-03T18:07:42.822055Z",
     "start_time": "2024-07-03T18:07:42.790458Z"
    }
   },
   "outputs": [],
   "source": [
    "from itertools import cycle"
   ]
  },
  {
   "cell_type": "code",
   "execution_count": 17,
   "id": "3ccec63c",
   "metadata": {
    "ExecuteTime": {
     "end_time": "2024-07-03T18:07:44.410709Z",
     "start_time": "2024-07-03T18:07:44.395083Z"
    }
   },
   "outputs": [],
   "source": [
    "data = ['зима','весна','лето','осень']\n",
    "cycle_word = cycle(data) # цикличный перебор элементов"
   ]
  },
  {
   "cell_type": "code",
   "execution_count": 34,
   "id": "6eef3ddc",
   "metadata": {
    "ExecuteTime": {
     "end_time": "2024-07-03T18:07:51.149721Z",
     "start_time": "2024-07-03T18:07:51.135709Z"
    }
   },
   "outputs": [
    {
     "data": {
      "text/plain": [
       "'зима'"
      ]
     },
     "execution_count": 34,
     "metadata": {},
     "output_type": "execute_result"
    }
   ],
   "source": [
    "next(cycle_word)"
   ]
  },
  {
   "cell_type": "code",
   "execution_count": 35,
   "id": "98d7f8a4",
   "metadata": {
    "ExecuteTime": {
     "end_time": "2024-07-03T18:07:55.041417Z",
     "start_time": "2024-07-03T18:07:55.025335Z"
    }
   },
   "outputs": [],
   "source": [
    "# аналогично\n",
    "def my_cycle(iterable):\n",
    "    saved = []\n",
    "    for element in iterable:\n",
    "        yield element\n",
    "        saved.append(element)\n",
    "    while saved:\n",
    "        for element in saved:\n",
    "            yield element"
   ]
  },
  {
   "cell_type": "markdown",
   "id": "5f96841e",
   "metadata": {},
   "source": [
    "### repeat(obj,time)"
   ]
  },
  {
   "cell_type": "code",
   "execution_count": 36,
   "id": "97b58f3f",
   "metadata": {
    "ExecuteTime": {
     "end_time": "2024-07-03T18:08:05.037758Z",
     "start_time": "2024-07-03T18:08:05.006678Z"
    }
   },
   "outputs": [],
   "source": [
    "from itertools import repeat\n",
    "# repeat(obj, time)"
   ]
  },
  {
   "cell_type": "code",
   "execution_count": 37,
   "id": "af17c9c8",
   "metadata": {
    "ExecuteTime": {
     "end_time": "2024-07-03T18:08:05.652028Z",
     "start_time": "2024-07-03T18:08:05.636400Z"
    }
   },
   "outputs": [],
   "source": [
    "repeat_hello = repeat('привет!') # параметр time - необязательный ограничитель"
   ]
  },
  {
   "cell_type": "code",
   "execution_count": 45,
   "id": "87d6902e",
   "metadata": {
    "ExecuteTime": {
     "end_time": "2024-07-03T18:08:08.458717Z",
     "start_time": "2024-07-03T18:08:08.442636Z"
    }
   },
   "outputs": [
    {
     "data": {
      "text/plain": [
       "'привет!'"
      ]
     },
     "execution_count": 45,
     "metadata": {},
     "output_type": "execute_result"
    }
   ],
   "source": [
    "next(repeat_hello)"
   ]
  },
  {
   "cell_type": "code",
   "execution_count": 46,
   "id": "efa3eabd",
   "metadata": {
    "ExecuteTime": {
     "end_time": "2024-07-03T18:08:11.133674Z",
     "start_time": "2024-07-03T18:08:11.101626Z"
    }
   },
   "outputs": [],
   "source": [
    "# аналогично\n",
    "def my_repeat(object, times=None):\n",
    "    if times is None:\n",
    "        while True:\n",
    "            yield object\n",
    "    else:\n",
    "        for i in range(times):\n",
    "            yield object"
   ]
  },
  {
   "cell_type": "markdown",
   "id": "1f6b0080",
   "metadata": {},
   "source": [
    "### starmap(func,data)"
   ]
  },
  {
   "cell_type": "code",
   "execution_count": 47,
   "id": "abfcf6c1",
   "metadata": {
    "ExecuteTime": {
     "end_time": "2024-07-03T18:08:13.074431Z",
     "start_time": "2024-07-03T18:08:13.058871Z"
    }
   },
   "outputs": [],
   "source": [
    "from itertools import starmap"
   ]
  },
  {
   "cell_type": "code",
   "execution_count": 48,
   "id": "6fc7d7ad",
   "metadata": {
    "ExecuteTime": {
     "end_time": "2024-07-03T18:08:15.214998Z",
     "start_time": "2024-07-03T18:08:15.192193Z"
    }
   },
   "outputs": [],
   "source": [
    "def func(el):\n",
    "    if type(el)!=type('s'):\n",
    "        return el+el\n",
    "    return el + '-' + el"
   ]
  },
  {
   "cell_type": "code",
   "execution_count": 49,
   "id": "5e6e649d",
   "metadata": {
    "ExecuteTime": {
     "end_time": "2024-07-03T18:08:22.157322Z",
     "start_time": "2024-07-03T18:08:22.141289Z"
    }
   },
   "outputs": [],
   "source": [
    "data = [(10,),(20,),('hello',),(30,),('go',)]"
   ]
  },
  {
   "cell_type": "code",
   "execution_count": 50,
   "id": "8d18a669",
   "metadata": {
    "ExecuteTime": {
     "end_time": "2024-07-03T18:08:24.089859Z",
     "start_time": "2024-07-03T18:08:24.074312Z"
    }
   },
   "outputs": [],
   "source": [
    "starmap1 = starmap(func,data) # применяет функцию к данным"
   ]
  },
  {
   "cell_type": "code",
   "execution_count": 51,
   "id": "2bd4f380",
   "metadata": {
    "ExecuteTime": {
     "end_time": "2024-07-03T18:08:25.346900Z",
     "start_time": "2024-07-03T18:08:25.331017Z"
    }
   },
   "outputs": [
    {
     "name": "stdout",
     "output_type": "stream",
     "text": [
      "20 40 hello-hello 60 go-go\n"
     ]
    }
   ],
   "source": [
    "print(*starmap1)"
   ]
  },
  {
   "cell_type": "markdown",
   "id": "04d3df2b",
   "metadata": {},
   "source": [
    "Функция starmap() используется вместо map() в том случае, когда элементами итерируемого объекта являются другие итерируемые объекты, скажем, кортежи, и каждый элемент этих кортежей должен быть передан в функцию function в качестве самостоятельного аргумента."
   ]
  },
  {
   "cell_type": "markdown",
   "id": "c491b150",
   "metadata": {},
   "source": [
    "### accumulate(data)"
   ]
  },
  {
   "cell_type": "code",
   "execution_count": 52,
   "id": "30a9bd50",
   "metadata": {
    "ExecuteTime": {
     "end_time": "2024-07-03T18:09:33.517672Z",
     "start_time": "2024-07-03T18:09:33.502958Z"
    }
   },
   "outputs": [],
   "source": [
    "from itertools import accumulate"
   ]
  },
  {
   "cell_type": "markdown",
   "id": "38ec90ea",
   "metadata": {},
   "source": [
    "Функция accumulate() возвращает итератор с накопленными суммами или результатами функции func; аргументы функции: iterable — итерируемый объект, func — функция для двух аргументов (по умолчанию operator.add), initial — начальное значение (по умолчанию None); функция работает аналогично reduce(), но генерирует все промежуточные результаты, а не только конечный."
   ]
  },
  {
   "cell_type": "code",
   "execution_count": 53,
   "id": "8bc62bc5",
   "metadata": {
    "ExecuteTime": {
     "end_time": "2024-07-03T18:09:34.147325Z",
     "start_time": "2024-07-03T18:09:34.131698Z"
    }
   },
   "outputs": [],
   "source": [
    "data = [1,10,100,1000,10000,7]"
   ]
  },
  {
   "cell_type": "code",
   "execution_count": 54,
   "id": "6a2c411a",
   "metadata": {
    "ExecuteTime": {
     "end_time": "2024-07-03T18:09:34.589546Z",
     "start_time": "2024-07-03T18:09:34.573762Z"
    }
   },
   "outputs": [],
   "source": [
    "data_new = accumulate(data)"
   ]
  },
  {
   "cell_type": "code",
   "execution_count": 56,
   "id": "7fca75d1",
   "metadata": {
    "ExecuteTime": {
     "end_time": "2024-07-03T18:09:35.047043Z",
     "start_time": "2024-07-03T18:09:35.031417Z"
    }
   },
   "outputs": [
    {
     "name": "stdout",
     "output_type": "stream",
     "text": [
      "\n"
     ]
    }
   ],
   "source": [
    "print(*data_new)"
   ]
  },
  {
   "cell_type": "code",
   "execution_count": 57,
   "id": "eb641c93",
   "metadata": {
    "ExecuteTime": {
     "end_time": "2024-07-03T18:09:41.903718Z",
     "start_time": "2024-07-03T18:09:41.872432Z"
    }
   },
   "outputs": [],
   "source": [
    "import operator"
   ]
  },
  {
   "cell_type": "code",
   "execution_count": 58,
   "id": "f8596574",
   "metadata": {
    "ExecuteTime": {
     "end_time": "2024-07-03T18:09:42.186904Z",
     "start_time": "2024-07-03T18:09:42.173312Z"
    }
   },
   "outputs": [
    {
     "name": "stdout",
     "output_type": "stream",
     "text": [
      "[1, 11, 111, 1111, 11111, 11118]\n",
      "[1, 10, 1000, 1000000, 10000000000, 70000000000]\n",
      "[1, 10, 100, 1000, 10000, 10000]\n",
      "[1, 1, 1, 1, 1, 1]\n"
     ]
    }
   ],
   "source": [
    "print(list(accumulate(data)))\n",
    "print(list(accumulate(data, operator.mul)))\n",
    "print(list(accumulate(data, max)))\n",
    "print(list(accumulate(data, min)))"
   ]
  },
  {
   "cell_type": "code",
   "execution_count": 59,
   "id": "0581b36e",
   "metadata": {
    "ExecuteTime": {
     "end_time": "2024-07-03T18:09:45.572555Z",
     "start_time": "2024-07-03T18:09:45.541312Z"
    }
   },
   "outputs": [
    {
     "name": "stdout",
     "output_type": "stream",
     "text": [
      "[100, 101, 103, 106, 110, 115]\n"
     ]
    }
   ],
   "source": [
    "print(list(accumulate([1, 2, 3, 4, 5], initial=100)))"
   ]
  },
  {
   "cell_type": "markdown",
   "id": "c2f980e6",
   "metadata": {},
   "source": [
    "## Функции, фильтрующие данные"
   ]
  },
  {
   "cell_type": "markdown",
   "id": "9c598bb3",
   "metadata": {},
   "source": [
    "### dropwhile(predicate,iterable)\n",
    "\n",
    "Функция dropwhile из модуля itertools в Python используется для создания итератора, который отбрасывает элементы из итерации до тех пор, пока условие, заданное функцией, не станет ложным. После этого все оставшиеся элементы возвращаются как есть, без проверки условия*"
   ]
  },
  {
   "cell_type": "code",
   "execution_count": 60,
   "id": "c67f6b48",
   "metadata": {
    "ExecuteTime": {
     "end_time": "2024-07-03T18:09:57.531724Z",
     "start_time": "2024-07-03T18:09:57.516387Z"
    }
   },
   "outputs": [],
   "source": [
    "from itertools import dropwhile"
   ]
  },
  {
   "cell_type": "code",
   "execution_count": 64,
   "id": "1fe9146e",
   "metadata": {
    "ExecuteTime": {
     "end_time": "2024-07-03T18:09:58.445601Z",
     "start_time": "2024-07-03T18:09:58.429852Z"
    }
   },
   "outputs": [],
   "source": [
    "data = [10,20,30,40,50,60,70,80,90,1,2,3,50]"
   ]
  },
  {
   "cell_type": "code",
   "execution_count": 65,
   "id": "81f5e514",
   "metadata": {
    "ExecuteTime": {
     "end_time": "2024-07-03T18:09:59.488580Z",
     "start_time": "2024-07-03T18:09:59.456721Z"
    }
   },
   "outputs": [],
   "source": [
    "filtered_data = dropwhile(lambda x: x<50, data) # отбрасывать всё, пока выполняется"
   ]
  },
  {
   "cell_type": "code",
   "execution_count": 66,
   "id": "c5eaa7c0",
   "metadata": {
    "ExecuteTime": {
     "end_time": "2024-07-03T18:10:00.102127Z",
     "start_time": "2024-07-03T18:10:00.092347Z"
    }
   },
   "outputs": [
    {
     "name": "stdout",
     "output_type": "stream",
     "text": [
      "50 60 70 80 90 1 2 3 50\n"
     ]
    }
   ],
   "source": [
    "print(*filtered_data)"
   ]
  },
  {
   "cell_type": "markdown",
   "id": "043ce23f",
   "metadata": {},
   "source": [
    "### takewhile(predicate,iterable)"
   ]
  },
  {
   "cell_type": "code",
   "execution_count": 67,
   "id": "1b60053c",
   "metadata": {
    "ExecuteTime": {
     "end_time": "2024-07-03T18:10:02.876272Z",
     "start_time": "2024-07-03T18:10:02.844897Z"
    }
   },
   "outputs": [],
   "source": [
    "from itertools import takewhile"
   ]
  },
  {
   "cell_type": "code",
   "execution_count": 68,
   "id": "65af50c6",
   "metadata": {
    "ExecuteTime": {
     "end_time": "2024-07-03T18:10:03.176404Z",
     "start_time": "2024-07-03T18:10:03.160962Z"
    }
   },
   "outputs": [],
   "source": [
    "data = [10,20,30,40,50,60,70,80,90,1,2,3]"
   ]
  },
  {
   "cell_type": "code",
   "execution_count": 69,
   "id": "455239a9",
   "metadata": {
    "ExecuteTime": {
     "end_time": "2024-07-03T18:10:04.169349Z",
     "start_time": "2024-07-03T18:10:04.153238Z"
    }
   },
   "outputs": [],
   "source": [
    "filtered_data = takewhile(lambda x: x<50, data) # брать всё, пока выполняется"
   ]
  },
  {
   "cell_type": "code",
   "execution_count": 70,
   "id": "9b3e5dfc",
   "metadata": {
    "ExecuteTime": {
     "end_time": "2024-07-03T18:10:06.128575Z",
     "start_time": "2024-07-03T18:10:06.097410Z"
    }
   },
   "outputs": [
    {
     "name": "stdout",
     "output_type": "stream",
     "text": [
      "10 20 30 40\n"
     ]
    }
   ],
   "source": [
    "print(*filtered_data)"
   ]
  },
  {
   "cell_type": "markdown",
   "id": "3b0afed5",
   "metadata": {},
   "source": [
    "### filterfalse(predicate, iterable)"
   ]
  },
  {
   "cell_type": "code",
   "execution_count": 75,
   "id": "963b0a39",
   "metadata": {
    "ExecuteTime": {
     "end_time": "2024-07-03T18:10:17.833826Z",
     "start_time": "2024-07-03T18:10:17.817895Z"
    }
   },
   "outputs": [],
   "source": [
    "from itertools import filterfalse\n",
    "# как filter только наоборот?"
   ]
  },
  {
   "cell_type": "code",
   "execution_count": 72,
   "id": "f7117d87",
   "metadata": {
    "ExecuteTime": {
     "end_time": "2024-07-03T18:10:19.139207Z",
     "start_time": "2024-07-03T18:10:19.107753Z"
    }
   },
   "outputs": [],
   "source": [
    "data = [10,20,30,40,50,60,70,80,90,1,2,3]"
   ]
  },
  {
   "cell_type": "code",
   "execution_count": 73,
   "id": "e8a24c84",
   "metadata": {
    "ExecuteTime": {
     "end_time": "2024-07-03T18:10:19.939683Z",
     "start_time": "2024-07-03T18:10:19.908703Z"
    }
   },
   "outputs": [],
   "source": [
    "filtered_data = filterfalse(lambda x: x not in [20,50,70], data)  # отбирает, где не сработало условие"
   ]
  },
  {
   "cell_type": "code",
   "execution_count": 74,
   "id": "708825ee",
   "metadata": {
    "ExecuteTime": {
     "end_time": "2024-07-03T18:10:20.727287Z",
     "start_time": "2024-07-03T18:10:20.711659Z"
    }
   },
   "outputs": [
    {
     "name": "stdout",
     "output_type": "stream",
     "text": [
      "20 50 70\n"
     ]
    }
   ],
   "source": [
    "print(*filtered_data)"
   ]
  },
  {
   "cell_type": "markdown",
   "id": "f6fda694",
   "metadata": {},
   "source": [
    "### compress(iterable, mask)"
   ]
  },
  {
   "cell_type": "code",
   "execution_count": 76,
   "id": "cbe66bd2",
   "metadata": {
    "ExecuteTime": {
     "end_time": "2024-07-03T18:10:23.595622Z",
     "start_time": "2024-07-03T18:10:23.580082Z"
    }
   },
   "outputs": [],
   "source": [
    "from itertools import compress"
   ]
  },
  {
   "cell_type": "code",
   "execution_count": 77,
   "id": "e494e1ef",
   "metadata": {
    "ExecuteTime": {
     "end_time": "2024-07-03T18:10:23.768453Z",
     "start_time": "2024-07-03T18:10:23.737985Z"
    }
   },
   "outputs": [],
   "source": [
    "data = [10,20,30,40,50]"
   ]
  },
  {
   "cell_type": "code",
   "execution_count": 78,
   "id": "df0c70e0",
   "metadata": {
    "ExecuteTime": {
     "end_time": "2024-07-03T18:10:23.918370Z",
     "start_time": "2024-07-03T18:10:23.903682Z"
    }
   },
   "outputs": [],
   "source": [
    "filtered_data = compress(data, (1,0,0,1,0))  # аналогично [True, False, False, True, False]"
   ]
  },
  {
   "cell_type": "code",
   "execution_count": 79,
   "id": "ba138e2b",
   "metadata": {
    "ExecuteTime": {
     "end_time": "2024-07-03T18:10:24.106542Z",
     "start_time": "2024-07-03T18:10:24.075526Z"
    }
   },
   "outputs": [
    {
     "name": "stdout",
     "output_type": "stream",
     "text": [
      "10 40\n"
     ]
    }
   ],
   "source": [
    "print(*filtered_data)"
   ]
  },
  {
   "cell_type": "markdown",
   "id": "7caff954",
   "metadata": {},
   "source": [
    "- Если длина маски меньше длины data, то элементы, которые не покрыты маской, просто игнорируются.\n",
    "- Если маска длиннее, чем data, лишние элементы маски также игнорируются."
   ]
  },
  {
   "cell_type": "markdown",
   "id": "d6fd00b0",
   "metadata": {},
   "source": [
    "###  islice(iterable, start=0, stop, step=1)"
   ]
  },
  {
   "cell_type": "markdown",
   "id": "aef0443c",
   "metadata": {},
   "source": [
    "Функция islice из модуля itertools в Python позволяет извлекать срезы из итерируемых объектов (например, списков, строк, файлов и т. д.) без необходимости полностью материализовать их в память. Это особенно полезно для работы с большими данными или бесконечными итераторами."
   ]
  },
  {
   "cell_type": "code",
   "execution_count": 86,
   "id": "8a4dc274",
   "metadata": {
    "ExecuteTime": {
     "end_time": "2024-07-03T18:10:25.793875Z",
     "start_time": "2024-07-03T18:10:25.777050Z"
    }
   },
   "outputs": [],
   "source": [
    "from itertools import islice"
   ]
  },
  {
   "cell_type": "code",
   "execution_count": 87,
   "id": "4b96d129",
   "metadata": {
    "ExecuteTime": {
     "end_time": "2024-07-03T18:10:26.014613Z",
     "start_time": "2024-07-03T18:10:25.983495Z"
    }
   },
   "outputs": [],
   "source": [
    "data = [10,20,30,40,50]"
   ]
  },
  {
   "cell_type": "code",
   "execution_count": 88,
   "id": "a58340b8",
   "metadata": {
    "ExecuteTime": {
     "end_time": "2024-07-03T18:10:26.187715Z",
     "start_time": "2024-07-03T18:10:26.156426Z"
    }
   },
   "outputs": [],
   "source": [
    "filtered_data = islice(data,3)"
   ]
  },
  {
   "cell_type": "code",
   "execution_count": 89,
   "id": "87812980",
   "metadata": {
    "ExecuteTime": {
     "end_time": "2024-07-03T18:10:26.362180Z",
     "start_time": "2024-07-03T18:10:26.330602Z"
    }
   },
   "outputs": [
    {
     "name": "stdout",
     "output_type": "stream",
     "text": [
      "10 20 30\n"
     ]
    }
   ],
   "source": [
    "print(*filtered_data)"
   ]
  },
  {
   "cell_type": "code",
   "execution_count": 90,
   "id": "fd549f71",
   "metadata": {
    "ExecuteTime": {
     "end_time": "2024-07-03T18:10:26.520196Z",
     "start_time": "2024-07-03T18:10:26.505169Z"
    }
   },
   "outputs": [],
   "source": [
    "filtered_data = islice(data,1,None,2)"
   ]
  },
  {
   "cell_type": "code",
   "execution_count": 91,
   "id": "332fe1f7",
   "metadata": {
    "ExecuteTime": {
     "end_time": "2024-07-03T18:10:26.896183Z",
     "start_time": "2024-07-03T18:10:26.864533Z"
    }
   },
   "outputs": [
    {
     "name": "stdout",
     "output_type": "stream",
     "text": [
      "20 40\n"
     ]
    }
   ],
   "source": [
    "print(*filtered_data)"
   ]
  },
  {
   "cell_type": "markdown",
   "id": "fe3ec003",
   "metadata": {},
   "source": [
    "## Функции, объединяющие и разделяющие данные"
   ]
  },
  {
   "cell_type": "markdown",
   "id": "cdb3daea",
   "metadata": {},
   "source": [
    "### chain(*iterables)"
   ]
  },
  {
   "cell_type": "markdown",
   "id": "39c3085a",
   "metadata": {},
   "source": [
    "Используется для последовательного объединения нескольких итерируемых объектов (например, списков, строк, кортежей и т. д.) в один итератор. Этот итератор будет итерироваться по каждому переданному объекту в том порядке, в котором они переданы."
   ]
  },
  {
   "cell_type": "code",
   "execution_count": 92,
   "id": "0ee8349f",
   "metadata": {
    "ExecuteTime": {
     "end_time": "2024-07-03T18:10:32.911150Z",
     "start_time": "2024-07-03T18:10:32.895277Z"
    }
   },
   "outputs": [],
   "source": [
    "from itertools import chain"
   ]
  },
  {
   "cell_type": "code",
   "execution_count": 93,
   "id": "d68d4e75",
   "metadata": {
    "ExecuteTime": {
     "end_time": "2024-07-03T18:10:33.998518Z",
     "start_time": "2024-07-03T18:10:33.966867Z"
    }
   },
   "outputs": [
    {
     "data": {
      "text/plain": [
       "<itertools.chain at 0x1a6ada00700>"
      ]
     },
     "execution_count": 93,
     "metadata": {},
     "output_type": "execute_result"
    }
   ],
   "source": [
    "data_numbers = [1,2,10,33,77,100]\n",
    "data_words = ['fox','dog','cat']\n",
    "\n",
    "chain1 = chain(data_numbers, data_words)\n",
    "chain1"
   ]
  },
  {
   "cell_type": "code",
   "execution_count": 94,
   "id": "3d766a1a",
   "metadata": {
    "ExecuteTime": {
     "end_time": "2024-07-03T18:10:36.739699Z",
     "start_time": "2024-07-03T18:10:36.708293Z"
    },
    "scrolled": true
   },
   "outputs": [
    {
     "name": "stdout",
     "output_type": "stream",
     "text": [
      "1 2 10 33 77 100 fox dog cat\n"
     ]
    }
   ],
   "source": [
    "print(*chain1)"
   ]
  },
  {
   "cell_type": "code",
   "execution_count": 95,
   "id": "daf70658",
   "metadata": {
    "ExecuteTime": {
     "end_time": "2024-07-03T18:10:42.541062Z",
     "start_time": "2024-07-03T18:10:42.511410Z"
    }
   },
   "outputs": [],
   "source": [
    "mix_data = [[1,2],[3,4,5],[6,[7],[8,9,[10]]]]"
   ]
  },
  {
   "cell_type": "code",
   "execution_count": 96,
   "id": "44b31e45",
   "metadata": {
    "ExecuteTime": {
     "end_time": "2024-07-03T18:10:43.312319Z",
     "start_time": "2024-07-03T18:10:43.281148Z"
    }
   },
   "outputs": [],
   "source": [
    "line_data = chain.from_iterable(mix_data) "
   ]
  },
  {
   "cell_type": "code",
   "execution_count": 97,
   "id": "64452efb",
   "metadata": {
    "ExecuteTime": {
     "end_time": "2024-07-03T18:10:43.940549Z",
     "start_time": "2024-07-03T18:10:43.925299Z"
    }
   },
   "outputs": [
    {
     "name": "stdout",
     "output_type": "stream",
     "text": [
      "1 2 3 4 5 6 [7] [8, 9, [10]]\n"
     ]
    }
   ],
   "source": [
    "print(*line_data)"
   ]
  },
  {
   "cell_type": "markdown",
   "id": "130059e8",
   "metadata": {},
   "source": [
    "### zip_longest(*iterables, fill_value)"
   ]
  },
  {
   "cell_type": "markdown",
   "id": "30aadd9f",
   "metadata": {},
   "source": [
    "функция zip() возвращает итератор, объединяющий элементы нескольких итерируемых объектов в кортежи. При этом функция zip() прекращает работу, как только исчерпывается самый короткий итерируемый объект. Чтобы обеспечить обработку всех входных элементов, когда итерируемые объекты имеют разные длины, используется функция zip_longest()"
   ]
  },
  {
   "cell_type": "code",
   "execution_count": 98,
   "id": "e4211057",
   "metadata": {
    "ExecuteTime": {
     "end_time": "2024-07-03T18:11:04.790888Z",
     "start_time": "2024-07-03T18:11:04.775279Z"
    }
   },
   "outputs": [],
   "source": [
    "from itertools import zip_longest"
   ]
  },
  {
   "cell_type": "code",
   "execution_count": 99,
   "id": "bad57a5a",
   "metadata": {
    "ExecuteTime": {
     "end_time": "2024-07-03T18:11:05.296856Z",
     "start_time": "2024-07-03T18:11:05.280683Z"
    }
   },
   "outputs": [],
   "source": [
    "data1 = [10,20,30,40,50]\n",
    "data2 = ['A','B','C']\n",
    "data3 = ['hello']\n",
    "data4 = [1,2,3,4]"
   ]
  },
  {
   "cell_type": "code",
   "execution_count": 100,
   "id": "6cb197fe",
   "metadata": {
    "ExecuteTime": {
     "end_time": "2024-07-03T18:11:06.997483Z",
     "start_time": "2024-07-03T18:11:06.966535Z"
    }
   },
   "outputs": [
    {
     "name": "stdout",
     "output_type": "stream",
     "text": [
      "(10, 'A', 'hello', 1)\n"
     ]
    }
   ],
   "source": [
    "print(*zip(data1, data2,data3,data4))"
   ]
  },
  {
   "cell_type": "code",
   "execution_count": 101,
   "id": "5ecd0be0",
   "metadata": {
    "ExecuteTime": {
     "end_time": "2024-07-03T18:11:17.120612Z",
     "start_time": "2024-07-03T18:11:17.104722Z"
    }
   },
   "outputs": [
    {
     "name": "stdout",
     "output_type": "stream",
     "text": [
      "(10, 'A', 'hello', 1) (20, 'B', None, 2) (30, 'C', None, 3) (40, None, None, 4) (50, None, None, None)\n"
     ]
    }
   ],
   "source": [
    "print(*zip_longest(data1, data2,data3,data4, fillvalue=None))"
   ]
  },
  {
   "cell_type": "markdown",
   "id": "0bb355c9",
   "metadata": {},
   "source": [
    "### tee()\n",
    "позволяет создать несколько независимых итераторов на основе одного и того же итерируемого объекта."
   ]
  },
  {
   "cell_type": "code",
   "execution_count": 102,
   "id": "3be8b979",
   "metadata": {
    "ExecuteTime": {
     "end_time": "2024-07-03T18:11:33.711897Z",
     "start_time": "2024-07-03T18:11:33.696289Z"
    }
   },
   "outputs": [],
   "source": [
    "from itertools import tee"
   ]
  },
  {
   "cell_type": "code",
   "execution_count": 103,
   "id": "e9b4bf67",
   "metadata": {
    "ExecuteTime": {
     "end_time": "2024-07-03T18:11:34.138106Z",
     "start_time": "2024-07-03T18:11:34.121973Z"
    }
   },
   "outputs": [],
   "source": [
    "data = ['fire','water','stone']"
   ]
  },
  {
   "cell_type": "code",
   "execution_count": 104,
   "id": "e9e65e39",
   "metadata": {
    "ExecuteTime": {
     "end_time": "2024-07-03T18:11:34.516599Z",
     "start_time": "2024-07-03T18:11:34.489998Z"
    }
   },
   "outputs": [],
   "source": [
    "iter1, iter2 = tee(data)"
   ]
  },
  {
   "cell_type": "code",
   "execution_count": 106,
   "id": "1110bb39",
   "metadata": {},
   "outputs": [
    {
     "name": "stdout",
     "output_type": "stream",
     "text": [
      "fire water stone\n",
      "fire water stone\n"
     ]
    }
   ],
   "source": [
    "print(*iter1)\n",
    "print(*iter2)"
   ]
  },
  {
   "cell_type": "code",
   "execution_count": 107,
   "id": "d63d571a",
   "metadata": {
    "ExecuteTime": {
     "end_time": "2024-07-03T18:11:35.589122Z",
     "start_time": "2024-07-03T18:11:35.557591Z"
    }
   },
   "outputs": [
    {
     "name": "stdout",
     "output_type": "stream",
     "text": [
      "<itertools._tee object at 0x000001A6ADAAE240> <itertools._tee object at 0x000001A6ADAAECC0>\n"
     ]
    }
   ],
   "source": [
    "iter3 = tee(data)\n",
    "print(*iter3)"
   ]
  },
  {
   "cell_type": "markdown",
   "id": "c22ab938",
   "metadata": {},
   "source": [
    "### pairwise(iterable)"
   ]
  },
  {
   "cell_type": "code",
   "execution_count": 112,
   "id": "3238b25d",
   "metadata": {
    "ExecuteTime": {
     "end_time": "2024-07-03T18:11:38.378826Z",
     "start_time": "2024-07-03T18:11:38.331638Z"
    }
   },
   "outputs": [
    {
     "ename": "ImportError",
     "evalue": "cannot import name 'pairwise' from 'itertools' (unknown location)",
     "output_type": "error",
     "traceback": [
      "\u001b[1;31m---------------------------------------------------------------------------\u001b[0m",
      "\u001b[1;31mImportError\u001b[0m                               Traceback (most recent call last)",
      "Cell \u001b[1;32mIn[112], line 1\u001b[0m\n\u001b[1;32m----> 1\u001b[0m \u001b[38;5;28;01mfrom\u001b[39;00m \u001b[38;5;21;01mitertools\u001b[39;00m \u001b[38;5;28;01mimport\u001b[39;00m pairwise\n",
      "\u001b[1;31mImportError\u001b[0m: cannot import name 'pairwise' from 'itertools' (unknown location)"
     ]
    }
   ],
   "source": [
    "from itertools import pairwise  # проверь версию!"
   ]
  },
  {
   "cell_type": "code",
   "execution_count": 109,
   "id": "f143b1d8",
   "metadata": {
    "ExecuteTime": {
     "end_time": "2024-07-03T18:11:40.333388Z",
     "start_time": "2024-07-03T18:11:40.317761Z"
    }
   },
   "outputs": [
    {
     "name": "stdout",
     "output_type": "stream",
     "text": [
      "3.9.18 (main, Sep 11 2023, 14:09:26) [MSC v.1916 64 bit (AMD64)]\n"
     ]
    }
   ],
   "source": [
    "import sys\n",
    "print(sys.version)"
   ]
  },
  {
   "cell_type": "code",
   "execution_count": 110,
   "id": "ec19de2e",
   "metadata": {
    "ExecuteTime": {
     "end_time": "2024-07-03T18:11:54.361040Z",
     "start_time": "2024-07-03T18:11:54.251135Z"
    }
   },
   "outputs": [
    {
     "name": "stdout",
     "output_type": "stream",
     "text": [
      "Python 3.9.18\n"
     ]
    }
   ],
   "source": [
    "!python --version\n"
   ]
  },
  {
   "cell_type": "markdown",
   "id": "8d1a3d69",
   "metadata": {},
   "source": [
    "## Функции, группирующие данные"
   ]
  },
  {
   "cell_type": "code",
   "execution_count": null,
   "id": "2ed9d3c8",
   "metadata": {
    "ExecuteTime": {
     "end_time": "2024-07-04T12:07:10.986530Z",
     "start_time": "2024-07-04T12:07:10.968979Z"
    }
   },
   "outputs": [],
   "source": [
    "from itertools import groupby"
   ]
  },
  {
   "cell_type": "code",
   "execution_count": null,
   "id": "341b5053",
   "metadata": {
    "ExecuteTime": {
     "end_time": "2024-07-04T12:07:43.474637Z",
     "start_time": "2024-07-04T12:07:43.455652Z"
    }
   },
   "outputs": [],
   "source": [
    "data = [1,1,2,2,2,3,3,3,3,2,2,2,1,4,5,5,5,5]"
   ]
  },
  {
   "cell_type": "code",
   "execution_count": null,
   "id": "3f71280e",
   "metadata": {
    "ExecuteTime": {
     "end_time": "2024-07-04T12:08:05.237611Z",
     "start_time": "2024-07-04T12:08:05.220230Z"
    }
   },
   "outputs": [],
   "source": [
    "print(*groupby(data))"
   ]
  },
  {
   "attachments": {
    "image.png": {
     "image/png": "[encoded data removed]"
    }
   },
   "cell_type": "markdown",
   "id": "b43da345",
   "metadata": {},
   "source": [
    "![image.png](attachment:image.png)"
   ]
  },
  {
   "cell_type": "code",
   "execution_count": null,
   "id": "e80ec01f",
   "metadata": {
    "ExecuteTime": {
     "end_time": "2024-07-04T12:09:16.175908Z",
     "start_time": "2024-07-04T12:09:16.164699Z"
    }
   },
   "outputs": [],
   "source": [
    "for key, it in groupby(data):\n",
    "    print(key,\":\",*it)"
   ]
  },
  {
   "cell_type": "code",
   "execution_count": null,
   "id": "b2d163fd",
   "metadata": {
    "ExecuteTime": {
     "end_time": "2024-07-04T12:10:03.867311Z",
     "start_time": "2024-07-04T12:10:03.845866Z"
    }
   },
   "outputs": [],
   "source": [
    "# лучше отсортировать \n",
    "for key, it in groupby(sorted(data)):\n",
    "    print(key,\":\",*it)"
   ]
  },
  {
   "cell_type": "code",
   "execution_count": null,
   "id": "975430fb",
   "metadata": {
    "ExecuteTime": {
     "end_time": "2024-07-04T12:12:18.617166Z",
     "start_time": "2024-07-04T12:12:18.597189Z"
    }
   },
   "outputs": [],
   "source": [
    "# использование параметра key\n",
    "age_list = [14,16,23,35,17,36,29,54,11,6,18,12,22,21,15,61]\n",
    "\n",
    "for key, it in groupby(age_list, lambda age: age>=18):\n",
    "    print(key,\":\",*it)"
   ]
  },
  {
   "cell_type": "code",
   "execution_count": null,
   "id": "43f433c3",
   "metadata": {
    "ExecuteTime": {
     "end_time": "2024-07-04T12:13:24.908685Z",
     "start_time": "2024-07-04T12:13:24.894917Z"
    },
    "scrolled": true
   },
   "outputs": [],
   "source": [
    "# лучше сортировать по этому же ключу\n",
    "for key, it in groupby(sorted(age_list,key=lambda age: age>=18), lambda age: age>=18):\n",
    "    print(key,\":\",*it)"
   ]
  },
  {
   "cell_type": "markdown",
   "id": "c8357772",
   "metadata": {},
   "source": [
    "### Функции, порождающие комбинаторные данные"
   ]
  },
  {
   "cell_type": "code",
   "execution_count": null,
   "id": "a82e9e38",
   "metadata": {
    "ExecuteTime": {
     "end_time": "2024-07-05T13:01:21.104094Z",
     "start_time": "2024-07-05T13:01:21.084709Z"
    }
   },
   "outputs": [],
   "source": [
    "from itertools import permutations"
   ]
  },
  {
   "cell_type": "code",
   "execution_count": null,
   "id": "18b08c09",
   "metadata": {
    "ExecuteTime": {
     "end_time": "2024-07-05T13:11:16.244938Z",
     "start_time": "2024-07-05T13:11:16.234710Z"
    }
   },
   "outputs": [],
   "source": [
    "s = '123333'\n",
    "s = set(s)\n",
    "s = sorted(s)\n",
    "for t in permutations(s):\n",
    "    print(''.join(t))"
   ]
  },
  {
   "cell_type": "code",
   "execution_count": null,
   "id": "db7a3ed1",
   "metadata": {
    "ExecuteTime": {
     "end_time": "2024-07-05T13:22:33.510393Z",
     "start_time": "2024-07-05T13:22:33.489759Z"
    }
   },
   "outputs": [],
   "source": [
    "from itertools import combinations\n",
    "a = [1,2,3,4]\n",
    "print(*combinations(a,3))"
   ]
  },
  {
   "cell_type": "code",
   "execution_count": null,
   "id": "633ce372",
   "metadata": {
    "ExecuteTime": {
     "end_time": "2024-07-05T13:23:18.737775Z",
     "start_time": "2024-07-05T13:23:18.725192Z"
    }
   },
   "outputs": [],
   "source": [
    "from itertools import combinations_with_replacement\n",
    "a = [1,2,3,4]\n",
    "print(*combinations_with_replacement(a,3))"
   ]
  },
  {
   "cell_type": "code",
   "execution_count": null,
   "id": "1144622f",
   "metadata": {
    "ExecuteTime": {
     "end_time": "2024-07-06T12:21:06.136532Z",
     "start_time": "2024-07-06T12:21:06.089509Z"
    }
   },
   "outputs": [],
   "source": [
    "from itertools import product"
   ]
  },
  {
   "cell_type": "code",
   "execution_count": null,
   "id": "6fe07473",
   "metadata": {
    "ExecuteTime": {
     "end_time": "2024-07-06T12:21:30.806648Z",
     "start_time": "2024-07-06T12:21:30.790621Z"
    }
   },
   "outputs": [],
   "source": [
    "a = [1,2,3]\n",
    "b = ['a', 'b', 'c']\n",
    "d = [True, False]"
   ]
  },
  {
   "cell_type": "code",
   "execution_count": null,
   "id": "83ad55ad",
   "metadata": {
    "ExecuteTime": {
     "end_time": "2024-07-06T12:21:42.878519Z",
     "start_time": "2024-07-06T12:21:42.858365Z"
    }
   },
   "outputs": [],
   "source": [
    "print(*product(a,b))"
   ]
  },
  {
   "cell_type": "code",
   "execution_count": null,
   "id": "3df72405",
   "metadata": {
    "ExecuteTime": {
     "end_time": "2024-07-06T12:21:56.564144Z",
     "start_time": "2024-07-06T12:21:56.544413Z"
    }
   },
   "outputs": [],
   "source": [
    "print(*product(a,d))"
   ]
  },
  {
   "cell_type": "code",
   "execution_count": null,
   "id": "d4ef7690",
   "metadata": {
    "ExecuteTime": {
     "end_time": "2024-07-06T12:23:19.814566Z",
     "start_time": "2024-07-06T12:23:19.794482Z"
    }
   },
   "outputs": [],
   "source": [
    "print(*product(d,repeat=2)) # то же что и print(*product(d,d))"
   ]
  },
  {
   "cell_type": "code",
   "execution_count": null,
   "id": "ce2a8991",
   "metadata": {},
   "outputs": [],
   "source": []
  }
 ],
 "metadata": {
  "kernelspec": {
   "display_name": "Python 3.12",
   "language": "python",
   "name": "python3.12"
  },
  "language_info": {
   "codemirror_mode": {
    "name": "ipython",
    "version": 3
   },
   "file_extension": ".py",
   "mimetype": "text/x-python",
   "name": "python",
   "nbconvert_exporter": "python",
   "pygments_lexer": "ipython3",
   "version": "3.9.18"
  },
  "nbTranslate": {
   "displayLangs": [
    "*"
   ],
   "hotkey": "alt-t",
   "langInMainMenu": true,
   "sourceLang": "en",
   "targetLang": "ru",
   "useGoogleTranslate": true
  },
  "toc": {
   "base_numbering": 1,
   "nav_menu": {},
   "number_sections": true,
   "sideBar": true,
   "skip_h1_title": false,
   "title_cell": "Table of Contents",
   "title_sidebar": "Contents",
   "toc_cell": false,
   "toc_position": {
    "height": "calc(100% - 180px)",
    "left": "10px",
    "top": "150px",
    "width": "309.352px"
   },
   "toc_section_display": true,
   "toc_window_display": false
  },
  "varInspector": {
   "cols": {
    "lenName": 16,
    "lenType": 16,
    "lenVar": 40
   },
   "kernels_config": {
    "python": {
     "delete_cmd_postfix": "",
     "delete_cmd_prefix": "del ",
     "library": "var_list.py",
     "varRefreshCmd": "print(var_dic_list())"
    },
    "r": {
     "delete_cmd_postfix": ") ",
     "delete_cmd_prefix": "rm(",
     "library": "var_list.r",
     "varRefreshCmd": "cat(var_dic_list()) "
    }
   },
   "types_to_exclude": [
    "module",
    "function",
    "builtin_function_or_method",
    "instance",
    "_Feature"
   ],
   "window_display": false
  }
 },
 "nbformat": 4,
 "nbformat_minor": 5
}
