{
 "cells": [
  {
   "cell_type": "markdown",
   "id": "c84b124b",
   "metadata": {},
   "source": [
    "# Практика по генераторам"
   ]
  },
  {
   "cell_type": "code",
   "execution_count": 1,
   "id": "e189769f",
   "metadata": {},
   "outputs": [],
   "source": [
    "# генератор простых чисел в диапазоне"
   ]
  },
  {
   "cell_type": "code",
   "execution_count": 2,
   "id": "ae94f30b",
   "metadata": {},
   "outputs": [],
   "source": [
    "# функция, проверяющая, простое ли число\n",
    "\n",
    "def is_prime(x):\n",
    "    if x==1:\n",
    "        return False\n",
    "    for d in range(2,int(x**0.5)+1):\n",
    "        if x%d == 0:\n",
    "            return False\n",
    "    return True\n",
    "\n",
    "# генератор-функция\n",
    "def primes(left,right):\n",
    "    for i in range(left, right+1):\n",
    "        if is_prime(i):\n",
    "            yield i"
   ]
  },
  {
   "cell_type": "code",
   "execution_count": 4,
   "id": "70a2a2a4",
   "metadata": {},
   "outputs": [
    {
     "name": "stdout",
     "output_type": "stream",
     "text": [
      "2 3 5 7 11 13 17 19 23 29 31 37 41 43 47\n"
     ]
    }
   ],
   "source": [
    "print(*primes(1,50))"
   ]
  },
  {
   "cell_type": "code",
   "execution_count": 5,
   "id": "bb0b9d42",
   "metadata": {},
   "outputs": [],
   "source": [
    "# генератор, выдающий элементы с конца "
   ]
  },
  {
   "cell_type": "code",
   "execution_count": 6,
   "id": "3a85ea80",
   "metadata": {},
   "outputs": [],
   "source": [
    "def reverse(sequence):\n",
    "    for el in sequence[::-1]:\n",
    "        yield el"
   ]
  },
  {
   "cell_type": "code",
   "execution_count": 8,
   "id": "e47810d4",
   "metadata": {},
   "outputs": [
    {
     "name": "stdout",
     "output_type": "stream",
     "text": [
      "4 3 2 1\n"
     ]
    }
   ],
   "source": [
    "print(*reverse([1,2,3,4]))"
   ]
  },
  {
   "cell_type": "code",
   "execution_count": null,
   "id": "dd255fae",
   "metadata": {},
   "outputs": [],
   "source": [
    "# генератор, порождающий последовательность дат"
   ]
  },
  {
   "cell_type": "code",
   "execution_count": 9,
   "id": "8482099f",
   "metadata": {},
   "outputs": [],
   "source": [
    "from datetime import datetime, timedelta, date\n",
    "\n",
    "def dates(start,count=None):\n",
    "    if count:\n",
    "        for _ in range(count):\n",
    "            yield start\n",
    "            start+=timedelta(days=1)\n",
    "    else:\n",
    "        while True:\n",
    "            yield start\n",
    "            if start == date.max:\n",
    "                returnи\n",
    "            start+=timedelta(days=1)\n",
    "            \n",
    "    "
   ]
  },
  {
   "cell_type": "code",
   "execution_count": 10,
   "id": "2faaf857",
   "metadata": {},
   "outputs": [],
   "source": [
    "def card_deck(suit):\n",
    "    coloda = [f'{j} {i}' for i in (\"пик\", \"треф\", \"бубен\", \"червей\") for j in (\"2\", \"3\", \"4\", \"5\", \"6\", \"7\", \"8\", \"9\", \"10\", \"валет\", \"дама\", \"король\", \"туз\") if i != suit]\n",
    "    for i in coloda:\n",
    "        yield i\n",
    "    \n"
   ]
  },
  {
   "cell_type": "code",
   "execution_count": 11,
   "id": "11c1801c",
   "metadata": {},
   "outputs": [],
   "source": [
    "card_deck1 = card_deck('пик')"
   ]
  },
  {
   "cell_type": "code",
   "execution_count": 12,
   "id": "d149a464",
   "metadata": {},
   "outputs": [
    {
     "name": "stdout",
     "output_type": "stream",
     "text": [
      "2 треф 3 треф 4 треф 5 треф 6 треф 7 треф 8 треф 9 треф 10 треф валет треф дама треф король треф туз треф 2 бубен 3 бубен 4 бубен 5 бубен 6 бубен 7 бубен 8 бубен 9 бубен 10 бубен валет бубен дама бубен король бубен туз бубен 2 червей 3 червей 4 червей 5 червей 6 червей 7 червей 8 червей 9 червей 10 червей валет червей дама червей король червей туз червей\n"
     ]
    }
   ],
   "source": [
    "print(*card_deck1)"
   ]
  }
 ],
 "metadata": {
  "kernelspec": {
   "display_name": "Python 3 (ipykernel)",
   "language": "python",
   "name": "python3"
  },
  "language_info": {
   "codemirror_mode": {
    "name": "ipython",
    "version": 3
   },
   "file_extension": ".py",
   "mimetype": "text/x-python",
   "name": "python",
   "nbconvert_exporter": "python",
   "pygments_lexer": "ipython3",
   "version": "3.9.18"
  },
  "nbTranslate": {
   "displayLangs": [
    "*"
   ],
   "hotkey": "alt-t",
   "langInMainMenu": true,
   "sourceLang": "en",
   "targetLang": "ru",
   "useGoogleTranslate": true
  },
  "toc": {
   "base_numbering": 1,
   "nav_menu": {},
   "number_sections": true,
   "sideBar": true,
   "skip_h1_title": false,
   "title_cell": "Table of Contents",
   "title_sidebar": "Contents",
   "toc_cell": false,
   "toc_position": {},
   "toc_section_display": true,
   "toc_window_display": false
  },
  "varInspector": {
   "cols": {
    "lenName": 16,
    "lenType": 16,
    "lenVar": 40
   },
   "kernels_config": {
    "python": {
     "delete_cmd_postfix": "",
     "delete_cmd_prefix": "del ",
     "library": "var_list.py",
     "varRefreshCmd": "print(var_dic_list())"
    },
    "r": {
     "delete_cmd_postfix": ") ",
     "delete_cmd_prefix": "rm(",
     "library": "var_list.r",
     "varRefreshCmd": "cat(var_dic_list()) "
    }
   },
   "types_to_exclude": [
    "module",
    "function",
    "builtin_function_or_method",
    "instance",
    "_Feature"
   ],
   "window_display": false
  }
 },
 "nbformat": 4,
 "nbformat_minor": 5
}
