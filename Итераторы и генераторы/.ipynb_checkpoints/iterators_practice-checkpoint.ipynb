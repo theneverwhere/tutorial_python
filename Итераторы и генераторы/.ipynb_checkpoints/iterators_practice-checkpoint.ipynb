{
 "cells": [
  {
   "cell_type": "markdown",
   "id": "304a2ca1",
   "metadata": {},
   "source": [
    "## Практика на тему \"итераторы\""
   ]
  },
  {
   "cell_type": "code",
   "execution_count": 1,
   "id": "aa99ec50",
   "metadata": {},
   "outputs": [],
   "source": [
    "# итераротор, генерирующий входное значение бесконечно раз"
   ]
  },
  {
   "cell_type": "code",
   "execution_count": 2,
   "id": "bbbc9487",
   "metadata": {},
   "outputs": [],
   "source": [
    "class Repeater:\n",
    "    \n",
    "    def __init__(self, obj):\n",
    "        self.value = obj\n",
    "    \n",
    "    def __iter__(self):\n",
    "        return self\n",
    "    \n",
    "    def __next__(self):\n",
    "        return self.value"
   ]
  },
  {
   "cell_type": "code",
   "execution_count": 3,
   "id": "5d7146a1",
   "metadata": {},
   "outputs": [
    {
     "name": "stdout",
     "output_type": "stream",
     "text": [
      "hello world!\n",
      "hello world!\n",
      "hello world!\n"
     ]
    }
   ],
   "source": [
    "hello = Repeater('hello world!')\n",
    "\n",
    "print(next(hello))\n",
    "print(next(hello))\n",
    "print(next(hello))"
   ]
  },
  {
   "cell_type": "code",
   "execution_count": 10,
   "id": "b9afba27",
   "metadata": {},
   "outputs": [],
   "source": [
    "# итератор, генерирующмй значение указанное количество раз"
   ]
  },
  {
   "cell_type": "code",
   "execution_count": 4,
   "id": "c852d548",
   "metadata": {},
   "outputs": [],
   "source": [
    "class BoundedRepeater:\n",
    "    \n",
    "    def __init__(self, obj, time):\n",
    "        self.obj = obj\n",
    "        self.time = time\n",
    "        self.index = 0\n",
    "        \n",
    "    def __iter__(self):\n",
    "        return self\n",
    "    \n",
    "    def __next__(self):\n",
    "        if self.index >= self.time:\n",
    "            raise StopIteration\n",
    "        else:\n",
    "            self.index += 1\n",
    "            return self.obj"
   ]
  },
  {
   "cell_type": "code",
   "execution_count": 5,
   "id": "99ea17c5",
   "metadata": {},
   "outputs": [],
   "source": [
    "my_iterator = BoundedRepeater('hi!',2)"
   ]
  },
  {
   "cell_type": "code",
   "execution_count": 8,
   "id": "44e4b64a",
   "metadata": {},
   "outputs": [
    {
     "ename": "StopIteration",
     "evalue": "",
     "output_type": "error",
     "traceback": [
      "\u001b[1;31m---------------------------------------------------------------------------\u001b[0m",
      "\u001b[1;31mStopIteration\u001b[0m                             Traceback (most recent call last)",
      "Cell \u001b[1;32mIn[8], line 1\u001b[0m\n\u001b[1;32m----> 1\u001b[0m \u001b[38;5;28;43mnext\u001b[39;49m\u001b[43m(\u001b[49m\u001b[43mmy_iterator\u001b[49m\u001b[43m)\u001b[49m\n",
      "Cell \u001b[1;32mIn[4], line 13\u001b[0m, in \u001b[0;36mBoundedRepeater.__next__\u001b[1;34m(self)\u001b[0m\n\u001b[0;32m     11\u001b[0m \u001b[38;5;28;01mdef\u001b[39;00m \u001b[38;5;21m__next__\u001b[39m(\u001b[38;5;28mself\u001b[39m):\n\u001b[0;32m     12\u001b[0m     \u001b[38;5;28;01mif\u001b[39;00m \u001b[38;5;28mself\u001b[39m\u001b[38;5;241m.\u001b[39mindex \u001b[38;5;241m>\u001b[39m\u001b[38;5;241m=\u001b[39m \u001b[38;5;28mself\u001b[39m\u001b[38;5;241m.\u001b[39mtime:\n\u001b[1;32m---> 13\u001b[0m         \u001b[38;5;28;01mraise\u001b[39;00m \u001b[38;5;167;01mStopIteration\u001b[39;00m\n\u001b[0;32m     14\u001b[0m     \u001b[38;5;28;01melse\u001b[39;00m:\n\u001b[0;32m     15\u001b[0m         \u001b[38;5;28mself\u001b[39m\u001b[38;5;241m.\u001b[39mindex \u001b[38;5;241m+\u001b[39m\u001b[38;5;241m=\u001b[39m \u001b[38;5;241m1\u001b[39m\n",
      "\u001b[1;31mStopIteration\u001b[0m: "
     ]
    }
   ],
   "source": [
    "next(my_iterator)"
   ]
  },
  {
   "cell_type": "code",
   "execution_count": 32,
   "id": "af96487c",
   "metadata": {},
   "outputs": [],
   "source": [
    "# итератор, возводящий в квадрат числа от 1 до n "
   ]
  },
  {
   "cell_type": "code",
   "execution_count": 9,
   "id": "9707d7a4",
   "metadata": {},
   "outputs": [],
   "source": [
    "class Square:\n",
    "    def __init__(self,n):\n",
    "        self.n = n\n",
    "        self.index = 0\n",
    "    def __iter__(self):\n",
    "        return self\n",
    "    def __next__(self):\n",
    "        if self.index >= self.n:\n",
    "            raise StopIteration\n",
    "        else:\n",
    "            self.index += 1\n",
    "            return self.index**2"
   ]
  },
  {
   "cell_type": "code",
   "execution_count": 10,
   "id": "1fdaef1d",
   "metadata": {},
   "outputs": [],
   "source": [
    "my_iterator = Square(10)"
   ]
  },
  {
   "cell_type": "code",
   "execution_count": 41,
   "id": "60bbbe03",
   "metadata": {},
   "outputs": [
    {
     "name": "stdout",
     "output_type": "stream",
     "text": [
      "1\n",
      "4\n",
      "9\n",
      "16\n",
      "25\n",
      "36\n",
      "49\n",
      "64\n",
      "81\n",
      "100\n"
     ]
    }
   ],
   "source": [
    "for i in my_iterator:\n",
    "    print(i)"
   ]
  },
  {
   "cell_type": "code",
   "execution_count": 11,
   "id": "3700d54a",
   "metadata": {},
   "outputs": [],
   "source": [
    "# итератор, генерирующий бесконечную последовательность чисел Фибоначчи "
   ]
  },
  {
   "cell_type": "code",
   "execution_count": 12,
   "id": "30f441db",
   "metadata": {},
   "outputs": [],
   "source": [
    "class Fibonacci:    \n",
    "    def __init__(self):\n",
    "        self.fib1 = 1\n",
    "        self.fib2 = 1\n",
    "        self.first = True\n",
    "        self.second = True\n",
    "    def __iter__(self):\n",
    "        return self\n",
    "    def __next__(self):\n",
    "        if self.first:\n",
    "            self.first = False\n",
    "            return 1\n",
    "        if self.second:\n",
    "            self.second = False\n",
    "            return 1\n",
    "        total = self.fib1 + self.fib2\n",
    "        self.fib1 = self.fib2\n",
    "        self.fib2 = total\n",
    "        return total"
   ]
  },
  {
   "cell_type": "code",
   "execution_count": 13,
   "id": "72a7ca11",
   "metadata": {},
   "outputs": [],
   "source": [
    "fib = Fibonacci()"
   ]
  },
  {
   "cell_type": "code",
   "execution_count": 32,
   "id": "95fa5406",
   "metadata": {},
   "outputs": [
    {
     "data": {
      "text/plain": [
       "4181"
      ]
     },
     "execution_count": 32,
     "metadata": {},
     "output_type": "execute_result"
    }
   ],
   "source": [
    "next(fib)"
   ]
  },
  {
   "cell_type": "code",
   "execution_count": 158,
   "id": "9d3f5b8d",
   "metadata": {},
   "outputs": [],
   "source": [
    "# итератор, генерирующий степени указанного числа начиная с 0 степени"
   ]
  },
  {
   "cell_type": "code",
   "execution_count": 33,
   "id": "23a096e3",
   "metadata": {},
   "outputs": [],
   "source": [
    "class PowerOf:\n",
    "    def __init__(self, n):\n",
    "        self.n = n\n",
    "        self.k = 0\n",
    "    def __iter__(self):\n",
    "        return self\n",
    "    def __next__(self):\n",
    "        self.k += 1\n",
    "        return self.n**(self.k-1)"
   ]
  },
  {
   "cell_type": "code",
   "execution_count": 57,
   "id": "4ab0c197",
   "metadata": {},
   "outputs": [],
   "source": [
    "power_of_two = PowerOf(2)"
   ]
  },
  {
   "cell_type": "code",
   "execution_count": 59,
   "id": "3d50b9bb",
   "metadata": {},
   "outputs": [
    {
     "data": {
      "text/plain": [
       "2"
      ]
     },
     "execution_count": 59,
     "metadata": {},
     "output_type": "execute_result"
    }
   ],
   "source": [
    "next(power_of_two)"
   ]
  },
  {
   "cell_type": "code",
   "execution_count": null,
   "id": "a477e730",
   "metadata": {},
   "outputs": [],
   "source": []
  },
  {
   "cell_type": "code",
   "execution_count": null,
   "id": "f9eee6c1",
   "metadata": {},
   "outputs": [],
   "source": []
  },
  {
   "cell_type": "code",
   "execution_count": null,
   "id": "774516e0",
   "metadata": {},
   "outputs": [],
   "source": []
  }
 ],
 "metadata": {
  "kernelspec": {
   "display_name": "Python 3 (ipykernel)",
   "language": "python",
   "name": "python3"
  },
  "language_info": {
   "codemirror_mode": {
    "name": "ipython",
    "version": 3
   },
   "file_extension": ".py",
   "mimetype": "text/x-python",
   "name": "python",
   "nbconvert_exporter": "python",
   "pygments_lexer": "ipython3",
   "version": "3.9.18"
  }
 },
 "nbformat": 4,
 "nbformat_minor": 5
}
