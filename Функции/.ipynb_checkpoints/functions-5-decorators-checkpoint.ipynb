{
 "cells": [
  {
   "cell_type": "markdown",
   "id": "4554a973",
   "metadata": {},
   "source": [
    "# Декораторы \n",
    "Декоратор — это функция, которая принимает другую функцию, расширяет ее поведение, не изменяя ее явно, и возвращает новую функцию."
   ]
  },
  {
   "cell_type": "code",
   "execution_count": null,
   "id": "c37ec0a3",
   "metadata": {},
   "outputs": [],
   "source": [
    "# самый простой декоратор\n",
    "\n",
    "def simple_decorator(func):\n",
    "    def wrapper():\n",
    "        print('Какие-то действия до вызова функции...')\n",
    "        func() # функция вызывается\n",
    "        print('какие-то действия после вызова функции.')\n",
    "    return wrapper    \n",
    "\n",
    "# тем не менее функция ничего не возвращает!"
   ]
  },
  {
   "cell_type": "code",
   "execution_count": null,
   "id": "7fe0588e",
   "metadata": {},
   "outputs": [],
   "source": [
    "def say_hello():\n",
    "    print('hi!')"
   ]
  },
  {
   "cell_type": "code",
   "execution_count": null,
   "id": "000f9612",
   "metadata": {},
   "outputs": [],
   "source": [
    "# 1 способ применить декоратор для функции"
   ]
  },
  {
   "cell_type": "code",
   "execution_count": null,
   "id": "df148803",
   "metadata": {},
   "outputs": [],
   "source": [
    "say_hello_decorated = simple_decorator(say_hello)\n",
    "say_hello_decorated()"
   ]
  },
  {
   "cell_type": "code",
   "execution_count": null,
   "id": "4fa573c8",
   "metadata": {
    "scrolled": true
   },
   "outputs": [],
   "source": [
    "say_hello() # осталась недекорированная версия функции"
   ]
  },
  {
   "cell_type": "code",
   "execution_count": null,
   "id": "a905dc4b",
   "metadata": {},
   "outputs": [],
   "source": [
    "# 2 способ применить декоратор для функции"
   ]
  },
  {
   "cell_type": "code",
   "execution_count": null,
   "id": "f615baf6",
   "metadata": {},
   "outputs": [],
   "source": [
    "@simple_decorator     # @ декорирует функцию сразу во время определения, что (затрудняет доступ к недекорированной функции\n",
    "def say_hello():\n",
    "    print('hi!')"
   ]
  },
  {
   "cell_type": "code",
   "execution_count": null,
   "id": "a6ca0ff4",
   "metadata": {},
   "outputs": [],
   "source": [
    "say_hello() # уже задекорированная функция"
   ]
  },
  {
   "cell_type": "markdown",
   "id": "36796af3",
   "metadata": {},
   "source": [
    "### Несколько декораторов"
   ]
  },
  {
   "cell_type": "code",
   "execution_count": null,
   "id": "703e07eb",
   "metadata": {},
   "outputs": [],
   "source": [
    "def add_0_decorator(func):\n",
    "    def wrapper():\n",
    "        return '0'+func()+'0'\n",
    "    return wrapper"
   ]
  },
  {
   "cell_type": "code",
   "execution_count": null,
   "id": "672612e4",
   "metadata": {},
   "outputs": [],
   "source": [
    "def add_1_decorator(func):\n",
    "    def wrapper():\n",
    "        return '1'+func()+'1'\n",
    "    return wrapper"
   ]
  },
  {
   "cell_type": "code",
   "execution_count": null,
   "id": "14a2ccde",
   "metadata": {},
   "outputs": [],
   "source": [
    "def func_word():\n",
    "    return 'word'\n",
    "func_word()"
   ]
  },
  {
   "cell_type": "code",
   "execution_count": null,
   "id": "52408908",
   "metadata": {},
   "outputs": [],
   "source": [
    "func_word = add_0_decorator(add_1_decorator(func_word))"
   ]
  },
  {
   "cell_type": "code",
   "execution_count": null,
   "id": "a91fc396",
   "metadata": {},
   "outputs": [],
   "source": [
    "func_word()"
   ]
  },
  {
   "cell_type": "code",
   "execution_count": null,
   "id": "01e2c178",
   "metadata": {},
   "outputs": [],
   "source": [
    "# или через синтаксический сахар\n",
    "\n",
    "@add_1_decorator\n",
    "@add_0_decorator\n",
    "def func_word():\n",
    "    return 'word'"
   ]
  },
  {
   "cell_type": "code",
   "execution_count": null,
   "id": "ebd9fdf5",
   "metadata": {},
   "outputs": [],
   "source": [
    "func_word()"
   ]
  },
  {
   "cell_type": "markdown",
   "id": "910bb1d2",
   "metadata": {},
   "source": [
    "### Декорирование функций, принимающих аргументы"
   ]
  },
  {
   "cell_type": "code",
   "execution_count": null,
   "id": "cf44bfd2",
   "metadata": {},
   "outputs": [],
   "source": [
    "def add_0_decorator(func):\n",
    "    def wrapper():\n",
    "        return '0'+func()+'0'\n",
    "    return wrapper"
   ]
  },
  {
   "cell_type": "code",
   "execution_count": null,
   "id": "9ac9cc13",
   "metadata": {},
   "outputs": [],
   "source": [
    "# функция принимает аргумент\n",
    "\n",
    "def say_my_word(word):\n",
    "    return f'--->{word.upper()}<---'"
   ]
  },
  {
   "cell_type": "code",
   "execution_count": null,
   "id": "18d10fa4",
   "metadata": {},
   "outputs": [],
   "source": [
    "say_my_word = add_0_decorator(say_my_word)"
   ]
  },
  {
   "cell_type": "code",
   "execution_count": null,
   "id": "60fc67af",
   "metadata": {},
   "outputs": [],
   "source": [
    "say_my_word('moscow')  # ошибка тк wrapper не имеет аргументов"
   ]
  },
  {
   "cell_type": "code",
   "execution_count": null,
   "id": "b91a46a9",
   "metadata": {},
   "outputs": [],
   "source": [
    "# добавим аргумент в \"обёртку\"\n",
    "\n",
    "def add_0_decorator(func):\n",
    "    def wrapper(x):\n",
    "        return '0'+func(x)+'0'\n",
    "    return wrapper\n",
    "\n",
    "# функция с одним аргументом\n",
    "def say_my_word(word):\n",
    "    return f'--->{word.upper()}<---'"
   ]
  },
  {
   "cell_type": "code",
   "execution_count": null,
   "id": "1d9d6e32",
   "metadata": {},
   "outputs": [],
   "source": [
    "say_my_word = add_0_decorator(say_my_word)"
   ]
  },
  {
   "cell_type": "code",
   "execution_count": null,
   "id": "8efd3cb6",
   "metadata": {},
   "outputs": [],
   "source": [
    "say_my_word('moscow')"
   ]
  },
  {
   "cell_type": "code",
   "execution_count": null,
   "id": "6ae3b9fd",
   "metadata": {},
   "outputs": [],
   "source": [
    "# однако если параметры функции будут увеличиваться, то декоратор не обработает их\n",
    "\n",
    "def add_0_decorator(func):\n",
    "    def wrapper(x):\n",
    "        return '0'+func(x)+'0'\n",
    "    return wrapper\n",
    "\n",
    "# функция с одним аргументом\n",
    "def say_my_word(word, big):\n",
    "    if big:\n",
    "        return f'===>{word.upper()}<==='\n",
    "    return f'--->{word.lower()}<---'"
   ]
  },
  {
   "cell_type": "code",
   "execution_count": null,
   "id": "d8aecbb1",
   "metadata": {},
   "outputs": [],
   "source": [
    "say_my_word = add_0_decorator(say_my_word)"
   ]
  },
  {
   "cell_type": "code",
   "execution_count": null,
   "id": "41896fcc",
   "metadata": {},
   "outputs": [],
   "source": [
    "say_my_word('rex',big=True)  # а wrapper уже не содержит x"
   ]
  },
  {
   "cell_type": "code",
   "execution_count": null,
   "id": "6731c00c",
   "metadata": {},
   "outputs": [],
   "source": [
    "# однако если параметры функции будут увеличиваться, то декоратор не обработает их\n",
    "\n",
    "def add_0_decorator(func):\n",
    "    def wrapper(x,b):\n",
    "        return '0'+func(x,b)+'0'\n",
    "    return wrapper\n",
    "\n",
    "# функция с одним аргументом\n",
    "def say_my_word(word, big):\n",
    "    if big:\n",
    "        return f'===>{word.upper()}<==='\n",
    "    return f'--->{word.lower()}<---'"
   ]
  },
  {
   "cell_type": "code",
   "execution_count": null,
   "id": "99f4a116",
   "metadata": {},
   "outputs": [],
   "source": [
    "say_my_word = add_0_decorator(say_my_word)"
   ]
  },
  {
   "cell_type": "code",
   "execution_count": null,
   "id": "7b74c6e5",
   "metadata": {},
   "outputs": [],
   "source": [
    "say_my_word('messi',True)  "
   ]
  },
  {
   "cell_type": "code",
   "execution_count": null,
   "id": "975295f6",
   "metadata": {},
   "outputs": [],
   "source": [
    "say_my_word('messi',False)"
   ]
  },
  {
   "cell_type": "code",
   "execution_count": null,
   "id": "ad83b942",
   "metadata": {},
   "outputs": [],
   "source": [
    "# но лучше сразу использовать *args и **kwargs\n",
    "\n",
    "def add_0_decorator(func):\n",
    "    def wrapper(*args, **kwargs):\n",
    "        return '0'+func(*args, **kwargs)+'0'\n",
    "    return wrapper\n",
    "\n",
    "# сразу декорируем\n",
    "@add_0_decorator\n",
    "def say_my_word(word, big):\n",
    "    if big:\n",
    "        return f'===>{word.upper()}<==='\n",
    "    return f'--->{word.lower()}<---'"
   ]
  },
  {
   "cell_type": "code",
   "execution_count": null,
   "id": "8730a4ec",
   "metadata": {},
   "outputs": [],
   "source": [
    "say_my_word('hello',True)"
   ]
  },
  {
   "cell_type": "code",
   "execution_count": null,
   "id": "183edf2d",
   "metadata": {},
   "outputs": [],
   "source": [
    "say_my_word('hello',big=True)"
   ]
  },
  {
   "cell_type": "markdown",
   "id": "618d3e2c",
   "metadata": {},
   "source": [
    "### Потеря атрибутов __ name __   ,   __ doc __"
   ]
  },
  {
   "cell_type": "code",
   "execution_count": null,
   "id": "ff95e24d",
   "metadata": {},
   "outputs": [],
   "source": [
    "# предположим, есть декоратор\n",
    "def decorator(func):\n",
    "    \n",
    "    def wrapper(*args, **kwargs):\n",
    "        '''Обёртка функции с действиями до и после'''\n",
    "        print('Дествия до функции...')\n",
    "        result = func(*args, **kwargs)\n",
    "        print('...действия после функции')\n",
    "        return result \n",
    "    \n",
    "    return wrapper "
   ]
  },
  {
   "cell_type": "code",
   "execution_count": null,
   "id": "4815a4e2",
   "metadata": {},
   "outputs": [],
   "source": [
    "# и функция, которую мы оборачиваем\n",
    "@decorator\n",
    "def say_hello(name):\n",
    "    '''Принимает имя, выводит на экран приветсвтие'''\n",
    "    print(f'Hello, {name}!')"
   ]
  },
  {
   "cell_type": "code",
   "execution_count": null,
   "id": "4dee942d",
   "metadata": {
    "scrolled": true
   },
   "outputs": [],
   "source": [
    "# технически вызываем функцию wrapper и имя \"перетирается\"\n",
    "print(say_hello.__name__)\n",
    "print(say_hello.__doc__)"
   ]
  },
  {
   "cell_type": "code",
   "execution_count": null,
   "id": "8c29dfa2",
   "metadata": {},
   "outputs": [],
   "source": [
    "# первый вариант решения проблемы\n",
    "\n",
    "# предположим, есть декоратор\n",
    "def decorator(func):\n",
    "    \n",
    "    def wrapper(*args, **kwargs):\n",
    "        '''Обёртка функции с действиями до и после'''\n",
    "        print('Дествия до функции...')\n",
    "        result = func(*args, **kwargs)\n",
    "        print('...действия после функции')\n",
    "        return result \n",
    "    \n",
    "    wrapper.__name__ = func.__name__  # для сохранения имени функции\n",
    "    wrapper.__doc__ = func.__doc__    # для сохранения док строки\n",
    "    \n",
    "    return wrapper "
   ]
  },
  {
   "cell_type": "code",
   "execution_count": null,
   "id": "8cc6f67b",
   "metadata": {},
   "outputs": [],
   "source": [
    "# и функция, которую мы оборачиваем\n",
    "@decorator\n",
    "def say_hello(name):\n",
    "    '''Принимает имя, выводит на экран приветсвтие'''\n",
    "    print(f'Hello, {name}!')"
   ]
  },
  {
   "cell_type": "code",
   "execution_count": null,
   "id": "d1b3644a",
   "metadata": {},
   "outputs": [],
   "source": [
    "# технически вызываем функцию wrapper и имя \"перетирается\"\n",
    "print(say_hello.__name__)\n",
    "print(say_hello.__doc__)"
   ]
  },
  {
   "cell_type": "code",
   "execution_count": null,
   "id": "de461ed1",
   "metadata": {},
   "outputs": [],
   "source": [
    "# вариант более универсальный (применение декоратора functools.wraps)\n",
    "from functools import wraps"
   ]
  },
  {
   "cell_type": "code",
   "execution_count": null,
   "id": "1d4ce8cd",
   "metadata": {},
   "outputs": [],
   "source": [
    "def decorator(func):\n",
    "    @wraps(func)\n",
    "    def wrapper(*args, **kwargs):\n",
    "        print('--------')\n",
    "        func(*args, **kwargs)\n",
    "        print('--------')\n",
    "        \n",
    "    return wrapper "
   ]
  },
  {
   "cell_type": "code",
   "execution_count": null,
   "id": "56e1d4e6",
   "metadata": {},
   "outputs": [],
   "source": [
    "@decorator\n",
    "def my_func():\n",
    "    '''Печатает кококо'''\n",
    "    print('OK OK OK')"
   ]
  },
  {
   "cell_type": "code",
   "execution_count": null,
   "id": "5f417cd0",
   "metadata": {},
   "outputs": [],
   "source": [
    "my_func()\n",
    "print(my_func.__name__, my_func.__doc__)"
   ]
  },
  {
   "cell_type": "code",
   "execution_count": null,
   "id": "b1260cce",
   "metadata": {},
   "outputs": [],
   "source": [
    "# шаблон декоратора общего назначения\n",
    "\n",
    "import functools\n",
    "\n",
    "def decorator(func):\n",
    "    @functools.wraps(func)\n",
    "    def wrapper(*args, **kwargs):\n",
    "        # Что-то выполняется до вызова декорируемой функции\n",
    "        value = func(*args, **kwargs)\n",
    "        # декорируется возвращаемое значение функции\n",
    "        # или что-то выполняется после вызова декорируемой функции\n",
    "        return value\n",
    "    return wrapper"
   ]
  },
  {
   "cell_type": "markdown",
   "id": "4bcb1e24",
   "metadata": {},
   "source": [
    "### Декораторы с аргументами"
   ]
  },
  {
   "cell_type": "code",
   "execution_count": 1,
   "id": "b94f311f",
   "metadata": {},
   "outputs": [],
   "source": [
    "import functools"
   ]
  },
  {
   "cell_type": "code",
   "execution_count": null,
   "id": "a385fd6b",
   "metadata": {},
   "outputs": [],
   "source": [
    "def choose_decorator_symbols(symbol='-'):   # это функция, выбирающая нужный декоратор (настраивающая)\n",
    "    def decorator(func):\n",
    "        @functools.wraps(func)\n",
    "        def wrapper(*args,**kwargs):\n",
    "            print(symbol*8)\n",
    "            result = func(*args, **kwargs)\n",
    "            print(symbol*8)\n",
    "            return result\n",
    "        return wrapper\n",
    "    return decorator\n",
    " "
   ]
  },
  {
   "cell_type": "code",
   "execution_count": 17,
   "id": "d9d91465",
   "metadata": {},
   "outputs": [
    {
     "name": "stdout",
     "output_type": "stream",
     "text": [
      "--------\n",
      "OK OK OK\n",
      "--------\n"
     ]
    }
   ],
   "source": [
    "@choose_decorator_symbols()   # это функция (с аргументом по умолчанию)\n",
    "def my_func():\n",
    "    print('OK OK OK')\n",
    "\n",
    "my_func()"
   ]
  },
  {
   "cell_type": "code",
   "execution_count": 18,
   "id": "3f632371",
   "metadata": {},
   "outputs": [
    {
     "name": "stdout",
     "output_type": "stream",
     "text": [
      "++++++++\n",
      "OK OK OK\n",
      "++++++++\n"
     ]
    }
   ],
   "source": [
    "@choose_decorator_symbols('+')\n",
    "def my_func():\n",
    "    print('OK OK OK')\n",
    "\n",
    "my_func()"
   ]
  },
  {
   "cell_type": "code",
   "execution_count": 27,
   "id": "bc749e7c",
   "metadata": {
    "scrolled": true
   },
   "outputs": [
    {
     "name": "stdout",
     "output_type": "stream",
     "text": [
      "~~~~~~~~\n",
      "OK OK OK\n",
      "~~~~~~~~\n"
     ]
    }
   ],
   "source": [
    "@choose_decorator_symbols('~')\n",
    "def my_func():\n",
    "    print('OK OK OK')\n",
    "\n",
    "my_func()"
   ]
  },
  {
   "cell_type": "markdown",
   "id": "552d220a",
   "metadata": {},
   "source": [
    "*Нужно помнить, что декоратором является функция, которая принимает функцию в качестве аргумента и возвращает функцию. В нашем примере функция **choose_decorator_symbols()** не удовлетворяет этому условию, так как она не принимает функцию в качестве аргумента. В то время как функция **decorator()**, которая возвращает функцию **wrapper()**, является декоратором.*"
   ]
  },
  {
   "cell_type": "code",
   "execution_count": 31,
   "id": "6d613b85",
   "metadata": {},
   "outputs": [],
   "source": [
    "# или без синтаксического \"сахара\"\n",
    "\n",
    "def func_hello():\n",
    "    print('hi-hi')\n",
    "\n",
    "func_hello_decorated = choose_decorator_symbols('.')(func_hello)"
   ]
  },
  {
   "cell_type": "code",
   "execution_count": 33,
   "id": "2575b48b",
   "metadata": {},
   "outputs": [
    {
     "name": "stdout",
     "output_type": "stream",
     "text": [
      "........\n",
      "hi-hi\n",
      "........\n"
     ]
    }
   ],
   "source": [
    "func_hello_decorated()"
   ]
  },
  {
   "cell_type": "markdown",
   "id": "78accbd9",
   "metadata": {},
   "source": [
    "#### Пример"
   ]
  },
  {
   "cell_type": "code",
   "execution_count": 41,
   "id": "9e884642",
   "metadata": {},
   "outputs": [],
   "source": [
    "import functools\n",
    "import time\n",
    "\n",
    "def delayed(delay=1):\n",
    "    def decorator(func):\n",
    "        @functools.wraps(func)\n",
    "        def wrapper(*args, **kwargs):\n",
    "            print(f'Спим {delay} сек.')\n",
    "            time.sleep(delay)\n",
    "            value = func(*args, **kwargs)\n",
    "            return value\n",
    "        return wrapper\n",
    "    return decorator"
   ]
  },
  {
   "cell_type": "code",
   "execution_count": 42,
   "id": "6b1842de",
   "metadata": {},
   "outputs": [],
   "source": [
    "@delayed()\n",
    "def my_func():\n",
    "    print('wow')"
   ]
  },
  {
   "cell_type": "code",
   "execution_count": 44,
   "id": "b23f6562",
   "metadata": {},
   "outputs": [
    {
     "name": "stdout",
     "output_type": "stream",
     "text": [
      "Спим 1 сек.\n",
      "wow\n",
      "Спим 1 сек.\n",
      "wow\n",
      "Спим 1 сек.\n",
      "wow\n",
      "Спим 1 сек.\n",
      "wow\n",
      "Спим 1 сек.\n",
      "wow\n"
     ]
    }
   ],
   "source": [
    "for i in range(5):\n",
    "    my_func()"
   ]
  },
  {
   "cell_type": "markdown",
   "id": "8b06c20f",
   "metadata": {},
   "source": [
    "## Вместо вывода"
   ]
  },
  {
   "cell_type": "markdown",
   "id": "4fc5f52d",
   "metadata": {},
   "source": [
    "Таким образом, после декорирования мы получаем совершено другую функцию, которая расширяет функционал начальной функции.\n",
    "\n",
    "**Проще говоря: декораторы обертывают функцию, изменяя ее поведение.**"
   ]
  },
  {
   "attachments": {
    "image.png": {
     "image/png": "[encoded data removed]"
    }
   },
   "cell_type": "markdown",
   "id": "05218ae0",
   "metadata": {},
   "source": [
    "![image.png](attachment:image.png)"
   ]
  },
  {
   "cell_type": "code",
   "execution_count": null,
   "id": "6377e79d",
   "metadata": {},
   "outputs": [],
   "source": []
  }
 ],
 "metadata": {
  "kernelspec": {
   "display_name": "Python 3 (ipykernel)",
   "language": "python",
   "name": "python3"
  },
  "language_info": {
   "codemirror_mode": {
    "name": "ipython",
    "version": 3
   },
   "file_extension": ".py",
   "mimetype": "text/x-python",
   "name": "python",
   "nbconvert_exporter": "python",
   "pygments_lexer": "ipython3",
   "version": "3.9.18"
  }
 },
 "nbformat": 4,
 "nbformat_minor": 5
}
