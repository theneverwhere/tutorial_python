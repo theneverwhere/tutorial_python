{
 "cells": [
  {
   "cell_type": "markdown",
   "id": "0620638e",
   "metadata": {},
   "source": [
    "### Функции как объекты"
   ]
  },
  {
   "cell_type": "code",
   "execution_count": 1,
   "id": "bfb8b8bd",
   "metadata": {},
   "outputs": [],
   "source": [
    "def my_func(x):\n",
    "    return x**2"
   ]
  },
  {
   "cell_type": "code",
   "execution_count": 2,
   "id": "50a8c5fa",
   "metadata": {},
   "outputs": [],
   "source": [
    "a = my_func"
   ]
  },
  {
   "cell_type": "code",
   "execution_count": 4,
   "id": "86d11e31",
   "metadata": {},
   "outputs": [
    {
     "data": {
      "text/plain": [
       "64"
      ]
     },
     "execution_count": 4,
     "metadata": {},
     "output_type": "execute_result"
    }
   ],
   "source": [
    "a(8)  # переменная ссылается на функцию my_func"
   ]
  },
  {
   "cell_type": "code",
   "execution_count": 7,
   "id": "a40197d6",
   "metadata": {},
   "outputs": [],
   "source": [
    "# так можно подменить функцию Python\n",
    "print = my_func"
   ]
  },
  {
   "cell_type": "code",
   "execution_count": 14,
   "id": "3b86ec65",
   "metadata": {},
   "outputs": [
    {
     "data": {
      "text/plain": [
       "9"
      ]
     },
     "execution_count": 14,
     "metadata": {},
     "output_type": "execute_result"
    }
   ],
   "source": [
    "print(3)"
   ]
  },
  {
   "cell_type": "code",
   "execution_count": 3,
   "id": "bef648c9",
   "metadata": {},
   "outputs": [],
   "source": [
    "exit()  # перезагрузка интепретатора для обновления print()"
   ]
  },
  {
   "cell_type": "code",
   "execution_count": 1,
   "id": "0d7909b7",
   "metadata": {},
   "outputs": [],
   "source": [
    "# можно хранить функции в коллекциях тк это объекты\n",
    "funcs = [len, sum, max, min]"
   ]
  },
  {
   "cell_type": "code",
   "execution_count": 2,
   "id": "fd0095d3",
   "metadata": {},
   "outputs": [
    {
     "name": "stdout",
     "output_type": "stream",
     "text": [
      "<built-in function len> 5\n",
      "<built-in function sum> 54321\n",
      "<built-in function max> 50000\n",
      "<built-in function min> 1\n"
     ]
    }
   ],
   "source": [
    "numbers = [1,20,300,4000,50000]\n",
    "for f in funcs:\n",
    "    print(f,f(numbers))"
   ]
  },
  {
   "cell_type": "code",
   "execution_count": 35,
   "id": "d6bee6d4",
   "metadata": {},
   "outputs": [
    {
     "name": "stdout",
     "output_type": "stream",
     "text": [
      "HELLO WORLD\n",
      "hello world\n",
      "Hello World\n"
     ]
    }
   ],
   "source": [
    "# мы можем использовать методы как обычные функции\n",
    "# для этого нужно указать название типа, затем точку и название метода: type.method\n",
    "\n",
    "methods = [str.upper, str.lower, str.title]\n",
    "text = 'heLLO wORld'\n",
    "\n",
    "text = methods[0](text)\n",
    "print(text)\n",
    "text = methods[1](text)\n",
    "print(text)\n",
    "text = methods[2](text)\n",
    "print(text)"
   ]
  },
  {
   "cell_type": "markdown",
   "id": "ed46e4ea",
   "metadata": {},
   "source": [
    "### Атрибуты __ name __, __doc __ , __defaults __"
   ]
  },
  {
   "cell_type": "code",
   "execution_count": 4,
   "id": "fbfcb9d6",
   "metadata": {},
   "outputs": [
    {
     "data": {
      "text/plain": [
       "'len'"
      ]
     },
     "execution_count": 4,
     "metadata": {},
     "output_type": "execute_result"
    }
   ],
   "source": [
    "len.__name__  # имя функции"
   ]
  },
  {
   "cell_type": "code",
   "execution_count": 6,
   "id": "25a2d277",
   "metadata": {},
   "outputs": [
    {
     "data": {
      "text/plain": [
       "'Return the number of items in a container.'"
      ]
     },
     "execution_count": 6,
     "metadata": {},
     "output_type": "execute_result"
    }
   ],
   "source": [
    "len.__doc__  # строка документации"
   ]
  },
  {
   "cell_type": "code",
   "execution_count": 27,
   "id": "874a2551",
   "metadata": {},
   "outputs": [],
   "source": [
    "def my_func(x,n=2):\n",
    "    \n",
    "    '''Принимает число и степень, возвращает это число в указанной степени\n",
    "    если степень не указано, возвращается квадрат числа'''\n",
    "    \n",
    "    return x**n"
   ]
  },
  {
   "cell_type": "code",
   "execution_count": 28,
   "id": "9d60d1e9",
   "metadata": {},
   "outputs": [],
   "source": [
    "my_pow = my_func  # синоним "
   ]
  },
  {
   "cell_type": "code",
   "execution_count": 29,
   "id": "1a4bcdde",
   "metadata": {},
   "outputs": [
    {
     "data": {
      "text/plain": [
       "'my_func'"
      ]
     },
     "execution_count": 29,
     "metadata": {},
     "output_type": "execute_result"
    }
   ],
   "source": [
    "my_pow.__name__"
   ]
  },
  {
   "cell_type": "code",
   "execution_count": 31,
   "id": "6ebcd61a",
   "metadata": {},
   "outputs": [
    {
     "data": {
      "text/plain": [
       "'Принимает число и степень, возвращает это число в указанной степени\\n    если степень не указано, возвращается квадрат числа'"
      ]
     },
     "execution_count": 31,
     "metadata": {},
     "output_type": "execute_result"
    }
   ],
   "source": [
    "my_pow.__doc__"
   ]
  },
  {
   "cell_type": "code",
   "execution_count": 33,
   "id": "c652c31f",
   "metadata": {},
   "outputs": [
    {
     "data": {
      "text/plain": [
       "(2,)"
      ]
     },
     "execution_count": 33,
     "metadata": {},
     "output_type": "execute_result"
    }
   ],
   "source": [
    "my_pow.__defaults__ # значения по умолчанию"
   ]
  },
  {
   "cell_type": "markdown",
   "id": "f1d42322",
   "metadata": {},
   "source": [
    "### Пользовательские атрибуты функций"
   ]
  },
  {
   "cell_type": "markdown",
   "id": "22da434d",
   "metadata": {},
   "source": [
    "У объектов функций есть дополнительный атрибут __ dict __, являющийся словарем и использующийся для динамического наделения функций дополнительным функционалом. Устанавливать и получать значения из данного атрибута можно, используя два синтаксиса:\n",
    "\n",
    "- в стиле словаря: func. __ dict __ ['attr'] = value\n",
    "- через точечную нотацию: func.attr = value"
   ]
  },
  {
   "cell_type": "code",
   "execution_count": 8,
   "id": "40db684b",
   "metadata": {},
   "outputs": [],
   "source": [
    "def operation(x):\n",
    "    return x + x**2 + x**3 + 10"
   ]
  },
  {
   "cell_type": "code",
   "execution_count": 18,
   "id": "59c7b7d8",
   "metadata": {},
   "outputs": [
    {
     "data": {
      "text/plain": [
       "980209"
      ]
     },
     "execution_count": 18,
     "metadata": {},
     "output_type": "execute_result"
    }
   ],
   "source": [
    "operation(99)"
   ]
  },
  {
   "cell_type": "code",
   "execution_count": 15,
   "id": "7117b28e",
   "metadata": {},
   "outputs": [
    {
     "data": {
      "text/plain": [
       "['__annotations__',\n",
       " '__call__',\n",
       " '__class__',\n",
       " '__closure__',\n",
       " '__code__',\n",
       " '__defaults__',\n",
       " '__delattr__',\n",
       " '__dict__',\n",
       " '__dir__',\n",
       " '__doc__',\n",
       " '__eq__',\n",
       " '__format__',\n",
       " '__ge__',\n",
       " '__get__',\n",
       " '__getattribute__',\n",
       " '__globals__',\n",
       " '__gt__',\n",
       " '__hash__',\n",
       " '__init__',\n",
       " '__init_subclass__',\n",
       " '__kwdefaults__',\n",
       " '__le__',\n",
       " '__lt__',\n",
       " '__module__',\n",
       " '__name__',\n",
       " '__ne__',\n",
       " '__new__',\n",
       " '__qualname__',\n",
       " '__reduce__',\n",
       " '__reduce_ex__',\n",
       " '__repr__',\n",
       " '__setattr__',\n",
       " '__sizeof__',\n",
       " '__str__',\n",
       " '__subclasshook__']"
      ]
     },
     "execution_count": 15,
     "metadata": {},
     "output_type": "execute_result"
    }
   ],
   "source": [
    "dir(operation) # тут уже есть ряд встроенных функций, как только мы создали объект"
   ]
  },
  {
   "cell_type": "code",
   "execution_count": 16,
   "id": "ed12da1a",
   "metadata": {},
   "outputs": [
    {
     "data": {
      "text/plain": [
       "{}"
      ]
     },
     "execution_count": 16,
     "metadata": {},
     "output_type": "execute_result"
    }
   ],
   "source": [
    "operation.__dict__  # а пользовательских функций (атрибутов) - нет"
   ]
  },
  {
   "cell_type": "code",
   "execution_count": 17,
   "id": "757e56a7",
   "metadata": {},
   "outputs": [],
   "source": [
    "operation.__dict__['my_attr'] = 777  # то же самое, что и operation.my_attr = 777"
   ]
  },
  {
   "cell_type": "code",
   "execution_count": 19,
   "id": "8417f64d",
   "metadata": {},
   "outputs": [
    {
     "data": {
      "text/plain": [
       "{'my_attr': 777}"
      ]
     },
     "execution_count": 19,
     "metadata": {},
     "output_type": "execute_result"
    }
   ],
   "source": [
    "operation.__dict__"
   ]
  },
  {
   "cell_type": "code",
   "execution_count": 21,
   "id": "ebf86320",
   "metadata": {},
   "outputs": [
    {
     "data": {
      "text/plain": [
       "777"
      ]
     },
     "execution_count": 21,
     "metadata": {},
     "output_type": "execute_result"
    }
   ],
   "source": [
    "operation.my_attr  # можно обращаться"
   ]
  },
  {
   "cell_type": "markdown",
   "id": "9d8f1d26",
   "metadata": {},
   "source": [
    "*Словарь атрибутов может быть использован для кэширования уже вычисленных значений функции.*"
   ]
  },
  {
   "cell_type": "code",
   "execution_count": 27,
   "id": "33184939",
   "metadata": {},
   "outputs": [],
   "source": [
    "def operation(x):\n",
    "    if x not in operation.__dict__:\n",
    "        operation.__dict__[x] = x + x**2 + x**3 + 10\n",
    "    return operation.__dict__[x]"
   ]
  },
  {
   "cell_type": "code",
   "execution_count": 28,
   "id": "8a49694c",
   "metadata": {},
   "outputs": [
    {
     "data": {
      "text/plain": [
       "737200"
      ]
     },
     "execution_count": 28,
     "metadata": {},
     "output_type": "execute_result"
    }
   ],
   "source": [
    "operation(90)"
   ]
  },
  {
   "cell_type": "code",
   "execution_count": 29,
   "id": "433b909b",
   "metadata": {},
   "outputs": [
    {
     "data": {
      "text/plain": [
       "{90: 737200}"
      ]
     },
     "execution_count": 29,
     "metadata": {},
     "output_type": "execute_result"
    }
   ],
   "source": [
    "operation.__dict__"
   ]
  },
  {
   "cell_type": "code",
   "execution_count": 30,
   "id": "624a196d",
   "metadata": {},
   "outputs": [
    {
     "data": {
      "text/plain": [
       "13"
      ]
     },
     "execution_count": 30,
     "metadata": {},
     "output_type": "execute_result"
    }
   ],
   "source": [
    "operation(1)"
   ]
  },
  {
   "cell_type": "code",
   "execution_count": 31,
   "id": "76bf8ad0",
   "metadata": {},
   "outputs": [
    {
     "data": {
      "text/plain": [
       "{90: 737200, 1: 13}"
      ]
     },
     "execution_count": 31,
     "metadata": {},
     "output_type": "execute_result"
    }
   ],
   "source": [
    "operation.__dict__"
   ]
  },
  {
   "cell_type": "code",
   "execution_count": null,
   "id": "cd21454a",
   "metadata": {},
   "outputs": [],
   "source": []
  }
 ],
 "metadata": {
  "kernelspec": {
   "display_name": "Python 3 (ipykernel)",
   "language": "python",
   "name": "python3"
  },
  "language_info": {
   "codemirror_mode": {
    "name": "ipython",
    "version": 3
   },
   "file_extension": ".py",
   "mimetype": "text/x-python",
   "name": "python",
   "nbconvert_exporter": "python",
   "pygments_lexer": "ipython3",
   "version": "3.9.18"
  }
 },
 "nbformat": 4,
 "nbformat_minor": 5
}
