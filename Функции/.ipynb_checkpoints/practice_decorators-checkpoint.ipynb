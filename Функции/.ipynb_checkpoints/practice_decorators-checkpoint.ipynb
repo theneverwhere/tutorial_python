{
 "cells": [
  {
   "cell_type": "markdown",
   "id": "e45ad96d",
   "metadata": {},
   "source": [
    "# Игрушечные примеры использования декораторов"
   ]
  },
  {
   "cell_type": "markdown",
   "id": "05b990ab",
   "metadata": {},
   "source": [
    "### Часть 1 "
   ]
  },
  {
   "cell_type": "code",
   "execution_count": 1,
   "id": "cae546eb",
   "metadata": {},
   "outputs": [],
   "source": [
    "# Декоратор sandwich"
   ]
  },
  {
   "cell_type": "code",
   "execution_count": 34,
   "id": "61905a89",
   "metadata": {},
   "outputs": [],
   "source": [
    "def sandwich(func):\n",
    "    def wrapper(*args,**kwargs):\n",
    "        print('---- Верхний ломтик хлеба ----')\n",
    "        result = func(*args,**kwargs)\n",
    "        print('---- Нижний ломтик хлеба ----')\n",
    "        return result\n",
    "    return wrapper"
   ]
  },
  {
   "cell_type": "code",
   "execution_count": 35,
   "id": "2c31e205",
   "metadata": {},
   "outputs": [
    {
     "name": "stdout",
     "output_type": "stream",
     "text": [
      "---- Верхний ломтик хлеба ----\n",
      "томат | салат | сыр | бекон\n",
      "---- Нижний ломтик хлеба ----\n"
     ]
    }
   ],
   "source": [
    "@sandwich\n",
    "def add_ingredients(ingredients):\n",
    "    print(' | '.join(ingredients))\n",
    "\n",
    "add_ingredients(['томат', 'салат', 'сыр', 'бекон'])"
   ]
  },
  {
   "cell_type": "code",
   "execution_count": 1,
   "id": "aa64bfd7",
   "metadata": {},
   "outputs": [],
   "source": [
    "# переопределение print"
   ]
  },
  {
   "cell_type": "code",
   "execution_count": 2,
   "id": "17318183",
   "metadata": {},
   "outputs": [],
   "source": [
    "def decorator_upper(func):\n",
    "    \n",
    "    def wrapper(*args,**kwargs):\n",
    "        upper_args = [str(s).upper() for s in args]\n",
    "        if 'sep' in kwargs:\n",
    "            upper_sep = kwargs['sep'] = kwargs['sep'].upper()\n",
    "        else:\n",
    "            upper_sep = ' '\n",
    "        if 'end' in kwargs:\n",
    "            upper_end = kwargs['end'] = kwargs['end'].upper()\n",
    "        else:\n",
    "            upper_end = '\\n'\n",
    "        func(*upper_args, sep=upper_sep, end=upper_end)\n",
    "        \n",
    "    return wrapper\n",
    "\n",
    "\n",
    "print_new = decorator_upper(print)"
   ]
  },
  {
   "cell_type": "code",
   "execution_count": 4,
   "id": "22b12013",
   "metadata": {},
   "outputs": [
    {
     "name": "stdout",
     "output_type": "stream",
     "text": [
      "HELLO X 999 OOO"
     ]
    }
   ],
   "source": [
    "print_new('hello',999,sep=' x ', end=' ooo')"
   ]
  },
  {
   "cell_type": "code",
   "execution_count": null,
   "id": "0046598b",
   "metadata": {},
   "outputs": [],
   "source": [
    "# двойной вызов функции"
   ]
  },
  {
   "cell_type": "code",
   "execution_count": 5,
   "id": "78d9b8a8",
   "metadata": {},
   "outputs": [],
   "source": [
    "def do_twice(func):\n",
    "    \n",
    "    def wrapper(*args, **kwargs):\n",
    "        func(*args,**kwargs)\n",
    "        return func(*args,**kwargs)\n",
    "    \n",
    "    return wrapper"
   ]
  },
  {
   "cell_type": "code",
   "execution_count": 6,
   "id": "93a41ff0",
   "metadata": {},
   "outputs": [],
   "source": [
    "@do_twice\n",
    "def my_func(x):\n",
    "    print('--->',x)"
   ]
  },
  {
   "cell_type": "code",
   "execution_count": 7,
   "id": "26d664bd",
   "metadata": {},
   "outputs": [
    {
     "name": "stdout",
     "output_type": "stream",
     "text": [
      "---> lol\n",
      "---> lol\n"
     ]
    }
   ],
   "source": [
    "my_func('lol')"
   ]
  },
  {
   "cell_type": "code",
   "execution_count": 8,
   "id": "b7150a5c",
   "metadata": {},
   "outputs": [],
   "source": [
    "# переворот позиционных аргументов"
   ]
  },
  {
   "cell_type": "code",
   "execution_count": 9,
   "id": "0c49cf3e",
   "metadata": {},
   "outputs": [],
   "source": [
    "def reverse_args(func):\n",
    "    \n",
    "    def wrapper(*args, **kwargs):\n",
    "        args_reversed = list(args)[::-1]\n",
    "        return func(*args_reversed, **kwargs)\n",
    "    \n",
    "    return wrapper "
   ]
  },
  {
   "cell_type": "code",
   "execution_count": 11,
   "id": "60128eda",
   "metadata": {},
   "outputs": [],
   "source": [
    "@reverse_args\n",
    "def my_func(x,y):\n",
    "    print(f'{x} - {y} = {x-y}')"
   ]
  },
  {
   "cell_type": "code",
   "execution_count": 12,
   "id": "eb20d1d1",
   "metadata": {},
   "outputs": [
    {
     "name": "stdout",
     "output_type": "stream",
     "text": [
      "3 - 10 = -7\n"
     ]
    }
   ],
   "source": [
    "my_func(10,3)"
   ]
  },
  {
   "cell_type": "markdown",
   "id": "a8b4bbb6",
   "metadata": {},
   "source": [
    "### Часть 2"
   ]
  },
  {
   "cell_type": "code",
   "execution_count": 15,
   "id": "43bf0026",
   "metadata": {},
   "outputs": [],
   "source": [
    "# измерение времени работы функции "
   ]
  },
  {
   "cell_type": "code",
   "execution_count": 16,
   "id": "95e19bf0",
   "metadata": {},
   "outputs": [],
   "source": [
    "import functools\n",
    "import time"
   ]
  },
  {
   "cell_type": "code",
   "execution_count": 31,
   "id": "6cf04afb",
   "metadata": {},
   "outputs": [],
   "source": [
    "def timer(func):\n",
    "    \n",
    "    @functools.wraps(func)\n",
    "    def wrapper(*args, **kwargs):\n",
    "        start = time.perf_counter()\n",
    "        result = func(*args, **kwargs)\n",
    "        end = time.perf_counter()\n",
    "        total_time = end - start \n",
    "        print('Время выполнения функции:',total_time)\n",
    "        return result\n",
    "    \n",
    "    return wrapper"
   ]
  },
  {
   "cell_type": "code",
   "execution_count": 32,
   "id": "7091eb52",
   "metadata": {},
   "outputs": [],
   "source": [
    "@timer\n",
    "def my_func():\n",
    "    for i in range(5,0,-1):\n",
    "        print(i)\n",
    "        time.sleep(1)"
   ]
  },
  {
   "cell_type": "code",
   "execution_count": 33,
   "id": "0944c2fa",
   "metadata": {},
   "outputs": [
    {
     "name": "stdout",
     "output_type": "stream",
     "text": [
      "5\n",
      "4\n",
      "3\n",
      "2\n",
      "1\n",
      "Время выполнения функции: 5.053333899999416\n"
     ]
    }
   ],
   "source": [
    "my_func()"
   ]
  },
  {
   "cell_type": "code",
   "execution_count": 26,
   "id": "c23a1602",
   "metadata": {},
   "outputs": [],
   "source": [
    "# отслеживание количества вызовов функции"
   ]
  },
  {
   "cell_type": "code",
   "execution_count": 71,
   "id": "a4d7865a",
   "metadata": {},
   "outputs": [],
   "source": [
    "def func_counter(func):\n",
    "    \n",
    "    @functools.wraps(func)\n",
    "    def wrapper(*args, **kwargs):\n",
    "        nonlocal counter\n",
    "        counter+=1\n",
    "        print(f'Вызов функции: {counter}')\n",
    "        return func(*args,**kwargs)\n",
    "    \n",
    "    counter = 0\n",
    "\n",
    "    return wrapper "
   ]
  },
  {
   "cell_type": "code",
   "execution_count": 72,
   "id": "d0fa55df",
   "metadata": {},
   "outputs": [],
   "source": [
    "@func_counter\n",
    "def my_func(x):\n",
    "    print(x**2)"
   ]
  },
  {
   "cell_type": "code",
   "execution_count": 83,
   "id": "554f3582",
   "metadata": {},
   "outputs": [
    {
     "name": "stdout",
     "output_type": "stream",
     "text": [
      "Вызов функции: 11\n",
      "100\n"
     ]
    }
   ],
   "source": [
    "my_func(10)"
   ]
  },
  {
   "cell_type": "code",
   "execution_count": 84,
   "id": "acbdf45b",
   "metadata": {},
   "outputs": [],
   "source": [
    "def func_counter(func):\n",
    "    \n",
    "    @functools.wraps(func)\n",
    "    def wrapper(*args, **kwargs):\n",
    "\n",
    "        wrapper.counter+=1\n",
    "        print(f'Вызов функции: {wrapper.counter}')\n",
    "        return func(*args,**kwargs)\n",
    "    \n",
    "    wrapper.counter = 0\n",
    "\n",
    "    return wrapper "
   ]
  },
  {
   "cell_type": "code",
   "execution_count": 85,
   "id": "57adb596",
   "metadata": {},
   "outputs": [],
   "source": [
    "@func_counter\n",
    "def my_func(x):\n",
    "    print(x**2)"
   ]
  },
  {
   "cell_type": "code",
   "execution_count": 93,
   "id": "dc71bbc9",
   "metadata": {},
   "outputs": [
    {
     "name": "stdout",
     "output_type": "stream",
     "text": [
      "Вызов функции: 8\n",
      "25\n"
     ]
    }
   ],
   "source": [
    "my_func(5)"
   ]
  },
  {
   "cell_type": "markdown",
   "id": "7a8718c7",
   "metadata": {},
   "source": [
    "### Часть 3"
   ]
  },
  {
   "cell_type": "code",
   "execution_count": 2,
   "id": "18db9343",
   "metadata": {},
   "outputs": [],
   "source": [
    "import functools"
   ]
  },
  {
   "cell_type": "code",
   "execution_count": 3,
   "id": "520c39af",
   "metadata": {},
   "outputs": [],
   "source": [
    "# декоратор с выбором префикса "
   ]
  },
  {
   "cell_type": "code",
   "execution_count": 7,
   "id": "9b69ecf6",
   "metadata": {},
   "outputs": [],
   "source": [
    "def prefix(string, to_the_end=False):\n",
    "    \n",
    "    def decorator(func):\n",
    "        @functools.wraps(func)\n",
    "        def wrapper(*args, **kwargs):\n",
    "            if to_the_end:\n",
    "                return func(*args, **kwargs) + string\n",
    "            return string + func(*args, **kwargs)\n",
    "        return wrapper\n",
    "    \n",
    "    return decorator"
   ]
  },
  {
   "cell_type": "code",
   "execution_count": 9,
   "id": "00d0465d",
   "metadata": {},
   "outputs": [
    {
     "data": {
      "text/plain": [
       "'hello-->'"
      ]
     },
     "execution_count": 9,
     "metadata": {},
     "output_type": "execute_result"
    }
   ],
   "source": [
    "@prefix('-->', to_the_end=1)\n",
    "def my_func():\n",
    "    return 'hello'\n",
    "\n",
    "my_func()"
   ]
  },
  {
   "cell_type": "code",
   "execution_count": 10,
   "id": "d54b930a",
   "metadata": {},
   "outputs": [],
   "source": [
    "# обрамление в html тэг"
   ]
  },
  {
   "cell_type": "code",
   "execution_count": 23,
   "id": "9740ef55",
   "metadata": {},
   "outputs": [],
   "source": [
    "def make_html(tag):\n",
    "    \n",
    "    def board_tag(tag):\n",
    "        return (f'<{tag}>', f'</{tag}>')\n",
    "    \n",
    "    def decorator(func):\n",
    "        @functools.wraps(func)\n",
    "        def wrapper(*args, **kwargs):\n",
    "            start_end_tags = board_tag(tag)\n",
    "            return start_end_tags[0]+func(*args, **kwargs)+start_end_tags[1]\n",
    "        return wrapper\n",
    "    return decorator        "
   ]
  },
  {
   "cell_type": "code",
   "execution_count": 24,
   "id": "e811f316",
   "metadata": {},
   "outputs": [
    {
     "name": "stdout",
     "output_type": "stream",
     "text": [
      "<del>Python</del>\n"
     ]
    }
   ],
   "source": [
    "@make_html('del')\n",
    "def get_text(text):\n",
    "    return text\n",
    "    \n",
    "print(get_text('Python'))"
   ]
  },
  {
   "cell_type": "code",
   "execution_count": 35,
   "id": "39f03364",
   "metadata": {},
   "outputs": [
    {
     "data": {
      "text/plain": [
       "function"
      ]
     },
     "execution_count": 35,
     "metadata": {},
     "output_type": "execute_result"
    }
   ],
   "source": [
    "type(make_html)"
   ]
  },
  {
   "cell_type": "code",
   "execution_count": 36,
   "id": "aa61df35",
   "metadata": {},
   "outputs": [],
   "source": [
    "# декоратор, вызывающий функцию несколько раз"
   ]
  },
  {
   "cell_type": "code",
   "execution_count": 40,
   "id": "f79a6bc4",
   "metadata": {},
   "outputs": [],
   "source": [
    "def repeat(times:int): \n",
    "    \n",
    "    def decorator(func):\n",
    "        @functools.wraps(func)\n",
    "        def wrapper(*args, **kwargs):\n",
    "            for i in range(times):\n",
    "                result = func(*args, **kwargs)\n",
    "            return result\n",
    "        return wrapper\n",
    "    \n",
    "    return decorator"
   ]
  },
  {
   "cell_type": "code",
   "execution_count": 41,
   "id": "d329395b",
   "metadata": {},
   "outputs": [
    {
     "name": "stdout",
     "output_type": "stream",
     "text": [
      "wow\n",
      "wow\n",
      "wow\n",
      "wow\n",
      "wow\n"
     ]
    }
   ],
   "source": [
    "@repeat(times=5)\n",
    "def print_wow():\n",
    "    print('wow')\n",
    "\n",
    "print_wow()"
   ]
  },
  {
   "cell_type": "code",
   "execution_count": 42,
   "id": "07fb9109",
   "metadata": {},
   "outputs": [],
   "source": [
    "# декоратор, заменяющий подстроку"
   ]
  },
  {
   "cell_type": "code",
   "execution_count": 43,
   "id": "beb6cb93",
   "metadata": {},
   "outputs": [],
   "source": [
    "def strip_range(start, end, char='.'):\n",
    "    \n",
    "    def decorator(func):\n",
    "        @functools.wraps(func)\n",
    "        def wrapper(*args, **kwargs):\n",
    "            string = func(*args, **kwargs)\n",
    "            len_char = end - start \n",
    "            new_string = string[:start]+len_char*char+string[end:]\n",
    "            return new_string\n",
    "        return wrapper\n",
    "    \n",
    "    return decorator"
   ]
  },
  {
   "cell_type": "code",
   "execution_count": 46,
   "id": "889d0bb6",
   "metadata": {},
   "outputs": [
    {
     "name": "stdout",
     "output_type": "stream",
     "text": [
      "bla--ab\n"
     ]
    }
   ],
   "source": [
    "@strip_range(3, 5, '-')\n",
    "def bla():\n",
    "    return 'blablab'\n",
    "    \n",
    "print(bla())"
   ]
  },
  {
   "cell_type": "code",
   "execution_count": null,
   "id": "a56b7d7f",
   "metadata": {},
   "outputs": [],
   "source": []
  }
 ],
 "metadata": {
  "kernelspec": {
   "display_name": "Python 3 (ipykernel)",
   "language": "python",
   "name": "python3"
  },
  "language_info": {
   "codemirror_mode": {
    "name": "ipython",
    "version": 3
   },
   "file_extension": ".py",
   "mimetype": "text/x-python",
   "name": "python",
   "nbconvert_exporter": "python",
   "pygments_lexer": "ipython3",
   "version": "3.9.18"
  }
 },
 "nbformat": 4,
 "nbformat_minor": 5
}
