{
 "cells": [
  {
   "cell_type": "markdown",
   "id": "5050e983",
   "metadata": {},
   "source": [
    "# Вложенные функции и замыкания"
   ]
  },
  {
   "cell_type": "markdown",
   "id": "40b4e80a",
   "metadata": {},
   "source": [
    "Python позволяет определять функции внутри других функций. Их называют вложенными функциями или внутренними функциями."
   ]
  },
  {
   "cell_type": "code",
   "execution_count": 1,
   "id": "549e7968",
   "metadata": {},
   "outputs": [],
   "source": [
    "def func(text):\n",
    "    \n",
    "    # отдельная вложенная функция\n",
    "    def hello(t):\n",
    "        print('Hello, text:',t)\n",
    "    \n",
    "    # вызов функции\n",
    "    hello(text)"
   ]
  },
  {
   "cell_type": "code",
   "execution_count": 2,
   "id": "597c5d20",
   "metadata": {},
   "outputs": [
    {
     "name": "stdout",
     "output_type": "stream",
     "text": [
      "Hello, text: Alex\n"
     ]
    }
   ],
   "source": [
    "func('Alex')"
   ]
  },
  {
   "cell_type": "code",
   "execution_count": 3,
   "id": "2c0687f3",
   "metadata": {},
   "outputs": [
    {
     "ename": "NameError",
     "evalue": "name 'hello' is not defined",
     "output_type": "error",
     "traceback": [
      "\u001b[1;31m---------------------------------------------------------------------------\u001b[0m",
      "\u001b[1;31mNameError\u001b[0m                                 Traceback (most recent call last)",
      "Cell \u001b[1;32mIn[3], line 1\u001b[0m\n\u001b[1;32m----> 1\u001b[0m \u001b[43mhello\u001b[49m(\u001b[38;5;124m'\u001b[39m\u001b[38;5;124mWorld\u001b[39m\u001b[38;5;124m'\u001b[39m)\n",
      "\u001b[1;31mNameError\u001b[0m: name 'hello' is not defined"
     ]
    }
   ],
   "source": [
    "hello('World') # ошибка тк функция \"скрыта\" в родительской функции "
   ]
  },
  {
   "cell_type": "code",
   "execution_count": 4,
   "id": "e399d8b5",
   "metadata": {},
   "outputs": [],
   "source": [
    "# как подобраться напрямую?\n",
    "\n",
    "def func():\n",
    "    \n",
    "    def hi(text):\n",
    "        print('Hi!')\n",
    "        print(text.upper())\n",
    "    \n",
    "    return hi # не вызов, а возврат функции!"
   ]
  },
  {
   "cell_type": "code",
   "execution_count": 5,
   "id": "e1ca6f10",
   "metadata": {},
   "outputs": [],
   "source": [
    "my_hi = func() # доступ извне ко вложенной функции"
   ]
  },
  {
   "cell_type": "code",
   "execution_count": 6,
   "id": "440d7919",
   "metadata": {},
   "outputs": [
    {
     "name": "stdout",
     "output_type": "stream",
     "text": [
      "Hi!\n",
      "BOBIK\n"
     ]
    }
   ],
   "source": [
    "my_hi('Bobik')"
   ]
  },
  {
   "cell_type": "markdown",
   "id": "f49701f2",
   "metadata": {},
   "source": [
    "В Python **замыкание** (closure) - это функция, которая запоминает своё лексическое окружение во время создания. Это означает, что она может ссылаться на переменные из объемлющей области видимости, даже после того как эта область видимости завершила свою работу. Замыкания полезны в ситуациях, когда вам нужно создать функцию, которая сохраняет состояние или контекст внутри себя."
   ]
  },
  {
   "cell_type": "code",
   "execution_count": 7,
   "id": "85b241d0",
   "metadata": {},
   "outputs": [],
   "source": [
    "def get_speak_func(text, volume):\n",
    "    \n",
    "    def whisper():\n",
    "        return text.lower() + '...'\n",
    "    def yell():\n",
    "        return text.upper() + '!'\n",
    "    \n",
    "    if volume > 0.5:\n",
    "        return yell\n",
    "    else:\n",
    "        return whisper"
   ]
  },
  {
   "cell_type": "code",
   "execution_count": 8,
   "id": "95a65dde",
   "metadata": {},
   "outputs": [
    {
     "name": "stdout",
     "output_type": "stream",
     "text": [
      "HI, I AM REX!\n"
     ]
    }
   ],
   "source": [
    "my_whisper = get_speak_func('hi, i am rex',volume=5)\n",
    "print(my_whisper())"
   ]
  },
  {
   "cell_type": "markdown",
   "id": "44cd3fcc",
   "metadata": {},
   "source": [
    "*Таким образом, замыкание — это особый вид функции. Она определена в теле другой функции и создаётся каждый раз во время её выполнения. Синтаксически это выглядит как функция, находящаяся целиком в теле другой функции. При этом вложенная функция содержит ссылки на локальные переменные внешней функции. Каждый раз при выполнении внешней функции происходит создание нового экземпляра внутренней функции, с новыми ссылками на переменные внешней функции.*"
   ]
  },
  {
   "cell_type": "markdown",
   "id": "35290b17",
   "metadata": {},
   "source": [
    "При поиске переменной с указанным именем приоритет (правило разрешения имен) следующий:\n",
    "\n",
    "- сначала ищем локальную переменную\n",
    "- если не нашли локальную, ищем **нелокальную**\n",
    "- если не нашли нелокальную, ищем глобальную\n",
    "- и в самом конце — встроенную в язык\n",
    "\n",
    "Промежуточная область видимости, которая доступна вложенным функциям, называется **нелокальной**. Если вложенность функций больше двух уровней, нелокальная переменная ищет в «ближайшей» области видимости, т. е. в функции вложенностью на один меньше. Если не находит, поиск переходит в самую ближнюю из внешних областей видимости, затем в чуть более далекую — и так далее, пока не найдется нужное имя. Фактически интерпретатор ищет там, «где поближе»."
   ]
  },
  {
   "cell_type": "code",
   "execution_count": 9,
   "id": "d7a581b0",
   "metadata": {
    "scrolled": true
   },
   "outputs": [
    {
     "ename": "UnboundLocalError",
     "evalue": "local variable 'num' referenced before assignment",
     "output_type": "error",
     "traceback": [
      "\u001b[1;31m---------------------------------------------------------------------------\u001b[0m",
      "\u001b[1;31mUnboundLocalError\u001b[0m                         Traceback (most recent call last)",
      "Cell \u001b[1;32mIn[9], line 9\u001b[0m\n\u001b[0;32m      6\u001b[0m         \u001b[38;5;28mprint\u001b[39m(num)\n\u001b[0;32m      7\u001b[0m     inner_function()           \u001b[38;5;66;03m# вызываем вложенную функцию\u001b[39;00m\n\u001b[1;32m----> 9\u001b[0m \u001b[43mouter_function\u001b[49m\u001b[43m(\u001b[49m\u001b[43m)\u001b[49m\n",
      "Cell \u001b[1;32mIn[9], line 7\u001b[0m, in \u001b[0;36mouter_function\u001b[1;34m()\u001b[0m\n\u001b[0;32m      5\u001b[0m     num \u001b[38;5;241m+\u001b[39m\u001b[38;5;241m=\u001b[39m \u001b[38;5;241m10\u001b[39m\n\u001b[0;32m      6\u001b[0m     \u001b[38;5;28mprint\u001b[39m(num)\n\u001b[1;32m----> 7\u001b[0m \u001b[43minner_function\u001b[49m\u001b[43m(\u001b[49m\u001b[43m)\u001b[49m\n",
      "Cell \u001b[1;32mIn[9], line 5\u001b[0m, in \u001b[0;36mouter_function.<locals>.inner_function\u001b[1;34m()\u001b[0m\n\u001b[0;32m      4\u001b[0m \u001b[38;5;28;01mdef\u001b[39;00m \u001b[38;5;21minner_function\u001b[39m():      \u001b[38;5;66;03m# определяем вложенную функцию\u001b[39;00m\n\u001b[1;32m----> 5\u001b[0m     num \u001b[38;5;241m+\u001b[39m\u001b[38;5;241m=\u001b[39m \u001b[38;5;241m10\u001b[39m\n\u001b[0;32m      6\u001b[0m     \u001b[38;5;28mprint\u001b[39m(num)\n",
      "\u001b[1;31mUnboundLocalError\u001b[0m: local variable 'num' referenced before assignment"
     ]
    }
   ],
   "source": [
    "def outer_function():\n",
    "    \n",
    "    num = 5\n",
    "    def inner_function():      # определяем вложенную функцию\n",
    "        num += 10\n",
    "        print(num)\n",
    "    inner_function()           # вызываем вложенную функцию\n",
    "        \n",
    "outer_function()"
   ]
  },
  {
   "cell_type": "code",
   "execution_count": 11,
   "id": "4bf72b8c",
   "metadata": {},
   "outputs": [
    {
     "name": "stdout",
     "output_type": "stream",
     "text": [
      "5\n",
      "15\n"
     ]
    }
   ],
   "source": [
    "def outer_function():\n",
    "    \n",
    "    num = 5\n",
    "    def inner_function():\n",
    "        print(num)              # обращаться к переменной можно, а изменять просто так нельзя!\n",
    "        x = 10  + num\n",
    "        print(x)\n",
    "    inner_function()           \n",
    "        \n",
    "outer_function()"
   ]
  },
  {
   "cell_type": "code",
   "execution_count": null,
   "id": "c3a3a507",
   "metadata": {},
   "outputs": [],
   "source": [
    "# тк мы не просто обращаемся к переменной\n",
    "# а ИЗМЕНЯЕМ её, нужно указать nonlocal"
   ]
  },
  {
   "cell_type": "code",
   "execution_count": 13,
   "id": "139ba504",
   "metadata": {},
   "outputs": [
    {
     "name": "stdout",
     "output_type": "stream",
     "text": [
      "15\n"
     ]
    }
   ],
   "source": [
    "def outer_function():\n",
    "    num = 5\n",
    "    def inner_function():      # определяем вложенную функцию\n",
    "        nonlocal num   # !!! \n",
    "        num += 10\n",
    "        print(num)\n",
    "    inner_function()           # вызываем вложенную функцию\n",
    "        \n",
    "outer_function()"
   ]
  },
  {
   "cell_type": "markdown",
   "id": "b1d2cf25",
   "metadata": {},
   "source": [
    "Все функции содержат специальный атрибут **__ closure __** , который представляет из себя кортеж, содержащий данные, связанные с вложенными областями видимости, то есть с нелокальными переменными."
   ]
  },
  {
   "cell_type": "code",
   "execution_count": 14,
   "id": "d5b52014",
   "metadata": {},
   "outputs": [
    {
     "name": "stdout",
     "output_type": "stream",
     "text": [
      "python\n",
      "5\n",
      "[1, 2, 3]\n"
     ]
    }
   ],
   "source": [
    "def outer_function(arg):\n",
    "    num = 5\n",
    "    name = 'Timur'\n",
    "    numbers = [1, 2, 3]\n",
    "    def inner_function():      # определяем вложенную функцию\n",
    "        print(arg)\n",
    "        print(num)\n",
    "        print(numbers)\n",
    "    return inner_function      # возвращаем вложенную функцию\n",
    "        \n",
    "inner = outer_function('python')\n",
    "\n",
    "for var in inner.__closure__:\n",
    "    print(var.cell_contents)"
   ]
  },
  {
   "cell_type": "markdown",
   "id": "e6e4525f",
   "metadata": {},
   "source": [
    "## Вместо вывода"
   ]
  },
  {
   "cell_type": "markdown",
   "id": "482dd4dc",
   "metadata": {},
   "source": [
    "Концепция замыканий, то есть функций, захватывающих нелокальные переменные, находят много применений при написании кода. \n",
    "\n",
    "**Замыкания хороши для:**\n",
    "\n",
    "- воздержания от жестко закодированных констант\n",
    "- воздержания от использования глобальных переменных\n",
    "- воздержания от создания ненужных типов данных (классов)\n",
    "- замыкания нужны для реализации декораторов, о которых мы поговорим чуть позже\n",
    "- сокрытие данных основное преимущество замыканий."
   ]
  },
  {
   "cell_type": "code",
   "execution_count": null,
   "id": "7238bdf1",
   "metadata": {},
   "outputs": [],
   "source": []
  }
 ],
 "metadata": {
  "kernelspec": {
   "display_name": "Python 3 (ipykernel)",
   "language": "python",
   "name": "python3"
  },
  "language_info": {
   "codemirror_mode": {
    "name": "ipython",
    "version": 3
   },
   "file_extension": ".py",
   "mimetype": "text/x-python",
   "name": "python",
   "nbconvert_exporter": "python",
   "pygments_lexer": "ipython3",
   "version": "3.9.18"
  }
 },
 "nbformat": 4,
 "nbformat_minor": 5
}
