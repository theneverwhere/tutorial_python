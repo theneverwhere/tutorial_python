{
 "cells": [
  {
   "cell_type": "markdown",
   "id": "36350756",
   "metadata": {},
   "source": [
    "# Функции "
   ]
  },
  {
   "cell_type": "markdown",
   "id": "108391a3",
   "metadata": {},
   "source": [
    "\n",
    "Функции в языке программирования Python представляют собой блоки кода, которые могут быть вызваны для выполнения определенной операции. Они являются основными строительными блоками программы и используются для организации и структурирования кода, повторного использования и абстрагирования деталей реализации."
   ]
  },
  {
   "cell_type": "markdown",
   "id": "10e97c7d",
   "metadata": {},
   "source": [
    "### Основы функций"
   ]
  },
  {
   "cell_type": "code",
   "execution_count": 7,
   "id": "a1f306d9",
   "metadata": {},
   "outputs": [],
   "source": [
    "def func(x):\n",
    "    print(f'Привет, {x}')"
   ]
  },
  {
   "cell_type": "code",
   "execution_count": 8,
   "id": "36981b3a",
   "metadata": {},
   "outputs": [
    {
     "name": "stdout",
     "output_type": "stream",
     "text": [
      "Привет, Alex\n"
     ]
    }
   ],
   "source": [
    "func('Alex')"
   ]
  },
  {
   "cell_type": "code",
   "execution_count": 9,
   "id": "c415fb73",
   "metadata": {},
   "outputs": [],
   "source": [
    "# функции должны быть задокументированы и иметь понятное название и параметры\n",
    "\n",
    "def print_hello(name):\n",
    "    '''Функция принимает имя (строку), выводит приветственное сообщение'''\n",
    "    print('Здравствуйте,',name.title())"
   ]
  },
  {
   "cell_type": "code",
   "execution_count": 10,
   "id": "502c8cf0",
   "metadata": {},
   "outputs": [
    {
     "name": "stdout",
     "output_type": "stream",
     "text": [
      "Здравствуйте, Alex\n"
     ]
    }
   ],
   "source": [
    "print_hello('alex') # такая функция ничего не возвращает (None)"
   ]
  },
  {
   "cell_type": "code",
   "execution_count": 39,
   "id": "f0b82cd3",
   "metadata": {},
   "outputs": [
    {
     "data": {
      "text/plain": [
       "6"
      ]
     },
     "execution_count": 39,
     "metadata": {},
     "output_type": "execute_result"
    }
   ],
   "source": [
    "# более одного аргумента\n",
    "def func(a,b,c):\n",
    "    return a+b+c  # возврат значения\n",
    "\n",
    "func(1,2,3)"
   ]
  },
  {
   "cell_type": "code",
   "execution_count": 13,
   "id": "78cae703",
   "metadata": {},
   "outputs": [
    {
     "name": "stdout",
     "output_type": "stream",
     "text": [
      "15\n"
     ]
    }
   ],
   "source": [
    "x = func(5,5,5)\n",
    "print(x)"
   ]
  },
  {
   "cell_type": "markdown",
   "id": "558e42aa",
   "metadata": {},
   "source": [
    "Функции могут принимать аргументы. В Python существует несколько типов аргументов: позиционные, именованные (ключевые) и аргументы со значением по умолчанию."
   ]
  },
  {
   "cell_type": "code",
   "execution_count": 18,
   "id": "82ce3915",
   "metadata": {},
   "outputs": [
    {
     "data": {
      "text/plain": [
       "6"
      ]
     },
     "execution_count": 18,
     "metadata": {},
     "output_type": "execute_result"
    }
   ],
   "source": [
    "func(1,2,c=3)  # сначала записываются позиционные аргументы, после именованные"
   ]
  },
  {
   "cell_type": "code",
   "execution_count": 19,
   "id": "460912e9",
   "metadata": {},
   "outputs": [],
   "source": [
    "def func(a,b,c=100):\n",
    "    return (a+b)*c"
   ]
  },
  {
   "cell_type": "code",
   "execution_count": 23,
   "id": "ea833140",
   "metadata": {},
   "outputs": [
    {
     "data": {
      "text/plain": [
       "300"
      ]
     },
     "execution_count": 23,
     "metadata": {},
     "output_type": "execute_result"
    }
   ],
   "source": [
    "func(1,b=2)"
   ]
  },
  {
   "cell_type": "markdown",
   "id": "ebe5a8a8",
   "metadata": {},
   "source": [
    "Функции могут принимать переменное количество аргументов с помощью ***args и ***kwargs."
   ]
  },
  {
   "cell_type": "code",
   "execution_count": 34,
   "id": "81072ef7",
   "metadata": {},
   "outputs": [],
   "source": [
    "def greeting_all(*names,**kwargs):\n",
    "    for name in names:\n",
    "        print('Hello,',name)\n",
    "    for el in kwargs:\n",
    "        print(el)\n",
    "    print(kwargs)"
   ]
  },
  {
   "cell_type": "code",
   "execution_count": 37,
   "id": "f2b2a020",
   "metadata": {},
   "outputs": [
    {
     "name": "stdout",
     "output_type": "stream",
     "text": [
      "Hello, Alex\n",
      "Hello, Bob\n",
      "Hello, Robin\n",
      "lesson\n",
      "team_name\n",
      "{'lesson': 'math', 'team_name': 'Stars'}\n"
     ]
    }
   ],
   "source": [
    "greeting_all('Alex','Bob','Robin', lesson='math', team_name='Stars')"
   ]
  },
  {
   "cell_type": "code",
   "execution_count": 40,
   "id": "822a16bd",
   "metadata": {},
   "outputs": [],
   "source": [
    "# лямбда-функции\n",
    "func_lambda = lambda x: True if x%2==0 else False"
   ]
  },
  {
   "cell_type": "code",
   "execution_count": 43,
   "id": "b66d1a1c",
   "metadata": {},
   "outputs": [
    {
     "data": {
      "text/plain": [
       "True"
      ]
     },
     "execution_count": 43,
     "metadata": {},
     "output_type": "execute_result"
    }
   ],
   "source": [
    "func_lambda(2)"
   ]
  },
  {
   "cell_type": "code",
   "execution_count": 3,
   "id": "04d8f931",
   "metadata": {},
   "outputs": [
    {
     "name": "stdout",
     "output_type": "stream",
     "text": [
      "False\n"
     ]
    }
   ],
   "source": [
    "result = (lambda x: x > 5)(3)  # можно сразу так\n",
    "\n",
    "print(result)"
   ]
  },
  {
   "cell_type": "markdown",
   "id": "ec469310",
   "metadata": {},
   "source": [
    "Переменные, определенные внутри функции, имеют локальную область видимости и не доступны за пределами функции."
   ]
  },
  {
   "cell_type": "markdown",
   "id": "f628ea76",
   "metadata": {},
   "source": [
    "### Встроенные функции"
   ]
  },
  {
   "cell_type": "code",
   "execution_count": 45,
   "id": "0fdb20c2",
   "metadata": {},
   "outputs": [
    {
     "data": {
      "text/plain": [
       "2"
      ]
     },
     "execution_count": 45,
     "metadata": {},
     "output_type": "execute_result"
    }
   ],
   "source": [
    "abs(-2)  # модуль числа"
   ]
  },
  {
   "cell_type": "code",
   "execution_count": 50,
   "id": "29ff5ee1",
   "metadata": {},
   "outputs": [
    {
     "data": {
      "text/plain": [
       "'0b111'"
      ]
     },
     "execution_count": 50,
     "metadata": {},
     "output_type": "execute_result"
    }
   ],
   "source": [
    "bin(7)  # двоичная строка с префиксом '0b'"
   ]
  },
  {
   "cell_type": "code",
   "execution_count": 53,
   "id": "822f217f",
   "metadata": {},
   "outputs": [
    {
     "data": {
      "text/plain": [
       "'0xf'"
      ]
     },
     "execution_count": 53,
     "metadata": {},
     "output_type": "execute_result"
    }
   ],
   "source": [
    "hex(15)  # шестнадцатиричная строка "
   ]
  },
  {
   "cell_type": "code",
   "execution_count": 66,
   "id": "79382644",
   "metadata": {},
   "outputs": [
    {
     "data": {
      "text/plain": [
       "'0o11'"
      ]
     },
     "execution_count": 66,
     "metadata": {},
     "output_type": "execute_result"
    }
   ],
   "source": [
    "oct(9)  # восьмиричная строка"
   ]
  },
  {
   "cell_type": "code",
   "execution_count": 68,
   "id": "314e1029",
   "metadata": {},
   "outputs": [
    {
     "data": {
      "text/plain": [
       "10.33"
      ]
     },
     "execution_count": 68,
     "metadata": {},
     "output_type": "execute_result"
    }
   ],
   "source": [
    "round(10.33333, 2)  # округление"
   ]
  },
  {
   "cell_type": "code",
   "execution_count": 71,
   "id": "9996ae5a",
   "metadata": {},
   "outputs": [
    {
     "data": {
      "text/plain": [
       "2.5"
      ]
     },
     "execution_count": 71,
     "metadata": {},
     "output_type": "execute_result"
    }
   ],
   "source": [
    "int('100')  # целое число\n",
    "float('2.5') # вещественное число и тп"
   ]
  },
  {
   "cell_type": "code",
   "execution_count": 73,
   "id": "5eed117b",
   "metadata": {},
   "outputs": [
    {
     "data": {
      "text/plain": [
       "['h', 'e', 'l', 'l', 'o']"
      ]
     },
     "execution_count": 73,
     "metadata": {},
     "output_type": "execute_result"
    }
   ],
   "source": [
    "list('hello')  # список (аналогично функции tuple,dict и др)"
   ]
  },
  {
   "cell_type": "code",
   "execution_count": 75,
   "id": "3cbd8a97",
   "metadata": {},
   "outputs": [
    {
     "data": {
      "text/plain": [
       "115"
      ]
     },
     "execution_count": 75,
     "metadata": {},
     "output_type": "execute_result"
    }
   ],
   "source": [
    "ord('s')  # номер числа в таблице Unicode"
   ]
  },
  {
   "cell_type": "code",
   "execution_count": 78,
   "id": "eb06f0a1",
   "metadata": {},
   "outputs": [
    {
     "data": {
      "text/plain": [
       "'t'"
      ]
     },
     "execution_count": 78,
     "metadata": {},
     "output_type": "execute_result"
    }
   ],
   "source": [
    "chr(116)  # буква по номеру в таблице Unicode"
   ]
  },
  {
   "cell_type": "code",
   "execution_count": 80,
   "id": "6825907a",
   "metadata": {},
   "outputs": [
    {
     "name": "stdout",
     "output_type": "stream",
     "text": [
      "[1, 2, 3]\n"
     ]
    },
    {
     "data": {
      "text/plain": [
       "<enumerate at 0x231985f0d00>"
      ]
     },
     "execution_count": 80,
     "metadata": {},
     "output_type": "execute_result"
    }
   ],
   "source": [
    "# или функции, работающие с коллекциями \n",
    "\n",
    "print([1,2,3])\n",
    "len([1,2,3])\n",
    "enumerate([1,2,3])\n",
    "\n",
    "# и другие"
   ]
  },
  {
   "cell_type": "code",
   "execution_count": null,
   "id": "2a7601d1",
   "metadata": {},
   "outputs": [],
   "source": []
  }
 ],
 "metadata": {
  "kernelspec": {
   "display_name": "Python 3 (ipykernel)",
   "language": "python",
   "name": "python3"
  },
  "language_info": {
   "codemirror_mode": {
    "name": "ipython",
    "version": 3
   },
   "file_extension": ".py",
   "mimetype": "text/x-python",
   "name": "python",
   "nbconvert_exporter": "python",
   "pygments_lexer": "ipython3",
   "version": "3.9.18"
  }
 },
 "nbformat": 4,
 "nbformat_minor": 5
}
