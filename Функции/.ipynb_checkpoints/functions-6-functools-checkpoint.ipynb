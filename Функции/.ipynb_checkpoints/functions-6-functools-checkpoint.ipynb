{
 "cells": [
  {
   "cell_type": "markdown",
   "id": "3390e91e",
   "metadata": {},
   "source": [
    "# Модуль functools"
   ]
  },
  {
   "cell_type": "markdown",
   "id": "49ef7f42",
   "metadata": {},
   "source": [
    "functools предоставляет множество полезных функций высшего порядка, которые можно использовать для кэширования, перегрузки, создания декораторов и в целом для того, чтобы делать код более функциональным."
   ]
  },
  {
   "cell_type": "code",
   "execution_count": 3,
   "id": "c3218e18",
   "metadata": {},
   "outputs": [],
   "source": [
    "import functools"
   ]
  },
  {
   "cell_type": "code",
   "execution_count": 4,
   "id": "ebbdd502",
   "metadata": {},
   "outputs": [],
   "source": [
    "# функция partial()"
   ]
  },
  {
   "cell_type": "code",
   "execution_count": 45,
   "id": "4db8578d",
   "metadata": {},
   "outputs": [],
   "source": [
    "def my_print(text,big=False,count=1):\n",
    "    '''Функция печатает текст указанного размера указанное количество раз на одной строке'''\n",
    "    for i in range(count):\n",
    "        if big:\n",
    "            print(text.upper(),end=' ')\n",
    "        else:\n",
    "            print(text, end=' ')"
   ]
  },
  {
   "cell_type": "code",
   "execution_count": 46,
   "id": "dc4a5d67",
   "metadata": {},
   "outputs": [
    {
     "name": "stdout",
     "output_type": "stream",
     "text": [
      "GO GO GO "
     ]
    }
   ],
   "source": [
    "my_print(\"go\",True,3)"
   ]
  },
  {
   "cell_type": "code",
   "execution_count": 47,
   "id": "df6495c8",
   "metadata": {},
   "outputs": [
    {
     "name": "stdout",
     "output_type": "stream",
     "text": [
      "WOW WOW WOW WOW WOW WOW WOW WOW WOW WOW WOW WOW WOW WOW WOW WOW WOW WOW WOW WOW "
     ]
    }
   ],
   "source": [
    "part_func1 = functools.partial(my_print, 'wow')\n",
    "part_func1(True,20)  # происходит фиксация параметра text"
   ]
  },
  {
   "cell_type": "code",
   "execution_count": 48,
   "id": "d746363c",
   "metadata": {},
   "outputs": [
    {
     "name": "stdout",
     "output_type": "stream",
     "text": [
      "WHAT? WHAT? WHAT? "
     ]
    }
   ],
   "source": [
    "print_triple_caps = functools.partial(my_print, big=True, count=3)  # фиксация именованных аргументов\n",
    "print_triple_caps('what?')"
   ]
  },
  {
   "cell_type": "markdown",
   "id": "49c061d6",
   "metadata": {},
   "source": [
    "*функция **partial()** возвращает специальные partial объекты, которые при вызове ведут себя как функции*"
   ]
  },
  {
   "cell_type": "code",
   "execution_count": 49,
   "id": "2d73e1fd",
   "metadata": {},
   "outputs": [],
   "source": [
    "# функция update_wrapper()"
   ]
  },
  {
   "cell_type": "markdown",
   "id": "f6bce80b",
   "metadata": {},
   "source": [
    "Как несложно заметить, частичное применение с помощью функции partial() работает подобно декоратору. При этом у partial объекта нет явных атрибутов __name__ и __doc__ от начальной функции. Доступ к этим атрибутам возможен только через исходную функцию с помощью атрибута func."
   ]
  },
  {
   "cell_type": "code",
   "execution_count": 63,
   "id": "6da7e742",
   "metadata": {},
   "outputs": [
    {
     "data": {
      "text/plain": [
       "'Функция печатает текст указанного размера указанное количество раз на одной строке'"
      ]
     },
     "execution_count": 63,
     "metadata": {},
     "output_type": "execute_result"
    }
   ],
   "source": [
    "print_triple_caps.__name__  # ошибка\n",
    "print_triple_caps.__doc__   # ошибка"
   ]
  },
  {
   "cell_type": "code",
   "execution_count": 55,
   "id": "3a459d40",
   "metadata": {},
   "outputs": [
    {
     "data": {
      "text/plain": [
       "<function __main__.my_print(text, big=False, count=1)>"
      ]
     },
     "execution_count": 55,
     "metadata": {},
     "output_type": "execute_result"
    }
   ],
   "source": [
    "print_triple_caps.func   # подступиться к информации можно через func"
   ]
  },
  {
   "cell_type": "code",
   "execution_count": 59,
   "id": "3606eb04",
   "metadata": {},
   "outputs": [
    {
     "name": "stdout",
     "output_type": "stream",
     "text": [
      "my_print\n",
      "Функция печатает текст указанного размера указанное количество раз на одной строке\n"
     ]
    }
   ],
   "source": [
    "print(print_triple_caps.func.__name__)\n",
    "print(print_triple_caps.func.__doc__)"
   ]
  },
  {
   "cell_type": "code",
   "execution_count": 60,
   "id": "2d55933c",
   "metadata": {},
   "outputs": [],
   "source": [
    "from functools import update_wrapper"
   ]
  },
  {
   "cell_type": "code",
   "execution_count": 62,
   "id": "21e07bc5",
   "metadata": {},
   "outputs": [
    {
     "data": {
      "text/plain": [
       "functools.partial(<function my_print at 0x000001411AB3F8B0>, big=True, count=3)"
      ]
     },
     "execution_count": 62,
     "metadata": {},
     "output_type": "execute_result"
    }
   ],
   "source": [
    "# копируем информацию в частичную функцию из общей\n",
    "update_wrapper(print_triple_caps, my_print)"
   ]
  },
  {
   "cell_type": "code",
   "execution_count": 65,
   "id": "c2106240",
   "metadata": {},
   "outputs": [
    {
     "name": "stdout",
     "output_type": "stream",
     "text": [
      "my_print\n",
      "Функция печатает текст указанного размера указанное количество раз на одной строке\n"
     ]
    }
   ],
   "source": [
    "print(print_triple_caps.__name__)  # без ошибки\n",
    "print(print_triple_caps.__doc__)   # без ошибки"
   ]
  },
  {
   "cell_type": "code",
   "execution_count": 67,
   "id": "8b11ab72",
   "metadata": {},
   "outputs": [
    {
     "data": {
      "text/plain": [
       "{'big': True, 'count': 3}"
      ]
     },
     "execution_count": 67,
     "metadata": {},
     "output_type": "execute_result"
    }
   ],
   "source": [
    "# доступ к агмументам\n",
    "print_triple_caps.args\n",
    "print_triple_caps.keywords"
   ]
  },
  {
   "cell_type": "code",
   "execution_count": 68,
   "id": "088befdb",
   "metadata": {},
   "outputs": [],
   "source": [
    "# кэширование, мемоизация и другие функции"
   ]
  },
  {
   "cell_type": "code",
   "execution_count": 70,
   "id": "27ef62de",
   "metadata": {},
   "outputs": [],
   "source": [
    "from functools import lru_cache\n",
    "\n",
    "@lru_cache()\n",
    "def fibonacci(n):\n",
    "    if n <= 2:\n",
    "        return 1\n",
    "    else:\n",
    "        return fibonacci(n - 1) + fibonacci(n - 2)"
   ]
  },
  {
   "cell_type": "markdown",
   "id": "5949e394",
   "metadata": {},
   "source": [
    "В модуле functools уже реализован декоратор lru_cache, дающий возможность кэшировать результат вычисления функции, используя стратегию Least Recently Used. Это простой, но мощный метод, который позволяет использовать в коде возможности кэширования."
   ]
  },
  {
   "cell_type": "code",
   "execution_count": null,
   "id": "e2e08836",
   "metadata": {},
   "outputs": [],
   "source": []
  }
 ],
 "metadata": {
  "kernelspec": {
   "display_name": "Python 3 (ipykernel)",
   "language": "python",
   "name": "python3"
  },
  "language_info": {
   "codemirror_mode": {
    "name": "ipython",
    "version": 3
   },
   "file_extension": ".py",
   "mimetype": "text/x-python",
   "name": "python",
   "nbconvert_exporter": "python",
   "pygments_lexer": "ipython3",
   "version": "3.9.18"
  }
 },
 "nbformat": 4,
 "nbformat_minor": 5
}
