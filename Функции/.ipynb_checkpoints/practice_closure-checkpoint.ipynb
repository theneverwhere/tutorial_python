{
 "cells": [
  {
   "cell_type": "code",
   "execution_count": 1,
   "id": "fe84926c",
   "metadata": {},
   "outputs": [],
   "source": [
    "# тема: замыкания и вложенные функции"
   ]
  },
  {
   "cell_type": "code",
   "execution_count": 3,
   "id": "0d1516d7",
   "metadata": {},
   "outputs": [],
   "source": [
    "# задача 1 \n",
    "# степень числа"
   ]
  },
  {
   "cell_type": "code",
   "execution_count": 7,
   "id": "5011cd65",
   "metadata": {},
   "outputs": [],
   "source": [
    "def power(degree):\n",
    "    \n",
    "    def func_power(num):\n",
    "        return num**degree\n",
    "    \n",
    "    return func_power"
   ]
  },
  {
   "cell_type": "code",
   "execution_count": 12,
   "id": "b0ddb17c",
   "metadata": {},
   "outputs": [
    {
     "data": {
      "text/plain": [
       "125"
      ]
     },
     "execution_count": 12,
     "metadata": {},
     "output_type": "execute_result"
    }
   ],
   "source": [
    "degree3 = power(3)\n",
    "degree3(5)"
   ]
  },
  {
   "cell_type": "code",
   "execution_count": 8,
   "id": "1a940904",
   "metadata": {},
   "outputs": [],
   "source": [
    "# задача 2 \n",
    "# квадратный трёхчлен"
   ]
  },
  {
   "cell_type": "code",
   "execution_count": 9,
   "id": "7f31d2c2",
   "metadata": {},
   "outputs": [],
   "source": [
    "def generator_square_polynom(a,b,c):\n",
    "    \n",
    "    def result(x):\n",
    "        return a*x**2 + b*x + c\n",
    "    \n",
    "    return result   # возвращаем \"пользовательскую функцию\""
   ]
  },
  {
   "cell_type": "code",
   "execution_count": 13,
   "id": "df9c9b1b",
   "metadata": {},
   "outputs": [
    {
     "data": {
      "text/plain": [
       "35"
      ]
     },
     "execution_count": 13,
     "metadata": {},
     "output_type": "execute_result"
    }
   ],
   "source": [
    "poly = generator_square_polynom(1,1,5)  # x**2 + x + 5\n",
    "poly(5)"
   ]
  },
  {
   "cell_type": "code",
   "execution_count": 14,
   "id": "1a90e0b4",
   "metadata": {},
   "outputs": [],
   "source": [
    "# задача 3\n",
    "# URL адрес "
   ]
  },
  {
   "cell_type": "code",
   "execution_count": 36,
   "id": "ae2d2630",
   "metadata": {},
   "outputs": [],
   "source": [
    "def  sourcetemplate(url):\n",
    "    \n",
    "    def url_address(**kwargs):\n",
    "        if not kwargs:\n",
    "            return url\n",
    "        url_result = url+'?'\n",
    "        keys = sorted(kwargs)\n",
    "        for i in range(len(keys)):\n",
    "            keys[i] = (f'{keys[i]}={kwargs[keys[i]]}')\n",
    "        url_result+= ('&'.join(keys))\n",
    "        return url_result\n",
    "    \n",
    "    return url_address"
   ]
  },
  {
   "cell_type": "code",
   "execution_count": 38,
   "id": "4c15322b",
   "metadata": {},
   "outputs": [
    {
     "data": {
      "text/plain": [
       "'https://mai.ru?city=moscow&group=23&name=institute&profile=informatics'"
      ]
     },
     "execution_count": 38,
     "metadata": {},
     "output_type": "execute_result"
    }
   ],
   "source": [
    "url = 'https://mai.ru'\n",
    "load = sourcetemplate(url)\n",
    "load(name='institute',city='moscow',profile='informatics',group='23')"
   ]
  },
  {
   "cell_type": "code",
   "execution_count": 39,
   "id": "c81357d4",
   "metadata": {},
   "outputs": [],
   "source": [
    "# задача 4\n",
    "# форматы дат"
   ]
  },
  {
   "cell_type": "code",
   "execution_count": 59,
   "id": "c4e769aa",
   "metadata": {},
   "outputs": [],
   "source": [
    "from datetime import datetime, date\n",
    "\n",
    "def date_formatter(country_code):\n",
    "    \n",
    "    formates = {'ru': '%d.%m.%Y','us': '%m-%d-%Y','ca': '%Y-%m-%d','br': '%d/%m/%Y','fr': '%d.%m.%Y','pt': '%d-%m-%Y'}\n",
    "    \n",
    "    def data_format(my_date:date):\n",
    "        result_data = datetime.strftime(my_date,formates[country_code])\n",
    "        return result_data\n",
    "    \n",
    "    return data_format"
   ]
  },
  {
   "cell_type": "code",
   "execution_count": 60,
   "id": "540d72e1",
   "metadata": {},
   "outputs": [
    {
     "name": "stdout",
     "output_type": "stream",
     "text": [
      "25.01.2022\n"
     ]
    }
   ],
   "source": [
    "date_ru = date_formatter('ru')\n",
    "today = date(2022, 1, 25)\n",
    "print(date_ru(today))"
   ]
  },
  {
   "cell_type": "code",
   "execution_count": 81,
   "id": "d4148143",
   "metadata": {},
   "outputs": [],
   "source": [
    "# задача 5\n",
    "# сортировка с приоритетом \n",
    "\n",
    "def sort_priority(values, group):\n",
    "    sorted_priority = []\n",
    "    non_priority = []\n",
    "    for value in values:\n",
    "        if value not in group:\n",
    "            non_priority.append(value)\n",
    "        else:\n",
    "            sorted_priority.append(value)\n",
    "    sorted_priority = sorted(sorted_priority)\n",
    "    values[:] = sorted_priority + sorted(non_priority)"
   ]
  },
  {
   "cell_type": "code",
   "execution_count": 83,
   "id": "4d1ef269",
   "metadata": {},
   "outputs": [],
   "source": [
    "def sort_priority(values, group):\n",
    "    def comparator(num):\n",
    "        if num in group:\n",
    "            return 0, num\n",
    "        else:\n",
    "            return 1, num\n",
    "    return values.sort(key=comparator)"
   ]
  },
  {
   "cell_type": "code",
   "execution_count": 84,
   "id": "22c53d40",
   "metadata": {},
   "outputs": [
    {
     "name": "stdout",
     "output_type": "stream",
     "text": [
      "[2, 3, 5, 7, 1, 4, 6, 8]\n"
     ]
    }
   ],
   "source": [
    "numbers = [8, 3, 1, 2, 5, 4, 7, 6]\n",
    "group = {5, 7, 2, 3}\n",
    "sort_priority(numbers, group)\n",
    "\n",
    "print(numbers)"
   ]
  },
  {
   "cell_type": "code",
   "execution_count": null,
   "id": "72c3e320",
   "metadata": {},
   "outputs": [],
   "source": []
  }
 ],
 "metadata": {
  "kernelspec": {
   "display_name": "Python 3 (ipykernel)",
   "language": "python",
   "name": "python3"
  },
  "language_info": {
   "codemirror_mode": {
    "name": "ipython",
    "version": 3
   },
   "file_extension": ".py",
   "mimetype": "text/x-python",
   "name": "python",
   "nbconvert_exporter": "python",
   "pygments_lexer": "ipython3",
   "version": "3.9.18"
  },
  "nbTranslate": {
   "displayLangs": [
    "*"
   ],
   "hotkey": "alt-t",
   "langInMainMenu": true,
   "sourceLang": "en",
   "targetLang": "ru",
   "useGoogleTranslate": true
  },
  "toc": {
   "base_numbering": 1,
   "nav_menu": {},
   "number_sections": true,
   "sideBar": true,
   "skip_h1_title": false,
   "title_cell": "Table of Contents",
   "title_sidebar": "Contents",
   "toc_cell": false,
   "toc_position": {},
   "toc_section_display": true,
   "toc_window_display": false
  },
  "varInspector": {
   "cols": {
    "lenName": 16,
    "lenType": 16,
    "lenVar": 40
   },
   "kernels_config": {
    "python": {
     "delete_cmd_postfix": "",
     "delete_cmd_prefix": "del ",
     "library": "var_list.py",
     "varRefreshCmd": "print(var_dic_list())"
    },
    "r": {
     "delete_cmd_postfix": ") ",
     "delete_cmd_prefix": "rm(",
     "library": "var_list.r",
     "varRefreshCmd": "cat(var_dic_list()) "
    }
   },
   "types_to_exclude": [
    "module",
    "function",
    "builtin_function_or_method",
    "instance",
    "_Feature"
   ],
   "window_display": false
  }
 },
 "nbformat": 4,
 "nbformat_minor": 5
}
