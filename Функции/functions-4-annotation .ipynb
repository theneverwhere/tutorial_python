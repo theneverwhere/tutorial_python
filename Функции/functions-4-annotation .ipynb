{
 "cells": [
  {
   "cell_type": "markdown",
   "id": "3c3d26c7",
   "metadata": {},
   "source": [
    "# Аннотация типов "
   ]
  },
  {
   "cell_type": "markdown",
   "id": "362de38d",
   "metadata": {},
   "source": [
    "Python поддерживает аннотации типов, позволяющие программистам добавлять информацию о типах переменных, параметров и возвращаемых значений функций, что упрощает статический анализ кода."
   ]
  },
  {
   "cell_type": "markdown",
   "id": "4183b924",
   "metadata": {},
   "source": [
    "### Примеры аннотации"
   ]
  },
  {
   "cell_type": "code",
   "execution_count": 1,
   "id": "474157ee",
   "metadata": {},
   "outputs": [],
   "source": [
    "# пример 1\n",
    "# функция, принимающая число, возвращает список цифр из этого числа"
   ]
  },
  {
   "cell_type": "code",
   "execution_count": 2,
   "id": "2d5e4505",
   "metadata": {},
   "outputs": [],
   "source": [
    "from typing import Union\n",
    "\n",
    "IntFloat = Union[int,float]\n",
    "\n",
    "def get_digits(n:IntFloat) -> list[int]:\n",
    "    result = []\n",
    "    for digit in str(n):\n",
    "        if digit in '0123456789':\n",
    "            result.append(int(digit))\n",
    "    return result\n",
    "\n",
    "\n",
    "# то же самое, но без доп библиотек (для Python 3.10+)\n",
    "# def get_digits(number: int|float) -> list[int]:\n",
    "#     result = []\n",
    "#     for digit in str(number):\n",
    "#         if digit in '0123456789':\n",
    "#             result.append(int(digit))\n",
    "#     return result"
   ]
  },
  {
   "cell_type": "code",
   "execution_count": 3,
   "id": "b5951e81",
   "metadata": {},
   "outputs": [
    {
     "data": {
      "text/plain": [
       "[1, 0, 0, 2, 5]"
      ]
     },
     "execution_count": 3,
     "metadata": {},
     "output_type": "execute_result"
    }
   ],
   "source": [
    "get_digits(100.25)"
   ]
  },
  {
   "cell_type": "code",
   "execution_count": 4,
   "id": "364975ef",
   "metadata": {},
   "outputs": [],
   "source": [
    "# пример 2\n",
    "# самая высокая оценка ученика"
   ]
  },
  {
   "cell_type": "code",
   "execution_count": 5,
   "id": "aeed398e",
   "metadata": {},
   "outputs": [],
   "source": [
    "def top_grade(grades: dict[str, list]) -> dict[str,int]: \n",
    "    top = max(grades['grades'])\n",
    "    return dict(name=grades['name'], top_grade=top)"
   ]
  },
  {
   "cell_type": "code",
   "execution_count": 6,
   "id": "a3479737",
   "metadata": {
    "scrolled": true
   },
   "outputs": [
    {
     "name": "stdout",
     "output_type": "stream",
     "text": [
      "{'name': 'Pavel', 'top_grade': 99}\n"
     ]
    }
   ],
   "source": [
    "info = {'name': 'Pavel', 'grades': [30, 57, 99]}\n",
    "\n",
    "print(top_grade(info))"
   ]
  },
  {
   "cell_type": "code",
   "execution_count": 7,
   "id": "f1498398",
   "metadata": {},
   "outputs": [],
   "source": [
    "# пример 3 \n",
    "# циклический сдвиг"
   ]
  },
  {
   "cell_type": "code",
   "execution_count": 8,
   "id": "05593f39",
   "metadata": {},
   "outputs": [],
   "source": [
    "def cyclic_shift(numbers, step):\n",
    "    \n",
    "    def cyclic_shift_left(arr, shift):\n",
    "        shift = shift % len(arr)  \n",
    "        return arr[shift:] + arr[:shift]\n",
    "\n",
    "    def cyclic_shift_right(arr, shift):\n",
    "        shift = shift % len(arr)  \n",
    "        return arr[-shift:] + arr[:-shift]\n",
    "    \n",
    "    if step<0:\n",
    "        numbers[:] = cyclic_shift_left(numbers,abs(step))\n",
    "        return numbers\n",
    "    numbers[:] = cyclic_shift_right(numbers, step)"
   ]
  },
  {
   "cell_type": "code",
   "execution_count": 9,
   "id": "13bdf884",
   "metadata": {},
   "outputs": [
    {
     "name": "stdout",
     "output_type": "stream",
     "text": [
      "[5, 1, 2, 3, 4]\n"
     ]
    }
   ],
   "source": [
    "numbers = [1, 2, 3, 4, 5]\n",
    "cyclic_shift(numbers, 1)\n",
    "\n",
    "print(numbers)"
   ]
  },
  {
   "cell_type": "code",
   "execution_count": null,
   "id": "4298e647",
   "metadata": {},
   "outputs": [],
   "source": []
  }
 ],
 "metadata": {
  "kernelspec": {
   "display_name": "Python 3 (ipykernel)",
   "language": "python",
   "name": "python3"
  },
  "language_info": {
   "codemirror_mode": {
    "name": "ipython",
    "version": 3
   },
   "file_extension": ".py",
   "mimetype": "text/x-python",
   "name": "python",
   "nbconvert_exporter": "python",
   "pygments_lexer": "ipython3",
   "version": "3.9.18"
  },
  "nbTranslate": {
   "displayLangs": [
    "*"
   ],
   "hotkey": "alt-t",
   "langInMainMenu": true,
   "sourceLang": "en",
   "targetLang": "ru",
   "useGoogleTranslate": true
  },
  "toc": {
   "base_numbering": 1,
   "nav_menu": {},
   "number_sections": true,
   "sideBar": true,
   "skip_h1_title": false,
   "title_cell": "Table of Contents",
   "title_sidebar": "Contents",
   "toc_cell": false,
   "toc_position": {},
   "toc_section_display": true,
   "toc_window_display": false
  },
  "varInspector": {
   "cols": {
    "lenName": 16,
    "lenType": 16,
    "lenVar": 40
   },
   "kernels_config": {
    "python": {
     "delete_cmd_postfix": "",
     "delete_cmd_prefix": "del ",
     "library": "var_list.py",
     "varRefreshCmd": "print(var_dic_list())"
    },
    "r": {
     "delete_cmd_postfix": ") ",
     "delete_cmd_prefix": "rm(",
     "library": "var_list.r",
     "varRefreshCmd": "cat(var_dic_list()) "
    }
   },
   "types_to_exclude": [
    "module",
    "function",
    "builtin_function_or_method",
    "instance",
    "_Feature"
   ],
   "window_display": false
  }
 },
 "nbformat": 4,
 "nbformat_minor": 5
}
