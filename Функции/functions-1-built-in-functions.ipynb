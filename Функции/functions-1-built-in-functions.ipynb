{
 "cells": [
  {
   "cell_type": "markdown",
   "id": "04de392e",
   "metadata": {
    "heading_collapsed": true
   },
   "source": [
    "# Встроенные функции"
   ]
  },
  {
   "cell_type": "markdown",
   "id": "0358937a",
   "metadata": {
    "hidden": true
   },
   "source": [
    "**callable()** \n",
    "\n",
    "для проверки, можно ли вызвать объект как функцию"
   ]
  },
  {
   "cell_type": "code",
   "execution_count": 4,
   "id": "4b6ba9ac",
   "metadata": {
    "hidden": true
   },
   "outputs": [],
   "source": [
    "# функция\n",
    "def say_hello(name='Гость'):\n",
    "    print(f'Привет, {name.title()}!')"
   ]
  },
  {
   "cell_type": "code",
   "execution_count": 5,
   "id": "1d65cd11",
   "metadata": {
    "hidden": true
   },
   "outputs": [
    {
     "data": {
      "text/plain": [
       "True"
      ]
     },
     "execution_count": 5,
     "metadata": {},
     "output_type": "execute_result"
    }
   ],
   "source": [
    "callable(say_hello)"
   ]
  },
  {
   "cell_type": "code",
   "execution_count": 6,
   "id": "7bbfb638",
   "metadata": {
    "hidden": true
   },
   "outputs": [
    {
     "data": {
      "text/plain": [
       "False"
      ]
     },
     "execution_count": 6,
     "metadata": {},
     "output_type": "execute_result"
    }
   ],
   "source": [
    "callable(10)"
   ]
  },
  {
   "cell_type": "code",
   "execution_count": 7,
   "id": "f4a7bd22",
   "metadata": {
    "hidden": true
   },
   "outputs": [
    {
     "name": "stdout",
     "output_type": "stream",
     "text": [
      "True\n",
      "True\n",
      "True\n"
     ]
    }
   ],
   "source": [
    "print(callable(print))\n",
    "print(callable(int))\n",
    "print(callable(list))"
   ]
  },
  {
   "cell_type": "markdown",
   "id": "8ab562ad",
   "metadata": {
    "hidden": true
   },
   "source": [
    "**hasattr()**\n",
    "\n",
    "для проверки существования атрибута в объекте"
   ]
  },
  {
   "cell_type": "code",
   "execution_count": 8,
   "id": "1ca7b730",
   "metadata": {
    "hidden": true
   },
   "outputs": [
    {
     "data": {
      "text/plain": [
       "True"
      ]
     },
     "execution_count": 8,
     "metadata": {},
     "output_type": "execute_result"
    }
   ],
   "source": [
    "hasattr([1,2,3],'append')"
   ]
  },
  {
   "cell_type": "code",
   "execution_count": 9,
   "id": "007f6f17",
   "metadata": {
    "hidden": true
   },
   "outputs": [
    {
     "data": {
      "text/plain": [
       "True"
      ]
     },
     "execution_count": 9,
     "metadata": {},
     "output_type": "execute_result"
    }
   ],
   "source": [
    "hasattr('hello world', 'upper')"
   ]
  },
  {
   "cell_type": "code",
   "execution_count": 10,
   "id": "a1d87905",
   "metadata": {
    "hidden": true
   },
   "outputs": [
    {
     "data": {
      "text/plain": [
       "False"
      ]
     },
     "execution_count": 10,
     "metadata": {},
     "output_type": "execute_result"
    }
   ],
   "source": [
    "hasattr(10, 'reverse')"
   ]
  },
  {
   "cell_type": "markdown",
   "id": "3275baa7",
   "metadata": {
    "hidden": true
   },
   "source": [
    "**hash()**\n",
    "\n",
    "возвращает целое число, представляющее хеш-значение переданного объекта"
   ]
  },
  {
   "cell_type": "code",
   "execution_count": 11,
   "id": "483ffe7c",
   "metadata": {
    "hidden": true
   },
   "outputs": [
    {
     "data": {
      "text/plain": [
       "10"
      ]
     },
     "execution_count": 11,
     "metadata": {},
     "output_type": "execute_result"
    }
   ],
   "source": [
    "hash(10)"
   ]
  },
  {
   "cell_type": "code",
   "execution_count": 12,
   "id": "1f2b6607",
   "metadata": {
    "hidden": true
   },
   "outputs": [
    {
     "data": {
      "text/plain": [
       "-6330662035561460520"
      ]
     },
     "execution_count": 12,
     "metadata": {},
     "output_type": "execute_result"
    }
   ],
   "source": [
    "hash('hello')"
   ]
  },
  {
   "cell_type": "code",
   "execution_count": 14,
   "id": "aaeeb9a7",
   "metadata": {
    "hidden": true
   },
   "outputs": [
    {
     "ename": "TypeError",
     "evalue": "unhashable type: 'list'",
     "output_type": "error",
     "traceback": [
      "\u001b[1;31m---------------------------------------------------------------------------\u001b[0m",
      "\u001b[1;31mTypeError\u001b[0m                                 Traceback (most recent call last)",
      "Cell \u001b[1;32mIn[14], line 1\u001b[0m\n\u001b[1;32m----> 1\u001b[0m \u001b[38;5;28;43mhash\u001b[39;49m\u001b[43m(\u001b[49m\u001b[43m[\u001b[49m\u001b[38;5;241;43m1\u001b[39;49m\u001b[43m,\u001b[49m\u001b[38;5;241;43m2\u001b[39;49m\u001b[43m,\u001b[49m\u001b[38;5;241;43m3\u001b[39;49m\u001b[43m]\u001b[49m\u001b[43m)\u001b[49m\n",
      "\u001b[1;31mTypeError\u001b[0m: unhashable type: 'list'"
     ]
    }
   ],
   "source": [
    "hash([1,2,3]) # ошибка"
   ]
  },
  {
   "attachments": {
    "image.png": {
     "image/png": "[encoded data removed]"
    }
   },
   "cell_type": "markdown",
   "id": "1238d444",
   "metadata": {
    "hidden": true
   },
   "source": [
    "![image.png](attachment:image.png)"
   ]
  },
  {
   "cell_type": "markdown",
   "id": "95aeb234",
   "metadata": {
    "hidden": true
   },
   "source": [
    "**help()**\n",
    "\n",
    "справка по функции, модулю или объекту"
   ]
  },
  {
   "cell_type": "code",
   "execution_count": 15,
   "id": "78874210",
   "metadata": {
    "hidden": true
   },
   "outputs": [
    {
     "name": "stdout",
     "output_type": "stream",
     "text": [
      "Help on built-in function print in module builtins:\n",
      "\n",
      "print(...)\n",
      "    print(value, ..., sep=' ', end='\\n', file=sys.stdout, flush=False)\n",
      "    \n",
      "    Prints the values to a stream, or to sys.stdout by default.\n",
      "    Optional keyword arguments:\n",
      "    file:  a file-like object (stream); defaults to the current sys.stdout.\n",
      "    sep:   string inserted between values, default a space.\n",
      "    end:   string appended after the last value, default a newline.\n",
      "    flush: whether to forcibly flush the stream.\n",
      "\n"
     ]
    }
   ],
   "source": [
    "help(print)"
   ]
  },
  {
   "cell_type": "code",
   "execution_count": 24,
   "id": "fa91d4dd",
   "metadata": {
    "hidden": true,
    "scrolled": true
   },
   "outputs": [
    {
     "ename": "SyntaxError",
     "evalue": "invalid syntax (931804217.py, line 1)",
     "output_type": "error",
     "traceback": [
      "\u001b[1;36m  Cell \u001b[1;32mIn[24], line 1\u001b[1;36m\u001b[0m\n\u001b[1;33m    print?  # справка для блокнота\u001b[0m\n\u001b[1;37m         ^\u001b[0m\n\u001b[1;31mSyntaxError\u001b[0m\u001b[1;31m:\u001b[0m invalid syntax\n"
     ]
    }
   ],
   "source": [
    "print?  # справка для блокнота"
   ]
  },
  {
   "cell_type": "code",
   "execution_count": 26,
   "id": "45a75fd9",
   "metadata": {
    "hidden": true
   },
   "outputs": [],
   "source": [
    "list?"
   ]
  },
  {
   "cell_type": "markdown",
   "id": "98c1c522",
   "metadata": {
    "hidden": true
   },
   "source": [
    "**repr()**\n",
    "\n",
    "возвращает строку, содержащую формальное (понятное интерпретатору) представление переданного объекта"
   ]
  },
  {
   "cell_type": "code",
   "execution_count": 27,
   "id": "be53e896",
   "metadata": {
    "hidden": true
   },
   "outputs": [
    {
     "data": {
      "text/plain": [
       "\"'hello'\""
      ]
     },
     "execution_count": 27,
     "metadata": {},
     "output_type": "execute_result"
    }
   ],
   "source": [
    "repr('hello')"
   ]
  },
  {
   "cell_type": "code",
   "execution_count": 28,
   "id": "1d594133",
   "metadata": {
    "hidden": true
   },
   "outputs": [
    {
     "data": {
      "text/plain": [
       "'10'"
      ]
     },
     "execution_count": 28,
     "metadata": {},
     "output_type": "execute_result"
    }
   ],
   "source": [
    "repr(10)"
   ]
  },
  {
   "cell_type": "code",
   "execution_count": 29,
   "id": "692739eb",
   "metadata": {
    "hidden": true,
    "scrolled": true
   },
   "outputs": [
    {
     "data": {
      "text/plain": [
       "'[1, 2, 3]'"
      ]
     },
     "execution_count": 29,
     "metadata": {},
     "output_type": "execute_result"
    }
   ],
   "source": [
    "repr([1,2,3])"
   ]
  },
  {
   "cell_type": "code",
   "execution_count": 30,
   "id": "3c7eecca",
   "metadata": {
    "hidden": true
   },
   "outputs": [
    {
     "name": "stdout",
     "output_type": "stream",
     "text": [
      "2003-03-08 00:00:00\n"
     ]
    }
   ],
   "source": [
    "from datetime import datetime \n",
    "date = datetime(2003,3,8)\n",
    "print(date)"
   ]
  },
  {
   "cell_type": "code",
   "execution_count": 31,
   "id": "96748bf7",
   "metadata": {
    "hidden": true
   },
   "outputs": [
    {
     "data": {
      "text/plain": [
       "'datetime.datetime(2003, 3, 8, 0, 0)'"
      ]
     },
     "execution_count": 31,
     "metadata": {},
     "output_type": "execute_result"
    }
   ],
   "source": [
    "repr(date)"
   ]
  },
  {
   "cell_type": "markdown",
   "id": "c69bed38",
   "metadata": {
    "hidden": true
   },
   "source": [
    "**eval**\n",
    "\n",
    "выполняет строку-**выражение**, переданную ей в качестве обязательного аргумента, и возвращает результат выполнения этой строки"
   ]
  },
  {
   "cell_type": "code",
   "execution_count": 32,
   "id": "3c8bfe9e",
   "metadata": {
    "hidden": true
   },
   "outputs": [
    {
     "data": {
      "text/plain": [
       "2"
      ]
     },
     "execution_count": 32,
     "metadata": {},
     "output_type": "execute_result"
    }
   ],
   "source": [
    "eval('1+1')"
   ]
  },
  {
   "cell_type": "code",
   "execution_count": 34,
   "id": "f736222e",
   "metadata": {
    "hidden": true
   },
   "outputs": [
    {
     "name": "stdout",
     "output_type": "stream",
     "text": [
      "[1, 2, 3]\n"
     ]
    },
    {
     "data": {
      "text/plain": [
       "list"
      ]
     },
     "execution_count": 34,
     "metadata": {},
     "output_type": "execute_result"
    }
   ],
   "source": [
    "a = eval('[1,2,3]')\n",
    "print(a)\n",
    "type(a)"
   ]
  },
  {
   "cell_type": "code",
   "execution_count": 35,
   "id": "05692a31",
   "metadata": {
    "hidden": true
   },
   "outputs": [
    {
     "name": "stdout",
     "output_type": "stream",
     "text": [
      "hi\n"
     ]
    }
   ],
   "source": [
    "s = 'hi'\n",
    "eval('print(s)')  # имеет доступ к локальным и глобальным переменным"
   ]
  },
  {
   "cell_type": "markdown",
   "id": "edd0cc3d",
   "metadata": {
    "hidden": true
   },
   "source": [
    "Имейте в виду, что не все языковые конструкции являются выражениями (expression). Операторами, которые нельзя использовать в качестве выражений, являются, например, while, for, if, def, import, class, raise и т.д."
   ]
  },
  {
   "cell_type": "code",
   "execution_count": 36,
   "id": "550d46b6",
   "metadata": {
    "hidden": true
   },
   "outputs": [
    {
     "data": {
      "text/plain": [
       "[1, 4, 9, 16, 25, 36, 49, 64, 81, 100]"
      ]
     },
     "execution_count": 36,
     "metadata": {},
     "output_type": "execute_result"
    }
   ],
   "source": [
    "eval('[i**2 for i in range(1,11) ]') # выражение"
   ]
  },
  {
   "cell_type": "code",
   "execution_count": 37,
   "id": "dd797183",
   "metadata": {
    "hidden": true
   },
   "outputs": [
    {
     "ename": "SyntaxError",
     "evalue": "invalid syntax (3969591704.py, line 1)",
     "output_type": "error",
     "traceback": [
      "\u001b[1;36m  Cell \u001b[1;32mIn[37], line 1\u001b[1;36m\u001b[0m\n\u001b[1;33m    eval('print('yes') if 2+2==4 else print('no')') # ошибка\u001b[0m\n\u001b[1;37m                 ^\u001b[0m\n\u001b[1;31mSyntaxError\u001b[0m\u001b[1;31m:\u001b[0m invalid syntax\n"
     ]
    }
   ],
   "source": [
    "eval('print('yes') if 2+2==4 else print('no')') # ошибка"
   ]
  },
  {
   "cell_type": "code",
   "execution_count": 38,
   "id": "4b886e5a",
   "metadata": {
    "hidden": true
   },
   "outputs": [
    {
     "data": {
      "text/plain": [
       "['s', 1, 2, (1, 2), {}]"
      ]
     },
     "execution_count": 38,
     "metadata": {},
     "output_type": "execute_result"
    }
   ],
   "source": [
    "# таким образом можно парсить объекты в Python \n",
    "s = \"['s',1,2,(1,2),dict()]\"\n",
    "eval(s)"
   ]
  },
  {
   "cell_type": "markdown",
   "id": "a80628a6",
   "metadata": {
    "hidden": true
   },
   "source": [
    "**exec()**\n",
    "\n",
    "в отличие от eval(), принимает **блок кода** и выполняет его, **возвращая значение None**"
   ]
  },
  {
   "cell_type": "code",
   "execution_count": 39,
   "id": "9452bbed",
   "metadata": {
    "hidden": true
   },
   "outputs": [
    {
     "name": "stdout",
     "output_type": "stream",
     "text": [
      "s\n"
     ]
    }
   ],
   "source": [
    "exec(\"print('s')\")"
   ]
  },
  {
   "cell_type": "code",
   "execution_count": 40,
   "id": "119abf58",
   "metadata": {
    "hidden": true
   },
   "outputs": [],
   "source": [
    "code_str = '''\n",
    "x = 5\n",
    "while x>0:\n",
    "    x=x-1\n",
    "    print(x)\n",
    "'''"
   ]
  },
  {
   "cell_type": "code",
   "execution_count": 41,
   "id": "f9e7a081",
   "metadata": {
    "hidden": true
   },
   "outputs": [
    {
     "name": "stdout",
     "output_type": "stream",
     "text": [
      "4\n",
      "3\n",
      "2\n",
      "1\n",
      "0\n"
     ]
    }
   ],
   "source": [
    "exec(code_str)"
   ]
  },
  {
   "cell_type": "code",
   "execution_count": 42,
   "id": "c3d0b430",
   "metadata": {
    "hidden": true
   },
   "outputs": [],
   "source": [
    "code = '''\n",
    "def func():\n",
    "    return 100\n",
    "func()\n",
    "'''"
   ]
  },
  {
   "cell_type": "code",
   "execution_count": 46,
   "id": "ba4b8c7a",
   "metadata": {
    "hidden": true
   },
   "outputs": [
    {
     "name": "stdout",
     "output_type": "stream",
     "text": [
      "None\n"
     ]
    }
   ],
   "source": [
    "print(exec(code))  # возвращает None"
   ]
  },
  {
   "cell_type": "markdown",
   "id": "afe9690d",
   "metadata": {
    "hidden": true
   },
   "source": [
    "### Функции высшего* порядка map, filter\n",
    "\n",
    "-* которые принимают или/и возвращают другие функции"
   ]
  },
  {
   "cell_type": "code",
   "execution_count": null,
   "id": "d3f1ae72",
   "metadata": {
    "hidden": true
   },
   "outputs": [],
   "source": [
    "# map(func, iterable)"
   ]
  },
  {
   "cell_type": "markdown",
   "id": "f0510181",
   "metadata": {
    "hidden": true
   },
   "source": [
    "Функция **map()** выполняет пользовательскую функцию func для каждого элемента последовательности iterable"
   ]
  },
  {
   "cell_type": "code",
   "execution_count": 48,
   "id": "356f3bd4",
   "metadata": {
    "hidden": true
   },
   "outputs": [
    {
     "data": {
      "text/plain": [
       "<map at 0x24a876eaa30>"
      ]
     },
     "execution_count": 48,
     "metadata": {},
     "output_type": "execute_result"
    }
   ],
   "source": [
    "def my_func(x):\n",
    "    return x**2\n",
    "\n",
    "squares = map(my_func, [1,2,3,4,5])  # итерируемый объект\n",
    "squares # объект map"
   ]
  },
  {
   "cell_type": "code",
   "execution_count": 51,
   "id": "7aafd1e3",
   "metadata": {
    "hidden": true
   },
   "outputs": [
    {
     "name": "stdout",
     "output_type": "stream",
     "text": [
      "\n"
     ]
    }
   ],
   "source": [
    "print(*squares) # итератор дошел до конца и \"распаковался\""
   ]
  },
  {
   "cell_type": "code",
   "execution_count": 52,
   "id": "d81ac54c",
   "metadata": {
    "hidden": true
   },
   "outputs": [
    {
     "data": {
      "text/plain": [
       "[]"
      ]
     },
     "execution_count": 52,
     "metadata": {},
     "output_type": "execute_result"
    }
   ],
   "source": [
    "list(squares) # когда итератор \"доходит\" до конца, он не возвращается назад"
   ]
  },
  {
   "cell_type": "code",
   "execution_count": 54,
   "id": "59a8b93b",
   "metadata": {
    "hidden": true
   },
   "outputs": [
    {
     "name": "stdout",
     "output_type": "stream",
     "text": [
      "100 400 900\n"
     ]
    }
   ],
   "source": [
    "print(*map(lambda x: x**2, (10,20,30)))"
   ]
  },
  {
   "cell_type": "code",
   "execution_count": 56,
   "id": "e6b78612",
   "metadata": {
    "hidden": true
   },
   "outputs": [
    {
     "name": "stdout",
     "output_type": "stream",
     "text": [
      "[100, 300, 500] [200, 400, 600]\n"
     ]
    }
   ],
   "source": [
    "# \"распаковка\" последовательностей\n",
    "\n",
    "print(*map(lambda x,y,z: [x*100,y*100,z*100], [1,2],[3,4],[5,6,7]))"
   ]
  },
  {
   "cell_type": "code",
   "execution_count": 57,
   "id": "cccd266c",
   "metadata": {
    "hidden": true
   },
   "outputs": [],
   "source": [
    "# filter(func*, iterable)   *func - функция, возвращающая булевое значение  "
   ]
  },
  {
   "cell_type": "code",
   "execution_count": 58,
   "id": "8f06a91e",
   "metadata": {
    "hidden": true
   },
   "outputs": [],
   "source": [
    "def is_five(score):\n",
    "    if score == 5:\n",
    "        return True"
   ]
  },
  {
   "cell_type": "code",
   "execution_count": 59,
   "id": "a674653b",
   "metadata": {
    "hidden": true
   },
   "outputs": [
    {
     "name": "stdout",
     "output_type": "stream",
     "text": [
      "5 5 5\n"
     ]
    }
   ],
   "source": [
    "print(*filter(is_five, [2,4,4,4,3,4,5,2,3,4,5,5]))"
   ]
  },
  {
   "cell_type": "markdown",
   "id": "076b93e6",
   "metadata": {
    "hidden": true
   },
   "source": [
    "При несложной фильтрации вместо аргумента func часто подставляют анонимную функцию, используя в ней стандартные функции или методы, возвращающие bool значения:\n",
    "\n",
    "- операции сравнения\n",
    "- оператор вхождения in\n",
    "- оператор идентичности is\n",
    "- и т.д."
   ]
  },
  {
   "cell_type": "code",
   "execution_count": null,
   "id": "d9b4332d",
   "metadata": {
    "hidden": true
   },
   "outputs": [],
   "source": []
  }
 ],
 "metadata": {
  "kernelspec": {
   "display_name": "Python 3 (ipykernel)",
   "language": "python",
   "name": "python3"
  },
  "language_info": {
   "codemirror_mode": {
    "name": "ipython",
    "version": 3
   },
   "file_extension": ".py",
   "mimetype": "text/x-python",
   "name": "python",
   "nbconvert_exporter": "python",
   "pygments_lexer": "ipython3",
   "version": "3.9.18"
  },
  "nbTranslate": {
   "displayLangs": [
    "*"
   ],
   "hotkey": "alt-t",
   "langInMainMenu": true,
   "sourceLang": "en",
   "targetLang": "ru",
   "useGoogleTranslate": true
  },
  "toc": {
   "base_numbering": 1,
   "nav_menu": {},
   "number_sections": true,
   "sideBar": true,
   "skip_h1_title": false,
   "title_cell": "Table of Contents",
   "title_sidebar": "Contents",
   "toc_cell": false,
   "toc_position": {},
   "toc_section_display": true,
   "toc_window_display": true
  },
  "varInspector": {
   "cols": {
    "lenName": 16,
    "lenType": 16,
    "lenVar": 40
   },
   "kernels_config": {
    "python": {
     "delete_cmd_postfix": "",
     "delete_cmd_prefix": "del ",
     "library": "var_list.py",
     "varRefreshCmd": "print(var_dic_list())"
    },
    "r": {
     "delete_cmd_postfix": ") ",
     "delete_cmd_prefix": "rm(",
     "library": "var_list.r",
     "varRefreshCmd": "cat(var_dic_list()) "
    }
   },
   "types_to_exclude": [
    "module",
    "function",
    "builtin_function_or_method",
    "instance",
    "_Feature"
   ],
   "window_display": false
  }
 },
 "nbformat": 4,
 "nbformat_minor": 5
}
