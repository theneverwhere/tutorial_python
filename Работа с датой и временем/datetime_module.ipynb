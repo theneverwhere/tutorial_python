{
 "cells": [
  {
   "cell_type": "markdown",
   "id": "dce9ebcd",
   "metadata": {},
   "source": [
    "# Модуль datetime"
   ]
  },
  {
   "cell_type": "markdown",
   "id": "c83e86b9",
   "metadata": {},
   "source": [
    "Время в компьютере хранится для человека в довольно неудобном виде. Это количество секунд, прошедших с полуночи \n",
    "**1 января 1970 года** (00:00:00 UTC), этот момент называют «эпохой Unix». Для компьютера такая система удобна, ему так проще хранить время и, например, сравнивать даты. А вот для человека это совершенно непривычно."
   ]
  },
  {
   "cell_type": "code",
   "execution_count": 1,
   "id": "9ea58df2",
   "metadata": {},
   "outputs": [],
   "source": [
    "from datetime import date"
   ]
  },
  {
   "cell_type": "markdown",
   "id": "c645b86d",
   "metadata": {},
   "source": [
    "## Oбъект **date**"
   ]
  },
  {
   "cell_type": "code",
   "execution_count": 5,
   "id": "b54e8f90",
   "metadata": {},
   "outputs": [
    {
     "name": "stdout",
     "output_type": "stream",
     "text": [
      "datetime.date(2003, 3, 8)\n",
      "2003-03-08\n",
      "<class 'datetime.date'>\n"
     ]
    }
   ],
   "source": [
    "date1 = date(2003,3,8)  # создание даты (год, месяц, день)\n",
    "print(repr(date1))\n",
    "print(str(date1))  # уже в print встроено преобразование к str\n",
    "\n",
    "print(type(date1))\n",
    "# В качестве ограничений по годам в типе date используются значения MINYEAR=1 и MAXYEAR=9999"
   ]
  },
  {
   "cell_type": "code",
   "execution_count": 6,
   "id": "66f3ad2f",
   "metadata": {},
   "outputs": [
    {
     "name": "stdout",
     "output_type": "stream",
     "text": [
      "[datetime.date(2009, 2, 18), datetime.date(2004, 12, 1)]\n",
      "\n",
      "2009-02-18, 2004-12-01\n"
     ]
    }
   ],
   "source": [
    "dates = [date(2009,2,18), date(2004,12,1)]\n",
    "print(dates)\n",
    "print()\n",
    "print(*dates, sep=', ')"
   ]
  },
  {
   "cell_type": "code",
   "execution_count": 7,
   "id": "7bf8ad67",
   "metadata": {},
   "outputs": [
    {
     "name": "stdout",
     "output_type": "stream",
     "text": [
      "2003\n",
      "3\n",
      "8\n"
     ]
    },
    {
     "data": {
      "text/plain": [
       "int"
      ]
     },
     "execution_count": 7,
     "metadata": {},
     "output_type": "execute_result"
    }
   ],
   "source": [
    "# получение отдельно года, месяца, дня с помощью арибутов\n",
    "print(date1.year)\n",
    "print(date1.month)\n",
    "print(date1.day)\n",
    "\n",
    "type(date1.year)"
   ]
  },
  {
   "cell_type": "code",
   "execution_count": 8,
   "id": "85fa8b68",
   "metadata": {},
   "outputs": [
    {
     "data": {
      "text/plain": [
       "datetime.date(2024, 9, 9)"
      ]
     },
     "execution_count": 8,
     "metadata": {},
     "output_type": "execute_result"
    }
   ],
   "source": [
    "# получение текущей даты\n",
    "today_date = date.today()\n",
    "today_date"
   ]
  },
  {
   "cell_type": "code",
   "execution_count": 9,
   "id": "0b3b7c32",
   "metadata": {},
   "outputs": [
    {
     "data": {
      "text/plain": [
       "0"
      ]
     },
     "execution_count": 9,
     "metadata": {},
     "output_type": "execute_result"
    }
   ],
   "source": [
    "# получение дня недели\n",
    "today_date.weekday()  # где понедельник 0, вторник 1 и тд"
   ]
  },
  {
   "cell_type": "code",
   "execution_count": 10,
   "id": "31e07dbe",
   "metadata": {},
   "outputs": [
    {
     "data": {
      "text/plain": [
       "1"
      ]
     },
     "execution_count": 10,
     "metadata": {},
     "output_type": "execute_result"
    }
   ],
   "source": [
    "# получение дня недели, начиная нумераацию с 1\n",
    "today_date.isoweekday()"
   ]
  },
  {
   "cell_type": "markdown",
   "id": "ad1d1097",
   "metadata": {},
   "source": [
    "- даты можно сравнивать, находить максимальную/минимальную, сортировать"
   ]
  },
  {
   "cell_type": "code",
   "execution_count": 12,
   "id": "015fa13e",
   "metadata": {},
   "outputs": [
    {
     "data": {
      "text/plain": [
       "[datetime.date(2009, 2, 18), datetime.date(2004, 12, 1)]"
      ]
     },
     "execution_count": 12,
     "metadata": {},
     "output_type": "execute_result"
    }
   ],
   "source": [
    "dates"
   ]
  },
  {
   "cell_type": "code",
   "execution_count": 13,
   "id": "e42c69bd",
   "metadata": {},
   "outputs": [
    {
     "name": "stdout",
     "output_type": "stream",
     "text": [
      "2004-12-01\n",
      "2009-02-18\n"
     ]
    }
   ],
   "source": [
    "print(min(dates))\n",
    "print(max(dates))"
   ]
  },
  {
   "cell_type": "code",
   "execution_count": 14,
   "id": "c3b393aa",
   "metadata": {},
   "outputs": [
    {
     "data": {
      "text/plain": [
       "True"
      ]
     },
     "execution_count": 14,
     "metadata": {},
     "output_type": "execute_result"
    }
   ],
   "source": [
    "today_date > date1  # сравнение дат"
   ]
  },
  {
   "cell_type": "code",
   "execution_count": 15,
   "id": "23bbc663",
   "metadata": {},
   "outputs": [
    {
     "name": "stdout",
     "output_type": "stream",
     "text": [
      "2004-12-01 2009-02-18\n"
     ]
    }
   ],
   "source": [
    "dates.sort()  # сортировка списка дат\n",
    "print(*dates)"
   ]
  },
  {
   "cell_type": "code",
   "execution_count": 16,
   "id": "a70bee18",
   "metadata": {},
   "outputs": [
    {
     "data": {
      "text/plain": [
       "datetime.date(2025, 2, 17)"
      ]
     },
     "execution_count": 16,
     "metadata": {},
     "output_type": "execute_result"
    }
   ],
   "source": [
    "date.fromordinal(739299) # получение ДАТЫ из номера дня"
   ]
  },
  {
   "cell_type": "code",
   "execution_count": 17,
   "id": "c3d98745",
   "metadata": {
    "scrolled": true
   },
   "outputs": [
    {
     "name": "stdout",
     "output_type": "stream",
     "text": [
      "1\n"
     ]
    },
    {
     "data": {
      "text/plain": [
       "1"
      ]
     },
     "execution_count": 17,
     "metadata": {},
     "output_type": "execute_result"
    }
   ],
   "source": [
    "first_date = date(1,1,1)\n",
    "print(date.toordinal(first_date)) # получение НОМЕРА дня из даты\n",
    "\n",
    "date.toordinal(first_date) "
   ]
  },
  {
   "cell_type": "code",
   "execution_count": 19,
   "id": "095257d0",
   "metadata": {},
   "outputs": [
    {
     "data": {
      "text/plain": [
       "368"
      ]
     },
     "execution_count": 19,
     "metadata": {},
     "output_type": "execute_result"
    }
   ],
   "source": [
    "new_date = date(2,1,3)\n",
    "date.toordinal(new_date) # номер дня с датой 2 год, первый месяц, третий день"
   ]
  },
  {
   "cell_type": "markdown",
   "id": "8d7eeada",
   "metadata": {},
   "source": [
    "--------------------------------------------"
   ]
  },
  {
   "cell_type": "markdown",
   "id": "b357cb91",
   "metadata": {},
   "source": [
    "## Тип данных **time**"
   ]
  },
  {
   "cell_type": "code",
   "execution_count": 20,
   "id": "d6ecd38a",
   "metadata": {},
   "outputs": [],
   "source": [
    "from datetime import time"
   ]
  },
  {
   "cell_type": "code",
   "execution_count": 21,
   "id": "66b01cc5",
   "metadata": {},
   "outputs": [
    {
     "name": "stdout",
     "output_type": "stream",
     "text": [
      "23:59:59.000879\n",
      "22:00:00\n",
      "00:30:00\n"
     ]
    }
   ],
   "source": [
    "# создание объекта time\n",
    "time1 = time(23,59,59,879)  # hour, minute, second, microsecond\n",
    "print(time1)\n",
    "\n",
    "# необязательно указывать все атрибуты в конструкторе (заполнятся нулями)\n",
    "time2 = time(22)  # hour\n",
    "print(time2)\n",
    "\n",
    "# или явно указать именованные параметры\n",
    "time3 = time(minute=30)\n",
    "print(time3)"
   ]
  },
  {
   "cell_type": "code",
   "execution_count": 22,
   "id": "93136400",
   "metadata": {
    "scrolled": true
   },
   "outputs": [
    {
     "name": "stdout",
     "output_type": "stream",
     "text": [
      "00:00:00\n"
     ]
    }
   ],
   "source": [
    "print(time())"
   ]
  },
  {
   "cell_type": "code",
   "execution_count": 23,
   "id": "5160d8ae",
   "metadata": {},
   "outputs": [
    {
     "data": {
      "text/plain": [
       "datetime.time"
      ]
     },
     "execution_count": 23,
     "metadata": {},
     "output_type": "execute_result"
    }
   ],
   "source": [
    "type(time1)"
   ]
  },
  {
   "cell_type": "code",
   "execution_count": 25,
   "id": "df5e06df",
   "metadata": {},
   "outputs": [
    {
     "data": {
      "text/plain": [
       "59"
      ]
     },
     "execution_count": 25,
     "metadata": {},
     "output_type": "execute_result"
    }
   ],
   "source": [
    "# получение часов, минут и тд\n",
    "time1.second"
   ]
  },
  {
   "cell_type": "markdown",
   "id": "9b7586db",
   "metadata": {},
   "source": [
    "-----\n",
    "\n",
    "*Объекты time можно сортировать, сравнивать, находить большее/меньшее*\n",
    "\n",
    "-----"
   ]
  },
  {
   "cell_type": "code",
   "execution_count": 26,
   "id": "0ab4e3f5",
   "metadata": {},
   "outputs": [
    {
     "data": {
      "text/plain": [
       "'datetime.time(23, 59, 59, 879)'"
      ]
     },
     "execution_count": 26,
     "metadata": {},
     "output_type": "execute_result"
    }
   ],
   "source": [
    "repr(time1)   # объект даты или времени в строковом представлении (понятном для Python)"
   ]
  },
  {
   "cell_type": "code",
   "execution_count": 27,
   "id": "f8112d05",
   "metadata": {},
   "outputs": [
    {
     "data": {
      "text/plain": [
       "'23:59:59.000879'"
      ]
     },
     "execution_count": 27,
     "metadata": {},
     "output_type": "execute_result"
    }
   ],
   "source": [
    "str(time1)  # в представлении, понятном человеку (По умолчанию объекты типов date и time выводятся в ISO 8601 формате)"
   ]
  },
  {
   "cell_type": "code",
   "execution_count": 28,
   "id": "a00e6c5a",
   "metadata": {},
   "outputs": [
    {
     "name": "stdout",
     "output_type": "stream",
     "text": [
      "23:59:59.000879\n",
      "12:59:30.000879\n"
     ]
    }
   ],
   "source": [
    "print(time1)\n",
    "new_time1 = time1.replace(second=30, hour=12)  # создание новой даты/времени на основе другой\n",
    "print(new_time1)"
   ]
  },
  {
   "cell_type": "markdown",
   "id": "51f4bd84",
   "metadata": {},
   "source": [
    "### Форматирование даты и времени"
   ]
  },
  {
   "cell_type": "code",
   "execution_count": 29,
   "id": "e211c91b",
   "metadata": {},
   "outputs": [
    {
     "name": "stdout",
     "output_type": "stream",
     "text": [
      "2003-03-08\n"
     ]
    }
   ],
   "source": [
    "# для форматирования используется метод strftime\n",
    "print(date1)"
   ]
  },
  {
   "cell_type": "code",
   "execution_count": 30,
   "id": "09e9128e",
   "metadata": {},
   "outputs": [
    {
     "name": "stdout",
     "output_type": "stream",
     "text": [
      "<class 'str'> Saturday\n",
      "[08 - 03]  | 2003г.\n"
     ]
    }
   ],
   "source": [
    "pattern1 = '%A'\n",
    "s = date1.strftime(pattern1)\n",
    "print(type(s), s)\n",
    "\n",
    "print(date1.strftime('[%d - %m]  | %Yг.'))"
   ]
  },
  {
   "cell_type": "code",
   "execution_count": 31,
   "id": "6db9817f",
   "metadata": {},
   "outputs": [
    {
     "data": {
      "text/plain": [
       "'Дата: 08.03.2003 Время: 00:00:00'"
      ]
     },
     "execution_count": 31,
     "metadata": {},
     "output_type": "execute_result"
    }
   ],
   "source": [
    "pattern2 = 'Дата: %d.%m.%Y Время: %H:%M:%S'\n",
    "date1.strftime(pattern2)"
   ]
  },
  {
   "attachments": {
    "image.png": {
     "image/png": "[encoded data removed]"
    }
   },
   "cell_type": "markdown",
   "id": "0ef0e079",
   "metadata": {},
   "source": [
    "![image.png](attachment:image.png)"
   ]
  },
  {
   "attachments": {
    "image.png": {
     "image/png": "[encoded data removed]"
    }
   },
   "cell_type": "markdown",
   "id": "6f91637f",
   "metadata": {},
   "source": [
    "![image.png](attachment:image.png)"
   ]
  },
  {
   "cell_type": "code",
   "execution_count": 32,
   "id": "d5451e6f",
   "metadata": {},
   "outputs": [
    {
     "data": {
      "text/plain": [
       "'ru_RU.UTF-8'"
      ]
     },
     "execution_count": 32,
     "metadata": {},
     "output_type": "execute_result"
    }
   ],
   "source": [
    "# Для того чтобы использовать конкретную локализацию (перевод на язык), нужно использовать модуль locale\n",
    "import locale\n",
    "locale.setlocale(locale.LC_ALL, 'ru_RU.UTF-8')"
   ]
  },
  {
   "cell_type": "code",
   "execution_count": 33,
   "id": "c1f0b450",
   "metadata": {},
   "outputs": [
    {
     "name": "stdout",
     "output_type": "stream",
     "text": [
      "вторник 10,   Август 2021\n"
     ]
    }
   ],
   "source": [
    "my_date = date(2021, 8, 10)\n",
    "print(my_date.strftime(\"%A %d,   %B %Y\"))  "
   ]
  },
  {
   "cell_type": "code",
   "execution_count": 34,
   "id": "77bb11a3",
   "metadata": {},
   "outputs": [
    {
     "name": "stdout",
     "output_type": "stream",
     "text": [
      "Дата: 2021-08-10\n"
     ]
    },
    {
     "data": {
      "text/plain": [
       "'2021-08-10'"
      ]
     },
     "execution_count": 34,
     "metadata": {},
     "output_type": "execute_result"
    }
   ],
   "source": [
    "print('Дата:', my_date)   # isoformat()\n",
    "my_date.isoformat()"
   ]
  },
  {
   "cell_type": "markdown",
   "id": "89e5c929",
   "metadata": {},
   "source": [
    "### Преобразование строки в дату из ISO формата"
   ]
  },
  {
   "cell_type": "code",
   "execution_count": 35,
   "id": "37d45a97",
   "metadata": {},
   "outputs": [
    {
     "name": "stdout",
     "output_type": "stream",
     "text": [
      "22:30:00\n",
      "2022-06-30\n"
     ]
    },
    {
     "data": {
      "text/plain": [
       "datetime.time(9, 0)"
      ]
     },
     "execution_count": 35,
     "metadata": {},
     "output_type": "execute_result"
    }
   ],
   "source": [
    "# преобразование строки в дату с помощью метода fromisoformat()\n",
    "s1 = '22:30'\n",
    "s2 = '2022-06-30'\n",
    "s3 = '09'\n",
    "print(time.fromisoformat(s1))\n",
    "print(date.fromisoformat(s2))\n",
    "date_iso = time.fromisoformat(s3)\n",
    "date_iso\n",
    "# ВАЖНО! time/date.fromisoformat(str_date) только если str_date в ISO формате! "
   ]
  },
  {
   "cell_type": "markdown",
   "id": "3525cb74",
   "metadata": {},
   "source": [
    "---------------------"
   ]
  },
  {
   "cell_type": "markdown",
   "id": "16a17225",
   "metadata": {},
   "source": [
    "## Тип данных datetime "
   ]
  },
  {
   "cell_type": "markdown",
   "id": "b2eb6115",
   "metadata": {},
   "source": [
    "Типы данных date и time позволяют работать по отдельности с датами и временами. Однако на практике чаще требуется работать одновременно и с датой, и со временем. Для таких целей используется тип данных **datetime** из одноименного модуля datetime."
   ]
  },
  {
   "cell_type": "code",
   "execution_count": 36,
   "id": "253f6c84",
   "metadata": {},
   "outputs": [],
   "source": [
    "from datetime import datetime"
   ]
  },
  {
   "cell_type": "code",
   "execution_count": 43,
   "id": "786ea532",
   "metadata": {},
   "outputs": [
    {
     "data": {
      "text/plain": [
       "datetime.datetime(2023, 10, 25, 14, 30)"
      ]
     },
     "execution_count": 43,
     "metadata": {},
     "output_type": "execute_result"
    }
   ],
   "source": [
    "datetime1 = datetime(2023,10,25,14,30) # обязательно указываем год, месяц, день\n",
    "datetime1"
   ]
  },
  {
   "cell_type": "code",
   "execution_count": 44,
   "id": "478091f9",
   "metadata": {},
   "outputs": [
    {
     "name": "stdout",
     "output_type": "stream",
     "text": [
      "2023-10-25 00:30:00\n"
     ]
    }
   ],
   "source": [
    "# не указанные элементы времени заполянются нулями\n",
    "datetime2 = datetime(2023,10,25, minute=30)\n",
    "print(datetime2)"
   ]
  },
  {
   "cell_type": "code",
   "execution_count": 45,
   "id": "ed1ff121",
   "metadata": {},
   "outputs": [
    {
     "name": "stdout",
     "output_type": "stream",
     "text": [
      "2023\n",
      "10\n",
      "25\n",
      "14\n",
      "30\n",
      "<class 'int'>\n"
     ]
    }
   ],
   "source": [
    "# доступ к отдельным значениям через атрибуты\n",
    "\n",
    "print(datetime1.year)\n",
    "print(datetime1.month)\n",
    "print(datetime1.day)\n",
    "print(datetime1.hour)\n",
    "print(datetime1.minute)\n",
    "\n",
    "m = datetime2.minute\n",
    "print(type(m))\n"
   ]
  },
  {
   "cell_type": "markdown",
   "id": "4b10e584",
   "metadata": {},
   "source": [
    "Сформировать новый объект типа datetime можно с помощью двух разных объектов, представляющих дату и время (date и time). Для этого используется метод **combine()**"
   ]
  },
  {
   "cell_type": "code",
   "execution_count": 46,
   "id": "3c3c4fe8",
   "metadata": {},
   "outputs": [
    {
     "name": "stdout",
     "output_type": "stream",
     "text": [
      "2003-03-08\n",
      "23:59:59.000879\n",
      "\n",
      "2003-03-08 23:59:59.000879\n"
     ]
    }
   ],
   "source": [
    "print(date1)  # объект date\n",
    "print(time1,end='\\n\\n')  # объект time\n",
    "\n",
    "new_datetime = datetime.combine(date1, time1)\n",
    "print(new_datetime)  # объект datetime "
   ]
  },
  {
   "cell_type": "code",
   "execution_count": 47,
   "id": "47be1122",
   "metadata": {},
   "outputs": [
    {
     "name": "stdout",
     "output_type": "stream",
     "text": [
      "23:59:59.000879\n",
      "2003-03-08\n"
     ]
    },
    {
     "data": {
      "text/plain": [
       "datetime.time"
      ]
     },
     "execution_count": 47,
     "metadata": {},
     "output_type": "execute_result"
    }
   ],
   "source": [
    "# наоборот из datetime в отдельны date/time\n",
    "print(new_datetime.time())\n",
    "print(new_datetime.date())\n",
    "\n",
    "type((new_datetime.time())) # обратно в time "
   ]
  },
  {
   "cell_type": "markdown",
   "id": "79994859",
   "metadata": {},
   "source": [
    "Всемирное координированное время (Coordinated Universal Time, UTC) — стандарт, по которому общество регулирует часы и время. Московское время соответствует UTC+3."
   ]
  },
  {
   "cell_type": "code",
   "execution_count": 48,
   "id": "59980233",
   "metadata": {},
   "outputs": [
    {
     "data": {
      "text/plain": [
       "datetime.datetime(2024, 9, 9, 12, 56, 41, 325077)"
      ]
     },
     "execution_count": 48,
     "metadata": {},
     "output_type": "execute_result"
    }
   ],
   "source": [
    "datetime.now() # текущее локальное время (московское)"
   ]
  },
  {
   "cell_type": "code",
   "execution_count": 49,
   "id": "d28b57fe",
   "metadata": {},
   "outputs": [
    {
     "data": {
      "text/plain": [
       "datetime.datetime(2024, 9, 9, 12, 57, 5, 56890)"
      ]
     },
     "execution_count": 49,
     "metadata": {},
     "output_type": "execute_result"
    }
   ],
   "source": [
    "datetime.today()  # аналогично datetime.now() "
   ]
  },
  {
   "cell_type": "code",
   "execution_count": 50,
   "id": "8a7f398f",
   "metadata": {},
   "outputs": [
    {
     "data": {
      "text/plain": [
       "datetime.datetime(2024, 9, 9, 9, 57, 10, 919579)"
      ]
     },
     "execution_count": 50,
     "metadata": {},
     "output_type": "execute_result"
    }
   ],
   "source": [
    "datetime.utcnow()  # текущее дата и время стандарта UTC"
   ]
  },
  {
   "cell_type": "markdown",
   "id": "a49d28c2",
   "metadata": {},
   "source": [
    "Метод **timestamp()** позволяет преобразовать объект типа datetime в количество секунд, прошедших с момента начала эпохи. Данный метод возвращает значение типа float."
   ]
  },
  {
   "cell_type": "code",
   "execution_count": 51,
   "id": "f2bb440b",
   "metadata": {},
   "outputs": [
    {
     "name": "stdout",
     "output_type": "stream",
     "text": [
      "2023-10-25 14:30:00\n",
      "1698233400.0\n"
     ]
    }
   ],
   "source": [
    "print(datetime1)\n",
    "print(datetime1.timestamp()) # количество секунд от 1970 00:00:00"
   ]
  },
  {
   "cell_type": "code",
   "execution_count": 52,
   "id": "0519a25b",
   "metadata": {},
   "outputs": [
    {
     "name": "stdout",
     "output_type": "stream",
     "text": [
      "1970-01-01 03:00:01\n"
     ]
    }
   ],
   "source": [
    "# из количества секунд в дату и время\n",
    "print(datetime.fromtimestamp(1))"
   ]
  },
  {
   "cell_type": "markdown",
   "id": "0d44d682",
   "metadata": {},
   "source": [
    "### Форматирование даты-времени\n",
    "По умолчанию объекты типа datetime (как и объекты типа date и time) выводятся в специальном формате, который называется ISO 8601. "
   ]
  },
  {
   "cell_type": "markdown",
   "id": "2707c1d4",
   "metadata": {},
   "source": [
    "*Для форматированного вывода объектов типов date, time, datetime используется один и тот же метод* **strftime()** "
   ]
  },
  {
   "cell_type": "code",
   "execution_count": 53,
   "id": "94befe0f",
   "metadata": {},
   "outputs": [
    {
     "name": "stdout",
     "output_type": "stream",
     "text": [
      "2023-10-25 14:30:00\n",
      "2023 - год, Октябрь -  25 | среда\n"
     ]
    }
   ],
   "source": [
    "print(datetime1)\n",
    "pattern = '%Y - год, %B -  %d | %A'\n",
    "print(datetime1.strftime(pattern)) # таблица значений %.."
   ]
  },
  {
   "cell_type": "markdown",
   "id": "32f3148d",
   "metadata": {},
   "source": [
    "### Преобразование строки в дату-время"
   ]
  },
  {
   "cell_type": "markdown",
   "id": "cd016e14",
   "metadata": {},
   "source": [
    "**strptime()** - преобразует строку (первый аргумент) в объект *datetime* согласно переданному формату (второй аргумент)."
   ]
  },
  {
   "cell_type": "code",
   "execution_count": 55,
   "id": "a1ef79ed",
   "metadata": {},
   "outputs": [
    {
     "name": "stdout",
     "output_type": "stream",
     "text": [
      "Введите дату/время в формате ДД.ММ.ГГГГ ЧЧ:ММ:СС01.09.2025 09:30:00\n",
      "2025-09-01 09:30:00\n"
     ]
    }
   ],
   "source": [
    "datetime_str = input('Введите дату/время в формате ДД.ММ.ГГГГ ЧЧ:ММ:СС')\n",
    "\n",
    "pattern = '%d.%m.%Y %H:%M:%S'\n",
    "my_datetime = datetime.strptime(datetime_str, pattern)  # в кавычках указываем \"шаблок с %..\"\n",
    "\n",
    "print(my_datetime)"
   ]
  },
  {
   "cell_type": "markdown",
   "id": "69d63f60",
   "metadata": {},
   "source": [
    "- Первый аргумент должен соответствовать формату второго аргумента. Если он не соответствует, то возникает исключение ValueError.\n",
    "- При создании объекта datetime из строки с помощью метода strptime() необязательно, чтобы строка содержала год, месяц и день, в отличие от ручного создания объекта datetime."
   ]
  },
  {
   "cell_type": "code",
   "execution_count": 56,
   "id": "2445a2ad",
   "metadata": {},
   "outputs": [
    {
     "name": "stdout",
     "output_type": "stream",
     "text": [
      "---> 31.12.2014 <--- | 23:59 |\n"
     ]
    }
   ],
   "source": [
    "# не используя метода форматирования, а через f-строки\n",
    "# {название_объекта: шаблон_без_ковычек}\n",
    "\n",
    "my_datetime = datetime(2014,12,31,23,59,59)\n",
    "print(f'---> {my_datetime:%d.%m.%Y <--- | %H:%M} |') "
   ]
  },
  {
   "cell_type": "markdown",
   "id": "4399ffe5",
   "metadata": {},
   "source": [
    "--------------"
   ]
  },
  {
   "cell_type": "markdown",
   "id": "56f2b944",
   "metadata": {},
   "source": [
    "## *Тип данных* timedelta"
   ]
  },
  {
   "cell_type": "code",
   "execution_count": 57,
   "id": "f98c7c43",
   "metadata": {},
   "outputs": [],
   "source": [
    "from datetime import timedelta"
   ]
  },
  {
   "cell_type": "markdown",
   "id": "14e60a1a",
   "metadata": {},
   "source": [
    "Тип данных **timedelta** представляет из себя временной интервал (разница между двумя объектами datetime или date) и используется для удобного выполнения различных манипуляций над типами datetime или date."
   ]
  },
  {
   "cell_type": "markdown",
   "id": "18bbaae5",
   "metadata": {},
   "source": [
    "*При создании объекта timedelta можно указать следующие аргументы:*\n",
    "\n",
    "- недели (weeks)\n",
    "- дни (days)\n",
    "- часы (hours)\n",
    "- минуты (minutes)\n",
    "- секунды (seconds)\n",
    "- миллисекунды (milliseconds)\n",
    "- микросекунды (microseconds)"
   ]
  },
  {
   "cell_type": "code",
   "execution_count": 59,
   "id": "0f9ac9a4",
   "metadata": {},
   "outputs": [
    {
     "data": {
      "text/plain": [
       "datetime.timedelta(days=9, seconds=11045)"
      ]
     },
     "execution_count": 59,
     "metadata": {},
     "output_type": "execute_result"
    }
   ],
   "source": [
    "delta_1 = timedelta(weeks=1, days=2, hours=3, minutes=4, seconds=5)\n",
    "delta_1"
   ]
  },
  {
   "cell_type": "markdown",
   "id": "36aa4289",
   "metadata": {},
   "source": [
    "Тип **timedelta** внутренне хранит только сочетание *days, seconds, microseconds*, а остальные переданные в конструктор аргументы конвертируются в эти единицы"
   ]
  },
  {
   "cell_type": "code",
   "execution_count": 60,
   "id": "a5c2f2ed",
   "metadata": {},
   "outputs": [
    {
     "name": "stdout",
     "output_type": "stream",
     "text": [
      "9 days, 3:04:05\n"
     ]
    }
   ],
   "source": [
    "print(delta_1)  #  строковое представление вполне понятно"
   ]
  },
  {
   "cell_type": "code",
   "execution_count": 61,
   "id": "1abf14d1",
   "metadata": {},
   "outputs": [
    {
     "name": "stdout",
     "output_type": "stream",
     "text": [
      "6:00:00\n"
     ]
    }
   ],
   "source": [
    "delta_2 = timedelta(hours=6)\n",
    "print(delta_2)  # без дней"
   ]
  },
  {
   "cell_type": "code",
   "execution_count": 62,
   "id": "6a697891",
   "metadata": {},
   "outputs": [
    {
     "data": {
      "text/plain": [
       "datetime.timedelta(days=1, seconds=2, microseconds=5003)"
      ]
     },
     "execution_count": 62,
     "metadata": {},
     "output_type": "execute_result"
    }
   ],
   "source": [
    "timedelta(1,2,3,5)"
   ]
  },
  {
   "cell_type": "code",
   "execution_count": 63,
   "id": "7810b553",
   "metadata": {
    "scrolled": false
   },
   "outputs": [
    {
     "name": "stdout",
     "output_type": "stream",
     "text": [
      "3:00:00\n",
      "-1 day, 21:00:00\n"
     ]
    },
    {
     "data": {
      "text/plain": [
       "datetime.timedelta(seconds=10800)"
      ]
     },
     "execution_count": 63,
     "metadata": {},
     "output_type": "execute_result"
    }
   ],
   "source": [
    "# важно понять, как работает отрицательная дата\n",
    "\n",
    "delta = timedelta(hours=3)\n",
    "print(delta)\n",
    "print(-delta)\n",
    "\n",
    "delta # тип timedelta внутренне хранит только сочетание days, seconds, microseconds"
   ]
  },
  {
   "cell_type": "code",
   "execution_count": 64,
   "id": "05255b58",
   "metadata": {},
   "outputs": [
    {
     "name": "stdout",
     "output_type": "stream",
     "text": [
      "0:00:00\n"
     ]
    }
   ],
   "source": [
    "print(delta - delta)"
   ]
  },
  {
   "cell_type": "code",
   "execution_count": 65,
   "id": "e01e54a3",
   "metadata": {},
   "outputs": [
    {
     "name": "stdout",
     "output_type": "stream",
     "text": [
      "3 days, 0:00:00\n",
      "-3 days, 0:00:00\n"
     ]
    }
   ],
   "source": [
    "delta = timedelta(days=3)\n",
    "\n",
    "print(delta)\n",
    "print(-delta)"
   ]
  },
  {
   "cell_type": "code",
   "execution_count": 66,
   "id": "3d35a8b0",
   "metadata": {},
   "outputs": [
    {
     "name": "stdout",
     "output_type": "stream",
     "text": [
      "7 days, 10:45:00\n",
      "-8 days, 13:15:00\n"
     ]
    }
   ],
   "source": [
    "delta = timedelta(weeks=1, hours=10, minutes=45)\n",
    "\n",
    "print(delta)\n",
    "print(-delta)"
   ]
  },
  {
   "cell_type": "code",
   "execution_count": 67,
   "id": "48ad7383",
   "metadata": {},
   "outputs": [
    {
     "name": "stdout",
     "output_type": "stream",
     "text": [
      "datetime.timedelta(days=7, seconds=38700)\n",
      "38700\n",
      "7\n",
      "0\n"
     ]
    }
   ],
   "source": [
    "# получение атрибутов \n",
    "print(repr(delta))\n",
    "\n",
    "print(delta.seconds)\n",
    "print(delta.days)\n",
    "print(delta.microseconds)"
   ]
  },
  {
   "cell_type": "code",
   "execution_count": 68,
   "id": "59664e92",
   "metadata": {},
   "outputs": [
    {
     "data": {
      "text/plain": [
       "643500.0"
      ]
     },
     "execution_count": 68,
     "metadata": {},
     "output_type": "execute_result"
    }
   ],
   "source": [
    "# полное количество секунд во всём временном интервале\n",
    "\n",
    "delta.total_seconds() # это уже НЕ атрибут, а МЕТОД()"
   ]
  },
  {
   "cell_type": "code",
   "execution_count": 69,
   "id": "2f0bbd58",
   "metadata": {},
   "outputs": [],
   "source": [
    "# часы и минуты достать из timedelta можно ВРУЧНУЮ \n",
    "\n",
    "def hours_minutes(td):\n",
    "    return td.seconds // 3600, (td.seconds // 60) % 60"
   ]
  },
  {
   "cell_type": "code",
   "execution_count": 70,
   "id": "c3aea8b6",
   "metadata": {},
   "outputs": [
    {
     "name": "stdout",
     "output_type": "stream",
     "text": [
      "21 days, 8:12:05\n",
      "8\n",
      "12\n"
     ]
    }
   ],
   "source": [
    "delta = timedelta(days=7, seconds=125, minutes=10, hours=8, weeks=2)\n",
    "\n",
    "hours, minutes = hours_minutes(delta)\n",
    "\n",
    "print(delta)\n",
    "print(hours)\n",
    "print(minutes)"
   ]
  },
  {
   "cell_type": "markdown",
   "id": "05c66bab",
   "metadata": {},
   "source": [
    "### Операции над временными интервалами timedelta"
   ]
  },
  {
   "cell_type": "markdown",
   "id": "95d95b80",
   "metadata": {},
   "source": [
    "- сравнение"
   ]
  },
  {
   "cell_type": "code",
   "execution_count": 71,
   "id": "fe0a9da1",
   "metadata": {},
   "outputs": [
    {
     "data": {
      "text/plain": [
       "True"
      ]
     },
     "execution_count": 71,
     "metadata": {},
     "output_type": "execute_result"
    }
   ],
   "source": [
    "delta_1 = timedelta(days=1, hours=12, minutes=30)\n",
    "delta_2 = timedelta(days=1, hours=6, minutes=45)\n",
    "delta_1 > delta_2"
   ]
  },
  {
   "cell_type": "markdown",
   "id": "30e203c5",
   "metadata": {},
   "source": [
    "*Операторы сравнения == или != всегда возвращают значение bool, независимо от типа сравниваемого объекта.*"
   ]
  },
  {
   "cell_type": "code",
   "execution_count": 72,
   "id": "f8cf3c81",
   "metadata": {},
   "outputs": [
    {
     "data": {
      "text/plain": [
       "True"
      ]
     },
     "execution_count": 72,
     "metadata": {},
     "output_type": "execute_result"
    }
   ],
   "source": [
    "delta_1 != 'str'"
   ]
  },
  {
   "cell_type": "markdown",
   "id": "646fa811",
   "metadata": {},
   "source": [
    "Тип данных **timedelta** поддерживает многие математические операции.\n",
    "\n",
    "- сложение временных интервалов\n",
    "- вычитание временных интервалов\n",
    "- умножение временного интервала на число\n",
    "- деление временного интервала на число\n",
    "- деление временного интервала на временной интервал"
   ]
  },
  {
   "cell_type": "code",
   "execution_count": 73,
   "id": "da4625fa",
   "metadata": {},
   "outputs": [
    {
     "name": "stdout",
     "output_type": "stream",
     "text": [
      "1 day, 12:30:00\n",
      "1 day, 6:45:00\n",
      "---------------\n",
      "5:45:00\n",
      "2 days, 19:15:00\n",
      "4 days, 13:30:00\n",
      "5:12:51.428571\n",
      "1.1869918699186992\n"
     ]
    }
   ],
   "source": [
    "print(delta_1, delta_2, sep='\\n', end='\\n---------------\\n')\n",
    "\n",
    "print(delta_1 - delta_2)\n",
    "print(delta_1 + delta_2)\n",
    "print(delta_1*3)\n",
    "\n",
    "print(delta_1/7)\n",
    "\n",
    "print(delta_1/delta_2) #  происходит деление общей длительности одного интервала на общую длительность другого"
   ]
  },
  {
   "cell_type": "code",
   "execution_count": 74,
   "id": "a85d7c32",
   "metadata": {},
   "outputs": [
    {
     "name": "stdout",
     "output_type": "stream",
     "text": [
      "5:45:00\n"
     ]
    }
   ],
   "source": [
    "print(delta_1%delta_2)  # остаток, который не поделился нацело"
   ]
  },
  {
   "cell_type": "code",
   "execution_count": null,
   "id": "ba8b13a5",
   "metadata": {},
   "outputs": [],
   "source": [
    "print(delta_1//delta_2)"
   ]
  },
  {
   "cell_type": "markdown",
   "id": "e7b78870",
   "metadata": {},
   "source": [
    "К объектам типа **datetime** и **date** можно прибавлять (вычитать) временные интервалы (тип timedelta), тем самым формируя новые объекты."
   ]
  },
  {
   "cell_type": "code",
   "execution_count": null,
   "id": "7e493286",
   "metadata": {},
   "outputs": [],
   "source": [
    "date(2022,1,30) - date(2022,1,1)"
   ]
  },
  {
   "cell_type": "code",
   "execution_count": null,
   "id": "f4377d56",
   "metadata": {},
   "outputs": [],
   "source": [
    "date(2020,11,1) + date(1,1,1) # выдаст ошибку"
   ]
  },
  {
   "cell_type": "code",
   "execution_count": null,
   "id": "32ca4b5f",
   "metadata": {},
   "outputs": [],
   "source": [
    "date(2020,11,1) - timedelta(days=1)"
   ]
  },
  {
   "cell_type": "code",
   "execution_count": null,
   "id": "3020e99c",
   "metadata": {},
   "outputs": [],
   "source": [
    "datetime(2015,12,30,23,45) - datetime(2014, 12, 1)"
   ]
  },
  {
   "cell_type": "code",
   "execution_count": null,
   "id": "5359f322",
   "metadata": {},
   "outputs": [],
   "source": [
    "# а вот при сложении получается новый объект datetime\n",
    "datetime1 + timedelta(days=1)"
   ]
  },
  {
   "cell_type": "markdown",
   "id": "d1645d3e",
   "metadata": {},
   "source": [
    " При работе с типом timedelta мы можем использовать встроенную функцию **abs()**. Функция возвращает объект timedelta с положительным значением всех атрибутов."
   ]
  },
  {
   "cell_type": "code",
   "execution_count": null,
   "id": "e56a6503",
   "metadata": {},
   "outputs": [],
   "source": [
    "print(timedelta(days=-1, hours=-3))\n",
    "print(abs(timedelta(days=-1, hours=-3)))"
   ]
  },
  {
   "cell_type": "code",
   "execution_count": null,
   "id": "45a597e2",
   "metadata": {},
   "outputs": [],
   "source": []
  }
 ],
 "metadata": {
  "kernelspec": {
   "display_name": "Python 3 (ipykernel)",
   "language": "python",
   "name": "python3"
  },
  "language_info": {
   "codemirror_mode": {
    "name": "ipython",
    "version": 3
   },
   "file_extension": ".py",
   "mimetype": "text/x-python",
   "name": "python",
   "nbconvert_exporter": "python",
   "pygments_lexer": "ipython3",
   "version": "3.9.18"
  },
  "nbTranslate": {
   "displayLangs": [
    "*"
   ],
   "hotkey": "alt-t",
   "langInMainMenu": true,
   "sourceLang": "en",
   "targetLang": "ru",
   "useGoogleTranslate": true
  },
  "toc": {
   "base_numbering": 1,
   "nav_menu": {},
   "number_sections": true,
   "sideBar": true,
   "skip_h1_title": false,
   "title_cell": "Table of Contents",
   "title_sidebar": "Contents",
   "toc_cell": false,
   "toc_position": {},
   "toc_section_display": true,
   "toc_window_display": false
  },
  "varInspector": {
   "cols": {
    "lenName": 16,
    "lenType": 16,
    "lenVar": 40
   },
   "kernels_config": {
    "python": {
     "delete_cmd_postfix": "",
     "delete_cmd_prefix": "del ",
     "library": "var_list.py",
     "varRefreshCmd": "print(var_dic_list())"
    },
    "r": {
     "delete_cmd_postfix": ") ",
     "delete_cmd_prefix": "rm(",
     "library": "var_list.r",
     "varRefreshCmd": "cat(var_dic_list()) "
    }
   },
   "types_to_exclude": [
    "module",
    "function",
    "builtin_function_or_method",
    "instance",
    "_Feature"
   ],
   "window_display": false
  }
 },
 "nbformat": 4,
 "nbformat_minor": 5
}
