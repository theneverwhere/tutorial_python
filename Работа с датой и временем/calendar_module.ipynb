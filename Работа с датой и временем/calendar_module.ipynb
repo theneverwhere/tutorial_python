{
 "cells": [
  {
   "cell_type": "markdown",
   "id": "5db6cdbe",
   "metadata": {},
   "source": [
    "# Модуль calendar"
   ]
  },
  {
   "cell_type": "markdown",
   "id": "c0ba92bf",
   "metadata": {},
   "source": [
    "По умолчанию модуль **calendar** следует григорианскому календарю, где понедельник является первым днем недели (имеет номер\n",
    "0), а воскресенье — последним днем недели (имеет номер 6). В отличие от уже изученных модулей **datetime** и **time**, которые также предоставляют функции, связанные с календарем, модуль calendar предоставляет основные функции, связанные с отбражением и манипулированием календарями."
   ]
  },
  {
   "cell_type": "code",
   "execution_count": 1,
   "id": "e12edb9b",
   "metadata": {},
   "outputs": [],
   "source": [
    "import calendar"
   ]
  },
  {
   "cell_type": "markdown",
   "id": "0008a552",
   "metadata": {},
   "source": [
    "###  Атрибуты модуля calendar"
   ]
  },
  {
   "cell_type": "code",
   "execution_count": 2,
   "id": "0ece01cb",
   "metadata": {},
   "outputs": [
    {
     "data": {
      "text/plain": [
       "<calendar._localized_day at 0x1f2d3357040>"
      ]
     },
     "execution_count": 2,
     "metadata": {},
     "output_type": "execute_result"
    }
   ],
   "source": [
    "calendar.day_name # названия дней недели на английском языке"
   ]
  },
  {
   "cell_type": "code",
   "execution_count": 3,
   "id": "b6c647d3",
   "metadata": {},
   "outputs": [
    {
     "name": "stdout",
     "output_type": "stream",
     "text": [
      "Monday\n",
      "Tuesday\n",
      "Wednesday\n",
      "Thursday\n",
      "Friday\n",
      "Saturday\n",
      "Sunday\n"
     ]
    }
   ],
   "source": [
    "for name in calendar.day_name: # название дней недели\n",
    "    print(name)"
   ]
  },
  {
   "cell_type": "code",
   "execution_count": 4,
   "id": "ea5009c2",
   "metadata": {},
   "outputs": [
    {
     "name": "stdout",
     "output_type": "stream",
     "text": [
      "понедельник\n",
      "вторник\n",
      "среда\n",
      "четверг\n",
      "пятница\n",
      "суббота\n",
      "воскресенье\n"
     ]
    }
   ],
   "source": [
    "# для локализации на русском языке\n",
    "import locale\n",
    "locale.setlocale(locale.LC_ALL, 'ru_RU.UTF-8')\n",
    "\n",
    "for name in calendar.day_name:\n",
    "    print(name)"
   ]
  },
  {
   "cell_type": "code",
   "execution_count": 5,
   "id": "d63d18ea",
   "metadata": {},
   "outputs": [
    {
     "name": "stdout",
     "output_type": "stream",
     "text": [
      "Пн\n",
      "Вт\n",
      "Ср\n",
      "Чт\n",
      "Пт\n",
      "Сб\n",
      "Вс\n"
     ]
    }
   ],
   "source": [
    "for name in calendar.day_abbr: # сокращенные названия дней недели\n",
    "    print(name)"
   ]
  },
  {
   "cell_type": "code",
   "execution_count": 6,
   "id": "0017760a",
   "metadata": {},
   "outputs": [
    {
     "name": "stdout",
     "output_type": "stream",
     "text": [
      "-\n",
      "Январь-янв\n",
      "Февраль-фев\n",
      "Март-мар\n",
      "Апрель-апр\n",
      "Май-май\n",
      "Июнь-июн\n",
      "Июль-июл\n",
      "Август-авг\n",
      "Сентябрь-сен\n",
      "Октябрь-окт\n",
      "Ноябрь-ноя\n",
      "Декабрь-дек\n"
     ]
    }
   ],
   "source": [
    "for name, abbr in zip(calendar.month_name, calendar.month_abbr):  # название месяцев\n",
    "    print(name, abbr, sep='-')"
   ]
  },
  {
   "cell_type": "code",
   "execution_count": 7,
   "id": "9c0954ca",
   "metadata": {},
   "outputs": [
    {
     "data": {
      "text/plain": [
       "['',\n",
       " 'Январь',\n",
       " 'Февраль',\n",
       " 'Март',\n",
       " 'Апрель',\n",
       " 'Май',\n",
       " 'Июнь',\n",
       " 'Июль',\n",
       " 'Август',\n",
       " 'Сентябрь',\n",
       " 'Октябрь',\n",
       " 'Ноябрь',\n",
       " 'Декабрь']"
      ]
     },
     "execution_count": 7,
     "metadata": {},
     "output_type": "execute_result"
    }
   ],
   "source": [
    "month_list = list(calendar.month_name)  # преобразование в список\n",
    "month_list"
   ]
  },
  {
   "cell_type": "markdown",
   "id": "3efae1da",
   "metadata": {},
   "source": [
    "*Обратите внимание, что атрибут month_name соответствует обычному соглашению, что январь – это месяц номер 1, поэтому список имеет длину в 13 элементов, первый из которых – пустая строка.*"
   ]
  },
  {
   "cell_type": "code",
   "execution_count": 8,
   "id": "847eeee7",
   "metadata": {},
   "outputs": [
    {
     "name": "stdout",
     "output_type": "stream",
     "text": [
      "0\n",
      "1\n",
      "2\n",
      "3\n",
      "4\n",
      "5\n",
      "6\n"
     ]
    }
   ],
   "source": [
    "# атрибуты номеров дней недели\n",
    "\n",
    "print(calendar.MONDAY)  # понедельник - 0 \n",
    "print(calendar.TUESDAY)\n",
    "print(calendar.WEDNESDAY)\n",
    "print(calendar.THURSDAY)\n",
    "print(calendar.FRIDAY)\n",
    "print(calendar.SATURDAY)\n",
    "print(calendar.SUNDAY)"
   ]
  },
  {
   "cell_type": "markdown",
   "id": "6dfbaf7a",
   "metadata": {},
   "source": [
    "### Функции модуля calendar"
   ]
  },
  {
   "cell_type": "code",
   "execution_count": 9,
   "id": "beb180c3",
   "metadata": {},
   "outputs": [
    {
     "name": "stdout",
     "output_type": "stream",
     "text": [
      "6\n",
      "0\n"
     ]
    }
   ],
   "source": [
    "# установка первого дня недели (по умолчанию понедельник)\n",
    "calendar.setfirstweekday(calendar.SUNDAY)     # эквивалентно calendar.setfirstweekday(6) \n",
    "\n",
    "# возвращает первый день недели\n",
    "print(calendar.firstweekday())\n",
    "calendar.setfirstweekday(calendar.MONDAY)\n",
    "print(calendar.firstweekday())"
   ]
  },
  {
   "cell_type": "code",
   "execution_count": 10,
   "id": "cd70619e",
   "metadata": {},
   "outputs": [
    {
     "name": "stdout",
     "output_type": "stream",
     "text": [
      "True\n",
      "False\n"
     ]
    }
   ],
   "source": [
    "# проверка на весокосный год\n",
    "print(calendar.isleap(2020))\n",
    "print(calendar.isleap(2021))"
   ]
  },
  {
   "cell_type": "code",
   "execution_count": null,
   "id": "6e2fd82d",
   "metadata": {},
   "outputs": [],
   "source": [
    "# количество високосных лет в диапазоне [) \n",
    "calendar.leapdays(2000,2021)"
   ]
  },
  {
   "cell_type": "code",
   "execution_count": null,
   "id": "67ef9ea1",
   "metadata": {},
   "outputs": [],
   "source": [
    "# получение номера дня недели по году, месяцу, дню \n",
    "print(calendar.weekday(2021, 9, 1))     # среда\n",
    "print(calendar.weekday(2021, 9, 2))     # четверг"
   ]
  },
  {
   "cell_type": "code",
   "execution_count": null,
   "id": "27c8066a",
   "metadata": {},
   "outputs": [],
   "source": [
    "# день недели первого дня месяца и количество дней в месяце в виде кортежа\n",
    "print(calendar.monthrange(2022, 1))     # январь 2022 года\n",
    "print(calendar.monthrange(2021, 9))     # сентябрь 2021 года"
   ]
  },
  {
   "cell_type": "code",
   "execution_count": null,
   "id": "288892b8",
   "metadata": {},
   "outputs": [],
   "source": [
    "# возвращает матрицу, представляющую календарь на месяц\n",
    "calendar.monthcalendar(2024,1)"
   ]
  },
  {
   "cell_type": "code",
   "execution_count": null,
   "id": "5f0117d3",
   "metadata": {},
   "outputs": [],
   "source": [
    "# month(year, month, w=0, l=0) возвращает календарь на месяц в многострочной строке\n",
    "\n",
    "print(calendar.month(2024,1))"
   ]
  },
  {
   "cell_type": "code",
   "execution_count": null,
   "id": "8d0d9189",
   "metadata": {},
   "outputs": [],
   "source": [
    "# calendar(year, w=2, l=1, c=6, m=3) возвращает календарь на весь год в виде многострочной строки\n",
    "\n",
    "print(calendar.calendar(2024, m=4))"
   ]
  },
  {
   "cell_type": "code",
   "execution_count": null,
   "id": "5582fe1e",
   "metadata": {},
   "outputs": [],
   "source": [
    "# можно без print()\n",
    "\n",
    "calendar.prmonth(2021, 9)\n",
    "calendar.prcal(2021)"
   ]
  },
  {
   "cell_type": "code",
   "execution_count": null,
   "id": "53551b08",
   "metadata": {},
   "outputs": [],
   "source": []
  }
 ],
 "metadata": {
  "kernelspec": {
   "display_name": "Python 3 (ipykernel)",
   "language": "python",
   "name": "python3"
  },
  "language_info": {
   "codemirror_mode": {
    "name": "ipython",
    "version": 3
   },
   "file_extension": ".py",
   "mimetype": "text/x-python",
   "name": "python",
   "nbconvert_exporter": "python",
   "pygments_lexer": "ipython3",
   "version": "3.9.18"
  },
  "nbTranslate": {
   "displayLangs": [
    "*"
   ],
   "hotkey": "alt-t",
   "langInMainMenu": true,
   "sourceLang": "en",
   "targetLang": "ru",
   "useGoogleTranslate": true
  },
  "toc": {
   "base_numbering": 1,
   "nav_menu": {},
   "number_sections": true,
   "sideBar": true,
   "skip_h1_title": false,
   "title_cell": "Table of Contents",
   "title_sidebar": "Contents",
   "toc_cell": false,
   "toc_position": {},
   "toc_section_display": true,
   "toc_window_display": false
  },
  "varInspector": {
   "cols": {
    "lenName": 16,
    "lenType": 16,
    "lenVar": 40
   },
   "kernels_config": {
    "python": {
     "delete_cmd_postfix": "",
     "delete_cmd_prefix": "del ",
     "library": "var_list.py",
     "varRefreshCmd": "print(var_dic_list())"
    },
    "r": {
     "delete_cmd_postfix": ") ",
     "delete_cmd_prefix": "rm(",
     "library": "var_list.r",
     "varRefreshCmd": "cat(var_dic_list()) "
    }
   },
   "types_to_exclude": [
    "module",
    "function",
    "builtin_function_or_method",
    "instance",
    "_Feature"
   ],
   "window_display": false
  }
 },
 "nbformat": 4,
 "nbformat_minor": 5
}
