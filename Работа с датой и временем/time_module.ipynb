{
 "cells": [
  {
   "cell_type": "markdown",
   "id": "2e9e5b43",
   "metadata": {},
   "source": [
    "# Модуль time"
   ]
  },
  {
   "cell_type": "markdown",
   "id": "e5cd707c",
   "metadata": {},
   "source": [
    "В Python помимо встроенного модуля datetime есть еще модуль time, который обычно используется при работе с текущим временем."
   ]
  },
  {
   "cell_type": "code",
   "execution_count": 1,
   "id": "f1255a90",
   "metadata": {},
   "outputs": [],
   "source": [
    "import time"
   ]
  },
  {
   "cell_type": "markdown",
   "id": "6eba55b7",
   "metadata": {},
   "source": [
    "Модуль time из стандартной библиотеки языка Python содержит массу полезных функций для работы со временем. С его помощью можно получать информацию о текущих дате и времени, выводить эти сведения в необходимом формате, а также управлять ходом выполнения программы, добавляя задержки по таймеру."
   ]
  },
  {
   "cell_type": "code",
   "execution_count": 2,
   "id": "dfede227",
   "metadata": {},
   "outputs": [
    {
     "data": {
      "text/plain": [
       "1725876658.9062898"
      ]
     },
     "execution_count": 2,
     "metadata": {},
     "output_type": "execute_result"
    }
   ],
   "source": [
    "time.time() # количество прошедших секунд с 1970 года"
   ]
  },
  {
   "cell_type": "code",
   "execution_count": 3,
   "id": "b347cb68",
   "metadata": {},
   "outputs": [
    {
     "data": {
      "text/plain": [
       "1725876661799295100"
      ]
     },
     "execution_count": 3,
     "metadata": {},
     "output_type": "execute_result"
    }
   ],
   "source": [
    "time.time_ns() # то же, но наносекунд"
   ]
  },
  {
   "cell_type": "code",
   "execution_count": 4,
   "id": "74077d51",
   "metadata": {
    "scrolled": true
   },
   "outputs": [
    {
     "data": {
      "text/plain": [
       "'Wed May 18 06:33:20 2033'"
      ]
     },
     "execution_count": 4,
     "metadata": {},
     "output_type": "execute_result"
    }
   ],
   "source": [
    "time.ctime(2000000000) # принимает секунды, возвращает локальное время (строку)"
   ]
  },
  {
   "cell_type": "code",
   "execution_count": 5,
   "id": "a416c163",
   "metadata": {},
   "outputs": [
    {
     "data": {
      "text/plain": [
       "'Mon Sep  9 13:11:11 2024'"
      ]
     },
     "execution_count": 5,
     "metadata": {},
     "output_type": "execute_result"
    }
   ],
   "source": [
    "time.ctime(time.time()) # текущее время"
   ]
  },
  {
   "cell_type": "markdown",
   "id": "cd93e234",
   "metadata": {},
   "source": [
    "Функция sleep() используется для добавления задержки в выполнении программы. Эта функция принимает в качестве аргумента количество секунд (secs) и добавляет задержку в выполнении программы на указанное количество секунд."
   ]
  },
  {
   "cell_type": "code",
   "execution_count": 6,
   "id": "c9c5b31b",
   "metadata": {},
   "outputs": [
    {
     "name": "stdout",
     "output_type": "stream",
     "text": [
      "Сейчас будет задержка в 5 секунд..\n",
      "Поток работы продолжился\n"
     ]
    }
   ],
   "source": [
    "print('Сейчас будет задержка в 5 секунд..')\n",
    "\n",
    "time.sleep(5)\n",
    "\n",
    "print('Поток работы продолжился')"
   ]
  },
  {
   "cell_type": "markdown",
   "id": "33bb7a71",
   "metadata": {},
   "source": [
    "### Измерение времени выполнения программы"
   ]
  },
  {
   "cell_type": "code",
   "execution_count": 7,
   "id": "bc02e39d",
   "metadata": {},
   "outputs": [
    {
     "name": "stdout",
     "output_type": "stream",
     "text": [
      "0\n",
      "1\n",
      "2\n",
      "3\n",
      "4\n",
      "Время работы программы = 5.056630373001099 секунд\n"
     ]
    }
   ],
   "source": [
    "start_time = time.time()\n",
    "\n",
    "for i in range(5): \n",
    "    print(i)\n",
    "    time.sleep(1)\n",
    "\n",
    "end_time = time.time()\n",
    "\n",
    "elapsed_time = end_time - start_time\n",
    "print(f'Время работы программы = {elapsed_time} секунд')"
   ]
  },
  {
   "cell_type": "markdown",
   "id": "d7188879",
   "metadata": {},
   "source": [
    "Для измерения времени выполнения программы идеально подходит функция **monotonic()**, доступная на всех ОС (начиная с Python 3.5), так как ее результат не зависит от корректировки системных часов.\n",
    "\n",
    "Принцип работы и применения функции **monotonic()** такой же, как и у функции **time()**. Однако функция **monotonic()** дает результат, который обладает гарантированной точностью и не зависит от внешних условий."
   ]
  },
  {
   "cell_type": "code",
   "execution_count": 8,
   "id": "75927807",
   "metadata": {},
   "outputs": [
    {
     "name": "stdout",
     "output_type": "stream",
     "text": [
      "508064.656\n",
      "0\n",
      "1\n",
      "2\n",
      "3\n",
      "4\n",
      "508069.718\n",
      "Время работы программы = 5.061999999976251\n"
     ]
    }
   ],
   "source": [
    "start_time = time.monotonic()\n",
    "print(start_time)\n",
    "\n",
    "for i in range(5): \n",
    "    print(i)\n",
    "    time.sleep(1)\n",
    "\n",
    "end_time = time.monotonic()\n",
    "print(end_time)\n",
    "\n",
    "elapsed_time = end_time - start_time\n",
    "print(f'Время работы программы = {elapsed_time}')"
   ]
  },
  {
   "cell_type": "markdown",
   "id": "bf82b86a",
   "metadata": {},
   "source": [
    "Для самого точного измерения времени выполнения программы следует использовать функцию **perf_counter()**. Данная функция использует таймер с наибольшим доступным разрешением, что делает эту функцию отличным инструментом для измерения времени выполнения кода на коротких интервалах."
   ]
  },
  {
   "cell_type": "code",
   "execution_count": 9,
   "id": "029fbd36",
   "metadata": {},
   "outputs": [
    {
     "name": "stdout",
     "output_type": "stream",
     "text": [
      "149.5629635\n",
      "0\n",
      "1\n",
      "2\n",
      "3\n",
      "4\n",
      "Время работы программы = 5.0536379000000125\n"
     ]
    }
   ],
   "source": [
    "start_time = time.perf_counter()\n",
    "print(start_time)\n",
    "\n",
    "for i in range(5): \n",
    "    print(i)\n",
    "    time.sleep(1)\n",
    "\n",
    "end_time = time.perf_counter()\n",
    "\n",
    "elapsed_time = end_time - start_time\n",
    "print(f'Время работы программы = {elapsed_time}')"
   ]
  },
  {
   "cell_type": "markdown",
   "id": "f710d2e6",
   "metadata": {},
   "source": [
    "*Для измерения времени работы программы мы также можем использовать встроенный модуль* **timeit** (см документацию)"
   ]
  },
  {
   "cell_type": "markdown",
   "id": "fcbfe396",
   "metadata": {},
   "source": [
    "В модуле **time** имеется единственный тип данных, который называется **struct_time**. Данный тип является именованным кортежем, представляющий информацию о времени."
   ]
  },
  {
   "cell_type": "code",
   "execution_count": 10,
   "id": "7d1a3e5f",
   "metadata": {},
   "outputs": [
    {
     "data": {
      "text/plain": [
       "time.struct_time(tm_year=2021, tm_mon=8, tm_mday=31, tm_hour=5, tm_min=31, tm_sec=58, tm_wday=1, tm_yday=243, tm_isdst=0)"
      ]
     },
     "execution_count": 10,
     "metadata": {},
     "output_type": "execute_result"
    }
   ],
   "source": [
    "time_tuple = (2021, 8, 31, 5, 31, 58, 1, 243,0)\n",
    "time_obj = time.struct_time(time_tuple)\n",
    "time_obj"
   ]
  },
  {
   "cell_type": "markdown",
   "id": "b95887a9",
   "metadata": {},
   "source": [
    "*На практике редко приходится собственноручно создавать объекты типа struct_time. Обычно используют функции модуля time, которые сами создают и оперируют ими. Такие функции как localtime(), gmtime(), asctime() и другие, принимают объект time.struct_time в качестве аргумента или возвращают его.*"
   ]
  },
  {
   "cell_type": "code",
   "execution_count": null,
   "id": "7518d1ef",
   "metadata": {},
   "outputs": [],
   "source": [
    "result = time.localtime(1630387918)\n",
    "print('Результат:', result)\n",
    "print('Год:', result.tm_year)\n",
    "print('Месяц:', result.tm_mon)\n",
    "print('День:', result.tm_mday)\n",
    "print('Час:', result.tm_hour)"
   ]
  },
  {
   "cell_type": "code",
   "execution_count": null,
   "id": "a8fb4d5a",
   "metadata": {},
   "outputs": [],
   "source": [
    "result = time.gmtime(1630387918)\n",
    "print('Результат:', result)\n",
    "print('Год:', result.tm_year)\n",
    "print('Месяц:', result.tm_mon)\n",
    "print('День:', result.tm_mday)\n",
    "print('Час:', result.tm_hour)"
   ]
  },
  {
   "cell_type": "code",
   "execution_count": null,
   "id": "e353bc77",
   "metadata": {},
   "outputs": [],
   "source": [
    "time_tuple = (2021, 8, 31, 5, 31, 58, 1, 243, 0)\n",
    "time_obj = time.mktime(time_tuple)\n",
    "print('Локальное время в секундах:', time_obj)"
   ]
  },
  {
   "cell_type": "code",
   "execution_count": null,
   "id": "a08a69de",
   "metadata": {},
   "outputs": [],
   "source": [
    "seconds = 1630377118\n",
    "\n",
    "time_obj = time.localtime(seconds)            # возвращает struct_time\n",
    "print(time_obj)\n",
    "\n",
    "time_seconds = time.mktime(time_obj)          # возвращает секунды из struct_time\n",
    "print(time_seconds)"
   ]
  },
  {
   "cell_type": "code",
   "execution_count": null,
   "id": "32d34a59",
   "metadata": {},
   "outputs": [],
   "source": [
    "time_tuple = (2021, 8, 31, 5, 31, 58, 1, 243, 0)\n",
    "\n",
    "result = time.asctime(time_tuple)\n",
    "print('Результат:', result)"
   ]
  },
  {
   "cell_type": "code",
   "execution_count": null,
   "id": "8e0be303",
   "metadata": {},
   "outputs": [],
   "source": [
    "seconds = 1530377118\n",
    "time_tuple = (2021, 8, 31, 5, 31, 58, 1, 243, 0)\n",
    "\n",
    "print(time.ctime(seconds))\n",
    "print(time.asctime(time_tuple))"
   ]
  },
  {
   "cell_type": "code",
   "execution_count": null,
   "id": "f421b886",
   "metadata": {},
   "outputs": [],
   "source": [
    "time_obj = time.localtime()\n",
    "result = time.strftime('%d.%m.%Y, %H:%M:%S', time_obj)\n",
    "print(result)"
   ]
  },
  {
   "cell_type": "code",
   "execution_count": null,
   "id": "d35bd1e1",
   "metadata": {},
   "outputs": [],
   "source": [
    "time_string = '1 September, 2021'\n",
    "result = time.strptime(time_string, '%d %B, %Y')\n",
    "print(result)"
   ]
  },
  {
   "cell_type": "markdown",
   "id": "d58a8f70",
   "metadata": {},
   "source": [
    "## Вместо вывода"
   ]
  },
  {
   "cell_type": "markdown",
   "id": "da7d5513",
   "metadata": {},
   "source": [
    "На практике, модуль **time** используется не так часто. В основном для приостановки программы с помощью функции *sleep()* и для измерения времени выполнения программы."
   ]
  },
  {
   "cell_type": "code",
   "execution_count": null,
   "id": "2322c73f",
   "metadata": {},
   "outputs": [],
   "source": []
  }
 ],
 "metadata": {
  "kernelspec": {
   "display_name": "Python 3 (ipykernel)",
   "language": "python",
   "name": "python3"
  },
  "language_info": {
   "codemirror_mode": {
    "name": "ipython",
    "version": 3
   },
   "file_extension": ".py",
   "mimetype": "text/x-python",
   "name": "python",
   "nbconvert_exporter": "python",
   "pygments_lexer": "ipython3",
   "version": "3.9.18"
  },
  "nbTranslate": {
   "displayLangs": [
    "*"
   ],
   "hotkey": "alt-t",
   "langInMainMenu": true,
   "sourceLang": "en",
   "targetLang": "ru",
   "useGoogleTranslate": true
  },
  "toc": {
   "base_numbering": 1,
   "nav_menu": {},
   "number_sections": true,
   "sideBar": true,
   "skip_h1_title": false,
   "title_cell": "Table of Contents",
   "title_sidebar": "Contents",
   "toc_cell": false,
   "toc_position": {},
   "toc_section_display": true,
   "toc_window_display": false
  },
  "varInspector": {
   "cols": {
    "lenName": 16,
    "lenType": 16,
    "lenVar": 40
   },
   "kernels_config": {
    "python": {
     "delete_cmd_postfix": "",
     "delete_cmd_prefix": "del ",
     "library": "var_list.py",
     "varRefreshCmd": "print(var_dic_list())"
    },
    "r": {
     "delete_cmd_postfix": ") ",
     "delete_cmd_prefix": "rm(",
     "library": "var_list.r",
     "varRefreshCmd": "cat(var_dic_list()) "
    }
   },
   "types_to_exclude": [
    "module",
    "function",
    "builtin_function_or_method",
    "instance",
    "_Feature"
   ],
   "window_display": false
  }
 },
 "nbformat": 4,
 "nbformat_minor": 5
}
