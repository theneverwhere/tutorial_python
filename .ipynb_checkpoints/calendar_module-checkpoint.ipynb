{
 "cells": [
  {
   "cell_type": "markdown",
   "id": "5db6cdbe",
   "metadata": {},
   "source": [
    "# Модуль calendar"
   ]
  },
  {
   "cell_type": "markdown",
   "id": "c0ba92bf",
   "metadata": {},
   "source": [
    "По умолчанию модуль **calendar** следует григорианскому календарю, где понедельник является первым днем недели (имеет номер\n",
    "0), а воскресенье — последним днем недели (имеет номер 6). В отличие от уже изученных модулей **datetime** и **time**, которые также предоставляют функции, связанные с календарем, модуль calendar предоставляет основные функции, связанные с отбражением и манипулированием календарями."
   ]
  },
  {
   "cell_type": "code",
   "execution_count": 1,
   "id": "e12edb9b",
   "metadata": {},
   "outputs": [],
   "source": [
    "import calendar"
   ]
  },
  {
   "cell_type": "markdown",
   "id": "0008a552",
   "metadata": {},
   "source": [
    "###  Атрибуты модуля calendar"
   ]
  },
  {
   "cell_type": "code",
   "execution_count": 11,
   "id": "0ece01cb",
   "metadata": {},
   "outputs": [
    {
     "data": {
      "text/plain": [
       "<calendar._localized_day at 0x20974837d60>"
      ]
     },
     "execution_count": 11,
     "metadata": {},
     "output_type": "execute_result"
    }
   ],
   "source": [
    "calendar.day_name # названия дней недели на английском языке"
   ]
  },
  {
   "cell_type": "code",
   "execution_count": 12,
   "id": "b6c647d3",
   "metadata": {},
   "outputs": [
    {
     "name": "stdout",
     "output_type": "stream",
     "text": [
      "Monday\n",
      "Tuesday\n",
      "Wednesday\n",
      "Thursday\n",
      "Friday\n",
      "Saturday\n",
      "Sunday\n"
     ]
    }
   ],
   "source": [
    "for name in calendar.day_name:\n",
    "    print(name)"
   ]
  },
  {
   "cell_type": "code",
   "execution_count": 15,
   "id": "ea5009c2",
   "metadata": {},
   "outputs": [
    {
     "name": "stdout",
     "output_type": "stream",
     "text": [
      "понедельник\n",
      "вторник\n",
      "среда\n",
      "четверг\n",
      "пятница\n",
      "суббота\n",
      "воскресенье\n"
     ]
    }
   ],
   "source": [
    "# для локализации на русском языке\n",
    "import locale\n",
    "locale.setlocale(locale.LC_ALL, 'ru_RU.UTF-8')\n",
    "\n",
    "for name in calendar.day_name:\n",
    "    print(name)"
   ]
  },
  {
   "cell_type": "code",
   "execution_count": 20,
   "id": "d63d18ea",
   "metadata": {},
   "outputs": [
    {
     "name": "stdout",
     "output_type": "stream",
     "text": [
      "Пн\n",
      "Вт\n",
      "Ср\n",
      "Чт\n",
      "Пт\n",
      "Сб\n",
      "Вс\n"
     ]
    }
   ],
   "source": [
    "for name in calendar.day_abbr: # сокращенные названия дней недели\n",
    "    print(name)"
   ]
  },
  {
   "cell_type": "code",
   "execution_count": null,
   "id": "0017760a",
   "metadata": {},
   "outputs": [],
   "source": []
  }
 ],
 "metadata": {
  "kernelspec": {
   "display_name": "Python 3 (ipykernel)",
   "language": "python",
   "name": "python3"
  },
  "language_info": {
   "codemirror_mode": {
    "name": "ipython",
    "version": 3
   },
   "file_extension": ".py",
   "mimetype": "text/x-python",
   "name": "python",
   "nbconvert_exporter": "python",
   "pygments_lexer": "ipython3",
   "version": "3.9.13"
  }
 },
 "nbformat": 4,
 "nbformat_minor": 5
}
