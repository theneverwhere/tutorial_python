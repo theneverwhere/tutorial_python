{
 "cells": [
  {
   "cell_type": "code",
   "execution_count": 61,
   "id": "a194dea9",
   "metadata": {},
   "outputs": [],
   "source": [
    "class Knight:\n",
    "\n",
    "    def __init__(self, horizontal, vertical, color):\n",
    "        self.horizontal = horizontal  # a-h\n",
    "        self.vertical = vertical  # 1-8\n",
    "        self.color = color  # white/black\n",
    "        self.horizontal_alf = {'a':1,'b':2,'c':3,'d':4,'e':5,'f':6,'g':7,'h':8}\n",
    "\n",
    "    def get_char(self):\n",
    "        return 'N'\n",
    "\n",
    "    def can_move(self, next_horizontal, next_vertical):\n",
    "        next_horizontal = self.horizontal_alf[next_horizontal]\n",
    "        h = self.horizontal_alf[self.horizontal]\n",
    "        v = self.vertical\n",
    "        steps = [(v+2,h+1),(v+1,h+2),(v-1,h+2),(v-2,h+1),(v-2,h-1),(v-1,h-2),(v+1,h-2),(v+2,h-1)]\n",
    "        def is_active_step(t):\n",
    "            if t[0]<=0 or t[0] > 8:\n",
    "                return False\n",
    "            if t[1] <= 0 or t[1] > 8:\n",
    "                return False\n",
    "            return True\n",
    "        active_steps = [t for t in steps if is_active_step(t)]\n",
    "        if (next_horizontal,next_vertical) in active_steps:\n",
    "            return True\n",
    "        else:\n",
    "            return False\n",
    "        \n",
    "    def move_to(self, next_horizontal, next_vertical):\n",
    "        h = self.horizontal_alf[self.horizontal]\n",
    "        v = self.vertical\n",
    "        if self.can_move(next_horizontal,next_vertical):\n",
    "            self.horizontal = next_horizontal\n",
    "            self.vertical = next_vertical\n",
    "        else:\n",
    "            return\n",
    "\n",
    "    def draw_board(self): \n",
    "        hor = self.horizontal_alf[self.horizontal]\n",
    "        vert = self.vertical\n",
    "        def is_active_step(t):\n",
    "            if t[0] <= 0 or t[0] > 8:\n",
    "                return False\n",
    "            if t[1] <= 0 or t[1] > 8:\n",
    "                return False\n",
    "            return True\n",
    "\n",
    "\n",
    "        steps = [(vert+2, hor+1), (vert+1, hor+2), (vert-1, hor+2), (vert-2, hor+1),\n",
    "                 (vert-2, hor-1), (vert-1, hor-2), (vert+1, hor-2), (vert+2, hor-1)]\n",
    "\n",
    "        active_steps = [t for t in steps if is_active_step(t)]\n",
    "\n",
    "        for v in range(8, 0, -1):\n",
    "            for h in range(1, 8+1):\n",
    "                if v == vert and h == hor:\n",
    "                    print('N', end='')\n",
    "                elif (v,h) in active_steps:\n",
    "                    print('*',end='')\n",
    "                else:\n",
    "                    print('.', end='')\n",
    "            print()"
   ]
  },
  {
   "cell_type": "code",
   "execution_count": 62,
   "id": "d1d0e19d",
   "metadata": {},
   "outputs": [
    {
     "name": "stdout",
     "output_type": "stream",
     "text": [
      "white N\n",
      "c 3\n"
     ]
    }
   ],
   "source": [
    "knight = Knight('c', 3, 'white')\n",
    "\n",
    "print(knight.color, knight.get_char())\n",
    "print(knight.horizontal, knight.vertical)"
   ]
  },
  {
   "cell_type": "code",
   "execution_count": 63,
   "id": "e63c6517",
   "metadata": {},
   "outputs": [
    {
     "name": "stdout",
     "output_type": "stream",
     "text": [
      "c 3\n",
      "False\n",
      "True\n",
      "e 4\n"
     ]
    }
   ],
   "source": [
    "knight = Knight('c', 3, 'white')\n",
    "\n",
    "print(knight.horizontal, knight.vertical)\n",
    "print(knight.can_move('e', 5))\n",
    "print(knight.can_move('e', 4))\n",
    "\n",
    "knight.move_to('e', 4)\n",
    "print(knight.horizontal, knight.vertical)"
   ]
  },
  {
   "cell_type": "code",
   "execution_count": 67,
   "id": "f8d7d947",
   "metadata": {},
   "outputs": [
    {
     "name": "stdout",
     "output_type": "stream",
     "text": [
      "........\n",
      "........\n",
      "........\n",
      ".*.*....\n",
      "*...*...\n",
      "..N.....\n",
      "*...*...\n",
      ".*.*....\n"
     ]
    }
   ],
   "source": [
    "knight = Knight('c', 3, 'white')\n",
    "\n",
    "knight.draw_board()"
   ]
  },
  {
   "cell_type": "code",
   "execution_count": null,
   "id": "e3c3b577",
   "metadata": {},
   "outputs": [],
   "source": []
  }
 ],
 "metadata": {
  "kernelspec": {
   "display_name": "Python 3 (ipykernel)",
   "language": "python",
   "name": "python3"
  },
  "language_info": {
   "codemirror_mode": {
    "name": "ipython",
    "version": 3
   },
   "file_extension": ".py",
   "mimetype": "text/x-python",
   "name": "python",
   "nbconvert_exporter": "python",
   "pygments_lexer": "ipython3",
   "version": "3.9.18"
  },
  "nbTranslate": {
   "displayLangs": [
    "*"
   ],
   "hotkey": "alt-t",
   "langInMainMenu": true,
   "sourceLang": "en",
   "targetLang": "ru",
   "useGoogleTranslate": true
  },
  "toc": {
   "base_numbering": 1,
   "nav_menu": {},
   "number_sections": true,
   "sideBar": true,
   "skip_h1_title": false,
   "title_cell": "Table of Contents",
   "title_sidebar": "Contents",
   "toc_cell": false,
   "toc_position": {},
   "toc_section_display": true,
   "toc_window_display": false
  },
  "varInspector": {
   "cols": {
    "lenName": 16,
    "lenType": 16,
    "lenVar": 40
   },
   "kernels_config": {
    "python": {
     "delete_cmd_postfix": "",
     "delete_cmd_prefix": "del ",
     "library": "var_list.py",
     "varRefreshCmd": "print(var_dic_list())"
    },
    "r": {
     "delete_cmd_postfix": ") ",
     "delete_cmd_prefix": "rm(",
     "library": "var_list.r",
     "varRefreshCmd": "cat(var_dic_list()) "
    }
   },
   "types_to_exclude": [
    "module",
    "function",
    "builtin_function_or_method",
    "instance",
    "_Feature"
   ],
   "window_display": false
  }
 },
 "nbformat": 4,
 "nbformat_minor": 5
}
