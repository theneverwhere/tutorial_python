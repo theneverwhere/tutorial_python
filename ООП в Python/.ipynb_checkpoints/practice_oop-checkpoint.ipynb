{
 "cells": [
  {
   "cell_type": "code",
   "execution_count": 1,
   "id": "7ab4da8c",
   "metadata": {},
   "outputs": [],
   "source": [
    "class Todo:\n",
    "\n",
    "    def __init__(self):\n",
    "        self.things = []\n",
    "        self.low = None\n",
    "        self.high = None\n",
    "\n",
    "    def add(self, task, score):\n",
    "        self.things.append((task, score))\n",
    "        if not self.low:\n",
    "            self.low = score\n",
    "            self.high = score\n",
    "        else:\n",
    "            if score > self.high:\n",
    "                self.high = score\n",
    "            if score < self.low:\n",
    "                self.low = score\n",
    "\n",
    "    def get_by_priority(self, n):\n",
    "        result = list()\n",
    "        for task, score in things:\n",
    "            if score == n:\n",
    "                result.append(task)\n",
    "        return result[:]\n",
    "\n",
    "    def get_low_priority(self):\n",
    "        result = list()\n",
    "        for task, score in self.things:\n",
    "            if score == self.low:\n",
    "                result.append(task)\n",
    "        return result[:]\n",
    "    def get_high_priority(self):\n",
    "        result = list()\n",
    "        for task, score in self.things:\n",
    "            if score == self.high:\n",
    "                result.append(task)\n",
    "        return result[:]\n",
    "                "
   ]
  },
  {
   "cell_type": "code",
   "execution_count": 11,
   "id": "7a3e1767",
   "metadata": {},
   "outputs": [],
   "source": [
    "class Postman:\n",
    "    \n",
    "    def __init__(self):\n",
    "        self.delivery_data = list()\n",
    "    def add_delivery(self,street,house,flat):\n",
    "        self.delivery_data.append((street,house,flat))\n",
    "    def get_houses_for_street(self,my_street):\n",
    "        result = []\n",
    "        for street, house, flat in self.delivery_data:\n",
    "            if street == my_street:\n",
    "                if house not in result:\n",
    "                    result.append(house)\n",
    "        return result[:]\n",
    "    def get_flats_for_house(self, my_street, my_house):\n",
    "        result = []\n",
    "        for street, house, flat in self.delivery_data:\n",
    "            if house == my_house and street == my_street:\n",
    "                if flat not in result:\n",
    "                    result.append(flat)\n",
    "        return result[:]\n",
    "    \n",
    "                    \n",
    "        \n",
    "        "
   ]
  },
  {
   "cell_type": "code",
   "execution_count": 12,
   "id": "27d23e00",
   "metadata": {},
   "outputs": [
    {
     "name": "stdout",
     "output_type": "stream",
     "text": [
      "[151, 90]\n",
      "[74, 75]\n"
     ]
    }
   ],
   "source": [
    "postman = Postman()\n",
    "\n",
    "postman.add_delivery('Советская', 151, 74)\n",
    "postman.add_delivery('Советская', 151, 75)\n",
    "postman.add_delivery('Советская', 90, 2)\n",
    "postman.add_delivery('Советская', 151, 74)\n",
    "\n",
    "print(postman.get_houses_for_street('Советская'))\n",
    "print(postman.get_flats_for_house('Советская', 151))"
   ]
  },
  {
   "cell_type": "code",
   "execution_count": 26,
   "id": "2d41942d",
   "metadata": {},
   "outputs": [],
   "source": [
    "class Wordplay:\n",
    "    \n",
    "    def __init__(self,words=None):\n",
    "        if not words:\n",
    "            self.words = list()\n",
    "        else:\n",
    "            self.words = words[:]\n",
    "    def add_word(self,word):\n",
    "        if word in self.words:\n",
    "            return\n",
    "        self.words.append(word)\n",
    "    def words_with_length(self,n):\n",
    "        result = list()\n",
    "        for word in self.words:\n",
    "            if len(word) == n:\n",
    "                result.append(word)\n",
    "        return result[:]\n",
    "    def only(self,*args):\n",
    "        result = list()\n",
    "        if args:\n",
    "            active_letters = set(args)\n",
    "        else:\n",
    "            active_letters = set()\n",
    "        for word in self.words:\n",
    "            for letter in word:\n",
    "                if letter in active_letters:\n",
    "                    continue\n",
    "                else:\n",
    "                    break\n",
    "            else:\n",
    "                result.append(word)\n",
    "        return result[:]\n",
    "    def avoid(self,*args):\n",
    "        result = list()\n",
    "        if args:\n",
    "            block_letters = set(args)\n",
    "        else:\n",
    "            block_letters = set()\n",
    "        for word in self.words:\n",
    "            for letter in word:\n",
    "                if letter not in block_letters:\n",
    "                    continue\n",
    "                else:\n",
    "                    break\n",
    "            else:\n",
    "                result.append(word)\n",
    "        return result[:]"
   ]
  },
  {
   "cell_type": "code",
   "execution_count": 27,
   "id": "90015b76",
   "metadata": {},
   "outputs": [
    {
     "name": "stdout",
     "output_type": "stream",
     "text": [
      "[]\n",
      "[]\n",
      "[]\n"
     ]
    }
   ],
   "source": [
    "wordplay = Wordplay()\n",
    "\n",
    "print(wordplay.words_with_length(1))\n",
    "print(wordplay.only('a', 'b', 'c'))\n",
    "print(wordplay.avoid('a', 'b', 'c'))"
   ]
  },
  {
   "cell_type": "code",
   "execution_count": 28,
   "id": "36f6c5f9",
   "metadata": {
    "scrolled": true
   },
   "outputs": [
    {
     "name": "stdout",
     "output_type": "stream",
     "text": [
      "[]\n",
      "['bee', 'geek']\n"
     ]
    }
   ],
   "source": [
    "wordplay = Wordplay()\n",
    "\n",
    "print(wordplay.words)\n",
    "wordplay.add_word('bee')\n",
    "wordplay.add_word('geek')\n",
    "print(wordplay.words)"
   ]
  },
  {
   "cell_type": "code",
   "execution_count": 29,
   "id": "dc408799",
   "metadata": {},
   "outputs": [
    {
     "name": "stdout",
     "output_type": "stream",
     "text": [
      "['o', 'to', 'otto', 't']\n"
     ]
    }
   ],
   "source": [
    "wordplay = Wordplay(['o', 'to', 'otto', 'top', 't'])\n",
    "\n",
    "print(wordplay.only('o', 't'))"
   ]
  },
  {
   "cell_type": "code",
   "execution_count": 30,
   "id": "41349b6c",
   "metadata": {},
   "outputs": [
    {
     "name": "stdout",
     "output_type": "stream",
     "text": [
      "['Лейбниц', 'Бэббидж', 'Нейман', 'Джобс', 'да_Винчи', 'Касперский', 'Гуев', 'Харисов', 'Светкин']\n",
      "['Лейбниц', 'Бэббидж', 'Нейман', 'Джобс', 'да_Винчи', 'Касперский']\n"
     ]
    }
   ],
   "source": [
    "words = ['Лейбниц', 'Бэббидж', 'Нейман', 'Джобс', 'да_Винчи', 'Касперский']\n",
    "wordplay = Wordplay(words)\n",
    "\n",
    "words.extend(['Гуев', 'Харисов', 'Светкин'])\n",
    "print(words)\n",
    "print(wordplay.words)\n"
   ]
  },
  {
   "cell_type": "code",
   "execution_count": null,
   "id": "8a2bd18c",
   "metadata": {},
   "outputs": [],
   "source": []
  }
 ],
 "metadata": {
  "kernelspec": {
   "display_name": "Python 3 (ipykernel)",
   "language": "python",
   "name": "python3"
  },
  "language_info": {
   "codemirror_mode": {
    "name": "ipython",
    "version": 3
   },
   "file_extension": ".py",
   "mimetype": "text/x-python",
   "name": "python",
   "nbconvert_exporter": "python",
   "pygments_lexer": "ipython3",
   "version": "3.9.18"
  },
  "nbTranslate": {
   "displayLangs": [
    "*"
   ],
   "hotkey": "alt-t",
   "langInMainMenu": true,
   "sourceLang": "en",
   "targetLang": "ru",
   "useGoogleTranslate": true
  },
  "toc": {
   "base_numbering": 1,
   "nav_menu": {},
   "number_sections": true,
   "sideBar": true,
   "skip_h1_title": false,
   "title_cell": "Table of Contents",
   "title_sidebar": "Contents",
   "toc_cell": false,
   "toc_position": {},
   "toc_section_display": true,
   "toc_window_display": false
  },
  "varInspector": {
   "cols": {
    "lenName": 16,
    "lenType": 16,
    "lenVar": 40
   },
   "kernels_config": {
    "python": {
     "delete_cmd_postfix": "",
     "delete_cmd_prefix": "del ",
     "library": "var_list.py",
     "varRefreshCmd": "print(var_dic_list())"
    },
    "r": {
     "delete_cmd_postfix": ") ",
     "delete_cmd_prefix": "rm(",
     "library": "var_list.r",
     "varRefreshCmd": "cat(var_dic_list()) "
    }
   },
   "types_to_exclude": [
    "module",
    "function",
    "builtin_function_or_method",
    "instance",
    "_Feature"
   ],
   "window_display": false
  }
 },
 "nbformat": 4,
 "nbformat_minor": 5
}
